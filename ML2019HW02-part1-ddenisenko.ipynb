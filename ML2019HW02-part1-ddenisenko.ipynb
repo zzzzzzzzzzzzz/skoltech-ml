{
 "cells": [
  {
   "cell_type": "markdown",
   "metadata": {},
   "source": [
    "# Home Assignment No. 2: Part 1 (Theory)"
   ]
  },
  {
   "cell_type": "markdown",
   "metadata": {},
   "source": [
    "In this part of the homework you are to solve several theoretical problems related to machine learning algorithms.\n",
    "* For every separate problem you can get only 0 points or maximal points for this problem. There are **NO INTERMEDIATE scores**.\n",
    "* Your solution must me **COMPLETE**, i.e. contain all required formulas/proofs/detailed explanations.\n",
    "* You must write your solution for any problem just right after the words **BEGIN SOLUTION**. Attaching pictures of your handwriting is allowed, but **highly discouraged**.\n",
    "* The are problems with \\* mark - they are not obligatory. You can get **EXTRA POINTS** for solving them.\n",
    "## $\\LaTeX$ in Jupyter\n",
    "Jupyter has constantly improving $\\LaTeX$ support. Below are the basic methods to\n",
    "write **neat, tidy, and well typeset** equations in your notebooks:\n",
    "* to write an **inline** equation use \n",
    "```markdown\n",
    "$ you latex equation here $\n",
    "```\n",
    "* to write an equation, that is **displayed on a separate line** use \n",
    "```markdown\n",
    "$$ you latex equation here $$\n",
    "```\n",
    "* to write a **block of equations** use \n",
    "```markdown\n",
    "\\begin{align}\n",
    "    left-hand-side\n",
    "        &= right-hand-side on line 1\n",
    "        \\\\\n",
    "        &= right-hand-side on line 2\n",
    "        \\\\\n",
    "        &= right-hand-side on the last line\n",
    "\\end{align}\n",
    "```\n",
    "The **ampersand** (`&`) aligns the equations horizontally and the **double backslash**\n",
    "(`\\\\`) creates a new line."
   ]
  },
  {
   "cell_type": "markdown",
   "metadata": {},
   "source": [
    "Write your theoretical derivations within such blocks:\n",
    "```markdown\n",
    "**BEGIN Solution**\n",
    "\n",
    "<!-- >>> your derivation here <<< -->\n",
    "\n",
    "**END Solution**\n",
    "```"
   ]
  },
  {
   "cell_type": "markdown",
   "metadata": {},
   "source": [
    "<br>"
   ]
  },
  {
   "cell_type": "markdown",
   "metadata": {},
   "source": [
    "## Model and feature selection"
   ]
  },
  {
   "cell_type": "markdown",
   "metadata": {},
   "source": [
    "### Task 1 (1 pt.): Information criteria"
   ]
  },
  {
   "cell_type": "markdown",
   "metadata": {},
   "source": [
    "Assume that regression model is\n",
    "$$y = \\sum_{i=1}^k \\beta_i x_i + \\varepsilon,$$\n",
    "and $\\varepsilon$ is dictributed normally: $\\varepsilon \\sim \\mathcal{N}(0, \\sigma^2)$, $\\sigma^2$ is known.\n",
    "\n",
    "Prove that the model with highest Akaike information criterion is the model with smallest Mallow's $C_p$."
   ]
  },
  {
   "cell_type": "markdown",
   "metadata": {},
   "source": [
    "**BEGIN Solution**\n",
    "\n",
    "inspired by https://arxiv.org/pdf/1308.2766.pdf\n",
    "\n",
    "By definition\n",
    "\n",
    "$$AIC = 2k - 2 \\ln L$$\n",
    "Where $k=\\mathrm{dim}(\\beta)$ and $L=L(\\beta)$\n",
    "\n",
    "Taking as $\\beta$ optimal value from $\\|Y - X\\beta\\|^2$ which is $(X^{\\top}X)^{-1}XY$\n",
    "\n",
    "$$C_p = \\frac{\\|Y - X(X^{\\top}X)^{-1}XY\\|_2^2}{\\sigma^2} + 2k - n$$\n",
    "\n",
    "* $(X^{\\top}X)^{-1}XY$ minimizes $C_p$\n",
    "* $(X^{\\top}X)^{-1}XY$ maximizes AIC because $-\\ln L((X^{\\top}X)^{-1}XY)$ is the maximal value for such regression problem\n",
    "\n",
    "**END Solution**"
   ]
  },
  {
   "cell_type": "markdown",
   "metadata": {},
   "source": [
    "<br>"
   ]
  },
  {
   "cell_type": "markdown",
   "metadata": {},
   "source": [
    "## Boosting: gradient boosting, adaboost\n"
   ]
  },
  {
   "cell_type": "markdown",
   "metadata": {},
   "source": [
    "### Boosting and its theory\n",
    "\n",
    "Minimization of the loss function is an optimization task, and \"Gradient Boosting\"\n",
    "is one of the many methods to perform optimization. It shoould be noted that it\n",
    "uses *greedy* approach and therefore, like greedy algorithms in CS, may produce\n",
    "results that are not *globally* optimal.\n",
    "\n",
    "$$\n",
    "\\begin{aligned}\n",
    "    & b_n(x) := \\text{the best base model from the family of the algorithms $\\mathcal{A}$} \\\\\n",
    "    & \\gamma_n(x) := \\text{scale or weight of the new model} \\\\\n",
    "    & a_N(x) = \\sum_{n=0}^N \\gamma_n b_n(x) := \\text{the final composite model}\n",
    "\\end{aligned}\n",
    "$$"
   ]
  },
  {
   "cell_type": "markdown",
   "metadata": {},
   "source": [
    "### Gradient Boosting Algorithm\n",
    "\n",
    "Consider a loss loss function $L(y, z)$ for target $y$ and prediction $z$, and let\n",
    "$(x_i, y_i)_{i=1}^l$ be our train dataset for a regression task. \n",
    "\n",
    "\n",
    "1. Initialize $a_0(x) = \\hat{z}$ with the *flat constant prediction*\n",
    "$\\hat{z} = \\arg\\min\\limits_{z \\in \\mathbb{R}} \\sum_{i=1}^l L(y_i, z)$;\n",
    "2. For $n$ from `1` to `n_boost_steps` do:\n",
    "    * Solve the current subporblem $G_n(b_n, \\gamma_n) \\to \\min\\limits_{b_{n}, \\gamma_n}$\n",
    "    where \n",
    "    $$ G_n(b, \\gamma) = \\sum_{i=1}^l L\\bigl(y_i, a_{n-1}(x_i) + \\gamma b(x_i)\\bigr) $$\n",
    "    with the following method:\n",
    "    \\begin{align}\n",
    "      & s_i = - \\frac{\\partial}{\\partial z} L(y_i, z) \\Big\\vert_{z=a_{n-1}(x_i)}\n",
    "          \\\\\n",
    "      & b_n(x) = \\arg\\min\\limits_{b\\in\\mathcal{A}}\\sum_{i=1}^l \\bigl(b(x_i) - s_i\\bigr)^2\n",
    "          \\\\\n",
    "      & \\gamma_n = \\arg\\min_\\gamma G_n(b_n, \\gamma)\n",
    "          \\\\\n",
    "      & a_n(x) = a_{n-1}(x) + \\gamma_n b_n(x)\n",
    "    \\end{align}\n",
    "3. return $a_N(x) = a_0(x) + \\sum_{n=1}^N \\gamma_n b_n(x)$"
   ]
  },
  {
   "cell_type": "markdown",
   "metadata": {},
   "source": [
    "<br>"
   ]
  },
  {
   "cell_type": "markdown",
   "metadata": {},
   "source": [
    "### Task 2 (1 pt.)\n",
    "\n",
    "At the $n$-th step of Garient Boosting ($n \\geq 1$) we compute the \"residuals\"\n",
    "$(s_i)_{i=1}^l$ and learn $x\\mapsto b_n(x)$ with a regression algorithm $\\mathcal{A}$\n",
    "applied to the dataset $(x_i, s_i)_{i=1}^l$. For the next two tasks **assume\n",
    "that we have already perfomed these substeps**.\n",
    "\n",
    "Derive the **optimal value** of $\\gamma_n$ for *MSE* loss function $L(y, z) = \\tfrac12 (y - z)^2$."
   ]
  },
  {
   "cell_type": "markdown",
   "metadata": {},
   "source": [
    "**BEGIN Solution**\n",
    "\n",
    "$$\\gamma_n = \\arg\\min_{\\gamma}G_n(b_n, \\gamma)$$\n",
    "\n",
    "Necessary condition:\n",
    "\n",
    "$$\\sum\\limits_{i = 1}^l\\frac{\\partial L(y_i, z)}{\\partial z}|_{z  = a_{n - 1}(x_i) + \\gamma b_n(x_i)} b_n(x_i) = 0$$\n",
    "\n",
    "$$-\\sum\\limits_{i = 1}^l(y_i - a_{n - 1}(x_i) - \\gamma b_n(x_i))b_n(x_i) = 0$$\n",
    "\n",
    "Remember that \n",
    "$$a_n(x) = a_{n - 1}(x) - \\gamma_n\\sum\\limits_{i = 1}^l\\nabla_FL(y_i, a_{n - 1}(x_i))$$\n",
    "$$-\\nabla_FL(y_i, a_{n - 1}(x_i)) = y_i - a_{n - 1}(x_i)$$\n",
    "\n",
    "Doing the same that we did in class:\n",
    "\n",
    "$$\\gamma_n = \\arg\\min_{\\gamma}\\sum\\limits(y_i - a_{n - 1}(x_i) - \\gamma (y_i - a_{n - 1}(x_i))^2 = \\arg\\min_{\\gamma}\\sum\\limits(\\gamma - 1)^2(y_i - a_{n - 1}(x_i))^2  = 1$$\n",
    "\n",
    "**END Solution**"
   ]
  },
  {
   "cell_type": "markdown",
   "metadata": {},
   "source": [
    "<br>"
   ]
  },
  {
   "cell_type": "markdown",
   "metadata": {},
   "source": [
    "### Task 3 (1+1+1 pt.)\n",
    "\n",
    "Let $S = (x_i, y_i)_{i=1}^l$ be a sample for a classification task $y_i \\in \\{-1, +1\\}$.\n",
    "\n",
    "The **AdaBoost** algorithm can be regarded as a gradient boosting algorithm\n",
    "with the exponential loss $L(y,z) = e^{-y z}$. Consdier the state of **AdaBoost**\n",
    "at the $(T-1)$-step\n",
    "$$ G_{T-1}(b_T, \\gamma_T)\n",
    "    = \\sum_{i=1}^l L\\bigl(y_i, a_{n-1}(x_i) + \\gamma b(x_i)\\bigr)\n",
    "    = \\sum_{i=1}^l \\underbrace{\\exp(- y_i a_{T-1}(x_i))}_{w^{T-1}_i}\n",
    "        \\exp(- y_i \\gamma_T b_T(x_i))\n",
    "    \\,.\n",
    "$$"
   ]
  },
  {
   "cell_type": "markdown",
   "metadata": {},
   "source": [
    "#### Task 3.1 (1 pt.)\n",
    "\n",
    "Derive the next weights $w^T_i$ used in $G_T$ at the stage $T$ as a function\n",
    "of the learnt classifier $b_T$ and the current weights $w^{T-1}_i$;"
   ]
  },
  {
   "cell_type": "markdown",
   "metadata": {},
   "source": [
    "#### BEGIN Solution\n",
    "\n",
    "\n",
    "$$w_i^T = \\exp(-y_ia_T(x_i))$$\n",
    "\n",
    "$$a_T(x_i) = a_{T - 1}(x_i) + \\gamma_Tb_T(x_i)$$\n",
    "\n",
    "$$w_i^T = \\exp(-y_i(a_{T - 1}(x_i) + \\gamma_Tb_T(x_i))) = \\exp(-y_ia_{T - 1}(x_i))\\exp(-y_i\\gamma_Tb_T(x_i))$$\n",
    "\n",
    "$$w_i^T = w_i^{T - 1}\\exp(-y_i\\gamma_Tb_T(x_i))$$\n",
    "\n",
    "Then\n",
    "\n",
    "  $$\n",
    "              \\left\\{\n",
    "                \\begin{array}{ll}\n",
    "                  \\gamma_T = \\arg\\min_{\\gamma}G_T(b_T, \\gamma)\\\\\n",
    "                  G_T(b_T, \\gamma)'_{\\gamma} = 0\\\\\n",
    "                  \\sum\\limits_{i = 1}^lw_i^{T - 1}\\exp(-y_i\\gamma b_T(x_i))(-y_ib_T(x_i)) = 0\n",
    "                \\end{array}\n",
    "              \\right.\n",
    "  $$\n",
    "\n",
    "There are to cases\n",
    "  $$\n",
    "              \\left[\n",
    "                \\begin{array}{ll}\n",
    "                  y_ib_T(x_i) = 1,~y_i = b_T(x_i)\\\\\n",
    "                  y_ib_T(x_i) = -1,~y_i \\neq b_T(x_i)\n",
    "                \\end{array}\n",
    "              \\right.\n",
    "  $$\n",
    "\n",
    "And from the system we derive\n",
    "\n",
    "$$-\\sum\\limits_{y_i =  b_T(x_i)}w_i^{T - 1}\\exp(-\\gamma) + \\sum\\limits_{y_i \\neq b_T(x_i)}w_i^{T - 1}\\exp(\\gamma) = 0$$\n",
    "\n",
    "Finally\n",
    "\n",
    "$$\n",
    "\\gamma_T = \\frac{1}{2}\\log\\left(\\frac{\\sum\\limits_{y_i =  b_T(x_i)}w_i^{T - 1}}{\\sum\\limits_{y_i \\neq b_T(x_i)}w_i^{T - 1}}\\right)\n",
    "$$\n",
    "\n",
    "Now we just need to substitute this equation to $w_i^T = w_i^{T - 1}\\exp(-y_i\\gamma_Tb_T(x_i))$\n",
    "\n",
    "**END Solution**"
   ]
  },
  {
   "cell_type": "markdown",
   "metadata": {},
   "source": [
    "<br/> <!--Intentionally left blank-->"
   ]
  },
  {
   "cell_type": "markdown",
   "metadata": {},
   "source": [
    "#### Task 3.2 (1 pt.)\n",
    "\n",
    "Compute the ratio of weights $(w^T_i)_{i=1}^l$ between the normal and outlier\n",
    "samples in $S$. Propose a **formal definition of being an outlier**, and reflect\n",
    "on the value of *margin* for both.\n",
    "\n",
    "<span style=\"color:green\">**HINT**</span>: *margin* value."
   ]
  },
  {
   "cell_type": "markdown",
   "metadata": {},
   "source": [
    "#### BEGIN Solution\n",
    "\n",
    "We are on a step $T$.\n",
    "\n",
    "Consider two samples: $t$ which is classified **Correct** and $f$ which is classified **Incorrect**.\n",
    "\n",
    "This means that for $t \\Rightarrow -y_ia_T(t) < 0$, but for $f \\Rightarrow -y_ia_T(f) > 0$\n",
    "\n",
    "Using the margin value:  $\\rho_t = y_t \\langle \\gamma, H(t) \\rangle$\n",
    "\n",
    "where $H(t) = (b_1(t), \\ldots, b_T(t))$, $\\gamma = (\\gamma_1, \\ldots, \\gamma_T)$ and $\\langle \\cdot, \\cdot \\rangle$ is a scalar product of vectors.\n",
    "\n",
    "Then\n",
    "\n",
    "$$\\rho_t = y_t \\langle \\gamma, H(t) \\rangle = y_t a_T(t)$$\n",
    "\n",
    "$$\\rho_f = y_f \\langle \\gamma, H(f) \\rangle = y_f a_T(f)$$\n",
    "\n",
    "Let's denote $w_t^T = \\exp(-y_t a_T(t))$ and $w_f^T = \\exp(-y_f a_T(f))$\n",
    "\n",
    "Then\n",
    "\n",
    "  $$\n",
    "              \\left\\{\n",
    "                \\begin{array}{ll}\n",
    "                  \\frac{w_t^T}{w_f^T} = \\exp(-\\rho_t + \\rho_f) < 1\\\\\n",
    "                  \\rho_f < \\rho_t, \n",
    "                \\end{array}\n",
    "              \\right.\n",
    "  $$\n",
    "\n",
    "We can define outliers as $\\rho_f << 0$\n",
    "\n",
    "\n",
    "**END Solution**"
   ]
  },
  {
   "cell_type": "markdown",
   "metadata": {},
   "source": [
    "<br/> <!--Intentionally left blank-->"
   ]
  },
  {
   "cell_type": "markdown",
   "metadata": {},
   "source": [
    "#### Task 3.3 (1 pt.)\n",
    "\n",
    "Conclude about **sensitivity** of Adaboost to outliers."
   ]
  },
  {
   "cell_type": "markdown",
   "metadata": {},
   "source": [
    "#### BEGIN Solution\n",
    "\n",
    "As we can see if there is outlier then $\\rho_f << 0$ and $\\frac{w_t^T}{w_f^T} \\sim 0$, so the outlier will have much bigger weight $\\Rightarrow$ Adaboost is quite sensitive to outliers\n",
    "\n",
    "**END Solution**"
   ]
  },
  {
   "cell_type": "markdown",
   "metadata": {},
   "source": [
    "<br/> <!--Intentionally left blank-->"
   ]
  },
  {
   "cell_type": "markdown",
   "metadata": {},
   "source": [
    "### Task 4 (2+1+2 pt.): Alternative objective functions."
   ]
  },
  {
   "cell_type": "markdown",
   "metadata": {},
   "source": [
    "This problem studies boosting-type algorithms defined with objective\n",
    "functions different from that of AdaBoost.We assume that the training\n",
    "data are given as m labeled examples $(x_{1},y_{1}),...,(x_{m},y_{m}) \\in X \\times \\{-1,+1\\}$.We further assume that $\\Phi$ is a strictly increasing convex and differentiable function over $\\mathbb{R}$ such that:$\\ \\forall x \\geqslant 0,\\Phi(x)\\geqslant 1 \\ and \\ \\forall x < 0,\\Phi(x) > 0$."
   ]
  },
  {
   "cell_type": "markdown",
   "metadata": {},
   "source": [
    "#### Task 4.1 (2 pt.)\n",
    "Consider the loss function $L(a) =\\sum_{i=1}^{m}\\Phi \\left( -y_{i}g(x_i) \\right)$ where $g$ is a linear combination of base classifiers, i.e., $g= \\sum_{t=1}^{T} a_t h_t$(as in\n",
    "AdaBoost). Derive a new boosting algorithm using the objective function $L$. In particular, characterize the best base classifier $h_u$ to select at each round of boosting if we use coordinate descent."
   ]
  },
  {
   "cell_type": "markdown",
   "metadata": {},
   "source": [
    "**BEGIN Solution**\n",
    "\n",
    "**END Solution**"
   ]
  },
  {
   "cell_type": "markdown",
   "metadata": {},
   "source": [
    "<br/> <!--Intentionally left blank-->"
   ]
  },
  {
   "cell_type": "markdown",
   "metadata": {},
   "source": [
    "#### Task 4.2 (1 pt.)\n",
    "Consider the following functions:  \n",
    "\n",
    "1. zero-one loss $\\Phi_1(−u) = 1_{u\\leqslant0}$;  \n",
    "2. least squared loss $\\Phi_2(−u) = (1 − u)^2$;  \n",
    "3. SVM loss $\\Phi_3(−u) = \\max\\{0, 1 − u\\}$;  \n",
    "4. logistic loss $\\Phi_4(−u) = \\log(1 + e^{−u})$.  \n",
    "\n",
    "Which functions satisfy the assumptions on $\\Phi$ stated earlier in this\n",
    "problem?\n",
    "\n",
    "Compute the gradient for them."
   ]
  },
  {
   "cell_type": "markdown",
   "metadata": {},
   "source": [
    "**BEGIN Solution**\n",
    "\n",
    "1. is not strictly convex.\n",
    "\n",
    "2. $\\Phi_2(-u)' = ((1 - u)^2)' = 2(u - 1)$ and as $\\Phi_2(-u)'' = 1$ strongly convex function $\\Rightarrow$ strictly convex, but not increasing\n",
    "3. Is not strictly convex\n",
    "3. $\\Phi_4(-u)' = (\\log(1 + e^{-u}))' = \\frac{-e^{-u}}{1 + e^{-u}}$ and $\\Phi_4(-u)'' = \\frac{e^{-2u}}{(1 + e^{-u})^2} + \\frac{e^{-2u}}{1 + e^{-u}} > 0~\\forall u\\in \\mathbb{R}$ strongly convex function $\\Rightarrow$ strictly convex and strongly increasing. So this function satisfy the assumptions on $\\Phi$\n",
    "\n",
    "\n",
    "**END Solution**"
   ]
  },
  {
   "cell_type": "markdown",
   "metadata": {},
   "source": [
    "<br/> <!--Intentionally left blank-->"
   ]
  },
  {
   "cell_type": "markdown",
   "metadata": {},
   "source": [
    "#### Task 4.3* (2 pt.)\n",
    "For each loss function satisfying the assumptions in Task 5 formualtion, derive the\n",
    "corresponding boosting algorithm. How do the algorithm(s) differ\n",
    "from AdaBoost?"
   ]
  },
  {
   "cell_type": "markdown",
   "metadata": {},
   "source": [
    "**BEGIN Solution**\n",
    "\n",
    "\n",
    "**END Solution**"
   ]
  },
  {
   "cell_type": "markdown",
   "metadata": {},
   "source": [
    "<br/> <!--Intentionally left blank-->"
   ]
  },
  {
   "cell_type": "markdown",
   "metadata": {},
   "source": [
    "## NNs"
   ]
  },
  {
   "cell_type": "markdown",
   "metadata": {},
   "source": [
    "### Task 5. (1 pt.)\n",
    "Consider a two-layer network function of the form\n",
    "    \\begin{equation}\n",
    "    y_k(x, \\mathbf{w}) = \\sigma \\left ( \\sum_{j=1}^M w_{kj}^{(2)} \\sigma \\left(\\sum_{i=1}^D w_{ji}^{(1)}x_i + w_{j0}^{(1)}\\right)\n",
    "                               + w_{k0}^{(2)}\\right)\n",
    "    \\end{equation}\n",
    "in which the nonlinear activation functions are logistic sigmoid functions\n",
    "    \\begin{equation}\n",
    "    \\sigma(a) = (1 + \\exp(−a))^{-1}.\n",
    "    \\end{equation}\n",
    "Show that there exists an equivalent network, which computes exactly the same function but with hidden unit activation function given by hyperbolic tangent ${\\rm tanh}(a)$\n",
    "    \\begin{equation}\n",
    "    {\\rm tanh}(a) = \\frac{e^a - e^{-a}}{e^a + e^{-a}}.\n",
    "    \\end{equation}\n"
   ]
  },
  {
   "cell_type": "markdown",
   "metadata": {},
   "source": [
    "**BEGIN Solution**\n",
    "\n",
    "$${\\rm tanh}(a) = 2 \\sigma(a) - 1$$\n",
    "\n",
    "$$\\frac{{\\rm tanh}(a) + 1}{2} = \\sigma(a)$$\n",
    "\n",
    "$$\n",
    "\\sigma \\left ( \\sum_{j=1}^M w_{kj}^{(2)} \\sigma \\left(\\sum_{i=1}^D w_{ji}^{(1)}x_i + w_{j0}^{(1)}\\right) + w_{k0}^{(2)}\\right) = \\sigma \\left (\\sum_{j=1}^M \\frac{w_{kj}^{(2)}}{2}\\left({\\rm tanh}\\left(\\sum_{i=1}^D w_{ji}^{(1)}x_i + w_{j0}^{(1)}\\right) + 1\\right) + w_{k0}^{(2)} \\right) \\stackrel{\\hat{w}_{kj}^{(2)} = \\frac{w_{kj}^{(2)}}{2},~j \\in \\lbrace 1, \\dotso, M \\rbrace, \\  \\hat{w}_{k0}^{(2)} = w_{k0}^{(2)} + \\sum\\limits_{j = 1}^M \\frac{w_{kj}^{(2)}}{2}}{=} \\sigma \\left (\\sum_{j=1}^M \\hat{w}_{kj}^{(2)}{\\rm tanh}\\left(\\sum_{i=1}^D w_{ji}^{(1)}x_i + w_{j0}^{(1)}\\right) + \\hat{w}_{k0}^{(2)} \\right)\n",
    "$$\n",
    "\n",
    "**END Solution**"
   ]
  },
  {
   "cell_type": "markdown",
   "metadata": {},
   "source": [
    "<br/> <!--Intentionally left blank-->"
   ]
  },
  {
   "cell_type": "markdown",
   "metadata": {},
   "source": [
    "### Task 6*. Data augmentation (2 pt.)\n",
    "One way to encourage invariance of a model w.r.t a set of transformations is to expand the training set using transformed versions of the original input patterns.\n",
    "Consider the framework for training with transformed data in the special case when the transformation is simply addition of random noise $x \\rightarrow x + \\xi$ where $\\xi$ has a Gaussian distribution with zero mean and unit variance. The error function for untransformed inputs can be written (in the infinite data set limit) in the form\n",
    "    \\begin{equation}\n",
    "    E = \\frac12 \\int \\int (y(\\mathbf{x}) - t)^2 p(t|\\mathbf{x}) p(\\mathbf{x}){\\rm d}\\mathbf{x} {\\rm d}t.\n",
    "    \\end{equation}\n",
    "If we now consider an infinite number of copies of each data point perturbed by the transformation, then the error function can be written as\n",
    "    \\begin{equation}\n",
    "    \\widetilde{E} = \\frac12 \\int\\int(y(x + \\xi) - t)^2p(t | \\mathbf{x})p(\\mathbf{x}) p(\\xi){\\rm d}\\mathbf{x}{\\rm d}t {\\rm d}\\xi\n",
    "    \\end{equation}\n",
    "Using Taylor series expansion of $y(\\mathbf{x} + \\xi)$ show that\n",
    "    \\begin{equation}\n",
    "    \\widetilde{E} \\simeq E + \\lambda \\Omega\n",
    "    \\end{equation}\n",
    "where $\\Omega$ is a regularizer which takes the form of Tikhonov regularizer\n",
    "    \\begin{equation}\n",
    "    \\Omega = \\frac12 \\int \\|\\nabla y(\\mathbf{x})\\|^2 p(\\mathbf{x}){\\rm d} \\mathbf{x}.\n",
    "    \\end{equation}\n"
   ]
  },
  {
   "cell_type": "markdown",
   "metadata": {},
   "source": [
    "**BEGIN Solution**\n",
    "\n",
    "\n",
    "**END Solution**"
   ]
  },
  {
   "cell_type": "markdown",
   "metadata": {},
   "source": [
    "<br/> <!--Intentionally left blank-->"
   ]
  }
 ],
 "metadata": {
  "kernelspec": {
   "display_name": "Python 3",
   "language": "python",
   "name": "python3"
  },
  "language_info": {
   "codemirror_mode": {
    "name": "ipython",
    "version": 3
   },
   "file_extension": ".py",
   "mimetype": "text/x-python",
   "name": "python",
   "nbconvert_exporter": "python",
   "pygments_lexer": "ipython3",
   "version": "3.5.2"
  }
 },
 "nbformat": 4,
 "nbformat_minor": 2
}
