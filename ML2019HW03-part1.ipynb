{
 "cells": [
  {
   "cell_type": "markdown",
   "metadata": {},
   "source": [
    "# Home Assignment No. 3: Part 1 "
   ]
  },
  {
   "cell_type": "markdown",
   "metadata": {},
   "source": [
    "In this part of the homework you are to solve several problems related to machine learning algorithms.\n",
    "* For every separate problem you can get only 0 points or maximal points for this problem. There are **NO INTERMEDIATE scores**.\n",
    "* Your solution must me **COMPLETE**, i.e. contain all required formulas/proofs/detailed explanations.\n",
    "* You must write your solution for any problem just right after the words **BEGIN SOLUTION**. Attaching pictures of your handwriting is allowed, but **highly discouraged**.\n",
    "* If you want an easy life, you have to use **BUILT-IN METHODS** of `sklearn` library instead of writing tons of our yown code. There exists a class/method for almost everything you can imagine (related to this homework).\n",
    "* To do some tasks in this part of homework, you have to write **CODE** directly inside specified places inside notebook **CELLS**.\n",
    "* In some problems you may be asked to provide short discussion of the results. In this cases you have to create **MARKDOWN** cell with your comments right after the your code cell.\n",
    "* Your **SOLUTION** notebook **MUST BE REPRODUCIBLE**, i.e. if the reviewer decides to execute `Kernel` -> `Restart Kernel and Run All Cells`, after all the computation he will obtain exactly the same solution (with all the corresponding plots) as in your uploaded notebook. For this purpose, we suggest to fix random `seed` or (better) define `random_state=` inside every algorithm that uses some pseudorandomness.\n",
    "\n",
    "* Your code must be clear to the reviewer. For this purpose, try to include neccessary comments inside the code. But remember: **GOOD CODE MUST BE SELF-EXPLANATORY** without any additional comments.\n",
    "* The are problems with \\* mark - they are not obligatory. You can get **EXTRA POINTS** for solving them.\n",
    "## $\\LaTeX$ in Jupyter\n",
    "Jupyter has constantly improving $\\LaTeX$ support. Below are the basic methods to\n",
    "write **neat, tidy, and well typeset** equations in your notebooks:\n",
    "* to write an **inline** equation use \n",
    "```markdown\n",
    "$ you latex equation here $\n",
    "```\n",
    "* to write an equation, that is **displayed on a separate line** use \n",
    "```markdown\n",
    "$$ you latex equation here $$\n",
    "```\n",
    "* to write a **block of equations** use \n",
    "```markdown\n",
    "\\begin{align}\n",
    "    left-hand-side\n",
    "        &= right-hand-side on line 1\n",
    "        \\\\\n",
    "        &= right-hand-side on line 2\n",
    "        \\\\\n",
    "        &= right-hand-side on the last line\n",
    "\\end{align}\n",
    "```\n",
    "The **ampersand** (`&`) aligns the equations horizontally and the **double backslash**\n",
    "(`\\\\`) creates a new line."
   ]
  },
  {
   "cell_type": "markdown",
   "metadata": {},
   "source": [
    "Write your theoretical derivations within such blocks:\n",
    "```markdown\n",
    "**BEGIN Solution**\n",
    "\n",
    "<!-- >>> your derivation here <<< -->\n",
    "\n",
    "**END Solution**\n",
    "```"
   ]
  },
  {
   "cell_type": "markdown",
   "metadata": {},
   "source": [
    "Please, write your implementation within the designated blocks:\n",
    "```python\n",
    "...\n",
    "### BEGIN Solution\n",
    "\n",
    "# >>> your solution here <<<\n",
    "\n",
    "### END Solution\n",
    "...\n",
    "```\n"
   ]
  },
  {
   "cell_type": "markdown",
   "metadata": {},
   "source": [
    "<br>"
   ]
  },
  {
   "cell_type": "code",
   "execution_count": 6,
   "metadata": {},
   "outputs": [],
   "source": [
    "import numpy as np\n",
    "import pandas as pd\n",
    "\n",
    "import torch\n",
    "\n",
    "%matplotlib inline\n",
    "import matplotlib.pyplot as plt"
   ]
  },
  {
   "cell_type": "markdown",
   "metadata": {},
   "source": [
    "<br>"
   ]
  },
  {
   "cell_type": "markdown",
   "metadata": {},
   "source": [
    "# Bayesian Models. GLM"
   ]
  },
  {
   "cell_type": "markdown",
   "metadata": {},
   "source": [
    "## Task 1 (1 pt.)\n",
    "\n",
    "Consider a univariate Gaussian distribution $\\mathcal{N}(x; \\mu, \\tau^{-1})$.\n",
    "Let's define Gaussian-Gamma prior for parameters $(\\mu, \\tau)$:\n",
    "\n",
    "\\begin{equation}\n",
    "    p(\\mu, \\tau)\n",
    "        = \\mathcal{N}(\\mu; \\mu_0, (\\beta \\tau)^{-1})\n",
    "            \\otimes \\text{Gamma}(\\tau; a, b)\n",
    "        \\,.\n",
    "\\end{equation}\n",
    "\n",
    "Find the posterior distribution of $(\\mu, \\tau)$ after observing $X = (x_1, \\dots, x_n)$."
   ]
  },
  {
   "cell_type": "markdown",
   "metadata": {},
   "source": [
    "**BEGIN Solution**\n",
    "For posterioir we have:\n",
    "\\begin{align}\n",
    "p(\\mu, \\tau) \n",
    "&= \\frac{\\sqrt{\\beta\\tau}}{\\sqrt{2\\pi}}\\exp\\left(-\\frac{\\beta\\tau}{2}(\\mu - \\mu_0)^2\\right)\\frac{b^a\\tau^{a - 1}e^{-b\\tau}}{\\Gamma(a)}\\\\\n",
    "&= \\frac{b^a\\sqrt{\\beta}}{\\Gamma(a)\\sqrt{2\\pi}} \\tau^{a - \\frac{1}{2}}e^{-b\\tau}\\exp\\left(-\\frac{\\beta\\tau}{2}(\\mu - \\mu_0)^2\\right)\\\\\n",
    "&= {\\rm NornalGamma}(\\mu_0, \\beta, a, b)\n",
    "\\end{align}\n",
    "\n",
    "\\begin{equation}\n",
    "    p(\\mu, \\tau| X) \\sim p(X|\\mu, \\tau)p(\\mu, \\tau)\n",
    "\\end{equation}\n",
    "\n",
    "$X = (x_1, \\dots, x_n)$ iid then $p(X|\\mu, \\tau) = \\prod\\limits_{i = 1}^n\\mathcal{N}(x; \\mu, \\tau^{-1})$.\n",
    "\n",
    "\n",
    "\\begin{align}\n",
    "p(\\mu, \\tau| X) = \\frac{\\tau^{n/2}}{2^{n/2}}\\exp\\left(-\\frac{\\tau}{2}\\sum\\limits_{i = 1}^n(x_i - \\mu)^2\\right)\n",
    "\\end{align}\n",
    "\n",
    "\\begin{align}\n",
    "p(\\mu, \\tau| X) \n",
    "&\\sim \\frac{\\tau^{n/2}}{2^{n/2}}\\exp\\left(-\\frac{\\tau}{2}\\sum\\limits_{i = 1}^n(x_i - \\mu)^2\\right)\\frac{(\\beta\\tau)^{1/2}}{\\sqrt{2}}\\exp\\left(-\\frac{\\beta\\tau}{2}(\\mu - \\mu_0)^2\\right)\\frac{b^a\\tau^{a - 1}\\exp(-b\\tau)}{\\Gamma(a)}\\\\\n",
    "&\\sim \\tau^{\\frac{n}{2} + a - \\frac{1}{2}}\\exp\\left[-\\tau\\left(\\frac{1}{2}\\sum\\limits_{i = 1}^n(x_i - \\mu)^2 + \\frac{\\beta}{2}(\\mu - \\mu_0)^2 + b\\right)\\right]\\\\\n",
    "&\\sim \\tau^{\\frac{n}{2} + a - \\frac{1}{2}}\\exp\\left[-\\tau\\left(\\frac{1}{2}\\sum\\limits_{i = 1}^2(x_i^2 - 2x_i\\mu + \\mu^2) +\\frac{\\beta}{2}(\\mu^2 - 2\\mu\\mu_0 + \\mu_0^2) + b\\right)\\right]\n",
    "\\end{align}\n",
    "\n",
    "Let's $\\bar{x} = \\frac{1}{n}\\sum\\limits_{i = 1}^nx_i$\n",
    "\n",
    "\\begin{align}\n",
    "p(\\mu, \\tau| X) \n",
    "&\\sim\n",
    "\\tau^{\\frac{n}{2} + a - \\frac{1}{2}}\n",
    "\\exp\\left[-\\tau\\left(\\frac{1}{2}\\sum\\limits_{i = 1}^nx_i^2 - n\\bar{x}\\mu + \\frac{n}{2}\\mu^2 + \\frac{\\beta}{2}(\\mu^2 - 2\\mu\\mu_0 + \\mu_0^2) + b\\right)\\right]\\\\\n",
    "&\\sim\n",
    "\\tau^{\\frac{n}{2} + a - \\frac{1}{2}}\n",
    "\\exp\\left[-\\tau\\left(\\frac{1}{2}\\sum\\limits_{i = 1}^nx_i^2 + \\frac{1}{2}\\left((n + \\beta)\\mu^2 - 2\\mu\\frac{(n\\bar{x} + \\mu_0\\beta)(n + \\beta)}{n + \\beta} \\pm \\frac{(n\\bar{x} + \\mu_0\\beta)^2(n + \\beta)}{(n + \\beta)^2}\\right) + \\frac{\\mu_0^2\\beta}{2}+ b\\right)\\right]\\\\\n",
    "&\\sim\n",
    "\\tau^{\\frac{n}{2} + a - \\frac{1}{2}}\n",
    "\\exp\\left[-\\frac{\\tau(n + \\beta)}{2}\\left(\\mu - \\frac{n\\bar{x} + \\mu_0\\beta}{n + \\beta}\\right)^2\\right]\n",
    "\\exp\\left[-\\tau\\left(b + \\frac{1}{2}\\sum\\limits_{i = 1}^nx_i^2 + \\frac{\\mu_0^2\\beta}{2} - \\frac{(n\\bar{x} + \\mu_0\\beta)^2}{2(n + \\beta)}\\right)\\right]\n",
    "\\end{align}\n",
    "\n",
    "Let's $s = \\frac{1}{n}\\sum\\limits_{i = 1}^n(x_i - \\bar{x})^2$\n",
    "\n",
    "\\begin{align}\n",
    "p(\\mu, \\tau| X) \n",
    "&\\sim\n",
    "\\tau^{\\frac{n}{2} + a - \\frac{1}{2}}\n",
    "\\exp\\left[-\\frac{\\tau(n + \\beta)}{2}\\left(\\mu - \\frac{n\\bar{x} + \\mu_0\\beta}{n + \\beta}\\right)^2\\right]\n",
    "\\exp\\left[-\\tau\\left(b + \\frac{1}{2}\\left(ns + \\frac{n\\beta(\\mu_0 - \\bar{x})^2}{n + \\beta}\\right)\\right)\\right]\n",
    "\\end{align}\n",
    "\n",
    "\n",
    "Then \n",
    "\n",
    "$$p(\\mu, \\tau| X) \\sim {\\rm NormalGamma}\\left(\\frac{n\\bar{x} + \\mu_0\\beta}{n + \\beta}, n + \\beta, \\frac{n}{2} + a, b + \\frac{1}{2}\\left(ns + \\frac{n\\beta(\\mu_0 - \\bar{x})^2}{n + \\beta}\\right)\\right)$$\n",
    "\n",
    "$$p(\\mu, \\tau| X) = \\mathcal{N}\\left(\\mu; \\frac{n\\bar{x} + \\mu_0\\beta}{n + \\beta}, (\\beta+n) \\tau)^{-1}\\right)\\otimes{\\rm Gamma}\\left(\\tau; a + \\frac{n}{2},  b + \\frac{1}{2}\\left(ns + \\frac{n\\beta(\\mu_0 - \\bar{x})^2}{n + \\beta}\\right)\\right)$$\n",
    "\n",
    "**END Solution**"
   ]
  },
  {
   "cell_type": "markdown",
   "metadata": {},
   "source": [
    "<br>"
   ]
  },
  {
   "cell_type": "markdown",
   "metadata": {},
   "source": [
    "## Task 2 (1 + 1 + 1 = 3 pt.)\n",
    "\n",
    "Evaluate the following integral using the Laplace approximation:\n",
    "\\begin{equation}\n",
    "    x \\mapsto \\int \\sigma(w^T x) \\mathcal{N}(w; 0, \\Sigma) dw \\,,\n",
    "\\end{equation}\n",
    "for $x = \\bigl(\\tfrac23, \\tfrac16, \\tfrac16\\bigr)\\in \\mathbb{R}^3$ and \n",
    "\\begin{equation}\n",
    "    \\Sigma\n",
    "        = \\begin{pmatrix}\n",
    "             1    & -0.25 & 0.75 \\\\\n",
    "            -0.25 &  1    & 0.5  \\\\\n",
    "             0.75 &  0.5  & 2\n",
    "           \\end{pmatrix}\n",
    "        \\,.\n",
    "\\end{equation}"
   ]
  },
  {
   "cell_type": "markdown",
   "metadata": {},
   "source": [
    "__Begin note__ \n",
    "\n",
    "Assume we have $\\int \\exp(f(x)) dx$, considering stationary point $x_0$ of function  $f(\\cdot)$ we'll obtain in some neightbourhood of $x_0$:\n",
    "\n",
    "$$f(x)\\approx f(x_0) + \\nabla f(x_0)^{\\top}(x - x_0) + \\frac{1}{2}(x - x_0)^{\\top}\\nabla^2 f(x_0)(x - x_0) + O(\\|x - x_0\\|^3)$$\n",
    "\n",
    "$$f(x)\\approx f(x_0) + \\frac{1}{2}(x - x_0)^{\\top}\\nabla^2 f(x_0)(x - x_0) + O(\\|x - x_0\\|^3)$$\n",
    "\n",
    "$$\\int \\exp(f(x))dx \\approx \\exp(f(x^0))\\frac{(2\\pi)^{n/2}}{{\\rm det}(-\\nabla^2f(x_0))^{1/2}}$$\n",
    "\n",
    "If we now assume $\\int h(x)\\exp(f(x))dx \\approx h(x_0)\\exp(f(x_0))\\frac{(2\\pi)^{n/2}}{{\\rm det}(-\\nabla^2f(x_0))^{1/2}}$\n",
    "\n",
    "__End note__"
   ]
  },
  {
   "cell_type": "markdown",
   "metadata": {},
   "source": [
    "### Task 2.1 (1 pt.)\n",
    "Use the Hessian matrix computed numericaly via finite differences. (Check out [Numdifftools](https://pypi.python.org/pypi/Numdifftools))"
   ]
  },
  {
   "cell_type": "code",
   "execution_count": 2,
   "metadata": {},
   "outputs": [],
   "source": [
    "import numdifftools as nd\n",
    "from scipy.optimize import minimize\n",
    "import numpy as np\n",
    "import numpy as np\n",
    "\n",
    "%matplotlib inline\n",
    "import matplotlib.pyplot as plt"
   ]
  },
  {
   "cell_type": "code",
   "execution_count": 3,
   "metadata": {},
   "outputs": [],
   "source": [
    "### BEGIN Solution\n",
    "from scipy.stats import multivariate_normal\n",
    "\n",
    "x = np.array([2/3, 1/6, 1/6])\n",
    "dim = len(x)\n",
    "mu = np.zeros_like(x)\n",
    "Sigma = np.array([[1., -.25, .75], \n",
    "                  [-.25, 1., .5], \n",
    "                  [.75, .5, 2.]])\n",
    "\n",
    "sigmoid = lambda w, x: 1./(1 + np.exp(-w.dot(x)))\n",
    "\n",
    "to_int_function = lambda w, x=x: sigmoid(w, x)*multivariate_normal.pdf(w, mean=mu, cov=Sigma)\n",
    "\n",
    "hessian = nd.Hessian(lambda w: np.log(to_int_function(w)))\n",
    "stat_point = minimize(lambda w: -to_int_function(w), np.zeros(dim)).x\n",
    "\n",
    "inetgral = to_int_function(stat_point)*(2*np.pi)**(dim/2)/np.linalg.det(-hessian(stat_point))**.5\n",
    "#stationary_point\n",
    "\n",
    "### END Solution"
   ]
  },
  {
   "cell_type": "code",
   "execution_count": 4,
   "metadata": {},
   "outputs": [
    {
     "data": {
      "text/plain": [
       "0.49791974999429084"
      ]
     },
     "execution_count": 4,
     "metadata": {},
     "output_type": "execute_result"
    }
   ],
   "source": [
    "inetgral"
   ]
  },
  {
   "cell_type": "code",
   "execution_count": 5,
   "metadata": {},
   "outputs": [
    {
     "data": {
      "text/plain": [
       "0.49791972873562435"
      ]
     },
     "execution_count": 5,
     "metadata": {},
     "output_type": "execute_result"
    }
   ],
   "source": [
    "0.49791972873562435"
   ]
  },
  {
   "cell_type": "markdown",
   "metadata": {},
   "source": [
    "<br>"
   ]
  },
  {
   "cell_type": "markdown",
   "metadata": {},
   "source": [
    "### Task 2.2 (1 pt.)\n",
    "Use the diagonal approximation of the Hessian computed by autodifferentiation\n",
    "in **pytorch**."
   ]
  },
  {
   "cell_type": "code",
   "execution_count": 6,
   "metadata": {
    "collapsed": true
   },
   "outputs": [],
   "source": [
    "import torch\n",
    "from torch.autograd import Variable, grad"
   ]
  },
  {
   "cell_type": "code",
   "execution_count": 7,
   "metadata": {},
   "outputs": [
    {
     "name": "stdout",
     "output_type": "stream",
     "text": [
      "tensor([0.2535, 0.0868, 0.5082], dtype=torch.float64)\n"
     ]
    },
    {
     "ename": "NameError",
     "evalue": "name 'w' is not defined",
     "output_type": "error",
     "traceback": [
      "\u001b[0;31m---------------------------------------------------------------------------\u001b[0m",
      "\u001b[0;31mNameError\u001b[0m                                 Traceback (most recent call last)",
      "\u001b[0;32m<ipython-input-7-849e03849b51>\u001b[0m in \u001b[0;36m<module>\u001b[0;34m()\u001b[0m\n\u001b[1;32m      4\u001b[0m \u001b[0mfunc\u001b[0m \u001b[0;34m=\u001b[0m \u001b[0;32mlambda\u001b[0m \u001b[0mw\u001b[0m\u001b[0;34m:\u001b[0m \u001b[0mtorch\u001b[0m\u001b[0;34m.\u001b[0m\u001b[0mas_tensor\u001b[0m\u001b[0;34m(\u001b[0m\u001b[0mto_int_function\u001b[0m\u001b[0;34m(\u001b[0m\u001b[0mw\u001b[0m\u001b[0;34m,\u001b[0m \u001b[0mx1\u001b[0m\u001b[0;34m)\u001b[0m\u001b[0;34m)\u001b[0m\u001b[0;34m\u001b[0m\u001b[0m\n\u001b[1;32m      5\u001b[0m \u001b[0mprint\u001b[0m\u001b[0;34m(\u001b[0m\u001b[0mx1\u001b[0m\u001b[0;34m)\u001b[0m\u001b[0;34m\u001b[0m\u001b[0m\n\u001b[0;32m----> 6\u001b[0;31m \u001b[0mprint\u001b[0m\u001b[0;34m(\u001b[0m\u001b[0mtorch\u001b[0m\u001b[0;34m.\u001b[0m\u001b[0mas_tensor\u001b[0m\u001b[0;34m(\u001b[0m\u001b[0mto_int_function\u001b[0m\u001b[0;34m(\u001b[0m\u001b[0mw\u001b[0m\u001b[0;34m)\u001b[0m\u001b[0;34m)\u001b[0m\u001b[0;34m)\u001b[0m\u001b[0;34m\u001b[0m\u001b[0m\n\u001b[0m\u001b[1;32m      7\u001b[0m \u001b[0mfunc_grad\u001b[0m \u001b[0;34m=\u001b[0m \u001b[0mgrad\u001b[0m\u001b[0;34m(\u001b[0m\u001b[0mfunc\u001b[0m\u001b[0;34m(\u001b[0m\u001b[0mx1\u001b[0m\u001b[0;34m)\u001b[0m\u001b[0;34m,\u001b[0m \u001b[0mx1\u001b[0m\u001b[0;34m,\u001b[0m \u001b[0mcreate_graph\u001b[0m\u001b[0;34m=\u001b[0m\u001b[0;32mTrue\u001b[0m\u001b[0;34m)\u001b[0m\u001b[0;34m\u001b[0m\u001b[0m\n\u001b[1;32m      8\u001b[0m \u001b[0;31m### END Solution\u001b[0m\u001b[0;34m\u001b[0m\u001b[0;34m\u001b[0m\u001b[0m\n",
      "\u001b[0;31mNameError\u001b[0m: name 'w' is not defined"
     ]
    }
   ],
   "source": [
    "### BEGIN Solution\n",
    "x1 = Variable(torch.from_numpy(np.random.rand(dim)))\n",
    "\n",
    "func = lambda w: torch.as_tensor(to_int_function(w, x1))\n",
    "print(x1)\n",
    "print(torch.as_tensor(to_int_function(w)))\n",
    "func_grad = grad(func(x1), x1, create_graph=True)\n",
    "### END Solution"
   ]
  },
  {
   "cell_type": "markdown",
   "metadata": {},
   "source": [
    "<br>"
   ]
  },
  {
   "cell_type": "markdown",
   "metadata": {},
   "source": [
    "### Task 2.3 (1 pt.)\n",
    "\n",
    "Compare the results comparing the `absolute errors` of the results (this is possible with Monte-Carlo estimate of the integral). Write 1-2 sentences in the results discussion."
   ]
  },
  {
   "cell_type": "code",
   "execution_count": null,
   "metadata": {},
   "outputs": [],
   "source": [
    "### BEGIN Solution\n",
    "\n",
    "### END Solution"
   ]
  },
  {
   "cell_type": "markdown",
   "metadata": {},
   "source": [
    "**BEGIN Solution**\n",
    "\n",
    "**END Solution**"
   ]
  },
  {
   "cell_type": "markdown",
   "metadata": {},
   "source": [
    "<br>"
   ]
  },
  {
   "cell_type": "markdown",
   "metadata": {},
   "source": [
    "# Gaussian Processes"
   ]
  },
  {
   "cell_type": "markdown",
   "metadata": {},
   "source": [
    "## Task 3 (1 + 2 = 3 pt.)"
   ]
  },
  {
   "cell_type": "markdown",
   "metadata": {},
   "source": [
    "### Task 3.1 (1 pt.)\n",
    "\n",
    "Assuimng the matrices $A \\in \\mathbb{R}^{n \\times n}$ and $D \\in \\mathbb{R}^{d \\times d}$\n",
    "are invertible, using **gaussian elimination** find the inverse matrix for the following\n",
    "block matrix:\n",
    "\\begin{equation}\n",
    "    M = \\begin{pmatrix} A & B \\\\ C & D \\end{pmatrix} \\,,\n",
    "\\end{equation}\n",
    "where $C \\in \\mathbb{R}^{d \\times n}$ and $B \\in \\mathbb{R}^{n \\times d}$."
   ]
  },
  {
   "cell_type": "markdown",
   "metadata": {},
   "source": [
    "**BEGIN Solution**\n",
    "\n",
    "\\begin{align}\n",
    "\\left[\n",
    "    \\begin{array}{cc|cc} A & B & I & O \\\\C & D & O & I \\end{array}\n",
    "\\right]&\\sim\n",
    "\\left[\n",
    "    \\begin{array}{cc|cc} I & A^{-1}B & A^{-1} & O \\\\C & D & O & I \\end{array}\n",
    "\\right]\n",
    "\\sim\n",
    "\\left[\n",
    "    \\begin{array}{cc|cc} C & CA^{-1}B & CA^{-1} & O \\\\C & D & O & I \\end{array}\n",
    "\\right] \\\\\n",
    "&\\sim\n",
    "\\left[\n",
    "    \\begin{array}{cc|cc} I & A^{-1}B & A^{-1} & O \\\\O & D - CA^{-1}B & -CA^{-1} & I \\end{array}\n",
    "\\right]\n",
    "\\sim\n",
    "\\left[\n",
    "    \\begin{array}{cc|cc} I & A^{-1}B & A^{-1} & O \\\\O & I & -(D - CA^{-1}B)^{-1}CA^{-1} & (D - CA^{-1}B)^{-1} \\end{array}\n",
    "\\right]\\\\\n",
    "&\\sim\n",
    "\\left[\n",
    "    \\begin{array}{cc|cc} I & O & A^{-1} + A^{-1}B(D - CA^{-1}B)^{-1}CA^{-1} & -A^{-1}B(D - CA^{-1}B)^{-1} \\\\O & I & -(D - CA^{-1}B)^{-1}CA^{-1} & (D - CA^{-1}B)^{-1} \\end{array}\n",
    "\\right]\n",
    "\\end{align}\n",
    "\n",
    "Using [this formula](https://en.wikipedia.org/wiki/Woodbury_matrix_identity) if $D$ is invertible:\n",
    "\n",
    "\\begin{align}\n",
    "M^{-1} \n",
    "&= \n",
    "\\begin{bmatrix} A^{-1} + A^{-1}B(D - CA^{-1}B)^{-1}CA^{-1} & -A^{-1}B(D - CA^{-1}B)^{-1} \\\\ -(D - CA^{-1}B)^{-1}CA^{-1} & (D - CA^{-1}B)^{-1} \\end{bmatrix}\\\\\n",
    "&=\n",
    "\\begin{bmatrix}\n",
    "(A - BD^{-1}C)^{-1} & -A^{-1}B(D - CA^{-1}B)^{-1}\\\\\n",
    " -(D - CA^{-1}B)^{-1}CA^{-1} & (D - CA^{-1}B)^{-1}\n",
    "\\end{bmatrix}\n",
    "\\end{align}\n",
    "\n",
    "The formula above is corrert iff there exists $A^{-1},~D^{-1},~(D - CA^{-1}B)^{-1}$\n",
    "\n",
    "Eliminating starting not from $A$ but from $D$ we'll obtain almost the same formula.\n",
    "\n",
    "\\begin{align}\n",
    "\\left[\n",
    "    \\begin{array}{cc|cc} A & B & I & O \\\\C & D & O & I \\end{array}\n",
    "\\right]&\\sim\n",
    "\\left[\n",
    "    \\begin{array}{cc|cc} A & B & I & O \\\\D^{-1}C & I & O & D^{-1} \\end{array}\n",
    "\\right]\n",
    "\\sim\n",
    "\\left[\n",
    "    \\begin{array}{cc|cc} A & B & I & O \\\\BD^{-1}C & B & O & BD^{-1} \\end{array}\n",
    "\\right]\n",
    "\\\\\n",
    "&\\sim\n",
    "\\left[\n",
    "    \\begin{array}{cc|cc} A - BD^{-1}C & O & I & -BD^{-1} \\\\D^{-1}C & I & O & D^{-1} \\end{array}\n",
    "\\right]\n",
    "\\sim\n",
    "\\left[\n",
    "    \\begin{array}{cc|cc} I & O & (A - BD^{-1}C)^{-1} & -(A - BD^{-1}C)^{-1}BD^{-1} \\\\D^{-1}C & I & O & D^{-1} \\end{array}\n",
    "\\right]\\\\\n",
    "&\\sim\n",
    "\\left[\n",
    "    \\begin{array}{cc|cc} I & O & (A - BD^{-1}C)^{-1} & -(A - BD^{-1}C)^{-1}BD^{-1} \\\\O & I & -D^{-1}C(A - BD^{-1}C)^{-1} & D^{-1} + D^{-1}C(A - BD^{-1}C)^{-1}BD^{-1} \\end{array}\n",
    "\\right]\\\\\n",
    "&\\sim\n",
    "\\left[\n",
    "    \\begin{array}{cc|cc} I & O & (A - BD^{-1}C)^{-1} & -(A - BD^{-1}C)^{-1}BD^{-1} \\\\O & I & -D^{-1}C(A - BD^{-1}C)^{-1} & (D - CA^{-1}B)^{-1} \\end{array}\n",
    "\\right]\n",
    "\\end{align}\n",
    "\n",
    "Then\n",
    "\n",
    "\\begin{equation}\n",
    "M^{-1} - \\begin{bmatrix}(A - BD^{-1}C)^{-1} & -(A - BD^{-1}C)^{-1}BD^{-1} \\\\ -D^{-1}C(A - BD^{-1}C)^{-1} & (D - CA^{-1}B)^{-1}\\end{bmatrix}\n",
    "\\end{equation}\n",
    "\n",
    "And if $A$ and $D$ are invertible both formulas are equivalent. Could be compered with [this](http://msvlab.hre.ntou.edu.tw/grades/now/inte/Inverse%20&%20Border/border-LuTT.pdf)\n",
    "\n",
    "**END Solution**"
   ]
  },
  {
   "cell_type": "markdown",
   "metadata": {},
   "source": [
    "<br>"
   ]
  },
  {
   "cell_type": "markdown",
   "metadata": {},
   "source": [
    "### Task 3.2 (2 pt.)\n",
    "\n",
    "Assume that the function $y(x)$, $x \\in \\mathbb{R}^d$, is a realization of the Gaussian\n",
    "Process $GP\\bigl(0; K(\\cdot, \\cdot)\\bigr)$ with $K(a, b) = \\exp({- \\gamma \\|a - b\\|_2^2}))$.\n",
    "\n",
    "Suppose two datasets were observed: **noiseless** ${D_0}$ and **noisy** ${D_1}$\n",
    "\\begin{aligned}\n",
    "    & D_0 = \\bigl(x_i, y(x_i) \\bigr)_{i=1}^{n} \\,, \\\\\n",
    "    & D_1 = \\bigl(x^\\prime_i, y(x^\\prime_i) + \\varepsilon_i \\bigr)_{i=1}^{m} \\,,\n",
    "\\end{aligned}\n",
    "where $\\varepsilon_i \\sim \\text{ iid } \\mathcal{N}(0, \\sigma^2)$, independent of process $y$.\n",
    "\n",
    "Derive the conditional distribution of $y(x) \\big\\vert_{D_0, D_1}$ at a new $x$."
   ]
  },
  {
   "cell_type": "markdown",
   "metadata": {},
   "source": [
    "**BEGIN Solution**\n",
    "\n",
    "For $D_0$ we have:\n",
    "$$p({\\bf y}) = {\\cal N}({\\bf 0}, {\\bf K}_0)$$\n",
    "where ${\\bf y} = (y(x_1), \\ldots, y(x_n))^{\\top},~x_i \\in D_0$\n",
    "\n",
    "For $D_1$ we have:\n",
    "$$p({\\bf y}) = {\\cal N}({\\bf 0}, {\\bf K}_1)$$\n",
    "where ${\\bf y} = (y(x_1), \\ldots, y(x_m))^{\\top},~x_i \\in D_1$\n",
    "From the lecture:\n",
    "$$f_i = y(x_i) + \\varepsilon_i,~i = 1,\\ldots, m$$\n",
    "$$p({\\bf f}| {\\bf y}) = {\\cal N}({\\bf f}|{\\bf y}, \\sigma^2I_m)$$\n",
    "$$p({\\bf f}) = \\int p({\\bf f}| {\\bf y})p({\\bf y})d{\\bf y} = {\\cal N}({\\bf 0}, {\\bf K}_1 + \\sigma^2I_m)$$\n",
    "\n",
    "Denote ${\\bf y}_0 = (y(x_1), \\ldots, y(x_n))^{\\top},~x_i \\in D_0$ and ${\\bf y}_1 = (y(x_1), \\ldots, y(x_m))^{\\top},~x_i \\in D_1$ \n",
    "\n",
    "Similarly to the lecture:\n",
    "\n",
    "Joint distribution:\n",
    "$$p({\\bf y}_0, {\\bf f}) = \n",
    "{\\cal N}\\left(\n",
    "\\begin{bmatrix}\n",
    "{\\bf 0}_n\\\\ \n",
    "{\\bf 0}_m\n",
    "\\end{bmatrix}, \n",
    "\\begin{bmatrix} \n",
    "{\\bf K}_0 & {\\bf K}_{10} \\\\\n",
    "{\\bf K}_{10}^{\\top} & {\\bf K}_1 + \\sigma^2I_m\\end{bmatrix}\\right)\n",
    "= \n",
    "{\\cal N}\\left(\n",
    "{\\bf 0}_{n + m}, {\\bf K}\n",
    "\\right)\n",
    "$$\n",
    "\n",
    "where ${{\\bf K}_{10}}_{ij} = K(x_i, x_j),~x_i \\in D_1,~x_j \\in D_0$\n",
    "\n",
    "Similarly to the lecture: new observation $f_* = y_* + \\varepsilon_*,~y(x_*) = y_*$\n",
    "\n",
    "Joint distribution:\n",
    "$$p({\\bf y}_0, {\\bf f}, f_*) =\n",
    "{\\cal N}\\left(\n",
    "\\begin{bmatrix}\n",
    "{\\bf 0}_n\\\\ \n",
    "{\\bf 0}_m\\\\ \n",
    "0\n",
    "\\end{bmatrix}, \n",
    "\\begin{bmatrix} \n",
    "{\\bf K}_0 & {\\bf K}_{10} & {\\bf k}_{*0}\\\\\n",
    "{\\bf K}_{10}^{\\top} & {\\bf K}_1 + \\sigma^2I_m & {\\bf k}_{*1}\\\\\n",
    "{\\bf k}_{*0}^{\\top}& {\\bf k}_{*1}^{\\top}&  K_{**}\n",
    "\\end{bmatrix}\\right)\n",
    "=\n",
    "{\\cal N}\n",
    "\\left(\n",
    "\\begin{bmatrix}\n",
    "{\\bf 0}_{n + m}\\\\\n",
    "0\n",
    "\\end{bmatrix}\n",
    ",\n",
    "\\begin{bmatrix}\n",
    "{\\bf K} & {\\bf k}\\\\\n",
    "{\\bf k}^{\\top} & K_{**}\n",
    "\\end{bmatrix}\n",
    "\\right)\n",
    "=\n",
    "{\\cal N}\n",
    "\\left({\\bf 0}_{n + m + 1}, {\\bf M}\\right)\n",
    "$$\n",
    "\n",
    "\n",
    "where ${\\bf k}_{*0} = K(x_*, x_i),~x_i \\in D_0$, ${\\bf k}_{*1} = K(x_*, x_i),~x_i \\in D_1$, $K_{**} = K(x_*, x_*)$\n",
    "\n",
    "$$p(f_*|{\\bf f}, {\\bf y}_0) \n",
    "= \\frac{p(f_*, {\\bf f}, {\\bf y}_0)}{p({\\bf f}, {\\bf y}_0)} \n",
    "= \\frac{p({\\bf y}_0, {\\bf f}, f_*)}{p({\\bf y}_0, {\\bf f})}\n",
    "= \\frac{p({\\bf z}, f_*)}{p({\\bf z})}$$\n",
    "\n",
    "From above sub-task:\n",
    "\\begin{equation}\n",
    "\\begin{bmatrix}\n",
    "{\\bf K} & {\\bf k}\\\\\n",
    "{\\bf k}^{\\top} & K_{**}\n",
    "\\end{bmatrix}^{-1} \n",
    "= \n",
    "\\begin{bmatrix}\n",
    "\\left({\\bf K} - \\frac{1}{K_{**}}{\\bf k}{\\bf k}^{\\top}\\right)^{-1} \n",
    "& \n",
    "-\\frac{{\\bf K}^{-1}{\\bf k}}{K_{**} - {\\bf k}^{\\top}{\\bf K}^{-1}{\\bf k}}\n",
    "\\\\\n",
    "-\\frac{{\\bf k}^{\\top}{\\bf K}^{-1}}{K_{**} - {\\bf k}^{\\top}{\\bf K}^{-1}{\\bf k}}\n",
    "&\n",
    "\\frac{1}{K_{**} - {\\bf k}^{\\top}{\\bf K}^{-1}{\\bf k}}\n",
    "\\end{bmatrix} \n",
    "=\n",
    "\\begin{bmatrix}\n",
    "{\\bf K}^{-1} + \\frac{{\\bf K}^{-1}{\\bf k}{\\bf k}^{\\top}{\\bf K}^{-1}}{K_{**} - {\\bf k}^{\\top}{\\bf K}^{-1}{\\bf k}}\n",
    "&\n",
    "-\\frac{{\\bf K}^{-1}{\\bf k}}{K_{**} - {\\bf k}^{\\top}{\\bf K}^{-1}{\\bf k}}\n",
    "\\\\\n",
    "-\\frac{{\\bf k}^{\\top}{\\bf K}^{-1}}{K_{**} - {\\bf k}^{\\top}{\\bf K}^{-1}{\\bf k}}\n",
    "&\n",
    "\\frac{1}{K_{**} - {\\bf k}^{\\top}{\\bf K}^{-1}{\\bf k}}\n",
    "\\end{bmatrix}\n",
    "\\end{equation}\n",
    "\n",
    "\\begin{align}\n",
    "p({\\bf y}_0, {\\bf f}, f_*) = p({\\bf z}, f^*)\n",
    "&= \\frac{1}{(2\\pi)^{\\frac{n + m + 1}{2}}{\\rm det}({\\bf M})^{1/2}}\\exp\\left(-\\frac{1}{2}\n",
    "\\begin{pmatrix}\n",
    "{\\bf z}\\\\\n",
    "f_*\n",
    "\\end{pmatrix}^{\\top}\n",
    "\\begin{pmatrix}\n",
    "{\\bf K} & {\\bf k}\\\\\n",
    "{\\bf k}^{\\top} & K_{**}\n",
    "\\end{pmatrix}^{-1}\n",
    "\\begin{pmatrix}\n",
    "{\\bf z}\\\\\n",
    "f_*\n",
    "\\end{pmatrix}\n",
    "\\right)\n",
    "\\end{align}\n",
    "\n",
    "\\begin{equation}\n",
    "p({\\bf z}) = \\frac{1}{(2\\pi)^{\\frac{n + m}{2}}{\\rm det}({\\bf K})^{1/2}}\n",
    "\\exp\\left(\n",
    "-\\frac{1}{2}{\\bf z}^{\\top}{\\bf K}^{-1}{\\bf z}\n",
    "\\right)\n",
    "\\end{equation}\n",
    "\n",
    "\\begin{align}\n",
    "&\\frac{p({\\bf z}, f^*)}{p({\\bf z})} \n",
    "=\n",
    "\\frac{1}{\\sqrt{2\\pi (K_{**} - {\\bf k}^{\\top}{\\bf K}^{-1}{\\bf k})}}\n",
    "\\exp\\left(\n",
    "-\\frac{1}{2}\n",
    "\\left[\n",
    "{\\bf z}^{\\top}{\\bf K}^{-1}{\\bf z} \n",
    "+ {\\bf z}^{\\top}\\frac{{\\bf K}^{-1}{\\bf k}{\\bf k}^{\\top}{\\bf K}^{-1}}{K_{**} - {\\bf k}^{\\top}{\\bf K}^{-1}{\\bf k}}{\\bf z}\n",
    "- 2f_* \\frac{{\\bf k}^{\\top}{\\bf K}^{-1}}{K_{**} - {\\bf k}^{\\top}{\\bf K}^{-1}{\\bf k}}{\\bf z}\n",
    "+ \\frac{f_*^2}{K_{**} - {\\bf k}^{\\top}{\\bf K}^{-1}{\\bf k}}\n",
    "- {\\bf z}^{\\top}{\\bf K}^{-1}{\\bf z}\n",
    "\\right]\n",
    "\\right)\\\\\n",
    "&=\\frac{1}{\\sqrt{2\\pi (K_{**} - {\\bf k}^{\\top}{\\bf K}^{-1}{\\bf k})}}\n",
    "\\exp\\left(\n",
    "-\\frac{1}{2}\n",
    "\\left[\n",
    "\\frac{(f^* - {\\bf k}^{\\top}{\\bf K}^{-1}{\\bf z})^2}{K_{**} - {\\bf k}^{\\top}{\\bf K}^{-1}{\\bf k}}\n",
    "\\right]\n",
    "\\right)\n",
    "\\end{align}\n",
    "\n",
    "Then \n",
    "$$p(f_*|{\\bf f}, {\\bf y}_0) = {\\cal N}({\\bf k}^{\\top}{\\bf K}^{-1}{\\bf z}, K_{**} - {\\bf k}^{\\top}{\\bf K}^{-1}{\\bf k})$$\n",
    "\n",
    "where \n",
    "$${\\bf k} = ({\\bf k}_{*0}, {\\bf k}_{*1})^{\\top}$$\n",
    "\n",
    "$$\n",
    "{\\bf K} = \n",
    "\\begin{bmatrix}\n",
    "{\\bf K}_0 & {\\bf K}_{10} \\\\\n",
    "{\\bf K}_{10}^{\\top} & {\\bf K}_1 + \\sigma^2I_m\n",
    "\\end{bmatrix}\n",
    "$$\n",
    "$$K_{**} = K(x_*, x_*)$$\n",
    "\n",
    "**END Solution**"
   ]
  },
  {
   "cell_type": "markdown",
   "metadata": {},
   "source": [
    "<br>"
   ]
  },
  {
   "cell_type": "markdown",
   "metadata": {},
   "source": [
    "## Task 4 (1 + 2 = 3 pt.)"
   ]
  },
  {
   "cell_type": "markdown",
   "metadata": {},
   "source": [
    "### Task 4.1 (1 pt.)"
   ]
  },
  {
   "cell_type": "markdown",
   "metadata": {},
   "source": [
    "> In the late 1950’s Charles Keeling invented an accurate way to measure atmospheric $CO_2$ concentration and began taking regular measurements at the Mauna Loa observatory.\n"
   ]
  },
  {
   "cell_type": "markdown",
   "metadata": {},
   "source": [
    "Take `monthly_co2_mlo.csv` file, load it and prepare the data."
   ]
  },
  {
   "cell_type": "markdown",
   "metadata": {},
   "source": [
    "0. Load the `CO2 [ppm]` time series\n",
    "1. Replace $-99.99$ with **NaN** and drop the missing observations\n",
    "2. Split the time series into train and test\n",
    "3. Normalize the target value by fitting a transformation on the train\n",
    "4. Plot the resulting target against the time index"
   ]
  },
  {
   "cell_type": "code",
   "execution_count": 3,
   "metadata": {},
   "outputs": [],
   "source": [
    "import numpy as np"
   ]
  },
  {
   "cell_type": "code",
   "execution_count": 7,
   "metadata": {},
   "outputs": [],
   "source": [
    "import pandas as pd\n",
    "from sklearn.model_selection import train_test_split\n",
    "from sklearn.preprocessing import StandardScaler\n",
    "import seaborn as sns\n",
    "\n",
    "### BEGIN Solution\n",
    "#1.\n",
    "data_CO2 = pd.read_csv(r'data/monthly_co2_mlo.csv')\n",
    "CO2_series = pd.Series(data_CO2['CO2 [ppm]'])\n",
    "#2.\n",
    "CO2_series.replace(-99.99, np.nan, inplace=True)\n",
    "CO2_series.dropna(inplace=True)\n",
    "X = data_CO2['year'][CO2_series.index]\n",
    "X = X.subtract(X.min())\n",
    "#3.\n",
    "X_train, X_test, CO2_train, CO2_test = train_test_split(X, CO2_series, \n",
    "                                                        test_size=.33, \n",
    "                                                        random_state=42, \n",
    "                                                        shuffle=False)\n",
    "#4.\n",
    "scaler = StandardScaler()\n",
    "CO2_train = scaler.fit_transform(CO2_train.values.reshape(-1, 1))\n",
    "CO2_test = scaler.transform(CO2_test.values.reshape(-1, 1))\n",
    "\n",
    "CO2_train_plt = pd.Series(CO2_train.reshape(CO2_train.shape[0], ), index=X_train)\n",
    "CO2_test_plt = pd.Series(CO2_test.reshape(CO2_test.shape[0], ), index=X_test)\n",
    "#5.\n",
    "### END Solution"
   ]
  },
  {
   "cell_type": "code",
   "execution_count": 8,
   "metadata": {},
   "outputs": [
    {
     "data": {
      "text/plain": [
       "Text(0, 0.5, 'CO2 [ppm]')"
      ]
     },
     "execution_count": 8,
     "metadata": {},
     "output_type": "execute_result"
    },
    {
     "data": {
      "image/png": "[encoded data removed]",
      "text/plain": [
       "<Figure size 720x360 with 1 Axes>"
      ]
     },
     "metadata": {},
     "output_type": "display_data"
    }
   ],
   "source": [
    "# >>> your code here <<<\n",
    "plt.style.use('seaborn-darkgrid')\n",
    "plt.figure(figsize=(10, 5))\n",
    "CO2_train_plt.plot(label='Train data')\n",
    "CO2_test_plt.plot(label='Test data')\n",
    "plt.axvline(x=X_train.max(), color='k')\n",
    "plt.title('Train and test split')\n",
    "plt.legend(loc='best')\n",
    "plt.ylabel('CO2 [ppm]')"
   ]
  },
  {
   "cell_type": "code",
   "execution_count": 9,
   "metadata": {},
   "outputs": [],
   "source": [
    "X_test = X_test.values.reshape(-1, 1)\n",
    "X_train = X_train.values.reshape(-1, 1)\n",
    "\n",
    "y_test = CO2_test.reshape(-1, 1)\n",
    "y_train = CO2_train.reshape(-1, 1)\n",
    "\n",
    "xlim = [X.min(), X.max()]"
   ]
  },
  {
   "cell_type": "markdown",
   "metadata": {},
   "source": [
    "<br>"
   ]
  },
  {
   "cell_type": "markdown",
   "metadata": {},
   "source": [
    "### Task 4.2 (2 pt.)\n",
    "\n",
    "Use [**GPy**](https://pypi.python.org/pypi/GPy) library for training and prediction. Fit a GP and run the predict on the test. Useful kernels to combine: `GPy.kern.RBF, GPy.kern.Poly, GPy.kern.StdPeriodic, GPy.kern.White, GPy.kern.Linear`. \n",
    "\n",
    "1. Plot mean and confidence interval of the prediction. \n",
    "2. Inspect them on normality by scatter plot: plot predicted points/time series against true values. \n",
    "3. Estimate the prediction error with `r2_score`. R2-score accepted > 0.83 on test sample."
   ]
  },
  {
   "cell_type": "code",
   "execution_count": 10,
   "metadata": {},
   "outputs": [],
   "source": [
    "from GPy.models import GPRegression\n",
    "from GPy.kern import RBF, Poly, StdPeriodic, White, Linear\n",
    "from sklearn.metrics import r2_score"
   ]
  },
  {
   "cell_type": "code",
   "execution_count": 11,
   "metadata": {},
   "outputs": [],
   "source": [
    "#Taken from the seminar\n",
    "def plot_results(model, X_test, y_test):\n",
    "    \n",
    "    print(model)\n",
    "    \n",
    "    x = np.concatenate((model.X, X_test))\n",
    "    \n",
    "    prediction, variance = model.predict(x)\n",
    "    std = np.sqrt(variance).ravel()\n",
    "    prediction = prediction.ravel()\n",
    "    \n",
    "    test_pred = model.predict(X_test)[0]\n",
    "    train_pred = model.predict(model.X)[0]\n",
    "    \n",
    "    plt.figure(figsize=(15, 5))\n",
    "    plt.plot(model.X, model.Y, 'xk', markersize=1., label='Train data')\n",
    "    plt.plot(X_test, y_test, 'xr', markersize=1., label='Test data')\n",
    "    plt.plot(model.X, train_pred, label='Prediction Train')\n",
    "    plt.plot(X_test, test_pred, label='Prediction test')\n",
    "    plt.fill_between(x.ravel(), prediction - std,\n",
    "                     prediction + std, alpha=0.3, label='Confidence')\n",
    "    \n",
    "    plt.xlabel('year', fontsize=14)\n",
    "    plt.ylabel('CO2 [ppm]', fontsize=14)\n",
    "    plt.legend(loc='best')\n",
    "    plt.title('Prediction on train test split')\n",
    "    plt.show()\n",
    "    \n",
    "    plt.figure(figsize=(15, 5))\n",
    "    plt.plot(model.Y, train_pred, 'ro', markersize=2., alpha=0.7, label='Train')\n",
    "    plt.plot(y_test, test_pred, 'bo', markersize=2., alpha=0.7, label='Test')\n",
    "    plt.plot(prediction, prediction, 'k', label=r'y = x')\n",
    "    plt.xlabel('True value', fontsize=14)\n",
    "    plt.ylabel('Predicted value', fontsize=14)\n",
    "    plt.legend(loc='best')\n",
    "    plt.title('QQ-plot')\n",
    "    plt.show()\n",
    "    \n",
    "    print('r2_score Train: %0.3f' % r2_score(y_train, train_pred))\n",
    "    print('r2_score Test: %0.3f' % r2_score(y_test, test_pred))"
   ]
  },
  {
   "cell_type": "code",
   "execution_count": 12,
   "metadata": {},
   "outputs": [
    {
     "name": "stderr",
     "output_type": "stream",
     "text": [
      "reconstraining parameters std_periodic.period\n",
      "reconstraining parameters std_periodic.lengthscale\n",
      "reconstraining parameters rbf.lengthscale\n"
     ]
    },
    {
     "data": {
      "text/plain": [
       "<paramz.optimization.optimization.opt_lbfgsb at 0x7f4781439ba8>"
      ]
     },
     "execution_count": 12,
     "metadata": {},
     "output_type": "execute_result"
    }
   ],
   "source": [
    "periodic_kern = StdPeriodic(input_dim=1)\n",
    "periodic_kern.period.constrain_bounded(1e-2, 1e1)\n",
    "periodic_kern.lengthscale.constrain_bounded(1e-2, 1e1)\n",
    "\n",
    "rbf_kern = RBF(input_dim=1)\n",
    "rbf_kern.lengthscale.constrain_bounded(1e-2, 1e1)\n",
    "\n",
    "kernel = rbf_kern\n",
    "kernel += White(1)*rbf_kern\n",
    "kernel += Poly(1, order=2)\n",
    "kernel += periodic_kern*periodic_kern * rbf_kern\n",
    "\n",
    "#kernel = k_trend + k_seasonal + k_noise\n",
    "#np.random.seed(0)\n",
    "model = GPRegression(X_train, y_train, kernel)\n",
    "model.optimize()"
   ]
  },
  {
   "cell_type": "code",
   "execution_count": 14,
   "metadata": {},
   "outputs": [
    {
     "data": {
      "text/plain": [
       "(486, 1)"
      ]
     },
     "execution_count": 14,
     "metadata": {},
     "output_type": "execute_result"
    }
   ],
   "source": [
    "X_train.shape"
   ]
  },
  {
   "cell_type": "code",
   "execution_count": 15,
   "metadata": {},
   "outputs": [
    {
     "data": {
      "text/plain": [
       "(486, 1)"
      ]
     },
     "execution_count": 15,
     "metadata": {},
     "output_type": "execute_result"
    }
   ],
   "source": [
    "y_train.shape"
   ]
  },
  {
   "cell_type": "code",
   "execution_count": 13,
   "metadata": {},
   "outputs": [
    {
     "name": "stdout",
     "output_type": "stream",
     "text": [
      "\n",
      "Name : GP regression\n",
      "Objective : -1188.1190990670898\n",
      "Number of Parameters : 17\n",
      "Number of Optimization Parameters : 17\n",
      "Updates : True\n",
      "Parameters:\n",
      "  \u001b[1mGP_regression.                      \u001b[0;0m  |                  value  |  constraints  |  priors\n",
      "  \u001b[1msum.rbf.variance                    \u001b[0;0m  |  0.0008087980872027444  |      +ve      |        \n",
      "  \u001b[1msum.rbf.lengthscale                 \u001b[0;0m  |     0.5632188000560514  |   0.01,10.0   |        \n",
      "  \u001b[1msum.mul.white.variance              \u001b[0;0m  |  2.611308006115944e-05  |      +ve      |        \n",
      "  \u001b[1msum.mul.rbf.variance                \u001b[0;0m  |  2.611308006115944e-05  |      +ve      |        \n",
      "  \u001b[1msum.mul.rbf.lengthscale             \u001b[0;0m  |                    1.0  |   0.01,10.0   |        \n",
      "  \u001b[1msum.poly.variance                   \u001b[0;0m  |     0.1656223886771054  |      +ve      |        \n",
      "  \u001b[1msum.poly.scale                      \u001b[0;0m  |   0.002178185628429677  |      +ve      |        \n",
      "  \u001b[1msum.poly.bias                       \u001b[0;0m  |      3.429535497517412  |      +ve      |        \n",
      "  \u001b[1msum.mul_1.std_periodic.variance     \u001b[0;0m  |     0.2547436103401529  |      +ve      |        \n",
      "  \u001b[1msum.mul_1.std_periodic.period       \u001b[0;0m  |     0.9994485543042932  |   0.01,10.0   |        \n",
      "  \u001b[1msum.mul_1.std_periodic.lengthscale  \u001b[0;0m  |     0.9583451797404853  |   0.01,10.0   |        \n",
      "  \u001b[1msum.mul_1.std_periodic_1.variance   \u001b[0;0m  |     0.2547436103401529  |      +ve      |        \n",
      "  \u001b[1msum.mul_1.std_periodic_1.period     \u001b[0;0m  |     0.9994485543042932  |   0.01,10.0   |        \n",
      "  \u001b[1msum.mul_1.std_periodic_1.lengthscale\u001b[0;0m  |     0.9583451797404853  |   0.01,10.0   |        \n",
      "  \u001b[1msum.mul_1.rbf.variance              \u001b[0;0m  |    0.25474361034034043  |      +ve      |        \n",
      "  \u001b[1msum.mul_1.rbf.lengthscale           \u001b[0;0m  |      9.999999999999696  |   0.01,10.0   |        \n",
      "  \u001b[1mGaussian_noise.variance             \u001b[0;0m  |  0.0001991300571298634  |      +ve      |        \n"
     ]
    },
    {
     "data": {
      "image/png": "[encoded data removed]",
      "text/plain": [
       "<Figure size 1080x360 with 1 Axes>"
      ]
     },
     "metadata": {},
     "output_type": "display_data"
    },
    {
     "data": {
      "image/png": "[encoded data removed]",
      "text/plain": [
       "<Figure size 1080x360 with 1 Axes>"
      ]
     },
     "metadata": {},
     "output_type": "display_data"
    },
    {
     "name": "stdout",
     "output_type": "stream",
     "text": [
      "r2_score Train: 1.000\n",
      "r2_score Test: 0.984\n"
     ]
    }
   ],
   "source": [
    "# >>> your code here <<<\n",
    "plot_results(model, X_test, y_test)"
   ]
  },
  {
   "cell_type": "code",
   "execution_count": null,
   "metadata": {},
   "outputs": [],
   "source": []
  },
  {
   "cell_type": "code",
   "execution_count": null,
   "metadata": {
    "collapsed": true
   },
   "outputs": [],
   "source": []
  }
 ],
 "metadata": {
  "kernelspec": {
   "display_name": "Python 3",
   "language": "python",
   "name": "python3"
  },
  "language_info": {
   "codemirror_mode": {
    "name": "ipython",
    "version": 3
   },
   "file_extension": ".py",
   "mimetype": "text/x-python",
   "name": "python",
   "nbconvert_exporter": "python",
   "pygments_lexer": "ipython3",
   "version": "3.5.2"
  }
 },
 "nbformat": 4,
 "nbformat_minor": 2
}
