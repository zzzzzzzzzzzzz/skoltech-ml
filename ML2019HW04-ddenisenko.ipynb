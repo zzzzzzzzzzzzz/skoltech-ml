{
 "cells": [
  {
   "cell_type": "markdown",
   "metadata": {},
   "source": [
    "# Home Assignment No. 4 (Optional)"
   ]
  },
  {
   "cell_type": "markdown",
   "metadata": {},
   "source": [
    "Please, write your implementation within the designated blocks:\n",
    "```python\n",
    "...\n",
    "### BEGIN Solution\n",
    "\n",
    "# >>> your solution here <<<\n",
    "\n",
    "### END Solution\n",
    "...\n",
    "```\n",
    "\n",
    "Write your theoretical derivations within such blocks:\n",
    "```markdown\n",
    "**BEGIN Solution**\n",
    "\n",
    "<!-- >>> your derivation here <<< -->\n",
    "\n",
    "**END Solution**\n",
    "```"
   ]
  },
  {
   "cell_type": "markdown",
   "metadata": {},
   "source": [
    "## $\\LaTeX$ in Jupyter\n",
    "Jupyter has constantly improving $\\LaTeX$ support. Below are the basic methods to\n",
    "write **neat, tidy, and well typeset** equations in your notebooks:\n",
    "* to write an **inline** equation use \n",
    "```markdown\n",
    "$ you latex equation here $\n",
    "```\n",
    "* to write an equation, that is **displayed on a separate line** use \n",
    "```markdown\n",
    "$$ you latex equation here $$\n",
    "```\n",
    "* to write a **block of equations** use \n",
    "```markdown\n",
    "\\begin{align}\n",
    "    left-hand-side\n",
    "        &= right-hand-side on line 1\n",
    "        \\\\\n",
    "        &= right-hand-side on line 2\n",
    "        \\\\\n",
    "        &= right-hand-side on the last line\n",
    "\\end{align}\n",
    "```\n",
    "The **ampersand** (`&`) aligns the equations horizontally and the **double backslash**\n",
    "(`\\\\`) creates a new line."
   ]
  },
  {
   "cell_type": "markdown",
   "metadata": {},
   "source": [
    "<br>"
   ]
  },
  {
   "cell_type": "markdown",
   "metadata": {},
   "source": [
    "# Anomaly / outlier detection"
   ]
  },
  {
   "cell_type": "markdown",
   "metadata": {},
   "source": [
    "In this assignment you will need to work through a modified version of\n",
    "the SVDD model (**support vector data description**) -- a model for outlier\n",
    "detection, and show some theoretical properties."
   ]
  },
  {
   "cell_type": "markdown",
   "metadata": {},
   "source": [
    "Suppose that we have a dataset $x_1, \\ldots, x_l$ from some set $\\mathcal{X}$.\n",
    "\n",
    "We apply the kernel trick using the kernel $K \\colon \\mathcal{X} \\times \\mathcal{X}\n",
    "\\to \\mathbb{R}$ of the Hilbert space $\\bigl(\\mathcal{H}, \\langle \\cdot,\n",
    "\\cdot \\rangle\\big)$ with the feature mapping $\\phi(\\cdot)\\colon \\mathcal{X}\n",
    "\\to \\mathcal{H}$."
   ]
  },
  {
   "cell_type": "markdown",
   "metadata": {},
   "source": [
    "Assume that $\\nu \\in (0, 1)$, and $C_i > 0$ with $\\sum_{i=1}^l C_i = 1$."
   ]
  },
  {
   "cell_type": "markdown",
   "metadata": {},
   "source": [
    "The SVDD model (kernelized) is"
   ]
  },
  {
   "cell_type": "markdown",
   "metadata": {},
   "source": [
    "$$\n",
    "\\begin{aligned}\n",
    "    & \\underset{R, h, \\xi}{\\text{minimize}}\n",
    "      & & R + \\frac1\\nu \\sum_{i=1}^l C_i \\xi_i\n",
    "          \\,, \\\\\n",
    "    & \\text{subject to}\n",
    "      & & \\|\\phi(x_i) - h \\|^2 \\leq R + \\xi_i\n",
    "          \\,, \\\\\n",
    "    & & & \\xi_i \\geq 0\n",
    "          \\,.\n",
    "\\end{aligned}\n",
    "$$"
   ]
  },
  {
   "cell_type": "markdown",
   "metadata": {},
   "source": [
    "<br>"
   ]
  },
  {
   "cell_type": "markdown",
   "metadata": {},
   "source": [
    "## Task 1 (3 pt.): Can $R$ be negative?"
   ]
  },
  {
   "cell_type": "markdown",
   "metadata": {},
   "source": [
    "Consider the SVDD problem with an extra constraint $R \\geq 0$.\n",
    "\n",
    "$$\n",
    "\\begin{aligned}\n",
    "    & \\underset{R, h, \\xi}{\\text{minimize}}\n",
    "      & & R + \\frac1\\nu \\sum_{i=1}^l C_i \\xi_i\n",
    "          \\,, \\\\\n",
    "    & \\text{subject to}\n",
    "      & & \\|\\phi(x_i) - h \\|^2 \\leq R + \\xi_i\n",
    "          \\,, \\\\\n",
    "    & & & \\xi_i \\geq 0\n",
    "          \\,, \\\\\n",
    "    & & & R \\geq 0\n",
    "          \\,.\n",
    "\\end{aligned}\n",
    "$$"
   ]
  },
  {
   "cell_type": "markdown",
   "metadata": {},
   "source": [
    "The $R \\geq 0$ constraint is a nuisance.\n",
    "\n",
    "* Show, that if $(R, \\xi, h)$ has $R < 0$, then it **is not better** than a\n",
    "certain other feasible candidate $(\\hat{R}, \\hat{\\xi}, \\hat{h})$ with $\\hat{R} \\geq 0$.\n",
    "* Argue that it is, in fact, **redundant**, i.e. the problem formulations\n",
    "**with it** and **without it** have identical solutions."
   ]
  },
  {
   "cell_type": "markdown",
   "metadata": {},
   "source": [
    "**Begin Solution**"
   ]
  },
  {
   "cell_type": "markdown",
   "metadata": {},
   "source": [
    "#### First"
   ]
  },
  {
   "cell_type": "markdown",
   "metadata": {
    "collapsed": true
   },
   "source": [
    "Let's consider $(0, \\hat{\\xi}, h)$. For the feasible candidate $\\|\\phi(x_i) - h\\|^2 \\leq 0 + R + \\xi_i$ $\\Rightarrow$ $\\hat{\\xi} = \\xi + R \\begin{bmatrix}\n",
    "           1 \\\\\n",
    "           1 \\\\\n",
    "           \\vdots \\\\\n",
    "           1\n",
    "         \\end{bmatrix}$, $R + \\xi_i \\geq 0$, $\\hat{R} = 0$. Objective:\n",
    "\n",
    "\\begin{align}\n",
    "    f(\\hat{R}, \\hat{\\xi}) \n",
    "        &= 0 + \\frac{1}{\\nu}\\sum\\limits_{i = 1}^l C_i (\\xi_i + R)\n",
    "        \\\\\n",
    "        &= \\frac{1}{\\nu}\\sum\\limits_{i = 1}^l C_i \\xi_i + \\frac{R}{\\nu}\\sum\\limits_{i = 1}^lC_i\n",
    "        \\\\\n",
    "        &= \\frac{1}{\\nu}\\sum\\limits_{i = 1}^l C_i \\xi_i + \\frac{R}{\\nu}\n",
    "        \\\\\n",
    "\\end{align}\n",
    "And using the fact that $R < 0$ and $\\nu \\in (0, 1)$:\n",
    "\n",
    "$$ f(\\hat{R}, \\hat{\\xi}) =  \\frac{1}{\\nu}\\sum\\limits_{i = 1}^l C_i \\xi_i + \\frac{R}{\\nu} < \\frac{1}{\\nu}\\sum\\limits_{i = 1}^l C_i \\xi_i + R = f(R, \\xi)$$\n",
    "\n",
    "\n",
    "So, for $(\\hat{R}, \\hat{\\xi}, \\hat{h}) = (0, \\xi + R \\begin{bmatrix}\n",
    "           1 \\\\\n",
    "           1 \\\\\n",
    "           \\vdots \\\\\n",
    "           1\n",
    "         \\end{bmatrix}, h)$ $f(R, \\xi)$ is not better than $f(\\hat{R}, \\hat{\\xi})$\n"
   ]
  },
  {
   "cell_type": "markdown",
   "metadata": {},
   "source": [
    "#### Second"
   ]
  },
  {
   "cell_type": "markdown",
   "metadata": {
    "collapsed": true
   },
   "source": [
    "Suppose we don't have constraint $R \\geq 0$. \n",
    "Let the optimal solution be $(R, \\xi, h)$ and $R < 0$. Then take a look at the first part $\\Rightarrow$ we came to contradiction. So this contraint is redundant."
   ]
  },
  {
   "cell_type": "markdown",
   "metadata": {},
   "source": [
    "**End Solution**"
   ]
  },
  {
   "cell_type": "markdown",
   "metadata": {},
   "source": [
    "<br>"
   ]
  },
  {
   "cell_type": "markdown",
   "metadata": {},
   "source": [
    "## Task 2 (2 pt.): Can $\\xi_i > 0$ for all $i$?"
   ]
  },
  {
   "cell_type": "markdown",
   "metadata": {},
   "source": [
    "Argue if $(R, \\xi, h)$ is a solution, then $\\xi_i = 0$ for at least one $i=1,\\,\\ldots,\\,l$. Let $\\bar{\\xi} = \\min_{j=1}^l \\xi_j$.\n",
    "\n",
    "**HINT** Use an argument similar to Task $1$."
   ]
  },
  {
   "cell_type": "markdown",
   "metadata": {},
   "source": [
    "**Begin Solution**"
   ]
  },
  {
   "cell_type": "markdown",
   "metadata": {
    "collapsed": true
   },
   "source": [
    "Let's start with contradiction. Let $\\xi_i > 0~\\forall i = 1, \\ldots, l$ and it's optimal.\n",
    "\n",
    "Let's construct the $(\\hat{R}, \\hat{\\xi}, \\hat{h})$\n",
    "\n",
    "$$\n",
    "\\|\\phi(x_i) - h\\|^2 = R + \\xi_i = R + \\xi_i \\pm \\bar{\\xi}\n",
    "$$\n",
    "\n",
    "$$\n",
    "\\hat{R} = R + \\bar{\\xi}\n",
    "$$\n",
    "\n",
    "$$\n",
    "\\hat{\\xi}_i = \\xi_i - \\bar{\\xi}\n",
    "$$\n",
    "\n",
    "\\begin{align}\n",
    "    f(\\hat{R}, \\hat{\\xi})\n",
    "        &= R + \\bar{\\xi} + \\frac{1}{\\nu}\\sum\\limits_{i = 1}^lC_i(\\xi_i - \\bar{\\xi})\n",
    "        \\\\\n",
    "        &= R + \\bar{\\xi} + \\frac{1}{\\nu}\\sum\\limits_{i = 1}^lC_i\\xi_i - \\frac{\\bar{\\xi}}{\\nu}\n",
    "        \\\\\n",
    "\\end{align}\n",
    "\n",
    "Then\n",
    "\n",
    "$$\n",
    "f(\\hat{R}, \\hat{\\xi}) \\leq R + \\bar{\\xi} + \\frac{1}{\\nu}\\sum\\limits_{i = 1}^lC_i\\xi_i - \\bar{\\xi} = R + \\frac{1}{\\nu}\\sum\\limits_{i = 1}^lC_i\\xi_i = f(R, \\xi)\n",
    "$$\n",
    "\n",
    "And we came to contradiction"
   ]
  },
  {
   "cell_type": "markdown",
   "metadata": {},
   "source": [
    "**End Solution**"
   ]
  },
  {
   "cell_type": "markdown",
   "metadata": {},
   "source": [
    "<br>"
   ]
  },
  {
   "cell_type": "markdown",
   "metadata": {},
   "source": [
    "## Task 3 (2 pt.): The Lagrangian and KKT conditions"
   ]
  },
  {
   "cell_type": "markdown",
   "metadata": {},
   "source": [
    "Please, write out the Lagrangian function of the problem and write out the KKT conditions\n",
    "* Lagrangian\n",
    "* the first order conditions\n",
    "* the complementary slackness conditions\n",
    "* the primal and dual constraints"
   ]
  },
  {
   "cell_type": "markdown",
   "metadata": {},
   "source": [
    "**Begin Solution**"
   ]
  },
  {
   "cell_type": "markdown",
   "metadata": {
    "collapsed": true
   },
   "source": [
    "$\\mathbf{1}$\n",
    "$$\n",
    "R + \\frac{1}{\\nu}\\sum\\limits_{i = 1}^l\\xi_iC_i + \\sum\\limits_{i = 1}^l\\alpha_i(\\|\\phi(x_i) - h\\|^2 - R - \\xi_i) - \\beta^{\\top}\\xi=R\\left(1 - \\sum\\limits_{i = 1}^l\\alpha_i\\right) +\n",
    "\\sum\\limits_{i = 1}^l\\xi_i\\left(\\frac{C_i}{\\nu} - \\alpha_i - \\beta_i\\right) + \n",
    "\\sum\\limits_{i = 1}^l\\alpha_i\\|\\phi(x_i) - h\\|^2\n",
    "$$"
   ]
  },
  {
   "cell_type": "markdown",
   "metadata": {},
   "source": [
    "$\\mathbf{2}$\n",
    "\\begin{cases}\n",
    "&\\frac{\\partial L}{\\partial R} = 1 - \\sum\\limits_{i = 1}^l\\alpha_i = 0\\\\\n",
    "&\\frac{\\partial L}{\\partial \\xi_i} = \\frac{C_i}{\\nu} - \\alpha_i - \\beta_i = 0\\\\\n",
    "&\\frac{\\partial L}{\\partial h} = \\sum\\limits_{i = 1}^l\\alpha_i\\phi(x_i) - h\\sum\\limits_{i = 1}^l\\alpha_i = 0\n",
    "\\end{cases}"
   ]
  },
  {
   "cell_type": "markdown",
   "metadata": {},
   "source": [
    "$\\mathbf{3}$\n",
    "\\begin{align}\n",
    "&\\alpha_i(\\|\\phi(x_i) - h\\|^2 - R - \\xi_i) = 0\\\\\n",
    "&\\beta_i\\xi_i = 0\n",
    "\\end{align}"
   ]
  },
  {
   "cell_type": "markdown",
   "metadata": {},
   "source": [
    "$\\mathbf{4}$\n",
    "$$\\|\\phi(x_i) - h\\|^2 - R - \\xi_i \\leq 0,\\ -\\xi_i \\leq 0,\\ \\alpha_i \\geq 0,\\ \\beta_i \\geq 0$$"
   ]
  },
  {
   "cell_type": "markdown",
   "metadata": {},
   "source": [
    "**End Solution**"
   ]
  },
  {
   "cell_type": "markdown",
   "metadata": {},
   "source": [
    "<br>"
   ]
  },
  {
   "cell_type": "markdown",
   "metadata": {},
   "source": [
    "## Task 4 (2 pt.): Simplifying the Lagrangian"
   ]
  },
  {
   "cell_type": "markdown",
   "metadata": {},
   "source": [
    "Write down $h$ as a function of transformed input data and dual coefficients,\n",
    "and using the first order conditions rewrite the Lagrangian in such a way, that\n",
    "it only contains dual variables and evaluations of the kernel $K(\\cdot, \\cdot)$."
   ]
  },
  {
   "cell_type": "markdown",
   "metadata": {},
   "source": [
    "**Begin Solution**"
   ]
  },
  {
   "cell_type": "markdown",
   "metadata": {
    "collapsed": true
   },
   "source": [
    "$$\n",
    "\\sum\\limits_{i = 1}^l\\alpha_i\\phi(x_i) - h\\sum\\limits_{i = 1}^l\\alpha_i = 0,\\ \\sum\\limits_{i = 1}^l\\alpha_i = 1 \\Rightarrow h = \\sum\\limits_{i = 1}^l\\alpha_i\\phi(x_i)\n",
    "$$"
   ]
  },
  {
   "cell_type": "markdown",
   "metadata": {},
   "source": [
    "$$\n",
    "L \n",
    "\\overset{\\sum \\alpha_i = 1}{=} \n",
    "\\sum\\limits_{i = 1}^l\\xi_i\\underbrace{\\left(\\frac{C_i}{\\nu} - \\alpha_i - \\beta_i\\right)}_\\text{=0} + \n",
    "\\sum\\limits_{i = 1}^l\\alpha_i\\|\\phi(x_i) - h\\|^2 = \\sum\\limits_{i = 1}^l\\alpha_i\\|\\phi(x_i) - h\\|^2\n",
    "$$\n",
    "$$\n",
    "L= \\sum\\limits_{i = 1}^l\\alpha_i(\\phi(x_i)^{\\top}\\phi(x_i) - 2\\phi(x_i)^{\\top}h + h^{\\top}h)=\\sum\\limits_{i = 1}^l\\alpha_iK(x_i, x_i) - 2\\sum\\limits_{i = 1}^l\\alpha_i\\phi(x_i)^{\\top}h + h^{\\top}h=\\sum\\limits_{i = 1}^l\\alpha_iK(x_i, x_i) - \\alpha^{\\top}K\\alpha\n",
    "$$"
   ]
  },
  {
   "cell_type": "markdown",
   "metadata": {},
   "source": [
    "**End Solution**"
   ]
  },
  {
   "cell_type": "markdown",
   "metadata": {},
   "source": [
    "<br>"
   ]
  },
  {
   "cell_type": "markdown",
   "metadata": {},
   "source": [
    "## Task 5 (2 pt.): The dual problem"
   ]
  },
  {
   "cell_type": "markdown",
   "metadata": {},
   "source": [
    "* Carefully eliminate $\\beta_i$ from the KKT conditions, and write\n",
    "down the inequality constraints for the dual variables $\\alpha_i$,\n",
    "implied by the FOC.\n",
    "\n",
    "* Combine your results into dual problem (minimization)."
   ]
  },
  {
   "cell_type": "markdown",
   "metadata": {},
   "source": [
    "**Begin Solution**"
   ]
  },
  {
   "cell_type": "markdown",
   "metadata": {
    "collapsed": true
   },
   "source": [
    "$\\mathbf{1}$\n",
    "\\begin{cases}\n",
    "&\\frac{C_i}{\\nu} - \\alpha_i - \\beta_i = 0\\\\\n",
    "&\\beta_i \\geq 0\\\\\n",
    "&\\frac{C_i}{\\nu} - \\alpha_i \\geq 0\\\\\n",
    "&\\alpha_i \\geq 0\\\\\n",
    "&0 \\leq \\alpha_i \\leq \\frac{C_i}{\\nu}\\\\\n",
    "\\end{cases}\n"
   ]
  },
  {
   "cell_type": "markdown",
   "metadata": {},
   "source": [
    "$\\mathbf{2}$\n",
    "\\begin{cases}\n",
    "& \\max_{\\alpha}\\sum\\limits_{i = 1}^l\\alpha_iK(x_i, x_i) - \\alpha^{\\top}K\\alpha\\\\\n",
    "& 0 \\leq \\alpha_i \\leq \\frac{C_i}{\\nu},~i = 1, \\ldots, l\\\\\n",
    "& \\sum\\limits_{i = 1}^l \\alpha_i = 1\n",
    "\\end{cases}"
   ]
  },
  {
   "cell_type": "markdown",
   "metadata": {},
   "source": [
    "**End Solution**"
   ]
  },
  {
   "cell_type": "markdown",
   "metadata": {},
   "source": [
    "<br>"
   ]
  },
  {
   "cell_type": "markdown",
   "metadata": {},
   "source": [
    "## Task 6 (2 pt.)"
   ]
  },
  {
   "cell_type": "markdown",
   "metadata": {},
   "source": [
    "Suppose, you have solved the dual and have optimal $(\\alpha^*_i)_{i=1}^l$ and\n",
    "$ h^* = \\sum_{i=1}^l \\alpha^*_i \\phi(x_i)$.\n",
    "\n",
    "Let $M = \\{i\\colon \\alpha^*_i \\in \\left(0, \\tfrac{C_i}{\\nu}\\right)\\}$ and suppose $M \\neq \\emptyset$.\n",
    "\n",
    "* Derive the expression for the optimal value of $R$ from this and the\n",
    "complementary sclackness conditions.\n",
    "\n",
    "* Write out the decision function for an arbitrary $x\\in \\mathcal{X}$."
   ]
  },
  {
   "cell_type": "markdown",
   "metadata": {},
   "source": [
    "**Begin Solution**"
   ]
  },
  {
   "cell_type": "markdown",
   "metadata": {
    "collapsed": true
   },
   "source": []
  },
  {
   "cell_type": "markdown",
   "metadata": {},
   "source": [
    "**End Solution**"
   ]
  },
  {
   "cell_type": "markdown",
   "metadata": {},
   "source": [
    "<br>"
   ]
  },
  {
   "cell_type": "markdown",
   "metadata": {},
   "source": [
    "## Task 7: Analysis"
   ]
  },
  {
   "cell_type": "markdown",
   "metadata": {},
   "source": [
    "### Task 7.1 (2 pt.)"
   ]
  },
  {
   "cell_type": "markdown",
   "metadata": {},
   "source": [
    "Suppose that for some $x_i$ we have $\\|\\phi(x_i) - h\\|^2 < R$.\n",
    "We will call this point **inlier**.\n",
    "\n",
    "* What are the values of $\\alpha_i$ and $\\beta_i$ for such a point?\n",
    "* Show that $1-\\nu$ upper-bounds the sum of weights $C_i$ for the **inlier** points."
   ]
  },
  {
   "cell_type": "markdown",
   "metadata": {},
   "source": [
    "**Begin Solution**"
   ]
  },
  {
   "cell_type": "markdown",
   "metadata": {
    "collapsed": true
   },
   "source": []
  },
  {
   "cell_type": "markdown",
   "metadata": {},
   "source": [
    "**End Solution**"
   ]
  },
  {
   "cell_type": "markdown",
   "metadata": {},
   "source": [
    "<br>"
   ]
  },
  {
   "cell_type": "markdown",
   "metadata": {},
   "source": [
    "### Task 7.2 (2 pt.)"
   ]
  },
  {
   "cell_type": "markdown",
   "metadata": {},
   "source": [
    "Suppose that for some $x_i$ it holds that $\\|\\phi(x_i) - h \\|^2 > R$.\n",
    "Such points are called **outliers**.\n",
    "\n",
    "* What are the values of $\\alpha_i$ and $\\beta_i$ for these points?\n",
    "* Argue that the sum of weights $C_i$ for the **outliers** is upper bounded by $\\nu$."
   ]
  },
  {
   "cell_type": "markdown",
   "metadata": {},
   "source": [
    "**Begin Solution**"
   ]
  },
  {
   "cell_type": "markdown",
   "metadata": {
    "collapsed": true
   },
   "source": []
  },
  {
   "cell_type": "markdown",
   "metadata": {},
   "source": [
    "**End Solution**"
   ]
  },
  {
   "cell_type": "markdown",
   "metadata": {},
   "source": [
    "### Task 7.3: Very small $\\nu$ (1 pt.)"
   ]
  },
  {
   "cell_type": "markdown",
   "metadata": {},
   "source": [
    "Suppose that $\\nu < C_i$ for all $i=1,\\,\\ldots,\\,l$. Show that\n",
    "there are **no outliers** in this case."
   ]
  },
  {
   "cell_type": "markdown",
   "metadata": {},
   "source": [
    "**Begin Solution**"
   ]
  },
  {
   "cell_type": "markdown",
   "metadata": {
    "collapsed": true
   },
   "source": []
  },
  {
   "cell_type": "markdown",
   "metadata": {},
   "source": [
    "**End Solution**"
   ]
  },
  {
   "cell_type": "markdown",
   "metadata": {},
   "source": [
    "### Task 7.4 (1 pt.)"
   ]
  },
  {
   "cell_type": "markdown",
   "metadata": {},
   "source": [
    "Suppose $C_i = \\tfrac1l, \\forall i$. Please, describe how $\\nu$ is related to the\n",
    "outliers in the datset, given the analysis above."
   ]
  },
  {
   "cell_type": "markdown",
   "metadata": {},
   "source": [
    "**Begin Solution**"
   ]
  },
  {
   "cell_type": "markdown",
   "metadata": {
    "collapsed": true
   },
   "source": []
  },
  {
   "cell_type": "markdown",
   "metadata": {},
   "source": [
    "**End Solution**"
   ]
  },
  {
   "cell_type": "markdown",
   "metadata": {},
   "source": [
    "<br>"
   ]
  }
 ],
 "metadata": {
  "anaconda-cloud": {},
  "kernelspec": {
   "display_name": "Python 3",
   "language": "python",
   "name": "python3"
  },
  "language_info": {
   "codemirror_mode": {
    "name": "ipython",
    "version": 3
   },
   "file_extension": ".py",
   "mimetype": "text/x-python",
   "name": "python",
   "nbconvert_exporter": "python",
   "pygments_lexer": "ipython3",
   "version": "3.5.2"
  }
 },
 "nbformat": 4,
 "nbformat_minor": 2
}
