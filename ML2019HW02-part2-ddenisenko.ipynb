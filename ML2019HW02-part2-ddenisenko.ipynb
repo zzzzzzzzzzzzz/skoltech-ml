{
 "cells": [
  {
   "cell_type": "markdown",
   "metadata": {
    "colab_type": "text",
    "id": "lzJoIgsoAdQJ"
   },
   "source": [
    "# Home Assignment No. 2: Part 2 (Practice)\n",
    "To solve this task, you will write a lot of code to try several machine learning methods for classification and regression.\n",
    "* You are **HIGHLY RECOMMENDED** to read relevant documentation, e.g. for [python](https://docs.python.org/3/), [numpy](https://docs.scipy.org/doc/numpy/reference/), [matlpotlib](https://matplotlib.org/) and [sklearn](https://scikit-learn.org/stable/). Also remember that seminars, lecture slides, [Google](http://google.com) and [StackOverflow](https://stackoverflow.com/) are your close friends during this course (and, probably, whole life?).\n",
    "\n",
    "* If you want an easy life, you have to use **BUILT-IN METHODS** of `sklearn` library instead of writing tons of our yown code. There exists a class/method for almost everything you can imagine (related to this homework).\n",
    "\n",
    "* To do this part of homework, you have to write **CODE** directly inside specified places inside notebook **CELLS**.\n",
    "\n",
    "* In some problems you may be asked to provide short discussion of the results. In this cases you have to create **MARKDOWN** cell with your comments right after the your code cell.\n",
    "\n",
    "* For every separate problem you can get only 0 points or maximal points for this problem. There are **NO INTERMEDIATE scores**. So make sure that you did everything required in the task\n",
    "\n",
    "* Your **SOLUTION** notebook **MUST BE REPRODUCIBLE**, i.e. if the reviewer decides to execute `Kernel` -> `Restart Kernel and Run All Cells`, after all the computation he will obtain exactly the same solution (with all the corresponding plots) as in your uploaded notebook. For this purpose, we suggest to fix random `seed` or (better) define `random_state=` inside every algorithm that uses some pseudorandomness.\n",
    "\n",
    "* Your code must be clear to the reviewer. For this purpose, try to include neccessary comments inside the code. But remember: **GOOD CODE MUST BE SELF-EXPLANATORY** without any additional comments.\n",
    "\n",
    "Before the start, read several additional recommendations.\n",
    "* Probably you lauch `jupyter notebook` or `ipython notebook` from linux console. Try `jupyter lab` instead - it is a more convenient environment to work with notebooks.\n",
    "* Probably the PC on which you are going to evaluate models has limited CPU/RAM Memory. In this case, we recommend to monitor the CPU and Memory Usage. To do this, you can execute `htop` (for CPU/RAM) or `free -s 0.2` (for RAM) in terminal.\n",
    "* Probably tou have multiple Cores (CPU) on your PC. Many `sklearn` algorithms support multithreading (Ensemble Methods, Cross-Validation, etc.). Check if the particular algorithm has `n_jobs` parameters and set it to `-1` to use all the cores."
   ]
  },
  {
   "cell_type": "markdown",
   "metadata": {
    "colab_type": "text",
    "id": "Li-PDJ3uAdQK"
   },
   "source": [
    "Please, write your implementation within the designated blocks:\n",
    "```python\n",
    "...\n",
    "### BEGIN Solution\n",
    "\n",
    "# >>> your solution here <<<\n",
    "\n",
    "### END Solution\n",
    "...\n",
    "```\n"
   ]
  },
  {
   "cell_type": "markdown",
   "metadata": {
    "colab_type": "text",
    "id": "PlcgCMvaAdQM"
   },
   "source": [
    "## Model and feature selection"
   ]
  },
  {
   "cell_type": "markdown",
   "metadata": {
    "colab_type": "text",
    "id": "zYNth8E-AdQN"
   },
   "source": [
    "Let's load the dataset for this task."
   ]
  },
  {
   "cell_type": "code",
   "execution_count": 0,
   "metadata": {
    "colab": {},
    "colab_type": "code",
    "id": "gfPYDCE6AdQP"
   },
   "outputs": [],
   "source": [
    "import numpy as np\n",
    "import sklearn\n",
    "from sklearn.model_selection import train_test_split\n",
    "import pandas as pd\n",
    "import matplotlib.pyplot as plt\n",
    "from sklearn.model_selection import cross_val_score\n",
    "%matplotlib inline"
   ]
  },
  {
   "cell_type": "code",
   "execution_count": 0,
   "metadata": {
    "colab": {},
    "colab_type": "code",
    "id": "X7IaPbrPAdQS"
   },
   "outputs": [],
   "source": [
    "data_fs = pd.read_csv(r'data/data_fs.csv', low_memory=False)"
   ]
  },
  {
   "cell_type": "markdown",
   "metadata": {
    "colab_type": "text",
    "id": "nINXFUX9AdQW"
   },
   "source": [
    "Look at the first 10 rows of this dataset."
   ]
  },
  {
   "cell_type": "code",
   "execution_count": 0,
   "metadata": {
    "colab": {},
    "colab_type": "code",
    "id": "fBfPzWETAdQW",
    "outputId": "e9e74dcc-8d71-4e62-8273-f1bb67fbce35"
   },
   "outputs": [
    {
     "data": {
      "text/html": [
       "<div>\n",
       "<style scoped>\n",
       "    .dataframe tbody tr th:only-of-type {\n",
       "        vertical-align: middle;\n",
       "    }\n",
       "\n",
       "    .dataframe tbody tr th {\n",
       "        vertical-align: top;\n",
       "    }\n",
       "\n",
       "    .dataframe thead th {\n",
       "        text-align: right;\n",
       "    }\n",
       "</style>\n",
       "<table border=\"1\" class=\"dataframe\">\n",
       "  <thead>\n",
       "    <tr style=\"text-align: right;\">\n",
       "      <th></th>\n",
       "      <th>timestamp</th>\n",
       "      <th>full_sq</th>\n",
       "      <th>life_sq</th>\n",
       "      <th>floor</th>\n",
       "      <th>max_floor</th>\n",
       "      <th>material</th>\n",
       "      <th>build_year</th>\n",
       "      <th>num_room</th>\n",
       "      <th>kitch_sq</th>\n",
       "      <th>state</th>\n",
       "      <th>...</th>\n",
       "      <th>provision_retail_space_modern_sqm</th>\n",
       "      <th>turnover_catering_per_cap</th>\n",
       "      <th>theaters_viewers_per_1000_cap</th>\n",
       "      <th>seats_theather_rfmin_per_100000_cap</th>\n",
       "      <th>museum_visitis_per_100_cap</th>\n",
       "      <th>bandwidth_sports</th>\n",
       "      <th>population_reg_sports_share</th>\n",
       "      <th>students_reg_sports_share</th>\n",
       "      <th>apartment_build</th>\n",
       "      <th>apartment_fund_sqm</th>\n",
       "    </tr>\n",
       "  </thead>\n",
       "  <tbody>\n",
       "    <tr>\n",
       "      <th>0</th>\n",
       "      <td>2011-08-20</td>\n",
       "      <td>43</td>\n",
       "      <td>27.0</td>\n",
       "      <td>4.0</td>\n",
       "      <td>NaN</td>\n",
       "      <td>NaN</td>\n",
       "      <td>NaN</td>\n",
       "      <td>NaN</td>\n",
       "      <td>NaN</td>\n",
       "      <td>NaN</td>\n",
       "      <td>...</td>\n",
       "      <td>271.0</td>\n",
       "      <td>6943.0</td>\n",
       "      <td>565.0</td>\n",
       "      <td>0.45356</td>\n",
       "      <td>1240.0</td>\n",
       "      <td>269768.0</td>\n",
       "      <td>22.37</td>\n",
       "      <td>64.12</td>\n",
       "      <td>23587.0</td>\n",
       "      <td>230310.0</td>\n",
       "    </tr>\n",
       "    <tr>\n",
       "      <th>1</th>\n",
       "      <td>2011-08-23</td>\n",
       "      <td>34</td>\n",
       "      <td>19.0</td>\n",
       "      <td>3.0</td>\n",
       "      <td>NaN</td>\n",
       "      <td>NaN</td>\n",
       "      <td>NaN</td>\n",
       "      <td>NaN</td>\n",
       "      <td>NaN</td>\n",
       "      <td>NaN</td>\n",
       "      <td>...</td>\n",
       "      <td>271.0</td>\n",
       "      <td>6943.0</td>\n",
       "      <td>565.0</td>\n",
       "      <td>0.45356</td>\n",
       "      <td>1240.0</td>\n",
       "      <td>269768.0</td>\n",
       "      <td>22.37</td>\n",
       "      <td>64.12</td>\n",
       "      <td>23587.0</td>\n",
       "      <td>230310.0</td>\n",
       "    </tr>\n",
       "    <tr>\n",
       "      <th>2</th>\n",
       "      <td>2011-08-27</td>\n",
       "      <td>43</td>\n",
       "      <td>29.0</td>\n",
       "      <td>2.0</td>\n",
       "      <td>NaN</td>\n",
       "      <td>NaN</td>\n",
       "      <td>NaN</td>\n",
       "      <td>NaN</td>\n",
       "      <td>NaN</td>\n",
       "      <td>NaN</td>\n",
       "      <td>...</td>\n",
       "      <td>271.0</td>\n",
       "      <td>6943.0</td>\n",
       "      <td>565.0</td>\n",
       "      <td>0.45356</td>\n",
       "      <td>1240.0</td>\n",
       "      <td>269768.0</td>\n",
       "      <td>22.37</td>\n",
       "      <td>64.12</td>\n",
       "      <td>23587.0</td>\n",
       "      <td>230310.0</td>\n",
       "    </tr>\n",
       "    <tr>\n",
       "      <th>3</th>\n",
       "      <td>2011-09-01</td>\n",
       "      <td>89</td>\n",
       "      <td>50.0</td>\n",
       "      <td>9.0</td>\n",
       "      <td>NaN</td>\n",
       "      <td>NaN</td>\n",
       "      <td>NaN</td>\n",
       "      <td>NaN</td>\n",
       "      <td>NaN</td>\n",
       "      <td>NaN</td>\n",
       "      <td>...</td>\n",
       "      <td>271.0</td>\n",
       "      <td>6943.0</td>\n",
       "      <td>565.0</td>\n",
       "      <td>0.45356</td>\n",
       "      <td>1240.0</td>\n",
       "      <td>269768.0</td>\n",
       "      <td>22.37</td>\n",
       "      <td>64.12</td>\n",
       "      <td>23587.0</td>\n",
       "      <td>230310.0</td>\n",
       "    </tr>\n",
       "    <tr>\n",
       "      <th>4</th>\n",
       "      <td>2011-09-05</td>\n",
       "      <td>77</td>\n",
       "      <td>77.0</td>\n",
       "      <td>4.0</td>\n",
       "      <td>NaN</td>\n",
       "      <td>NaN</td>\n",
       "      <td>NaN</td>\n",
       "      <td>NaN</td>\n",
       "      <td>NaN</td>\n",
       "      <td>NaN</td>\n",
       "      <td>...</td>\n",
       "      <td>271.0</td>\n",
       "      <td>6943.0</td>\n",
       "      <td>565.0</td>\n",
       "      <td>0.45356</td>\n",
       "      <td>1240.0</td>\n",
       "      <td>269768.0</td>\n",
       "      <td>22.37</td>\n",
       "      <td>64.12</td>\n",
       "      <td>23587.0</td>\n",
       "      <td>230310.0</td>\n",
       "    </tr>\n",
       "    <tr>\n",
       "      <th>5</th>\n",
       "      <td>2011-09-06</td>\n",
       "      <td>67</td>\n",
       "      <td>46.0</td>\n",
       "      <td>14.0</td>\n",
       "      <td>NaN</td>\n",
       "      <td>NaN</td>\n",
       "      <td>NaN</td>\n",
       "      <td>NaN</td>\n",
       "      <td>NaN</td>\n",
       "      <td>NaN</td>\n",
       "      <td>...</td>\n",
       "      <td>271.0</td>\n",
       "      <td>6943.0</td>\n",
       "      <td>565.0</td>\n",
       "      <td>0.45356</td>\n",
       "      <td>1240.0</td>\n",
       "      <td>269768.0</td>\n",
       "      <td>22.37</td>\n",
       "      <td>64.12</td>\n",
       "      <td>23587.0</td>\n",
       "      <td>230310.0</td>\n",
       "    </tr>\n",
       "    <tr>\n",
       "      <th>6</th>\n",
       "      <td>2011-09-08</td>\n",
       "      <td>25</td>\n",
       "      <td>14.0</td>\n",
       "      <td>10.0</td>\n",
       "      <td>NaN</td>\n",
       "      <td>NaN</td>\n",
       "      <td>NaN</td>\n",
       "      <td>NaN</td>\n",
       "      <td>NaN</td>\n",
       "      <td>NaN</td>\n",
       "      <td>...</td>\n",
       "      <td>271.0</td>\n",
       "      <td>6943.0</td>\n",
       "      <td>565.0</td>\n",
       "      <td>0.45356</td>\n",
       "      <td>1240.0</td>\n",
       "      <td>269768.0</td>\n",
       "      <td>22.37</td>\n",
       "      <td>64.12</td>\n",
       "      <td>23587.0</td>\n",
       "      <td>230310.0</td>\n",
       "    </tr>\n",
       "    <tr>\n",
       "      <th>7</th>\n",
       "      <td>2011-09-09</td>\n",
       "      <td>44</td>\n",
       "      <td>44.0</td>\n",
       "      <td>5.0</td>\n",
       "      <td>NaN</td>\n",
       "      <td>NaN</td>\n",
       "      <td>NaN</td>\n",
       "      <td>NaN</td>\n",
       "      <td>NaN</td>\n",
       "      <td>NaN</td>\n",
       "      <td>...</td>\n",
       "      <td>271.0</td>\n",
       "      <td>6943.0</td>\n",
       "      <td>565.0</td>\n",
       "      <td>0.45356</td>\n",
       "      <td>1240.0</td>\n",
       "      <td>269768.0</td>\n",
       "      <td>22.37</td>\n",
       "      <td>64.12</td>\n",
       "      <td>23587.0</td>\n",
       "      <td>230310.0</td>\n",
       "    </tr>\n",
       "    <tr>\n",
       "      <th>8</th>\n",
       "      <td>2011-09-10</td>\n",
       "      <td>42</td>\n",
       "      <td>27.0</td>\n",
       "      <td>5.0</td>\n",
       "      <td>NaN</td>\n",
       "      <td>NaN</td>\n",
       "      <td>NaN</td>\n",
       "      <td>NaN</td>\n",
       "      <td>NaN</td>\n",
       "      <td>NaN</td>\n",
       "      <td>...</td>\n",
       "      <td>271.0</td>\n",
       "      <td>6943.0</td>\n",
       "      <td>565.0</td>\n",
       "      <td>0.45356</td>\n",
       "      <td>1240.0</td>\n",
       "      <td>269768.0</td>\n",
       "      <td>22.37</td>\n",
       "      <td>64.12</td>\n",
       "      <td>23587.0</td>\n",
       "      <td>230310.0</td>\n",
       "    </tr>\n",
       "    <tr>\n",
       "      <th>9</th>\n",
       "      <td>2011-09-13</td>\n",
       "      <td>36</td>\n",
       "      <td>21.0</td>\n",
       "      <td>9.0</td>\n",
       "      <td>NaN</td>\n",
       "      <td>NaN</td>\n",
       "      <td>NaN</td>\n",
       "      <td>NaN</td>\n",
       "      <td>NaN</td>\n",
       "      <td>NaN</td>\n",
       "      <td>...</td>\n",
       "      <td>271.0</td>\n",
       "      <td>6943.0</td>\n",
       "      <td>565.0</td>\n",
       "      <td>0.45356</td>\n",
       "      <td>1240.0</td>\n",
       "      <td>269768.0</td>\n",
       "      <td>22.37</td>\n",
       "      <td>64.12</td>\n",
       "      <td>23587.0</td>\n",
       "      <td>230310.0</td>\n",
       "    </tr>\n",
       "  </tbody>\n",
       "</table>\n",
       "<p>10 rows × 390 columns</p>\n",
       "</div>"
      ],
      "text/plain": [
       "    timestamp  full_sq  life_sq  floor  max_floor  material  build_year  \\\n",
       "0  2011-08-20       43     27.0    4.0        NaN       NaN         NaN   \n",
       "1  2011-08-23       34     19.0    3.0        NaN       NaN         NaN   \n",
       "2  2011-08-27       43     29.0    2.0        NaN       NaN         NaN   \n",
       "3  2011-09-01       89     50.0    9.0        NaN       NaN         NaN   \n",
       "4  2011-09-05       77     77.0    4.0        NaN       NaN         NaN   \n",
       "5  2011-09-06       67     46.0   14.0        NaN       NaN         NaN   \n",
       "6  2011-09-08       25     14.0   10.0        NaN       NaN         NaN   \n",
       "7  2011-09-09       44     44.0    5.0        NaN       NaN         NaN   \n",
       "8  2011-09-10       42     27.0    5.0        NaN       NaN         NaN   \n",
       "9  2011-09-13       36     21.0    9.0        NaN       NaN         NaN   \n",
       "\n",
       "   num_room  kitch_sq  state         ...          \\\n",
       "0       NaN       NaN    NaN         ...           \n",
       "1       NaN       NaN    NaN         ...           \n",
       "2       NaN       NaN    NaN         ...           \n",
       "3       NaN       NaN    NaN         ...           \n",
       "4       NaN       NaN    NaN         ...           \n",
       "5       NaN       NaN    NaN         ...           \n",
       "6       NaN       NaN    NaN         ...           \n",
       "7       NaN       NaN    NaN         ...           \n",
       "8       NaN       NaN    NaN         ...           \n",
       "9       NaN       NaN    NaN         ...           \n",
       "\n",
       "  provision_retail_space_modern_sqm turnover_catering_per_cap  \\\n",
       "0                             271.0                    6943.0   \n",
       "1                             271.0                    6943.0   \n",
       "2                             271.0                    6943.0   \n",
       "3                             271.0                    6943.0   \n",
       "4                             271.0                    6943.0   \n",
       "5                             271.0                    6943.0   \n",
       "6                             271.0                    6943.0   \n",
       "7                             271.0                    6943.0   \n",
       "8                             271.0                    6943.0   \n",
       "9                             271.0                    6943.0   \n",
       "\n",
       "   theaters_viewers_per_1000_cap  seats_theather_rfmin_per_100000_cap  \\\n",
       "0                          565.0                              0.45356   \n",
       "1                          565.0                              0.45356   \n",
       "2                          565.0                              0.45356   \n",
       "3                          565.0                              0.45356   \n",
       "4                          565.0                              0.45356   \n",
       "5                          565.0                              0.45356   \n",
       "6                          565.0                              0.45356   \n",
       "7                          565.0                              0.45356   \n",
       "8                          565.0                              0.45356   \n",
       "9                          565.0                              0.45356   \n",
       "\n",
       "   museum_visitis_per_100_cap  bandwidth_sports  population_reg_sports_share  \\\n",
       "0                      1240.0          269768.0                        22.37   \n",
       "1                      1240.0          269768.0                        22.37   \n",
       "2                      1240.0          269768.0                        22.37   \n",
       "3                      1240.0          269768.0                        22.37   \n",
       "4                      1240.0          269768.0                        22.37   \n",
       "5                      1240.0          269768.0                        22.37   \n",
       "6                      1240.0          269768.0                        22.37   \n",
       "7                      1240.0          269768.0                        22.37   \n",
       "8                      1240.0          269768.0                        22.37   \n",
       "9                      1240.0          269768.0                        22.37   \n",
       "\n",
       "   students_reg_sports_share  apartment_build  apartment_fund_sqm  \n",
       "0                      64.12          23587.0            230310.0  \n",
       "1                      64.12          23587.0            230310.0  \n",
       "2                      64.12          23587.0            230310.0  \n",
       "3                      64.12          23587.0            230310.0  \n",
       "4                      64.12          23587.0            230310.0  \n",
       "5                      64.12          23587.0            230310.0  \n",
       "6                      64.12          23587.0            230310.0  \n",
       "7                      64.12          23587.0            230310.0  \n",
       "8                      64.12          23587.0            230310.0  \n",
       "9                      64.12          23587.0            230310.0  \n",
       "\n",
       "[10 rows x 390 columns]"
      ]
     },
     "execution_count": 358,
     "metadata": {
      "tags": []
     },
     "output_type": "execute_result"
    }
   ],
   "source": [
    "data_fs.head(10)"
   ]
  },
  {
   "cell_type": "markdown",
   "metadata": {
    "colab_type": "text",
    "id": "2suKKZY1AdQc"
   },
   "source": [
    "The dataset has many NaN's and also a lot of categorical features. So at first, you should preprocess the data. We can deal with categorical features by using one-hot encoding. To do that we can use [`pandas.get_dummies`](https://pandas.pydata.org/pandas-docs/stable/reference/api/pandas.get_dummies.html)."
   ]
  },
  {
   "cell_type": "code",
   "execution_count": 0,
   "metadata": {
    "colab": {},
    "colab_type": "code",
    "id": "6GrSHtNoAdQd"
   },
   "outputs": [],
   "source": [
    "# fill nan with 0\n",
    "data_fs = data_fs.fillna(0)\n",
    "\n",
    "# our goal is to predict the \"price_doc\" feature.\n",
    "y = data_fs[[\"price_doc\"]]\n",
    "X = data_fs.drop(\"price_doc\", axis=1)\n",
    "X = X.drop(\"timestamp\", axis=1)\n",
    "\n",
    "# one-hot encoding\n",
    "X = pd.get_dummies(X, sparse=True)"
   ]
  },
  {
   "cell_type": "code",
   "execution_count": 0,
   "metadata": {
    "colab": {},
    "colab_type": "code",
    "id": "Y6SpO8FuAdQg",
    "outputId": "54927fce-f028-4167-d8a0-06366c47c8c6"
   },
   "outputs": [
    {
     "data": {
      "text/html": [
       "<div>\n",
       "<style scoped>\n",
       "    .dataframe tbody tr th:only-of-type {\n",
       "        vertical-align: middle;\n",
       "    }\n",
       "\n",
       "    .dataframe tbody tr th {\n",
       "        vertical-align: top;\n",
       "    }\n",
       "\n",
       "    .dataframe thead th {\n",
       "        text-align: right;\n",
       "    }\n",
       "</style>\n",
       "<table border=\"1\" class=\"dataframe\">\n",
       "  <thead>\n",
       "    <tr style=\"text-align: right;\">\n",
       "      <th></th>\n",
       "      <th>full_sq</th>\n",
       "      <th>life_sq</th>\n",
       "      <th>floor</th>\n",
       "      <th>max_floor</th>\n",
       "      <th>material</th>\n",
       "      <th>build_year</th>\n",
       "      <th>num_room</th>\n",
       "      <th>kitch_sq</th>\n",
       "      <th>state</th>\n",
       "      <th>area_m</th>\n",
       "      <th>...</th>\n",
       "      <th>child_on_acc_pre_school_3,013</th>\n",
       "      <th>child_on_acc_pre_school_7,311</th>\n",
       "      <th>modern_education_share_0</th>\n",
       "      <th>modern_education_share_90,92</th>\n",
       "      <th>modern_education_share_93,08</th>\n",
       "      <th>modern_education_share_95,4918</th>\n",
       "      <th>old_education_build_share_0</th>\n",
       "      <th>old_education_build_share_23,14</th>\n",
       "      <th>old_education_build_share_25,47</th>\n",
       "      <th>old_education_build_share_8,2517</th>\n",
       "    </tr>\n",
       "  </thead>\n",
       "  <tbody>\n",
       "    <tr>\n",
       "      <th>14065</th>\n",
       "      <td>46</td>\n",
       "      <td>44.0</td>\n",
       "      <td>7.0</td>\n",
       "      <td>25.0</td>\n",
       "      <td>1.0</td>\n",
       "      <td>2015.0</td>\n",
       "      <td>1.0</td>\n",
       "      <td>1.0</td>\n",
       "      <td>1.0</td>\n",
       "      <td>1.139168e+07</td>\n",
       "      <td>...</td>\n",
       "      <td>0</td>\n",
       "      <td>0</td>\n",
       "      <td>0</td>\n",
       "      <td>0</td>\n",
       "      <td>1</td>\n",
       "      <td>0</td>\n",
       "      <td>0</td>\n",
       "      <td>0</td>\n",
       "      <td>1</td>\n",
       "      <td>0</td>\n",
       "    </tr>\n",
       "    <tr>\n",
       "      <th>12978</th>\n",
       "      <td>77</td>\n",
       "      <td>48.0</td>\n",
       "      <td>17.0</td>\n",
       "      <td>17.0</td>\n",
       "      <td>4.0</td>\n",
       "      <td>2009.0</td>\n",
       "      <td>3.0</td>\n",
       "      <td>9.0</td>\n",
       "      <td>3.0</td>\n",
       "      <td>1.631523e+07</td>\n",
       "      <td>...</td>\n",
       "      <td>1</td>\n",
       "      <td>0</td>\n",
       "      <td>0</td>\n",
       "      <td>1</td>\n",
       "      <td>0</td>\n",
       "      <td>0</td>\n",
       "      <td>0</td>\n",
       "      <td>1</td>\n",
       "      <td>0</td>\n",
       "      <td>0</td>\n",
       "    </tr>\n",
       "    <tr>\n",
       "      <th>18695</th>\n",
       "      <td>39</td>\n",
       "      <td>18.0</td>\n",
       "      <td>7.0</td>\n",
       "      <td>17.0</td>\n",
       "      <td>1.0</td>\n",
       "      <td>0.0</td>\n",
       "      <td>1.0</td>\n",
       "      <td>9.0</td>\n",
       "      <td>0.0</td>\n",
       "      <td>5.293465e+06</td>\n",
       "      <td>...</td>\n",
       "      <td>0</td>\n",
       "      <td>0</td>\n",
       "      <td>0</td>\n",
       "      <td>0</td>\n",
       "      <td>1</td>\n",
       "      <td>0</td>\n",
       "      <td>0</td>\n",
       "      <td>0</td>\n",
       "      <td>1</td>\n",
       "      <td>0</td>\n",
       "    </tr>\n",
       "    <tr>\n",
       "      <th>26411</th>\n",
       "      <td>52</td>\n",
       "      <td>52.0</td>\n",
       "      <td>9.0</td>\n",
       "      <td>17.0</td>\n",
       "      <td>1.0</td>\n",
       "      <td>0.0</td>\n",
       "      <td>2.0</td>\n",
       "      <td>1.0</td>\n",
       "      <td>1.0</td>\n",
       "      <td>2.553630e+07</td>\n",
       "      <td>...</td>\n",
       "      <td>0</td>\n",
       "      <td>0</td>\n",
       "      <td>0</td>\n",
       "      <td>0</td>\n",
       "      <td>1</td>\n",
       "      <td>0</td>\n",
       "      <td>0</td>\n",
       "      <td>0</td>\n",
       "      <td>1</td>\n",
       "      <td>0</td>\n",
       "    </tr>\n",
       "    <tr>\n",
       "      <th>1419</th>\n",
       "      <td>30</td>\n",
       "      <td>18.0</td>\n",
       "      <td>1.0</td>\n",
       "      <td>0.0</td>\n",
       "      <td>0.0</td>\n",
       "      <td>0.0</td>\n",
       "      <td>0.0</td>\n",
       "      <td>0.0</td>\n",
       "      <td>0.0</td>\n",
       "      <td>2.641243e+06</td>\n",
       "      <td>...</td>\n",
       "      <td>0</td>\n",
       "      <td>1</td>\n",
       "      <td>1</td>\n",
       "      <td>0</td>\n",
       "      <td>0</td>\n",
       "      <td>0</td>\n",
       "      <td>1</td>\n",
       "      <td>0</td>\n",
       "      <td>0</td>\n",
       "      <td>0</td>\n",
       "    </tr>\n",
       "    <tr>\n",
       "      <th>29787</th>\n",
       "      <td>99</td>\n",
       "      <td>0.0</td>\n",
       "      <td>12.0</td>\n",
       "      <td>0.0</td>\n",
       "      <td>1.0</td>\n",
       "      <td>2015.0</td>\n",
       "      <td>4.0</td>\n",
       "      <td>1.0</td>\n",
       "      <td>1.0</td>\n",
       "      <td>4.441296e+06</td>\n",
       "      <td>...</td>\n",
       "      <td>0</td>\n",
       "      <td>0</td>\n",
       "      <td>0</td>\n",
       "      <td>0</td>\n",
       "      <td>0</td>\n",
       "      <td>1</td>\n",
       "      <td>0</td>\n",
       "      <td>0</td>\n",
       "      <td>0</td>\n",
       "      <td>1</td>\n",
       "    </tr>\n",
       "    <tr>\n",
       "      <th>18411</th>\n",
       "      <td>40</td>\n",
       "      <td>0.0</td>\n",
       "      <td>17.0</td>\n",
       "      <td>17.0</td>\n",
       "      <td>1.0</td>\n",
       "      <td>0.0</td>\n",
       "      <td>1.0</td>\n",
       "      <td>1.0</td>\n",
       "      <td>1.0</td>\n",
       "      <td>1.139168e+07</td>\n",
       "      <td>...</td>\n",
       "      <td>0</td>\n",
       "      <td>0</td>\n",
       "      <td>0</td>\n",
       "      <td>0</td>\n",
       "      <td>1</td>\n",
       "      <td>0</td>\n",
       "      <td>0</td>\n",
       "      <td>0</td>\n",
       "      <td>1</td>\n",
       "      <td>0</td>\n",
       "    </tr>\n",
       "    <tr>\n",
       "      <th>11541</th>\n",
       "      <td>31</td>\n",
       "      <td>17.0</td>\n",
       "      <td>1.0</td>\n",
       "      <td>9.0</td>\n",
       "      <td>2.0</td>\n",
       "      <td>1964.0</td>\n",
       "      <td>1.0</td>\n",
       "      <td>6.0</td>\n",
       "      <td>2.0</td>\n",
       "      <td>4.662813e+06</td>\n",
       "      <td>...</td>\n",
       "      <td>1</td>\n",
       "      <td>0</td>\n",
       "      <td>0</td>\n",
       "      <td>1</td>\n",
       "      <td>0</td>\n",
       "      <td>0</td>\n",
       "      <td>0</td>\n",
       "      <td>1</td>\n",
       "      <td>0</td>\n",
       "      <td>0</td>\n",
       "    </tr>\n",
       "    <tr>\n",
       "      <th>20741</th>\n",
       "      <td>55</td>\n",
       "      <td>0.0</td>\n",
       "      <td>6.0</td>\n",
       "      <td>0.0</td>\n",
       "      <td>1.0</td>\n",
       "      <td>0.0</td>\n",
       "      <td>2.0</td>\n",
       "      <td>12.0</td>\n",
       "      <td>1.0</td>\n",
       "      <td>6.677245e+07</td>\n",
       "      <td>...</td>\n",
       "      <td>0</td>\n",
       "      <td>0</td>\n",
       "      <td>0</td>\n",
       "      <td>0</td>\n",
       "      <td>1</td>\n",
       "      <td>0</td>\n",
       "      <td>0</td>\n",
       "      <td>0</td>\n",
       "      <td>1</td>\n",
       "      <td>0</td>\n",
       "    </tr>\n",
       "    <tr>\n",
       "      <th>13103</th>\n",
       "      <td>58</td>\n",
       "      <td>42.0</td>\n",
       "      <td>7.0</td>\n",
       "      <td>9.0</td>\n",
       "      <td>1.0</td>\n",
       "      <td>1974.0</td>\n",
       "      <td>3.0</td>\n",
       "      <td>6.0</td>\n",
       "      <td>2.0</td>\n",
       "      <td>4.389199e+06</td>\n",
       "      <td>...</td>\n",
       "      <td>1</td>\n",
       "      <td>0</td>\n",
       "      <td>0</td>\n",
       "      <td>1</td>\n",
       "      <td>0</td>\n",
       "      <td>0</td>\n",
       "      <td>0</td>\n",
       "      <td>1</td>\n",
       "      <td>0</td>\n",
       "      <td>0</td>\n",
       "    </tr>\n",
       "  </tbody>\n",
       "</table>\n",
       "<p>10 rows × 560 columns</p>\n",
       "</div>"
      ],
      "text/plain": [
       "       full_sq  life_sq  floor  max_floor  material  build_year  num_room  \\\n",
       "14065       46     44.0    7.0       25.0       1.0      2015.0       1.0   \n",
       "12978       77     48.0   17.0       17.0       4.0      2009.0       3.0   \n",
       "18695       39     18.0    7.0       17.0       1.0         0.0       1.0   \n",
       "26411       52     52.0    9.0       17.0       1.0         0.0       2.0   \n",
       "1419        30     18.0    1.0        0.0       0.0         0.0       0.0   \n",
       "29787       99      0.0   12.0        0.0       1.0      2015.0       4.0   \n",
       "18411       40      0.0   17.0       17.0       1.0         0.0       1.0   \n",
       "11541       31     17.0    1.0        9.0       2.0      1964.0       1.0   \n",
       "20741       55      0.0    6.0        0.0       1.0         0.0       2.0   \n",
       "13103       58     42.0    7.0        9.0       1.0      1974.0       3.0   \n",
       "\n",
       "       kitch_sq  state        area_m                ...                 \\\n",
       "14065       1.0    1.0  1.139168e+07                ...                  \n",
       "12978       9.0    3.0  1.631523e+07                ...                  \n",
       "18695       9.0    0.0  5.293465e+06                ...                  \n",
       "26411       1.0    1.0  2.553630e+07                ...                  \n",
       "1419        0.0    0.0  2.641243e+06                ...                  \n",
       "29787       1.0    1.0  4.441296e+06                ...                  \n",
       "18411       1.0    1.0  1.139168e+07                ...                  \n",
       "11541       6.0    2.0  4.662813e+06                ...                  \n",
       "20741      12.0    1.0  6.677245e+07                ...                  \n",
       "13103       6.0    2.0  4.389199e+06                ...                  \n",
       "\n",
       "       child_on_acc_pre_school_3,013  child_on_acc_pre_school_7,311  \\\n",
       "14065                              0                              0   \n",
       "12978                              1                              0   \n",
       "18695                              0                              0   \n",
       "26411                              0                              0   \n",
       "1419                               0                              1   \n",
       "29787                              0                              0   \n",
       "18411                              0                              0   \n",
       "11541                              1                              0   \n",
       "20741                              0                              0   \n",
       "13103                              1                              0   \n",
       "\n",
       "       modern_education_share_0  modern_education_share_90,92  \\\n",
       "14065                         0                             0   \n",
       "12978                         0                             1   \n",
       "18695                         0                             0   \n",
       "26411                         0                             0   \n",
       "1419                          1                             0   \n",
       "29787                         0                             0   \n",
       "18411                         0                             0   \n",
       "11541                         0                             1   \n",
       "20741                         0                             0   \n",
       "13103                         0                             1   \n",
       "\n",
       "       modern_education_share_93,08  modern_education_share_95,4918  \\\n",
       "14065                             1                               0   \n",
       "12978                             0                               0   \n",
       "18695                             1                               0   \n",
       "26411                             1                               0   \n",
       "1419                              0                               0   \n",
       "29787                             0                               1   \n",
       "18411                             1                               0   \n",
       "11541                             0                               0   \n",
       "20741                             1                               0   \n",
       "13103                             0                               0   \n",
       "\n",
       "       old_education_build_share_0  old_education_build_share_23,14  \\\n",
       "14065                            0                                0   \n",
       "12978                            0                                1   \n",
       "18695                            0                                0   \n",
       "26411                            0                                0   \n",
       "1419                             1                                0   \n",
       "29787                            0                                0   \n",
       "18411                            0                                0   \n",
       "11541                            0                                1   \n",
       "20741                            0                                0   \n",
       "13103                            0                                1   \n",
       "\n",
       "       old_education_build_share_25,47  old_education_build_share_8,2517  \n",
       "14065                                1                                 0  \n",
       "12978                                0                                 0  \n",
       "18695                                1                                 0  \n",
       "26411                                1                                 0  \n",
       "1419                                 0                                 0  \n",
       "29787                                0                                 1  \n",
       "18411                                1                                 0  \n",
       "11541                                0                                 0  \n",
       "20741                                1                                 0  \n",
       "13103                                0                                 0  \n",
       "\n",
       "[10 rows x 560 columns]"
      ]
     },
     "execution_count": 360,
     "metadata": {
      "tags": []
     },
     "output_type": "execute_result"
    }
   ],
   "source": [
    "# Let's split our dataset into train 70 % and test 30% by using sklearn. \n",
    "X_train, X_test, y_train, y_test = train_test_split(X, y, test_size=0.3, random_state=42)\n",
    "\n",
    "# Look at first 10 rows what you get.\n",
    "X_train.head(10)"
   ]
  },
  {
   "cell_type": "markdown",
   "metadata": {
    "colab_type": "text",
    "id": "Ljcv2dKyAdQj"
   },
   "source": [
    "Okay, now let's see how much data we have."
   ]
  },
  {
   "cell_type": "code",
   "execution_count": 0,
   "metadata": {
    "colab": {},
    "colab_type": "code",
    "id": "Jwnlqn9bAdQl",
    "outputId": "8a0cde17-1029-4242-d685-cde75b63df9d"
   },
   "outputs": [
    {
     "name": "stdout",
     "output_type": "stream",
     "text": [
      "Train size = (21329, 560)\n",
      "Test size = (9142, 560)\n"
     ]
    }
   ],
   "source": [
    "print(\"Train size =\", X_train.shape)\n",
    "print(\"Test size =\", X_test.shape)"
   ]
  },
  {
   "cell_type": "markdown",
   "metadata": {
    "colab_type": "text",
    "id": "rcJk_QUmAdQp"
   },
   "source": [
    "There are too many features in this dataset and not all of them are equally important for our problem. Besides, using the whole dataset as-is to train a linear model will, for sure, lead to overfitting. Instead of painful and time consuming manual selection of the most relevant data, we will use the methods of automatic feature selection."
   ]
  },
  {
   "cell_type": "markdown",
   "metadata": {
    "colab_type": "text",
    "id": "51qllMrkAdQq"
   },
   "source": [
    "<br>"
   ]
  },
  {
   "cell_type": "markdown",
   "metadata": {
    "colab_type": "text",
    "id": "y8zTlp0YAdQr"
   },
   "source": [
    "But at first, we almost forgot to take a look at our targets. Let's plot `y_train` histogram."
   ]
  },
  {
   "cell_type": "code",
   "execution_count": 0,
   "metadata": {
    "colab": {},
    "colab_type": "code",
    "id": "4lP4XBc7AdQs",
    "outputId": "7a0a5e12-83f4-4d9c-9059-88e435b8a712"
   },
   "outputs": [
    {
     "data": {
      "text/plain": [
       "array([[<matplotlib.axes._subplots.AxesSubplot object at 0x7f18f421fc88>]],\n",
       "      dtype=object)"
      ]
     },
     "execution_count": 362,
     "metadata": {
      "tags": []
     },
     "output_type": "execute_result"
    },
    {
     "data": {
      "image/png": "[encoded data removed]",
      "text/plain": [
       "<Figure size 432x288 with 1 Axes>"
      ]
     },
     "metadata": {
      "needs_background": "light",
      "tags": []
     },
     "output_type": "display_data"
    }
   ],
   "source": [
    "y_train.hist(bins=100)"
   ]
  },
  {
   "cell_type": "markdown",
   "metadata": {
    "colab_type": "text",
    "id": "BJjGUXKdAdQv"
   },
   "source": [
    "There is a big variance in it and it's far from being a normal distribution. In the real-world problems it happens all the time: the data can be far from perfect. We can use some tricks to make it more like what we want.\n",
    "In this particular case we can predict $\\log y$ instead of $y$. This transformation is invertible, so we will be able to get our $y$ back."
   ]
  },
  {
   "cell_type": "code",
   "execution_count": 0,
   "metadata": {
    "colab": {},
    "colab_type": "code",
    "id": "ZK1s8lhsAdQx",
    "outputId": "a4c2837a-4695-4459-f71e-6691d759bb97"
   },
   "outputs": [
    {
     "data": {
      "text/plain": [
       "array([[<matplotlib.axes._subplots.AxesSubplot object at 0x7f18f437c9b0>]],\n",
       "      dtype=object)"
      ]
     },
     "execution_count": 363,
     "metadata": {
      "tags": []
     },
     "output_type": "execute_result"
    },
    {
     "data": {
      "image/png": "[encoded data removed]",
      "text/plain": [
       "<Figure size 432x288 with 1 Axes>"
      ]
     },
     "metadata": {
      "needs_background": "light",
      "tags": []
     },
     "output_type": "display_data"
    }
   ],
   "source": [
    "y_train_log = np.log(y_train)\n",
    "y_test_log = np.log(y_test)\n",
    "y_train_log.hist(bins=100)"
   ]
  },
  {
   "cell_type": "markdown",
   "metadata": {
    "colab_type": "text",
    "id": "Ykf8Bo8AAdQ0"
   },
   "source": [
    "Now it looks more like the data we want to deal with.\n",
    "\n",
    "The preprocessing is finally over, so now we are ready for the actual task."
   ]
  },
  {
   "cell_type": "markdown",
   "metadata": {
    "colab_type": "text",
    "id": "4AJo9v_SAdQ2"
   },
   "source": [
    "<h3><center><span style=\"color:red;\">**IMPORTANT NOTICE**</span></center></h3>\n",
    "\n",
    "If you have difficulties with solving the below problems take a look at seminar $7$ on feature and model selection."
   ]
  },
  {
   "cell_type": "markdown",
   "metadata": {
    "colab_type": "text",
    "id": "us9qopqeAdQ2"
   },
   "source": [
    "<br>"
   ]
  },
  {
   "cell_type": "markdown",
   "metadata": {
    "colab_type": "text",
    "id": "23UQ3DbPAdQ3"
   },
   "source": [
    "### Task 1 (1 pt.): Random forest feature importances"
   ]
  },
  {
   "cell_type": "markdown",
   "metadata": {
    "colab_type": "text",
    "id": "vv-7ezb3AdQ5"
   },
   "source": [
    "Use random forest to find the imortance of features. Plot the histogram."
   ]
  },
  {
   "cell_type": "code",
   "execution_count": 0,
   "metadata": {
    "colab": {},
    "colab_type": "code",
    "id": "tXC9LI9cAdQ5",
    "outputId": "a61735d9-5b03-4bb7-f455-394909f7f503"
   },
   "outputs": [
    {
     "name": "stderr",
     "output_type": "stream",
     "text": [
      "/home/dmitriy/MyEnv/other/skoltech/ml/env/lib/python3.5/site-packages/sklearn/ensemble/forest.py:248: FutureWarning: The default value of n_estimators will change from 10 in version 0.20 to 100 in 0.22.\n",
      "  \"10 in version 0.20 to 100 in 0.22.\", FutureWarning)\n",
      "/home/dmitriy/MyEnv/other/skoltech/ml/env/lib/python3.5/site-packages/ipykernel_launcher.py:5: DataConversionWarning: A column-vector y was passed when a 1d array was expected. Please change the shape of y to (n_samples,), for example using ravel().\n",
      "  \"\"\"\n"
     ]
    },
    {
     "data": {
      "text/plain": [
       "RandomForestRegressor(bootstrap=True, criterion='mse', max_depth=None,\n",
       "           max_features='auto', max_leaf_nodes=None,\n",
       "           min_impurity_decrease=0.0, min_impurity_split=None,\n",
       "           min_samples_leaf=1, min_samples_split=2,\n",
       "           min_weight_fraction_leaf=0.0, n_estimators=10, n_jobs=None,\n",
       "           oob_score=False, random_state=666, verbose=0, warm_start=False)"
      ]
     },
     "execution_count": 364,
     "metadata": {
      "tags": []
     },
     "output_type": "execute_result"
    }
   ],
   "source": [
    "from sklearn.ensemble import RandomForestRegressor \n",
    "\n",
    "### BEGIN Solution\n",
    "m = RandomForestRegressor(random_state=666)\n",
    "m.fit(X_train,y_train_log)\n",
    "\n",
    "\n",
    "### END Solution"
   ]
  },
  {
   "cell_type": "markdown",
   "metadata": {
    "colab_type": "text",
    "id": "wA_sJkQuAdQ9"
   },
   "source": [
    "Print the 20 most important features and their **values**."
   ]
  },
  {
   "cell_type": "code",
   "execution_count": 0,
   "metadata": {
    "colab": {},
    "colab_type": "code",
    "id": "SuD7-L5tAdQ-",
    "outputId": "2eb95cb6-4629-4e07-ed48-f1c50fa320a8"
   },
   "outputs": [
    {
     "name": "stdout",
     "output_type": "stream",
     "text": [
      "Feature: full_sq. Importance: 0.23933271470195402\n",
      "Feature: cafe_count_5000_price_2500. Importance: 0.03465215061372931\n",
      "Feature: sport_count_3000. Importance: 0.026264410440406623\n",
      "Feature: cafe_count_2000. Importance: 0.013565568849142933\n",
      "Feature: cafe_count_3000. Importance: 0.012355560880705945\n",
      "Feature: num_room. Importance: 0.011280095129796532\n",
      "Feature: micex_cbi_tr. Importance: 0.008144976672810283\n",
      "Feature: swim_pool_km. Importance: 0.00808772340233334\n",
      "Feature: public_healthcare_km. Importance: 0.007325632693443923\n",
      "Feature: micex_rgbi_tr. Importance: 0.007264195068381096\n",
      "Feature: eurrub. Importance: 0.0072185643963814565\n",
      "Feature: metro_km_avto. Importance: 0.0070595907843988654\n",
      "Feature: ttk_km. Importance: 0.006988714217703282\n",
      "Feature: brent. Importance: 0.006897528619488788\n",
      "Feature: usdrub. Importance: 0.006822716222327813\n",
      "Feature: catering_km. Importance: 0.006583617334291242\n",
      "Feature: kindergarten_km. Importance: 0.006518280915449407\n",
      "Feature: floor. Importance: 0.006434378967464023\n",
      "Feature: church_synagogue_km. Importance: 0.0064121693059998805\n",
      "Feature: big_road1_km. Importance: 0.006408156583344935\n"
     ]
    }
   ],
   "source": [
    "### BEGIN Solution\n",
    "\n",
    "imp = m.feature_importances_\n",
    "imp_idcs = np.argsort(imp)[::-1]\n",
    "\n",
    "for i in range(20):\n",
    "    print(\"Feature: {}. Importance: {}\".format(X_train.columns[imp_idcs[i]], imp[imp_idcs[i]]))\n",
    "\n",
    "### END Solution"
   ]
  },
  {
   "cell_type": "code",
   "execution_count": 0,
   "metadata": {
    "colab": {},
    "colab_type": "code",
    "id": "8anCe3sLAdRH",
    "outputId": "5f34e1df-4cf6-4086-9f11-5e3d6558e575"
   },
   "outputs": [
    {
     "data": {
      "text/plain": [
       "(array([555.,   2.,   2.,   0.,   0.,   0.,   0.,   0.,   0.,   0.,   0.,\n",
       "          0.,   0.,   0.,   0.,   0.,   0.,   0.,   0.,   1.]),\n",
       " array([0.        , 0.01196664, 0.02393327, 0.03589991, 0.04786654,\n",
       "        0.05983318, 0.07179981, 0.08376645, 0.09573309, 0.10769972,\n",
       "        0.11966636, 0.13163299, 0.14359963, 0.15556626, 0.1675329 ,\n",
       "        0.17949954, 0.19146617, 0.20343281, 0.21539944, 0.22736608,\n",
       "        0.23933271]),\n",
       " <a list of 20 Patch objects>)"
      ]
     },
     "execution_count": 372,
     "metadata": {
      "tags": []
     },
     "output_type": "execute_result"
    },
    {
     "data": {
      "image/png": "[encoded data removed]",
      "text/plain": [
       "<Figure size 432x288 with 1 Axes>"
      ]
     },
     "metadata": {
      "needs_background": "light",
      "tags": []
     },
     "output_type": "display_data"
    }
   ],
   "source": [
    "plt.hist(imp, bins=20)"
   ]
  },
  {
   "cell_type": "markdown",
   "metadata": {
    "colab_type": "text",
    "id": "sJ5AnyhcAdRP"
   },
   "source": [
    "<br>"
   ]
  },
  {
   "cell_type": "markdown",
   "metadata": {
    "colab_type": "text",
    "id": "jgwl_V-hAdRT"
   },
   "source": [
    "### Task 2 (1 pt.)"
   ]
  },
  {
   "cell_type": "markdown",
   "metadata": {
    "colab_type": "text",
    "id": "MLVPzYvZAdRT"
   },
   "source": [
    "On these 20 features train each of the following models\n",
    "* **Linear Regression**\n",
    "* **Ridge regression**\n",
    "* **Random forest**\n",
    "* **DecisionTree**\n",
    "\n",
    "and test its performance using the **Root Mean Squared Logarithmic Error** (RMSLE)."
   ]
  },
  {
   "cell_type": "code",
   "execution_count": 0,
   "metadata": {
    "colab": {},
    "colab_type": "code",
    "id": "3tTVGYaIAdRU"
   },
   "outputs": [],
   "source": [
    "from sklearn.metrics import mean_squared_log_error"
   ]
  },
  {
   "cell_type": "markdown",
   "metadata": {
    "colab_type": "text",
    "id": "8Z26CN05AdRY"
   },
   "source": [
    "You will need to do it for the next tasks too, so we recommend you to implement\n",
    "a dedicated function for comparisons, which\n",
    "1. on input the function takes a training dataset `(X_train, y_train)` and a test sample `(X_test, y_test)`\n",
    "2. it trains **all of the listed models** on the `(X_train, y_train)` sample\n",
    "3. it computes and returns a table the RMSLE score of each fitted model on the test dataset`(X_test, y_test)`"
   ]
  },
  {
   "cell_type": "code",
   "execution_count": 0,
   "metadata": {
    "colab": {},
    "colab_type": "code",
    "id": "5MX0QWKVAdRZ"
   },
   "outputs": [],
   "source": [
    "from sklearn import linear_model\n",
    "from sklearn.metrics import mean_squared_log_error\n",
    "from sklearn.ensemble import RandomForestRegressor \n",
    "\n",
    "def comparator(X_train, y_train, X_test, y_test):\n",
    "    \"\"\"\n",
    "    Parameters\n",
    "    ==========\n",
    "        X_train: ndarray - training inputs\n",
    "        y_train: ndarray - training targets\n",
    "        X_test: ndarray - test inputs\n",
    "        y_test: ndarray - test targets\n",
    "        \n",
    "    Returns\n",
    "    =======\n",
    "        pd.DataFrame - table of RMSLE scores of each model on test and train datasets\n",
    "    \"\"\"\n",
    "    methods = {\n",
    "        \"Linear Regression\": sklearn.linear_model.LinearRegression(), \n",
    "        \"Ridge\": linear_model.Ridge(),\n",
    "        \"Dtree\": sklearn.tree.DecisionTreeRegressor(),\n",
    "        \"RFR\": RandomForestRegressor(n_estimators =100)\n",
    "    }\n",
    "        \n",
    "        \n",
    "        \n",
    "\n",
    "### BEGIN Solution\n",
    "    \n",
    "    error_train = []\n",
    "    error_test = []\n",
    "    for model_name, model in methods.items():\n",
    "        model.fit(X_train, y_train)\n",
    "        error_train.append(mean_squared_log_error(y_train, model.predict(X_train)))\n",
    "        error_test.append(mean_squared_log_error(y_test, model.predict(X_test)))\n",
    "\n",
    "### END Solution\n",
    "    return pd.DataFrame({\n",
    "        \"Methods\": list(methods.keys()),\n",
    "        \"Train loss\": error_train,\n",
    "        \"Test loss\": error_test\n",
    "    })"
   ]
  },
  {
   "cell_type": "markdown",
   "metadata": {
    "colab_type": "text",
    "id": "VlfNk7_LAdRi"
   },
   "source": [
    "Now apply this function"
   ]
  },
  {
   "cell_type": "code",
   "execution_count": 0,
   "metadata": {
    "colab": {},
    "colab_type": "code",
    "id": "JssFqulbAdRi",
    "outputId": "a26c2673-e759-43df-dc85-e40e72be91a2"
   },
   "outputs": [
    {
     "name": "stderr",
     "output_type": "stream",
     "text": [
      "/home/dmitriy/MyEnv/other/skoltech/ml/env/lib/python3.5/site-packages/ipykernel_launcher.py:33: DataConversionWarning: A column-vector y was passed when a 1d array was expected. Please change the shape of y to (n_samples,), for example using ravel().\n"
     ]
    },
    {
     "data": {
      "text/html": [
       "<div>\n",
       "<style scoped>\n",
       "    .dataframe tbody tr th:only-of-type {\n",
       "        vertical-align: middle;\n",
       "    }\n",
       "\n",
       "    .dataframe tbody tr th {\n",
       "        vertical-align: top;\n",
       "    }\n",
       "\n",
       "    .dataframe thead th {\n",
       "        text-align: right;\n",
       "    }\n",
       "</style>\n",
       "<table border=\"1\" class=\"dataframe\">\n",
       "  <thead>\n",
       "    <tr style=\"text-align: right;\">\n",
       "      <th></th>\n",
       "      <th>Methods</th>\n",
       "      <th>Test loss</th>\n",
       "      <th>Train loss</th>\n",
       "    </tr>\n",
       "  </thead>\n",
       "  <tbody>\n",
       "    <tr>\n",
       "      <th>0</th>\n",
       "      <td>RFR</td>\n",
       "      <td>0.000869</td>\n",
       "      <td>1.236667e-04</td>\n",
       "    </tr>\n",
       "    <tr>\n",
       "      <th>1</th>\n",
       "      <td>Ridge</td>\n",
       "      <td>0.001054</td>\n",
       "      <td>1.042980e-03</td>\n",
       "    </tr>\n",
       "    <tr>\n",
       "      <th>2</th>\n",
       "      <td>Dtree</td>\n",
       "      <td>0.001820</td>\n",
       "      <td>1.159717e-09</td>\n",
       "    </tr>\n",
       "    <tr>\n",
       "      <th>3</th>\n",
       "      <td>Linear Regression</td>\n",
       "      <td>0.001054</td>\n",
       "      <td>1.042980e-03</td>\n",
       "    </tr>\n",
       "  </tbody>\n",
       "</table>\n",
       "</div>"
      ],
      "text/plain": [
       "             Methods  Test loss    Train loss\n",
       "0                RFR   0.000869  1.236667e-04\n",
       "1              Ridge   0.001054  1.042980e-03\n",
       "2              Dtree   0.001820  1.159717e-09\n",
       "3  Linear Regression   0.001054  1.042980e-03"
      ]
     },
     "execution_count": 169,
     "metadata": {
      "tags": []
     },
     "output_type": "execute_result"
    }
   ],
   "source": [
    "### BEGIN Solution\n",
    "my_train = X_train[['full_sq', \n",
    "         'cafe_count_5000_price_2500', \n",
    "         'sport_count_3000', \n",
    "         'cafe_count_2000', \n",
    "         'cafe_count_3000',\n",
    "         'num_room',\n",
    "         'micex_cbi_tr',\n",
    "         'swim_pool_km',\n",
    "         'public_healthcare_km',\n",
    "         'micex_rgbi_tr',\n",
    "         'eurrub',\n",
    "         'metro_km_avto',\n",
    "         'ttk_km',\n",
    "         'brent',\n",
    "         'usdrub',\n",
    "         'catering_km',\n",
    "         'kindergarten_km',\n",
    "         'floor',\n",
    "         'church_synagogue_km',\n",
    "         'big_road1_km']]\n",
    "\n",
    "my_test = X_test[['full_sq', \n",
    "         'cafe_count_5000_price_2500', \n",
    "         'sport_count_3000', \n",
    "         'cafe_count_2000', \n",
    "         'cafe_count_3000',\n",
    "         'num_room',\n",
    "         'micex_cbi_tr',\n",
    "         'swim_pool_km',\n",
    "         'public_healthcare_km',\n",
    "         'micex_rgbi_tr',\n",
    "         'eurrub',\n",
    "         'metro_km_avto',\n",
    "         'ttk_km',\n",
    "         'brent',\n",
    "         'usdrub',\n",
    "         'catering_km',\n",
    "         'kindergarten_km',\n",
    "         'floor',\n",
    "         'church_synagogue_km',\n",
    "         'big_road1_km']]\n",
    "\n",
    "comparator(my_train, y_train_log, my_test, y_test_log)\n",
    "### END Solution"
   ]
  },
  {
   "cell_type": "markdown",
   "metadata": {
    "colab_type": "text",
    "id": "X9n538cJAdRm"
   },
   "source": [
    "<br>"
   ]
  },
  {
   "cell_type": "markdown",
   "metadata": {
    "colab_type": "text",
    "id": "X_HFU2R4AdRn"
   },
   "source": [
    "## Forward-backward methods\n",
    "\n",
    "The idea is to add or remove features and look how it influences the value of the loss function or some other criteria.\n",
    "\n",
    "Decision about adding or deleting a feature may be made based on:\n",
    "\n",
    "- AIC\n",
    "- BIC\n",
    "- validation error\n",
    "- Mallows $C_p$\n",
    "- sklearn's `estimator.score()`"
   ]
  },
  {
   "cell_type": "markdown",
   "metadata": {
    "colab_type": "text",
    "id": "_U_fOL2aAdRo"
   },
   "source": [
    "### Task 3 (2 pt.): Implement forward method with early stopping\n",
    "\n",
    "Implement the following greedy feature selection algorithm:\n",
    "\n",
    "```python\n",
    "# Initialize with an empty list of features.\n",
    "list_of_best_features = []\n",
    "\n",
    "while round < n_rounds:\n",
    "    round = round + 1\n",
    "    \n",
    "    if no_more_features:\n",
    "        # end loop\n",
    "\n",
    "    # Iterate over currently *unsued* features and use $k$-fold \n",
    "    # . `cross_val_score` to measure model \"quality\".\n",
    "    compute_quality_with_each_new_unused_feature(...)\n",
    "\n",
    "    # **Add** the feature that gives the highest \"quality\" of the model.\n",
    "    pick_and_add_the_best_feature(...)\n",
    "\n",
    "    if model_quality_has_increased_since_last_round:\n",
    "        round = 0\n",
    "\n",
    "return list_of_best_features\n",
    "```"
   ]
  },
  {
   "cell_type": "markdown",
   "metadata": {
    "colab_type": "text",
    "id": "n2I2flY8AdRo"
   },
   "source": [
    "### **<span style=\"color:red\">ATTN</span>**\n",
    "Use $k=3$ for the $k$-fold cv, because higher values could take a **lo-o-o-o-o-o-o-o-ong** time.\n",
    "\n",
    "Please bear in mind that **the lower** RMSLE (`mean_squared_log_error`) is, **the higher the model \"quality\" is**.\n",
    "\n",
    "Please look up `cross_val_score(...)` peculiarities in [scikit's manual](https://scikit-learn.org/stable/documentation.html)."
   ]
  },
  {
   "cell_type": "markdown",
   "metadata": {
    "colab_type": "text",
    "id": "_JE8mho6AdRp"
   },
   "source": [
    "In the cell below implement a function that would iterate over a list of features and use $k$-fold `cross_val_score` to measure model \"quality\"."
   ]
  },
  {
   "cell_type": "code",
   "execution_count": 0,
   "metadata": {
    "colab": {},
    "colab_type": "code",
    "id": "PG8caohdAdRr"
   },
   "outputs": [],
   "source": [
    "from sklearn.metrics import make_scorer\n",
    "\n",
    "def selection_step(model, X, y, used_features=(), cv=3):\n",
    "    \"\"\"\n",
    "    Parameters\n",
    "    ==========\n",
    "        X: ndarray - training inputs\n",
    "        y: ndarray - training targets\n",
    "        used_features: - list of features\n",
    "        cv: int - number of folds\n",
    "\n",
    "    Returns\n",
    "    =======\n",
    "        scores - dictionary of scores\n",
    "    \"\"\"\n",
    "    \n",
    "    scores = {}\n",
    "    ### BEGIN Solution\n",
    "    not_used_columns = set(X.columns) - set(used_features)\n",
    "    for elem in not_used_columns:\n",
    "        X_with_new_feature = X[used_features + [elem]]\n",
    "        scores[elem] = np.mean(cross_val_score(model, X_with_new_feature, y, scoring=make_scorer(mean_squared_log_error, greater_is_better=False), cv=cv,))\n",
    "    ### END Solution\n",
    "\n",
    "    return scores"
   ]
  },
  {
   "cell_type": "code",
   "execution_count": 0,
   "metadata": {
    "colab": {},
    "colab_type": "code",
    "id": "86aNlaKeAdRu",
    "outputId": "babf04ad-6cfd-4bcc-fe84-881f380660e5"
   },
   "outputs": [
    {
     "data": {
      "text/plain": [
       "560"
      ]
     },
     "execution_count": 177,
     "metadata": {
      "tags": []
     },
     "output_type": "execute_result"
    }
   ],
   "source": [
    "len(X_train.columns)"
   ]
  },
  {
   "cell_type": "code",
   "execution_count": 0,
   "metadata": {
    "colab": {},
    "colab_type": "code",
    "id": "CXStkJfNAdRx"
   },
   "outputs": [],
   "source": [
    "def forward_steps(X, y, n_rounds, method):\n",
    "    \"\"\"\n",
    "    Parameters\n",
    "    ==========\n",
    "        X: ndarray - training inputs\n",
    "        y: ndarray - training targets\n",
    "        n_rounds: int - early stop when score doesn't increase n_rounds\n",
    "        method: sklearn model\n",
    "\n",
    "    Returns\n",
    "    =======\n",
    "        feat_best_list - list of features\n",
    "    \"\"\"\n",
    "    \n",
    "    feat_best_list = []\n",
    "\n",
    "    ### BEGIN Solution\n",
    "    \n",
    "    round = 0\n",
    "    score = np.infty\n",
    "    ind = -1\n",
    "    while round < n_rounds:\n",
    "        round = round + 1\n",
    "        if len(feat_best_list) == X.shape[1]:\n",
    "            break\n",
    "  \n",
    "        min_key = None\n",
    "        curr_min = np.infty\n",
    "        for key, value in selection_step(method, X, y, feat_best_list).items():\n",
    "            if value < curr_min:\n",
    "                curr_min = value\n",
    "                min_key = key\n",
    "\n",
    "        if curr_min < score:\n",
    "            score = curr_min\n",
    "            feat_best_list.append(min_key)\n",
    "            round = 0\n",
    "\n",
    "    ### END Solution\n",
    "    \n",
    "    return feat_best_list\n"
   ]
  },
  {
   "cell_type": "markdown",
   "metadata": {
    "colab_type": "text",
    "id": "ogUckcV3AdR0"
   },
   "source": [
    "Use the function implemented above and use DecisionTreeRegressor to get the best features according to this algorithm and print them."
   ]
  },
  {
   "cell_type": "code",
   "execution_count": 0,
   "metadata": {
    "colab": {},
    "colab_type": "code",
    "id": "pvvWDPjQAdR1",
    "outputId": "470b1717-af84-4ee7-881a-1762c7875b19"
   },
   "outputs": [
    {
     "name": "stdout",
     "output_type": "stream",
     "text": [
      "CPU times: user 12min 34s, sys: 1.09 s, total: 12min 35s\n",
      "Wall time: 12min 56s\n"
     ]
    }
   ],
   "source": [
    "%%time\n",
    "### BEGIN Solution\n",
    "best_features = forward_steps(X_train, y_train_log, 10, DecisionTreeRegressor(max_depth=3, random_state=666))\n",
    "### END Solution"
   ]
  },
  {
   "cell_type": "markdown",
   "metadata": {
    "colab_type": "text",
    "id": "l5C_sbn6AdR7"
   },
   "source": [
    "Use Linear Regression, Ridge regression, Random forest and DecisionTree to get the RMSLE score using these features. Remember the function you wrote earlier."
   ]
  },
  {
   "cell_type": "code",
   "execution_count": 0,
   "metadata": {
    "colab": {},
    "colab_type": "code",
    "id": "5_Zn9N2yAdR7",
    "outputId": "8d679a49-1ff7-438f-e675-e935785f326a",
    "scrolled": true
   },
   "outputs": [
    {
     "name": "stderr",
     "output_type": "stream",
     "text": [
      "/home/dmitriy/MyEnv/other/skoltech/ml/env/lib/python3.5/site-packages/ipykernel_launcher.py:33: DataConversionWarning: A column-vector y was passed when a 1d array was expected. Please change the shape of y to (n_samples,), for example using ravel().\n"
     ]
    },
    {
     "data": {
      "text/html": [
       "<div>\n",
       "<style scoped>\n",
       "    .dataframe tbody tr th:only-of-type {\n",
       "        vertical-align: middle;\n",
       "    }\n",
       "\n",
       "    .dataframe tbody tr th {\n",
       "        vertical-align: top;\n",
       "    }\n",
       "\n",
       "    .dataframe thead th {\n",
       "        text-align: right;\n",
       "    }\n",
       "</style>\n",
       "<table border=\"1\" class=\"dataframe\">\n",
       "  <thead>\n",
       "    <tr style=\"text-align: right;\">\n",
       "      <th></th>\n",
       "      <th>Methods</th>\n",
       "      <th>Test loss</th>\n",
       "      <th>Train loss</th>\n",
       "    </tr>\n",
       "  </thead>\n",
       "  <tbody>\n",
       "    <tr>\n",
       "      <th>0</th>\n",
       "      <td>RFR</td>\n",
       "      <td>0.001361</td>\n",
       "      <td>0.001367</td>\n",
       "    </tr>\n",
       "    <tr>\n",
       "      <th>1</th>\n",
       "      <td>Ridge</td>\n",
       "      <td>0.001361</td>\n",
       "      <td>0.001367</td>\n",
       "    </tr>\n",
       "    <tr>\n",
       "      <th>2</th>\n",
       "      <td>Dtree</td>\n",
       "      <td>0.001361</td>\n",
       "      <td>0.001367</td>\n",
       "    </tr>\n",
       "    <tr>\n",
       "      <th>3</th>\n",
       "      <td>Linear Regression</td>\n",
       "      <td>0.001361</td>\n",
       "      <td>0.001367</td>\n",
       "    </tr>\n",
       "  </tbody>\n",
       "</table>\n",
       "</div>"
      ],
      "text/plain": [
       "             Methods  Test loss  Train loss\n",
       "0                RFR   0.001361    0.001367\n",
       "1              Ridge   0.001361    0.001367\n",
       "2              Dtree   0.001361    0.001367\n",
       "3  Linear Regression   0.001361    0.001367"
      ]
     },
     "execution_count": 179,
     "metadata": {
      "tags": []
     },
     "output_type": "execute_result"
    }
   ],
   "source": [
    "### BEGIN Solution\n",
    "comparator(X_train[best_features], y_train_log, X_test[best_features], y_test_log)\n",
    "### END Solution"
   ]
  },
  {
   "cell_type": "code",
   "execution_count": 0,
   "metadata": {
    "colab": {},
    "colab_type": "code",
    "id": "uTy5l37xAdR-",
    "outputId": "7a751628-352d-4ab8-cdbe-4b9bced5075c"
   },
   "outputs": [
    {
     "data": {
      "text/plain": [
       "['sub_area_Juzhnoe Medvedkovo',\n",
       " 'sub_area_Severnoe Medvedkovo',\n",
       " 'sub_area_Molzhaninovskoe',\n",
       " 'sub_area_Koptevo',\n",
       " 'sub_area_Mozhajskoe',\n",
       " 'sub_area_Silino',\n",
       " 'sub_area_Rjazanskij',\n",
       " 'sub_area_Hovrino',\n",
       " \"sub_area_Moskvorech'e-Saburovo\",\n",
       " 'sub_area_Ochakovo-Matveevskoe',\n",
       " 'sub_area_Novo-Peredelkino',\n",
       " \"sub_area_Chertanovo Central'noe\"]"
      ]
     },
     "execution_count": 180,
     "metadata": {
      "tags": []
     },
     "output_type": "execute_result"
    }
   ],
   "source": [
    "best_features"
   ]
  },
  {
   "cell_type": "markdown",
   "metadata": {
    "colab_type": "text",
    "id": "FXu6JEbJAdSB"
   },
   "source": [
    "<br>"
   ]
  },
  {
   "cell_type": "markdown",
   "metadata": {
    "colab_type": "text",
    "id": "VZfBLAkAAdSC"
   },
   "source": [
    "## Boosting: gradient boosting, adaboost\n"
   ]
  },
  {
   "cell_type": "markdown",
   "metadata": {
    "colab_type": "text",
    "id": "mDlLf2c1AdSD"
   },
   "source": [
    "### Practical Boosting"
   ]
  },
  {
   "cell_type": "markdown",
   "metadata": {
    "colab_type": "text",
    "id": "3flzQQPCAdSD"
   },
   "source": [
    "In this task you are asked to implement a boosting algorithm, and compare speed of\n",
    "different popular boosting libraries."
   ]
  },
  {
   "cell_type": "markdown",
   "metadata": {
    "colab_type": "text",
    "id": "O5TrBtG_AdSE"
   },
   "source": [
    "### Task 4 (2 pt.): Boosting Classification on a toy dataset"
   ]
  },
  {
   "cell_type": "markdown",
   "metadata": {
    "colab_type": "text",
    "id": "TjH2ewiIAdSF"
   },
   "source": [
    "Let's generate a toy dataset for classification."
   ]
  },
  {
   "cell_type": "code",
   "execution_count": 0,
   "metadata": {
    "colab": {},
    "colab_type": "code",
    "id": "qg6VlK8pAdSF"
   },
   "outputs": [],
   "source": [
    "from sklearn.datasets import make_moons\n",
    "from sklearn.model_selection import train_test_split\n",
    "\n",
    "X, y = make_moons(n_samples=300, shuffle=True, noise=0.05, random_state=1011)\n",
    "X_train, X_test, y_train, y_test = train_test_split(X, y, test_size=0.4, random_state=1011)"
   ]
  },
  {
   "cell_type": "markdown",
   "metadata": {
    "colab_type": "text",
    "id": "3zOTzq_gAdSH"
   },
   "source": [
    "Your task is:\n",
    "1. Implement gradient boosting algorithms with **logistic loss**\n",
    "and labels $y\\in \\{-1, +1\\}$;\n",
    "2. **Plot the decision boundary** on a $2$-d grid; \n",
    "3. Estimate the accuracy **score** on the test dataset, as well\n",
    "as other classification metrics, that you can think of;\n",
    "    \n",
    "For basic implementation please refer to seminars $8-9$."
   ]
  },
  {
   "cell_type": "code",
   "execution_count": 0,
   "metadata": {
    "colab": {},
    "colab_type": "code",
    "id": "2UVnw3WGAdSI"
   },
   "outputs": [],
   "source": [
    "from sklearn.tree import DecisionTreeRegressor"
   ]
  },
  {
   "cell_type": "code",
   "execution_count": 0,
   "metadata": {
    "colab": {},
    "colab_type": "code",
    "id": "oTq1Eek4AdSK",
    "outputId": "4c7dcf5f-7af8-41fa-c88d-582dc7862d9b"
   },
   "outputs": [
    {
     "name": "stdout",
     "output_type": "stream",
     "text": [
      "Collecting tqdm\n",
      "\u001b[?25l  Downloading https://files.pythonhosted.org/packages/6c/4b/c38b5144cf167c4f52288517436ccafefe9dc01b8d1c190e18a6b154cd4a/tqdm-4.31.1-py2.py3-none-any.whl (48kB)\n",
      "\u001b[K    100% |████████████████████████████████| 51kB 514kB/s ta 0:00:01\n",
      "\u001b[?25hInstalling collected packages: tqdm\n",
      "Successfully installed tqdm-4.31.1\n"
     ]
    }
   ],
   "source": [
    "!pip install tqdm"
   ]
  },
  {
   "cell_type": "code",
   "execution_count": 0,
   "metadata": {
    "colab": {},
    "colab_type": "code",
    "id": "EN9pBWiwAdSN",
    "outputId": "dc3c28a6-2e18-41c6-eb06-499a2f171947"
   },
   "outputs": [
    {
     "name": "stderr",
     "output_type": "stream",
     "text": [
      "100%|██████████| 100/100 [00:00<00:00, 180.54it/s]"
     ]
    },
    {
     "name": "stdout",
     "output_type": "stream",
     "text": [
      "100\n",
      "100\n"
     ]
    },
    {
     "name": "stderr",
     "output_type": "stream",
     "text": [
      "\n"
     ]
    }
   ],
   "source": [
    "### BEGIN Solution\n",
    "from tqdm import tqdm\n",
    "from scipy.optimize import golden\n",
    "from sklearn.tree import DecisionTreeRegressor\n",
    "\n",
    "class GB(object):\n",
    "    \n",
    "    ll = lambda y, x: np.log(1+np.exp(-y*x)).sum()\n",
    "    ll_derivative = lambda y, x: (-y)/(1+np.exp(y*x))\n",
    "    \n",
    "    def __init__(self, n_estimators, elementary_class, elementary_params={}):\n",
    "        assert n_estimators > 0, \"You probably need at least one estimator\"\n",
    "        \n",
    "        self.n_estimators = n_estimators\n",
    "        self.elementary_class = elementary_class\n",
    "        self.elementary_params = elementary_params\n",
    "        self.estimators = []\n",
    "        self.estimators_weights = []\n",
    "        \n",
    "    \n",
    "    def predict(self, X):\n",
    "        assert len(self.estimators) > 0 and (len(self.estimators) == len(self.estimators_weights)), \"First call predict!\"\n",
    "        predictions = np.zeros(X.shape[0])\n",
    "        for elementary, weight in zip(self.estimators, self.estimators_weights):\n",
    "            predictions += weight * elementary.predict(X)\n",
    "        return np.sign(predictions)\n",
    "\n",
    "    \n",
    "    def fit(self, X_train, y_train):\n",
    "        assert tuple(np.sort(np.unique(y_train))) == (-1,1), \"I will work only for -1;1 targets\"\n",
    "    \n",
    "        self.estimators = []\n",
    "        self.estimators_weights = []\n",
    "        predictions = np.zeros(X_train.shape[0])\n",
    "        for i in tqdm(range(self.n_estimators)):\n",
    "            residuals = GB.ll_derivative(y_train, np.sign(predictions))\n",
    "            elementary = self.elementary_class(**self.elementary_params)\n",
    "            elementary.fit(X_train, -residuals)\n",
    "\n",
    "            elementary_predict = elementary.predict(X_train)\n",
    "            to_optimize = lambda gamma: GB.ll(y_train, predictions + gamma * elementary_predict) \n",
    "            gamma = golden(to_optimize)\n",
    "\n",
    "            self.estimators.append(elementary)\n",
    "            self.estimators_weights.append(gamma)\n",
    "            \n",
    "            predictions += gamma * elementary_predict\n",
    "            # predictions = np.sign(predictions)\n",
    "            \n",
    "        return self\n",
    "\n",
    "\n",
    "    \n",
    "gb = GB(100, DecisionTreeRegressor, {'max_depth': 3})\n",
    "gb.fit(X_train, y_train*2-1)\n",
    "\n",
    "print(len(gb.estimators))\n",
    "print(len(gb.estimators_weights))\n",
    "\n",
    "### END Solution"
   ]
  },
  {
   "cell_type": "code",
   "execution_count": 0,
   "metadata": {
    "colab": {},
    "colab_type": "code",
    "id": "UENbEicNAdSS",
    "outputId": "3a3b4f48-1db6-460f-b233-e42a979ab132"
   },
   "outputs": [
    {
     "data": {
      "text/plain": [
       "Text(0, 0.5, '$x_2$')"
      ]
     },
     "execution_count": 380,
     "metadata": {
      "tags": []
     },
     "output_type": "execute_result"
    },
    {
     "data": {
      "image/png": "[encoded data removed]",
      "text/plain": [
       "<Figure size 432x288 with 1 Axes>"
      ]
     },
     "metadata": {
      "needs_background": "light",
      "tags": []
     },
     "output_type": "display_data"
    }
   ],
   "source": [
    "def expand(a, b, factor=0.2):\n",
    "    return a - abs(a) * factor, b + abs(b) * factor\n",
    "\n",
    "X_l, X_h = X_train.min(axis=0), X.max(axis=0)\n",
    "xx0, xx1 = np.meshgrid(np.linspace(*expand(X_l[0], X_h[0]), num=100),\n",
    "                       np.linspace(*expand(X_l[1], X_h[1]), num=100))\n",
    "\n",
    "X_grid = np.c_[xx0.ravel(), xx1.ravel()]\n",
    "prediction = gb.predict(X_grid)\n",
    "a = plt.contour(xx0, xx1, prediction.reshape(xx0.shape[0], xx0.shape[1]), levels=0, colors='g')\n",
    "plt.legend([a.collections[0]], ['decision boundary'], loc='lower right')\n",
    "plt.scatter(X[:,0],X[:,1], c = y)\n",
    "plt.title('Decision boundary ')\n",
    "plt.xlabel(r'$x_1$')\n",
    "plt.ylabel(r'$x_2$')"
   ]
  },
  {
   "cell_type": "code",
   "execution_count": 0,
   "metadata": {
    "colab": {},
    "colab_type": "code",
    "id": "eJ0cZTjHAdSa",
    "outputId": "8ba7d7e0-c924-4016-d233-31d21e0f1773"
   },
   "outputs": [
    {
     "name": "stdout",
     "output_type": "stream",
     "text": [
      "Train unique values: [0 1]. Train unique values counts: [88 92]\n",
      "Test unique values: [0 1]. Test unique values counts: [62 58]\n"
     ]
    }
   ],
   "source": [
    "tr_u, tr_cnts = np.unique(y_train, return_counts=True)\n",
    "test_u, test_cnts = np.unique(y_test, return_counts=True)\n",
    "print(\"Train unique values: {}. Train unique values counts: {}\".format(tr_u, tr_cnts))\n",
    "print(\"Test unique values: {}. Test unique values counts: {}\".format(test_u, test_cnts))"
   ]
  },
  {
   "cell_type": "markdown",
   "metadata": {
    "colab_type": "text",
    "id": "bIuXuPgxAdSd"
   },
   "source": [
    "As we can see train and test are pretty balanced, so let's just check accuracy score"
   ]
  },
  {
   "cell_type": "code",
   "execution_count": 0,
   "metadata": {
    "colab": {},
    "colab_type": "code",
    "id": "F7nNsRG9AdSe",
    "outputId": "1b312ea6-8945-4f46-91c1-3bdd7c1664b3"
   },
   "outputs": [
    {
     "name": "stdout",
     "output_type": "stream",
     "text": [
      "Accuracy:  0.975\n"
     ]
    }
   ],
   "source": [
    "from sklearn.metrics import accuracy_score\n",
    "predictions = ((gb.predict(X_test) + 1)/2).astype(np.int32) # back to 0,1\n",
    "print('Accuracy: ', accuracy_score(y_test, predictions))"
   ]
  },
  {
   "cell_type": "markdown",
   "metadata": {
    "colab_type": "text",
    "id": "DHYlyvA_AdSj"
   },
   "source": [
    "<br/> <!--Intentionally left blank-->"
   ]
  },
  {
   "cell_type": "markdown",
   "metadata": {
    "colab_type": "text",
    "id": "KBwa7eoHAdSj"
   },
   "source": [
    "### Task 5 (1 pt.): Measuring the Speed and Performance\n",
    "\n",
    "Please make sure to install the following powerful packages for boosting:\n",
    "* [xgboost](https://anaconda.org/conda-forge/xgboost)\n",
    "* [lightgbm](https://anaconda.org/conda-forge/lightgbm)\n",
    "* [catboost](https://tech.yandex.com/catboost/doc/dg/concepts/python-installation-docpage/)"
   ]
  },
  {
   "cell_type": "markdown",
   "metadata": {
    "colab_type": "text",
    "id": "P908YVgXAdSk"
   },
   "source": [
    "In this task you are asked to compare the **training time** of the **GBDT**, the\n",
    "Gradient Boosted Decision Trees, as implemeted by different popular ML libraries.\n",
    "The dataset you shall use is the [UCI Breast Cancer dataset](https://archive.ics.uci.edu/ml/datasets/Breast+Cancer+Wisconsin+%28Diagnostic%29).\n",
    "You should study the parameters of each library and establish the **correspondence**\n",
    "between them.\n",
    "\n",
    "The plan is as follows:\n",
    "1. Take the **default** parameter settings, measure the training time, and plot\n",
    "the ROC curves;\n",
    "2. Use grid search with the $3$-fold cross valiadation to choose the best model.\n",
    "Then measure the training time as a function of (separately) **tree depth** and **the\n",
    "number of estimators in the ensemble**, finally **plot the ROC** curves of the best\n",
    "models.\n",
    "\n",
    "You need to make sure that you are comparing **comparable** classifiers, i.e. with\n",
    "**the same tree and ensemble hyperparameters**.\n",
    "\n",
    "<span style=\"color:green\">**NOTE**</span> You need figure out how to make parameter settings\n",
    "compatible. One possible way to understand the correspondence is to study the docs. You may\n",
    "choose the default parameters from any library.\n",
    "\n",
    "Please plot **three** ROC curves, one per library, on the same **one plot**\n",
    "with a *comprehensible [legend](https://matplotlib.org/users/legend_guide.html)*.\n",
    "\n",
    "A useful command for timing is IPython's [**timeit** cell magic](http://ipython.readthedocs.io/en/stable/interactive/magics.html#magic-timeit). "
   ]
  },
  {
   "cell_type": "code",
   "execution_count": 0,
   "metadata": {
    "colab": {},
    "colab_type": "code",
    "collapsed": true,
    "id": "-K5DaAkZAdSl"
   },
   "outputs": [],
   "source": [
    "from sklearn.datasets import load_breast_cancer\n",
    "from sklearn.model_selection import train_test_split\n",
    "\n",
    "data = load_breast_cancer()\n",
    "X, y = data.data, data.target\n",
    "\n",
    "X_train, X_test, y_train, y_test = train_test_split(X, y, test_size=0.4,\n",
    "                                                    random_state=0x0BADBEEF)"
   ]
  },
  {
   "cell_type": "code",
   "execution_count": 0,
   "metadata": {
    "colab": {},
    "colab_type": "code",
    "id": "bn6W0WpqAdSn",
    "outputId": "a5de6561-d2e9-47ff-b492-f0a64b004825"
   },
   "outputs": [
    {
     "name": "stdout",
     "output_type": "stream",
     "text": [
      "Training time: 0.0173\n",
      "Training time: 0.0223\n",
      "Training time: 6.2590\n"
     ]
    },
    {
     "data": {
      "text/plain": [
       "<matplotlib.legend.Legend at 0x7f1912e40e80>"
      ]
     },
     "execution_count": 51,
     "metadata": {
      "tags": []
     },
     "output_type": "execute_result"
    },
    {
     "data": {
      "image/png": "[encoded data removed]",
      "text/plain": [
       "<Figure size 432x288 with 1 Axes>"
      ]
     },
     "metadata": {
      "needs_background": "light",
      "tags": []
     },
     "output_type": "display_data"
    }
   ],
   "source": [
    "### BEGIN Solution\n",
    "from xgboost import XGBClassifier\n",
    "from lightgbm import LGBMClassifier\n",
    "from catboost import CatBoostClassifier\n",
    "from sklearn.metrics import roc_curve, auc\n",
    "import time\n",
    "\n",
    "clf = XGBClassifier()\n",
    "start = time.time()\n",
    "clf.fit(X_train, y_train)\n",
    "end = time.time()\n",
    "print(\"Training time: {0:.4f}\".format(end-start))\n",
    "roc_curve_xgb = roc_curve(y_test, clf.predict_proba(X_test)[:,1])\n",
    "roc_auc_xgb = auc(roc_curve_xgb[0], roc_curve_xgb[1])\n",
    "\n",
    "\n",
    "clf = LGBMClassifier()\n",
    "start = time.time()\n",
    "clf.fit(X_train, y_train)\n",
    "end = time.time()\n",
    "print(\"Training time: {0:.4f}\".format(end-start))\n",
    "roc_curve_lgbm = roc_curve(y_test, clf.predict_proba(X_test)[:,1])\n",
    "roc_auc_lgbm = auc(roc_curve_lgbm[0], roc_curve_lgbm[1])\n",
    "\n",
    "\n",
    "clf = CatBoostClassifier(verbose = False)\n",
    "start = time.time()\n",
    "clf.fit(X_train, y_train)\n",
    "end = time.time()\n",
    "print(\"Training time: {0:.4f}\".format(end - start))\n",
    "roc_curve_cboost = roc_curve(y_test, clf.predict_proba(X_test)[:,1])\n",
    "roc_auc_cboost = auc(roc_curve_cboost[0], roc_curve_cboost[1])\n",
    "\n",
    "plt.title('ROC AUC for different boostings with default parameters')\n",
    "plt.plot(roc_curve_cboost[0], roc_curve_cboost[1], label='CatBoost, roc_auc = %.4f' % roc_auc_cboost)\n",
    "plt.plot(roc_curve_lgbm[0], roc_curve_lgbm[1], label='LightGBM, roc_auc = %.4f' % roc_auc_lgbm)\n",
    "plt.plot(roc_curve_xgb[0], roc_curve_xgb[1], label='XGBoost, roc_auc = %.4f' % roc_auc_xgb)\n",
    "plt.xlabel('false positive rate')\n",
    "plt.ylabel('true positive rate')\n",
    "plt.plot()\n",
    "plt.legend()\n",
    "### END Solution"
   ]
  },
  {
   "cell_type": "code",
   "execution_count": 0,
   "metadata": {
    "colab": {},
    "colab_type": "code",
    "id": "xFr2ojB0AdSp"
   },
   "outputs": [],
   "source": [
    "from sklearn.model_selection import GridSearchCV\n",
    "depths = [1, 2, 3, 4, 5, 6]\n",
    "estimators = [5,10, 15, 20, 25, 30, 35, 40, 45, 50, 55, 60, 65, 70, 75, 80, 85, 90, 95, 100]\n",
    "lr = [0.001, 0.01, 0.1, 1]\n",
    "params = {'max_depth': depths, 'n_estimators': estimators, 'learning_rate': lr}\n",
    "# cboost added a lot of aliases hence we can use single params dict"
   ]
  },
  {
   "cell_type": "code",
   "execution_count": 0,
   "metadata": {
    "colab": {},
    "colab_type": "code",
    "id": "m8OFhJ_KAdSr",
    "outputId": "6876ec53-bc3c-403b-865e-d3f2ad3c784d"
   },
   "outputs": [
    {
     "name": "stderr",
     "output_type": "stream",
     "text": [
      "/home/dmitriy/MyEnv/other/skoltech/ml/env/lib/python3.5/site-packages/sklearn/model_selection/_search.py:841: DeprecationWarning: The default of the `iid` parameter will change from True to False in version 0.22 and will be removed in 0.24. This will change numeric results when test-set sizes are unequal.\n",
      "  DeprecationWarning)\n"
     ]
    }
   ],
   "source": [
    "gscv = GridSearchCV(XGBClassifier(), params, cv=5)\n",
    "gscv.fit(X_train, y_train)\n",
    "xgb = gscv.best_estimator_"
   ]
  },
  {
   "cell_type": "code",
   "execution_count": 0,
   "metadata": {
    "colab": {},
    "colab_type": "code",
    "id": "ojvU7oG_AdSu",
    "outputId": "7ffa3ea0-f441-439d-9583-0b30cb62a7a9"
   },
   "outputs": [
    {
     "name": "stderr",
     "output_type": "stream",
     "text": [
      "/home/dmitriy/MyEnv/other/skoltech/ml/env/lib/python3.5/site-packages/sklearn/model_selection/_search.py:841: DeprecationWarning: The default of the `iid` parameter will change from True to False in version 0.22 and will be removed in 0.24. This will change numeric results when test-set sizes are unequal.\n",
      "  DeprecationWarning)\n"
     ]
    }
   ],
   "source": [
    "gscv = GridSearchCV(LGBMClassifier(), params, cv=5)\n",
    "gscv.fit(X_train, y_train)\n",
    "lgb = gscv.best_estimator_"
   ]
  },
  {
   "cell_type": "code",
   "execution_count": 0,
   "metadata": {
    "colab": {},
    "colab_type": "code",
    "id": "Er5jk0VWAdS1",
    "outputId": "674eab2e-921d-4480-cb09-80de2cc212c1"
   },
   "outputs": [
    {
     "name": "stderr",
     "output_type": "stream",
     "text": [
      "/home/dmitriy/MyEnv/other/skoltech/ml/env/lib/python3.5/site-packages/sklearn/model_selection/_search.py:841: DeprecationWarning: The default of the `iid` parameter will change from True to False in version 0.22 and will be removed in 0.24. This will change numeric results when test-set sizes are unequal.\n",
      "  DeprecationWarning)\n"
     ]
    }
   ],
   "source": [
    "gscv = GridSearchCV(CatBoostClassifier(verbose = False), params, cv=5)\n",
    "gscv.fit(X_train, y_train)\n",
    "cboost = gscv.best_estimator_"
   ]
  },
  {
   "cell_type": "code",
   "execution_count": 0,
   "metadata": {
    "colab": {},
    "colab_type": "code",
    "id": "ajyVwkigAdS9",
    "outputId": "1c89725b-e9cb-4586-9ce2-44b78470eb0a"
   },
   "outputs": [
    {
     "data": {
      "text/plain": [
       "XGBClassifier(base_score=0.5, booster='gbtree', colsample_bylevel=1,\n",
       "       colsample_bytree=1, gamma=0, learning_rate=0.1, max_delta_step=0,\n",
       "       max_depth=4, min_child_weight=1, missing=None, n_estimators=30,\n",
       "       n_jobs=1, nthread=None, objective='binary:logistic', random_state=0,\n",
       "       reg_alpha=0, reg_lambda=1, scale_pos_weight=1, seed=None,\n",
       "       silent=True, subsample=1)"
      ]
     },
     "execution_count": 66,
     "metadata": {
      "tags": []
     },
     "output_type": "execute_result"
    }
   ],
   "source": [
    "xgb"
   ]
  },
  {
   "cell_type": "code",
   "execution_count": 0,
   "metadata": {
    "colab": {},
    "colab_type": "code",
    "id": "C_YIvlgeAdTF",
    "outputId": "28f40afa-1c92-4a83-ffed-e9d4778e0ded"
   },
   "outputs": [
    {
     "data": {
      "text/plain": [
       "<catboost.core.CatBoostClassifier at 0x7f1930e5a128>"
      ]
     },
     "execution_count": 67,
     "metadata": {
      "tags": []
     },
     "output_type": "execute_result"
    }
   ],
   "source": [
    "cboost"
   ]
  },
  {
   "cell_type": "code",
   "execution_count": 0,
   "metadata": {
    "colab": {},
    "colab_type": "code",
    "id": "fOpTVyW5AdTJ",
    "outputId": "3c5fc13f-fd8a-4b35-e422-5cfe59152400"
   },
   "outputs": [
    {
     "data": {
      "text/plain": [
       "LGBMClassifier(boosting_type='gbdt', class_weight=None, colsample_bytree=1.0,\n",
       "        importance_type='split', learning_rate=1, max_depth=2,\n",
       "        min_child_samples=20, min_child_weight=0.001, min_split_gain=0.0,\n",
       "        n_estimators=10, n_jobs=-1, num_leaves=31, objective=None,\n",
       "        random_state=None, reg_alpha=0.0, reg_lambda=0.0, silent=True,\n",
       "        subsample=1.0, subsample_for_bin=200000, subsample_freq=0)"
      ]
     },
     "execution_count": 68,
     "metadata": {
      "tags": []
     },
     "output_type": "execute_result"
    }
   ],
   "source": [
    "lgb"
   ]
  },
  {
   "cell_type": "code",
   "execution_count": 0,
   "metadata": {
    "colab": {},
    "colab_type": "code",
    "id": "hRWWwq1IAdTQ",
    "outputId": "6055cfd2-df68-4a25-c99b-5aa2d760ce31"
   },
   "outputs": [
    {
     "data": {
      "image/png": "[encoded data removed]",
      "text/plain": [
       "<Figure size 1152x648 with 1 Axes>"
      ]
     },
     "metadata": {
      "needs_background": "light",
      "tags": []
     },
     "output_type": "display_data"
    }
   ],
   "source": [
    "plt.figure(figsize=(16,9))\n",
    "\n",
    "times_xgb = []\n",
    "times_lgb = []\n",
    "times_cboost = []\n",
    "for d in depths:\n",
    "    clf = XGBClassifier(max_depth=d, n_estimators=50)\n",
    "    start = time.time()\n",
    "    clf.fit(X_train, y_train)\n",
    "    end = time.time()\n",
    "    times_xgb.append(end-start)\n",
    "    clf = LGBMClassifier(max_depth=d, n_estimators=50)\n",
    "    start = time.time()\n",
    "    clf.fit(X_train, y_train)\n",
    "    end = time.time()\n",
    "    times_lgb.append(end-start)\n",
    "    clf = CatBoostClassifier(max_depth=d, verbose = False, n_estimators=50)\n",
    "    start = time.time()\n",
    "    clf.fit(X_train, y_train)\n",
    "    end = time.time()\n",
    "    times_cboost.append(end-start)\n",
    "    \n",
    "plt.title('Train time by max_depth')\n",
    "plt.plot(depths, times_xgb)\n",
    "plt.plot(depths, times_lgb)\n",
    "plt.plot(depths, times_cboost)\n",
    "plt.xlabel('max_depth')\n",
    "plt.ylabel('time, s')\n",
    "plt.legend([\n",
    "    'XGB',\n",
    "    'LGBM',\n",
    "    'CatBoost'\n",
    "])\n",
    "plt.show()"
   ]
  },
  {
   "cell_type": "code",
   "execution_count": 0,
   "metadata": {
    "colab": {},
    "colab_type": "code",
    "id": "XIoDfn0sAdTU",
    "outputId": "0d349a4e-bb68-45d8-881f-24e3342e6998"
   },
   "outputs": [
    {
     "data": {
      "image/png": "[encoded data removed]",
      "text/plain": [
       "<Figure size 1152x648 with 1 Axes>"
      ]
     },
     "metadata": {
      "needs_background": "light",
      "tags": []
     },
     "output_type": "display_data"
    }
   ],
   "source": [
    "plt.figure(figsize=(16,9))\n",
    "\n",
    "times_xgb = []\n",
    "times_lgb = []\n",
    "times_cboost = []\n",
    "for n in estimators:\n",
    "    clf = XGBClassifier(n_estimators=n, max_depth=5)\n",
    "    start = time.time()\n",
    "    clf.fit(X_train, y_train)\n",
    "    end = time.time()\n",
    "    times_xgb.append(end-start)\n",
    "    clf = LGBMClassifier(n_estimators=n, max_depth=5)\n",
    "    start = time.time()\n",
    "    clf.fit(X_train, y_train)\n",
    "    end = time.time()\n",
    "    times_lgb.append(end-start)\n",
    "    clf = CatBoostClassifier(n_estimators=n, verbose = False, max_depth=5)\n",
    "    start = time.time()\n",
    "    clf.fit(X_train, y_train)\n",
    "    end = time.time()\n",
    "    times_cboost.append(end-start)\n",
    "    \n",
    "plt.title('Train time by n_estimators')\n",
    "plt.plot(estimators, times_xgb)\n",
    "plt.plot(estimators, times_lgb)\n",
    "plt.plot(estimators, times_cboost)\n",
    "plt.xlabel('n_estimators')\n",
    "plt.ylabel('time, s')\n",
    "plt.legend([\n",
    "    'XGB',\n",
    "    'LGBM',\n",
    "    'CatBoost'\n",
    "])\n",
    "plt.show()"
   ]
  },
  {
   "cell_type": "code",
   "execution_count": 0,
   "metadata": {
    "colab": {},
    "colab_type": "code",
    "id": "TwK4-ZRAAdTX",
    "outputId": "8abbdc5f-2e5a-4888-a4a4-924e6fa6d0fc"
   },
   "outputs": [
    {
     "data": {
      "image/png": "[encoded data removed]",
      "text/plain": [
       "<Figure size 1152x648 with 1 Axes>"
      ]
     },
     "metadata": {
      "needs_background": "light",
      "tags": []
     },
     "output_type": "display_data"
    }
   ],
   "source": [
    "plt.figure(figsize=(16,9))\n",
    "\n",
    "roc_curve_xgb = roc_curve(y_test, xgb.predict_proba(X_test)[:,1])\n",
    "roc_curve_cboost = roc_curve(y_test, cboost.predict_proba(X_test)[:,1])\n",
    "roc_curve_lgb = roc_curve(y_test, lgb.predict_proba(X_test)[:,1])\n",
    "roc_auc_xgb = auc(roc_curve_xgb[0], roc_curve_xgb[1])\n",
    "roc_auc_cboost = auc(roc_curve_cboost[0],roc_curve_cboost[1])\n",
    "roc_auc_lgb = auc(roc_curve_lgb[0],roc_curve_lgb[1])\n",
    "plt.title('ROC AUC')\n",
    "plt.plot(roc_curve_cboost[0], roc_curve_cboost[1])\n",
    "plt.plot(roc_curve_lgb[0], roc_curve_lgb[1])\n",
    "plt.plot(roc_curve_xgb[0], roc_curve_xgb[1])\n",
    "plt.xlabel('false positive rate')\n",
    "plt.ylabel('true positive rate')\n",
    "plt.legend([\n",
    "    'CatBoost %.4f' % roc_auc_cboost,\n",
    "    'LGBM %.4f' % roc_auc_lgb,\n",
    "    'XGB %.4f' % roc_auc_xgb\n",
    "           ])\n",
    "plt.show()"
   ]
  },
  {
   "cell_type": "markdown",
   "metadata": {
    "colab_type": "text",
    "id": "YkPkQsZ-AdTb"
   },
   "source": [
    "<br>"
   ]
  },
  {
   "cell_type": "markdown",
   "metadata": {
    "colab_type": "text",
    "id": "XYY0PF03AdTc"
   },
   "source": [
    "## NNs"
   ]
  },
  {
   "cell_type": "markdown",
   "metadata": {
    "colab_type": "text",
    "id": "JycGT8heAdTc"
   },
   "source": [
    "### Task 6 (1 pt.): Activation functions\n",
    "Plot the following [activation functions](https://pytorch.org/docs/master/nn.html#non-linear-activation-functions) using their PyTorch realizations and their derivatives using autograd functionality:\n",
    "* ReLU, ELU ($\\alpha = 1$), Softplus ($\\beta = 1$);\n",
    "* Sign, Sigmoid, Softsign, Tanh."
   ]
  },
  {
   "cell_type": "code",
   "execution_count": 0,
   "metadata": {
    "colab": {},
    "colab_type": "code",
    "id": "LE6w82XRAdTe",
    "outputId": "36300740-d694-4e94-adb8-8c9adbc125d1"
   },
   "outputs": [
    {
     "data": {
      "image/png": "[encoded data removed]",
      "text/plain": [
       "<Figure size 1080x504 with 4 Axes>"
      ]
     },
     "metadata": {
      "needs_background": "light",
      "tags": []
     },
     "output_type": "display_data"
    }
   ],
   "source": [
    "import torch.nn.functional as F\n",
    "import matplotlib.pyplot as plt\n",
    "import torch\n",
    "\n",
    "\n",
    "x = torch.arange(-2, 2, .01, requires_grad=True)\n",
    "# ?\n",
    "#x.sum().backward() # to create x.grad\n",
    "\n",
    "f, axes = plt.subplots(2, 2, sharex=True, figsize=(15, 7))\n",
    "axes[0, 0].set_title('Values')\n",
    "axes[0, 1].set_title('Derivatives')\n",
    "\n",
    "for i, function_set in (0, (('ReLU', F.relu), ('ELU', F.elu), ('Softplus', F.softplus))), \\\n",
    "                       (1, (('Sign', torch.sign), ('Sigmoid', torch.sigmoid), ('Softsign', F.softsign), ('Tanh', torch.tanh))):\n",
    "    for function_name, activation in function_set:\n",
    "        ### BEGIN Solution\n",
    "        z = activation(x)\n",
    "        axes[i, 0].plot(x.tolist(), z.tolist(), label=function_name)\n",
    "        z.sum().backward()\n",
    "        axes[i, 1].plot(x.tolist(), x.grad.tolist(), label=function_name)\n",
    "        x.grad.data.zero_() # inplace \n",
    "        ### END Solution\n",
    "\n",
    "    axes[i, 0].legend()\n",
    "    axes[i, 1].legend()\n",
    "\n",
    "plt.tight_layout()\n",
    "plt.show()"
   ]
  },
  {
   "cell_type": "markdown",
   "metadata": {
    "colab_type": "text",
    "id": "9XylolaNAdTi"
   },
   "source": [
    "Answer the following questions. Which of these functions may be, and which -- definitely are a poor choise as an activation function in a neural network? Why?"
   ]
  },
  {
   "cell_type": "markdown",
   "metadata": {
    "colab_type": "text",
    "id": "f5GCTjDiAdTj"
   },
   "source": [
    "> Which of these functions may be, and which -- definitely are a poor choise as an activation function in a neural network? Why?\n",
    "\n",
    "According to the derivatives plots we can see that\n",
    "\n",
    "* **sign** is definitely bad choice because we'll not be able to change the weights of our Variables\n",
    "* **sigmoid** is ok for *not* deep neural networks, but the situation changes when we start to work with really deep neutral networks. The vanishing gradients problem arises https://www.quora.com/What-is-the-vanishing-gradient-problem . The same is true for **softsign** and **Tanh**\n",
    "* On the other hand **relu** is still non linear function, but if we look closely at the process of weights changing we'll see that $ w_0^{*} - 1\\cdot1\\cdot1\\cdot1\\cdot \\dotso \\cdot \\frac{df(w_0^*, w_1^*, w_2^*, \\dotso)}{d w_0} $ looks better than $ w_0^{*} - 0.1\\cdot0.21\\cdot0.1\\cdot0.01\\cdot \\dotso \\cdot \\frac{df(w_0^*, w_1^*, w_2^*, \\dotso)}{d w_0} $ because in the second case weights would change slowly. **relu** is widely used in real deep learning tasks as a common choice as activation\n",
    "* Still there is another one problem which is called *dead weights and units* or *dying relu* (https://datascience.stackexchange.com/questions/5706/what-is-the-dying-relu-problem-in-neural-networks). **ELU** and **Softplus** address to solve such problem."
   ]
  },
  {
   "cell_type": "markdown",
   "metadata": {
    "colab_type": "text",
    "id": "JVbRcXVfAdTk"
   },
   "source": [
    "### Task 7 (3 pt.): Backpropagation\n",
    "At the seminar 10 on neural networks, we built an MLP with one hidden layer using our numpy implementations of linear layer and logistic and softmax activation functions. Your task is to\n",
    "1. implement backpropagation for these modules,\n",
    "2. train our numpy realization of MLP to classify the toy MNIST from `sklearn.datasets`."
   ]
  },
  {
   "cell_type": "code",
   "execution_count": 0,
   "metadata": {
    "colab": {},
    "colab_type": "code",
    "id": "gwoBzgQXAdTl"
   },
   "outputs": [],
   "source": [
    "from sklearn.metrics import confusion_matrix\n",
    "from sklearn.datasets import load_digits\n",
    "import numpy as np\n",
    "import pandas as pd\n",
    "import matplotlib.pyplot as plt\n",
    "from sklearn.model_selection import train_test_split"
   ]
  },
  {
   "cell_type": "markdown",
   "metadata": {
    "colab_type": "text",
    "id": "neY0bXyfAdTp"
   },
   "source": [
    "Prepare the dataset."
   ]
  },
  {
   "cell_type": "code",
   "execution_count": 0,
   "metadata": {
    "colab": {},
    "colab_type": "code",
    "id": "EUnZB7-GAdTq"
   },
   "outputs": [],
   "source": [
    "digits, targets = load_digits(return_X_y=True)\n",
    "digits = digits.astype(np.float32) / 255\n",
    "\n",
    "digits_train, digits_test, targets_train, targets_test = train_test_split(digits, targets, random_state=0)\n",
    "\n",
    "train_size = digits_train.shape[0]\n",
    "\n",
    "input_size = 8*8\n",
    "classes_n = 10"
   ]
  },
  {
   "cell_type": "markdown",
   "metadata": {
    "colab_type": "text",
    "id": "qPyv2-cMAdTt"
   },
   "source": [
    "Implement the MLP with backprop."
   ]
  },
  {
   "cell_type": "code",
   "execution_count": 0,
   "metadata": {
    "colab": {},
    "colab_type": "code",
    "id": "gnsSkTxNAdTu"
   },
   "outputs": [],
   "source": [
    "class Linear:\n",
    "    def __init__(self, input_size, output_size):\n",
    "        self.thetas = np.random.randn(input_size, output_size)\n",
    "        self.thetas_grads = np.empty(self.thetas.shape)\n",
    "        self.bias = np.random.randn(output_size)\n",
    "        self.bias_grads = np.empty(self.bias.shape)\n",
    "\n",
    "\n",
    "    def forward(self, x): \n",
    "        output = np.matmul(x, self.thetas) + self.bias\n",
    "        return output\n",
    "    \n",
    "\n",
    "    def backward(self, x, output_grad):\n",
    "        ### BEGIN Solution\n",
    "        # ... calculate grads\n",
    "        self.thetas_grads += (output_grad[..., None] @ x[None,]).transpose()\n",
    "        self.bias_grads += np.sum(output_grad)\n",
    "        ### END Solution\n",
    "        input_grad = self.thetas @ output_grad\n",
    "        return input_grad\n",
    "\n",
    "\n",
    "class LogisticActivation:\n",
    "    def forward(self, x):\n",
    "        output = 1/(1 + np.exp(-x))\n",
    "        return output\n",
    "\n",
    "\n",
    "    def backward(self, x, output_grad):\n",
    "        ### BEGIN Solution\n",
    "        # ... calculate grads\n",
    "        input_grad = np.diag((np.exp(x)/(np.exp(x)+1)**2)) @ output_grad\n",
    "        ### END Solution\n",
    "        return input_grad\n",
    "    \n",
    "\n",
    "class SoftMaxActivation:\n",
    "    def forward(self, x):\n",
    "        output = np.exp(x) / np.exp(x).sum(axis=-1, keepdims=True)\n",
    "        return output\n",
    "    \n",
    "    def softmax_grad(self,s): \n",
    "        # Take the derivative of softmax element w.r.t the each logit which is usually Wi * X\n",
    "        # input s is softmax value of the original input x. \n",
    "        # s.shape = (1, n) \n",
    "        # i.e. s = np.array([0.3, 0.7]), x = np.array([0, 1])\n",
    "        # initialize the 2-D jacobian matrix.\n",
    "        jacobian_m = np.diag(s)\n",
    "        for i in range(len(jacobian_m)):\n",
    "            for j in range(len(jacobian_m)):\n",
    "                if i == j:\n",
    "                    jacobian_m[i][j] = s[i] * (1-s[i])\n",
    "                else: \n",
    "                    jacobian_m[i][j] = -s[i]*s[j]\n",
    "        return jacobian_m\n",
    "\n",
    "    def backward(self, x, output_grad):\n",
    "        ### BEGIN Solution\n",
    "        # ... calculate grads\n",
    "        e = np.exp(x)\n",
    "        summary = np.sum(e)\n",
    "        input_grad = (self.softmax_grad(self.forward(x)) @ output_grad).transpose()\n",
    "        ### END Solution\n",
    "        return input_grad\n",
    "\n",
    "\n",
    "class MLP:\n",
    "    def __init__(self, input_size, hidden_layer_size, output_size):\n",
    "        self.linear1 = Linear(input_size, hidden_layer_size)\n",
    "        self.activation1 = LogisticActivation()\n",
    "        self.linear2 = Linear(hidden_layer_size, output_size)\n",
    "        \n",
    "    \n",
    "    def forward(self, x):\n",
    "        #print (f'Mlp: x.shape = {x.shape}')\n",
    "        return self.linear2.forward(self.activation1.forward(self.linear1.forward(x)))\n",
    "\n",
    "\n",
    "    def backward(self, x, output_grad):\n",
    "        ### BEGIN Solution\n",
    "        input_ = x\n",
    "        input_2 = self.linear1.forward(x)\n",
    "        input_3 = self.activation1.forward(input_2)\n",
    "                \n",
    "        self.linear1.backward(input_, self.activation1.backward(input_2, self.linear2.backward(input_3, output_grad)))\n",
    "        # ... calculate and update grads\n",
    "        ### END Solution"
   ]
  },
  {
   "cell_type": "code",
   "execution_count": 0,
   "metadata": {
    "colab": {},
    "colab_type": "code",
    "id": "gDGW2jfAAdTx"
   },
   "outputs": [],
   "source": [
    "### BEGIN Solution\n",
    "# Please, implement here everything else you need, like the loss function.\n",
    "# work for one sample\n",
    "def cross_entropy(X,y):\n",
    "    p = SoftMaxActivation().forward(X)\n",
    "    log_likelihood = -np.log(p[y])\n",
    "    loss = np.sum(log_likelihood)\n",
    "    return loss\n",
    "\n",
    "def delta_cross_entropy(X,y):\n",
    "    grad = SoftMaxActivation().forward(X)\n",
    "    grad[y] -= 1\n",
    "    return grad\n",
    "### END Solution"
   ]
  },
  {
   "cell_type": "code",
   "execution_count": 0,
   "metadata": {
    "colab": {},
    "colab_type": "code",
    "id": "XvToD5GpAdTz",
    "outputId": "127e6467-1bce-43ba-f0e4-14730c4e3a66"
   },
   "outputs": [
    {
     "name": "stdout",
     "output_type": "stream",
     "text": [
      "Starting epoch 0 Starting epoch 10 Starting epoch 20 Starting epoch 30 Starting epoch 40 Starting epoch 50 Starting epoch 60 Starting epoch 70 Starting epoch 80 Starting epoch 90 Starting epoch 100 Starting epoch 110 Starting epoch 120 Starting epoch 130 Starting epoch 140 Starting epoch 150 Starting epoch 160 Starting epoch 170 Starting epoch 180 Starting epoch 190 "
     ]
    },
    {
     "data": {
      "text/plain": [
       "[<matplotlib.lines.Line2D at 0x7f18f359a438>]"
      ]
     },
     "execution_count": 436,
     "metadata": {
      "tags": []
     },
     "output_type": "execute_result"
    },
    {
     "data": {
      "image/png": "[encoded data removed]",
      "text/plain": [
       "<Figure size 432x288 with 1 Axes>"
      ]
     },
     "metadata": {
      "needs_background": "light",
      "tags": []
     },
     "output_type": "display_data"
    }
   ],
   "source": [
    "np.random.seed(0)\n",
    "\n",
    "mlp = MLP(input_size=input_size, hidden_layer_size=100, output_size=classes_n)\n",
    "\n",
    "epochs_n = 200\n",
    "learning_curve = [0] * epochs_n\n",
    "test_curve = [0] * epochs_n\n",
    "\n",
    "x_train = digits_train\n",
    "x_test = digits_test\n",
    "y_train = targets_train\n",
    "y_test = targets_test\n",
    "\n",
    "learning_rate = 1e-3\n",
    "\n",
    "for epoch in range(epochs_n):\n",
    "    if epoch % 10 == 0:\n",
    "        print('Starting epoch {}'.format(epoch), end=' ')\n",
    "    for sample_i in range(train_size):\n",
    "        x = x_train[sample_i]\n",
    "        target = y_train[sample_i]\n",
    "\n",
    "        ### BEGIN Solution\n",
    "        # ... zero the gradients\n",
    "        mlp.linear1.bias_grads=np.zeros(mlp.linear1.bias_grads.shape)\n",
    "        mlp.linear2.bias_grads=np.zeros(mlp.linear2.bias_grads.shape)\n",
    "        mlp.linear1.thetas_grads=np.zeros(mlp.linear1.thetas_grads.shape)\n",
    "        mlp.linear2.thetas_grads=np.zeros(mlp.linear2.thetas_grads.shape)\n",
    "        # prediction = mlp.forward(x)\n",
    "        prediction = mlp.forward(x)\n",
    "        # loss = # use cross entropy loss\n",
    "        loss = cross_entropy(prediction, target)\n",
    "        #print(loss)\n",
    "        # learning_curve[epoch] += loss\n",
    "        learning_curve[epoch] += loss\n",
    "        # ... perform backward pass\n",
    "        mlp.backward(x, delta_cross_entropy(prediction, target))\n",
    "        # ... update the weights simply with weight -= grad * learning_rate\n",
    "        mlp.linear1.bias=mlp.linear1.bias-learning_rate*mlp.linear1.bias_grads\n",
    "        mlp.linear2.bias=mlp.linear2.bias-learning_rate*mlp.linear2.bias_grads\n",
    "        mlp.linear1.thetas=mlp.linear1.thetas-learning_rate*mlp.linear1.thetas_grads\n",
    "        mlp.linear2.thetas=mlp.linear2.thetas-learning_rate*mlp.linear2.thetas_grads\n",
    "    \n",
    "    # learning_curve[epoch] /= train_size\n",
    "    learning_curve[epoch] /= train_size\n",
    "    # prediction = mlp.forward(x_test)\n",
    "    prediction = [mlp.forward(x) for x in x_test]\n",
    "    # loss = # use cross entropy loss\n",
    "    loss = np.sum([cross_entropy(p, target) for p, target in zip(prediction, targets_test)])\n",
    "    # test_curve[epoch] = loss\n",
    "    test_curve[epoch] = loss  / len(targets_test)\n",
    "    ### END Solution\n",
    "\n",
    "\n",
    "plt.plot(learning_curve)\n",
    "plt.plot(test_curve)"
   ]
  },
  {
   "cell_type": "code",
   "execution_count": 0,
   "metadata": {
    "colab": {},
    "colab_type": "code",
    "id": "UfOVSeLSAdT2",
    "outputId": "1c66d741-b8e4-405a-9017-9d6fa6eb02bd"
   },
   "outputs": [
    {
     "data": {
      "text/plain": [
       "[<matplotlib.lines.Line2D at 0x7f18f34eb898>]"
      ]
     },
     "execution_count": 437,
     "metadata": {
      "tags": []
     },
     "output_type": "execute_result"
    },
    {
     "data": {
      "image/png": "[encoded data removed]",
      "text/plain": [
       "<Figure size 432x288 with 1 Axes>"
      ]
     },
     "metadata": {
      "needs_background": "light",
      "tags": []
     },
     "output_type": "display_data"
    }
   ],
   "source": [
    "plt.plot(learning_curve)"
   ]
  },
  {
   "cell_type": "code",
   "execution_count": 0,
   "metadata": {
    "colab": {},
    "colab_type": "code",
    "id": "bRxJVWccAdT5",
    "outputId": "5abb8c58-a9b7-4044-b79d-181b76c0377f"
   },
   "outputs": [
    {
     "data": {
      "text/plain": [
       "[<matplotlib.lines.Line2D at 0x7f18f34a9b70>]"
      ]
     },
     "execution_count": 438,
     "metadata": {
      "tags": []
     },
     "output_type": "execute_result"
    },
    {
     "data": {
      "image/png": "[encoded data removed]",
      "text/plain": [
       "<Figure size 432x288 with 1 Axes>"
      ]
     },
     "metadata": {
      "needs_background": "light",
      "tags": []
     },
     "output_type": "display_data"
    }
   ],
   "source": [
    "plt.plot(test_curve)"
   ]
  },
  {
   "cell_type": "code",
   "execution_count": 0,
   "metadata": {
    "colab": {},
    "colab_type": "code",
    "id": "dVlobMmeAdT6",
    "outputId": "4c4a236d-9eb0-4427-d44b-64e763834b0e"
   },
   "outputs": [
    {
     "data": {
      "text/html": [
       "<div>\n",
       "<style scoped>\n",
       "    .dataframe tbody tr th:only-of-type {\n",
       "        vertical-align: middle;\n",
       "    }\n",
       "\n",
       "    .dataframe tbody tr th {\n",
       "        vertical-align: top;\n",
       "    }\n",
       "\n",
       "    .dataframe thead th {\n",
       "        text-align: right;\n",
       "    }\n",
       "</style>\n",
       "<table border=\"1\" class=\"dataframe\">\n",
       "  <thead>\n",
       "    <tr style=\"text-align: right;\">\n",
       "      <th></th>\n",
       "      <th>0</th>\n",
       "      <th>1</th>\n",
       "      <th>2</th>\n",
       "      <th>3</th>\n",
       "      <th>4</th>\n",
       "      <th>5</th>\n",
       "      <th>6</th>\n",
       "      <th>7</th>\n",
       "      <th>8</th>\n",
       "      <th>9</th>\n",
       "    </tr>\n",
       "  </thead>\n",
       "  <tbody>\n",
       "    <tr>\n",
       "      <th>0</th>\n",
       "      <td>173</td>\n",
       "      <td>0</td>\n",
       "      <td>0</td>\n",
       "      <td>0</td>\n",
       "      <td>2</td>\n",
       "      <td>1</td>\n",
       "      <td>1</td>\n",
       "      <td>0</td>\n",
       "      <td>0</td>\n",
       "      <td>1</td>\n",
       "    </tr>\n",
       "    <tr>\n",
       "      <th>1</th>\n",
       "      <td>0</td>\n",
       "      <td>123</td>\n",
       "      <td>8</td>\n",
       "      <td>5</td>\n",
       "      <td>7</td>\n",
       "      <td>1</td>\n",
       "      <td>5</td>\n",
       "      <td>16</td>\n",
       "      <td>4</td>\n",
       "      <td>13</td>\n",
       "    </tr>\n",
       "    <tr>\n",
       "      <th>2</th>\n",
       "      <td>0</td>\n",
       "      <td>2</td>\n",
       "      <td>168</td>\n",
       "      <td>1</td>\n",
       "      <td>0</td>\n",
       "      <td>0</td>\n",
       "      <td>0</td>\n",
       "      <td>3</td>\n",
       "      <td>0</td>\n",
       "      <td>3</td>\n",
       "    </tr>\n",
       "    <tr>\n",
       "      <th>3</th>\n",
       "      <td>2</td>\n",
       "      <td>1</td>\n",
       "      <td>3</td>\n",
       "      <td>151</td>\n",
       "      <td>0</td>\n",
       "      <td>7</td>\n",
       "      <td>0</td>\n",
       "      <td>8</td>\n",
       "      <td>0</td>\n",
       "      <td>11</td>\n",
       "    </tr>\n",
       "    <tr>\n",
       "      <th>4</th>\n",
       "      <td>1</td>\n",
       "      <td>0</td>\n",
       "      <td>2</td>\n",
       "      <td>0</td>\n",
       "      <td>176</td>\n",
       "      <td>0</td>\n",
       "      <td>0</td>\n",
       "      <td>2</td>\n",
       "      <td>0</td>\n",
       "      <td>0</td>\n",
       "    </tr>\n",
       "    <tr>\n",
       "      <th>5</th>\n",
       "      <td>0</td>\n",
       "      <td>0</td>\n",
       "      <td>2</td>\n",
       "      <td>0</td>\n",
       "      <td>3</td>\n",
       "      <td>158</td>\n",
       "      <td>1</td>\n",
       "      <td>0</td>\n",
       "      <td>0</td>\n",
       "      <td>18</td>\n",
       "    </tr>\n",
       "    <tr>\n",
       "      <th>6</th>\n",
       "      <td>1</td>\n",
       "      <td>1</td>\n",
       "      <td>0</td>\n",
       "      <td>0</td>\n",
       "      <td>5</td>\n",
       "      <td>0</td>\n",
       "      <td>174</td>\n",
       "      <td>0</td>\n",
       "      <td>0</td>\n",
       "      <td>0</td>\n",
       "    </tr>\n",
       "    <tr>\n",
       "      <th>7</th>\n",
       "      <td>0</td>\n",
       "      <td>0</td>\n",
       "      <td>1</td>\n",
       "      <td>0</td>\n",
       "      <td>1</td>\n",
       "      <td>2</td>\n",
       "      <td>0</td>\n",
       "      <td>172</td>\n",
       "      <td>3</td>\n",
       "      <td>0</td>\n",
       "    </tr>\n",
       "    <tr>\n",
       "      <th>8</th>\n",
       "      <td>1</td>\n",
       "      <td>41</td>\n",
       "      <td>22</td>\n",
       "      <td>20</td>\n",
       "      <td>4</td>\n",
       "      <td>8</td>\n",
       "      <td>7</td>\n",
       "      <td>10</td>\n",
       "      <td>55</td>\n",
       "      <td>6</td>\n",
       "    </tr>\n",
       "    <tr>\n",
       "      <th>9</th>\n",
       "      <td>1</td>\n",
       "      <td>2</td>\n",
       "      <td>0</td>\n",
       "      <td>5</td>\n",
       "      <td>6</td>\n",
       "      <td>3</td>\n",
       "      <td>0</td>\n",
       "      <td>11</td>\n",
       "      <td>0</td>\n",
       "      <td>152</td>\n",
       "    </tr>\n",
       "  </tbody>\n",
       "</table>\n",
       "</div>"
      ],
      "text/plain": [
       "     0    1    2    3    4    5    6    7   8    9\n",
       "0  173    0    0    0    2    1    1    0   0    1\n",
       "1    0  123    8    5    7    1    5   16   4   13\n",
       "2    0    2  168    1    0    0    0    3   0    3\n",
       "3    2    1    3  151    0    7    0    8   0   11\n",
       "4    1    0    2    0  176    0    0    2   0    0\n",
       "5    0    0    2    0    3  158    1    0   0   18\n",
       "6    1    1    0    0    5    0  174    0   0    0\n",
       "7    0    0    1    0    1    2    0  172   3    0\n",
       "8    1   41   22   20    4    8    7   10  55    6\n",
       "9    1    2    0    5    6    3    0   11   0  152"
      ]
     },
     "execution_count": 443,
     "metadata": {
      "tags": []
     },
     "output_type": "execute_result"
    }
   ],
   "source": [
    "predictions = np.argmax(mlp.forward(digits), -1)\n",
    "pd.DataFrame(confusion_matrix(targets, predictions))"
   ]
  },
  {
   "cell_type": "markdown",
   "metadata": {
    "colab_type": "text",
    "id": "G6PW90EfAdT9"
   },
   "source": [
    "### Task 8 (3 pt.): Modelling real-life DL\n",
    "In this task you will train your own CNN for dogs vs cats classification task. The goal of this task is not to get the highest accuracy possible (try getting the highest accuracy possible though) but to model the real-life process of training a deep neural network."
   ]
  },
  {
   "cell_type": "markdown",
   "metadata": {
    "colab_type": "text",
    "id": "1G9hOSGUAdT9"
   },
   "source": [
    "<h3><center><span style=\"color:red;\">**IMPORTANT NOTICE**</span></center></h3>\n",
    "Training neural networks is a time consuming task and it can take days or even weeks. Try not to leave this task to the last day. It is not necessary for you to use GPU for this task, but using it may drastically reduce the time required for you to complete this task."
   ]
  },
  {
   "cell_type": "markdown",
   "metadata": {
    "colab_type": "text",
    "id": "ynf4KejpAdT9"
   },
   "source": [
    "There is a good amount of datasets in [torchvision](https://pytorch.org/docs/stable/torchvision/datasets.html), but in practice, chances are that you wouldn't find the dataset for your particular problem, so you should be capable of writing `DataLoader` for your own dataset."
   ]
  },
  {
   "cell_type": "code",
   "execution_count": 5,
   "metadata": {
    "colab": {
     "base_uri": "https://localhost:8080/",
     "height": 93,
     "resources": {
      "http://localhost:8080/nbextensions/google.colab/files.js": {
       "data": "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",
       "headers": [
        [
         "content-type",
         "application/javascript"
        ]
       ],
       "ok": true,
       "status": 200,
       "status_text": ""
      }
     }
    },
    "colab_type": "code",
    "executionInfo": {
     "elapsed": 724868,
     "status": "ok",
     "timestamp": 1551188955076,
     "user": {
      "displayName": "Дмитрий Денисенко",
      "photoUrl": "",
      "userId": "17721498818503924232"
     },
     "user_tz": -180
    },
    "id": "ivawIo_rBL20",
    "outputId": "a79f978e-7e44-425f-8863-2454440d9cd0"
   },
   "outputs": [
    {
     "data": {
      "text/html": [
       "\n",
       "     <input type=\"file\" id=\"files-c9b6a4ab-bbce-4c78-beb0-81cc37eb545a\" name=\"files[]\" multiple disabled />\n",
       "     <output id=\"result-c9b6a4ab-bbce-4c78-beb0-81cc37eb545a\">\n",
       "      Upload widget is only available when the cell has been executed in the\n",
       "      current browser session. Please rerun this cell to enable.\n",
       "      </output>\n",
       "      <script src=\"/nbextensions/google.colab/files.js\"></script> "
      ],
      "text/plain": [
       "<IPython.core.display.HTML object>"
      ]
     },
     "metadata": {
      "tags": []
     },
     "output_type": "display_data"
    },
    {
     "name": "stdout",
     "output_type": "stream",
     "text": [
      "Saving data.zip to data.zip\n",
      "User uploaded file \"data.zip\" with length 69336802 bytes\n"
     ]
    }
   ],
   "source": [
    "from google.colab import files\n",
    "\n",
    "uploaded = files.upload()\n",
    "\n",
    "for fn in uploaded.keys():\n",
    "  print('User uploaded file \"{name}\" with length {length} bytes'.format(\n",
    "      name=fn, length=len(uploaded[fn])))"
   ]
  },
  {
   "cell_type": "code",
   "execution_count": 7,
   "metadata": {
    "colab": {
     "base_uri": "https://localhost:8080/",
     "height": 39995
    },
    "colab_type": "code",
    "executionInfo": {
     "elapsed": 4030,
     "status": "ok",
     "timestamp": 1551190279141,
     "user": {
      "displayName": "Дмитрий Денисенко",
      "photoUrl": "",
      "userId": "17721498818503924232"
     },
     "user_tz": -180
    },
    "id": "ZyWAPEe7JRgn",
    "outputId": "d617adec-6e15-4b4a-d54e-f519f3b135d1"
   },
   "outputs": [
    {
     "name": "stdout",
     "output_type": "stream",
     "text": [
      "Archive:  data.zip\n",
      "   creating: data/\n",
      "  inflating: data/.DS_Store          \n",
      "   creating: data/cats_dogs/\n",
      "   creating: data/cats_dogs/.ipynb_checkpoints/\n",
      "  inflating: data/cats_dogs/.ipynb_checkpoints/train-checkpoint.csv  \n",
      "  inflating: data/cats_dogs/.ipynb_checkpoints/validation-checkpoint.csv  \n",
      "   creating: data/cats_dogs/train/\n",
      "  inflating: data/cats_dogs/train.csv  \n",
      "   creating: data/cats_dogs/train/cats/\n",
      "  inflating: data/cats_dogs/train/cats/cat.0.jpg  \n",
      "  inflating: data/cats_dogs/train/cats/cat.1.jpg  \n",
      "  inflating: data/cats_dogs/train/cats/cat.10.jpg  \n",
      "  inflating: data/cats_dogs/train/cats/cat.100.jpg  \n",
      "  inflating: data/cats_dogs/train/cats/cat.101.jpg  \n",
      "  inflating: data/cats_dogs/train/cats/cat.102.jpg  \n",
      "  inflating: data/cats_dogs/train/cats/cat.103.jpg  \n",
      "  inflating: data/cats_dogs/train/cats/cat.104.jpg  \n",
      "  inflating: data/cats_dogs/train/cats/cat.105.jpg  \n",
      "  inflating: data/cats_dogs/train/cats/cat.106.jpg  \n",
      "  inflating: data/cats_dogs/train/cats/cat.107.jpg  \n",
      "  inflating: data/cats_dogs/train/cats/cat.108.jpg  \n",
      "  inflating: data/cats_dogs/train/cats/cat.109.jpg  \n",
      "  inflating: data/cats_dogs/train/cats/cat.11.jpg  \n",
      "  inflating: data/cats_dogs/train/cats/cat.110.jpg  \n",
      "  inflating: data/cats_dogs/train/cats/cat.111.jpg  \n",
      "  inflating: data/cats_dogs/train/cats/cat.112.jpg  \n",
      "  inflating: data/cats_dogs/train/cats/cat.113.jpg  \n",
      "  inflating: data/cats_dogs/train/cats/cat.114.jpg  \n",
      "  inflating: data/cats_dogs/train/cats/cat.115.jpg  \n",
      "  inflating: data/cats_dogs/train/cats/cat.116.jpg  \n",
      "  inflating: data/cats_dogs/train/cats/cat.117.jpg  \n",
      "  inflating: data/cats_dogs/train/cats/cat.118.jpg  \n",
      "  inflating: data/cats_dogs/train/cats/cat.119.jpg  \n",
      "  inflating: data/cats_dogs/train/cats/cat.12.jpg  \n",
      "  inflating: data/cats_dogs/train/cats/cat.120.jpg  \n",
      "  inflating: data/cats_dogs/train/cats/cat.121.jpg  \n",
      "  inflating: data/cats_dogs/train/cats/cat.122.jpg  \n",
      "  inflating: data/cats_dogs/train/cats/cat.123.jpg  \n",
      "  inflating: data/cats_dogs/train/cats/cat.124.jpg  \n",
      "  inflating: data/cats_dogs/train/cats/cat.125.jpg  \n",
      "  inflating: data/cats_dogs/train/cats/cat.126.jpg  \n",
      "  inflating: data/cats_dogs/train/cats/cat.127.jpg  \n",
      "  inflating: data/cats_dogs/train/cats/cat.128.jpg  \n",
      "  inflating: data/cats_dogs/train/cats/cat.129.jpg  \n",
      "  inflating: data/cats_dogs/train/cats/cat.13.jpg  \n",
      "  inflating: data/cats_dogs/train/cats/cat.130.jpg  \n",
      "  inflating: data/cats_dogs/train/cats/cat.131.jpg  \n",
      "  inflating: data/cats_dogs/train/cats/cat.132.jpg  \n",
      "  inflating: data/cats_dogs/train/cats/cat.133.jpg  \n",
      "  inflating: data/cats_dogs/train/cats/cat.134.jpg  \n",
      "  inflating: data/cats_dogs/train/cats/cat.135.jpg  \n",
      "  inflating: data/cats_dogs/train/cats/cat.136.jpg  \n",
      "  inflating: data/cats_dogs/train/cats/cat.137.jpg  \n",
      "  inflating: data/cats_dogs/train/cats/cat.138.jpg  \n",
      "  inflating: data/cats_dogs/train/cats/cat.139.jpg  \n",
      "  inflating: data/cats_dogs/train/cats/cat.14.jpg  \n",
      "  inflating: data/cats_dogs/train/cats/cat.140.jpg  \n",
      "  inflating: data/cats_dogs/train/cats/cat.141.jpg  \n",
      "  inflating: data/cats_dogs/train/cats/cat.142.jpg  \n",
      "  inflating: data/cats_dogs/train/cats/cat.143.jpg  \n",
      "  inflating: data/cats_dogs/train/cats/cat.144.jpg  \n",
      "  inflating: data/cats_dogs/train/cats/cat.145.jpg  \n",
      "  inflating: data/cats_dogs/train/cats/cat.146.jpg  \n",
      "  inflating: data/cats_dogs/train/cats/cat.147.jpg  \n",
      "  inflating: data/cats_dogs/train/cats/cat.148.jpg  \n",
      "  inflating: data/cats_dogs/train/cats/cat.149.jpg  \n",
      "  inflating: data/cats_dogs/train/cats/cat.15.jpg  \n",
      "  inflating: data/cats_dogs/train/cats/cat.150.jpg  \n",
      "  inflating: data/cats_dogs/train/cats/cat.151.jpg  \n",
      "  inflating: data/cats_dogs/train/cats/cat.152.jpg  \n",
      "  inflating: data/cats_dogs/train/cats/cat.153.jpg  \n",
      "  inflating: data/cats_dogs/train/cats/cat.154.jpg  \n",
      "  inflating: data/cats_dogs/train/cats/cat.155.jpg  \n",
      "  inflating: data/cats_dogs/train/cats/cat.156.jpg  \n",
      "  inflating: data/cats_dogs/train/cats/cat.157.jpg  \n",
      "  inflating: data/cats_dogs/train/cats/cat.158.jpg  \n",
      "  inflating: data/cats_dogs/train/cats/cat.159.jpg  \n",
      "  inflating: data/cats_dogs/train/cats/cat.16.jpg  \n",
      "  inflating: data/cats_dogs/train/cats/cat.160.jpg  \n",
      "  inflating: data/cats_dogs/train/cats/cat.161.jpg  \n",
      "  inflating: data/cats_dogs/train/cats/cat.162.jpg  \n",
      "  inflating: data/cats_dogs/train/cats/cat.163.jpg  \n",
      "  inflating: data/cats_dogs/train/cats/cat.164.jpg  \n",
      "  inflating: data/cats_dogs/train/cats/cat.165.jpg  \n",
      "  inflating: data/cats_dogs/train/cats/cat.166.jpg  \n",
      "  inflating: data/cats_dogs/train/cats/cat.167.jpg  \n",
      "  inflating: data/cats_dogs/train/cats/cat.168.jpg  \n",
      "  inflating: data/cats_dogs/train/cats/cat.169.jpg  \n",
      "  inflating: data/cats_dogs/train/cats/cat.17.jpg  \n",
      "  inflating: data/cats_dogs/train/cats/cat.170.jpg  \n",
      "  inflating: data/cats_dogs/train/cats/cat.171.jpg  \n",
      "  inflating: data/cats_dogs/train/cats/cat.172.jpg  \n",
      "  inflating: data/cats_dogs/train/cats/cat.173.jpg  \n",
      "  inflating: data/cats_dogs/train/cats/cat.174.jpg  \n",
      "  inflating: data/cats_dogs/train/cats/cat.175.jpg  \n",
      "  inflating: data/cats_dogs/train/cats/cat.176.jpg  \n",
      "  inflating: data/cats_dogs/train/cats/cat.177.jpg  \n",
      "  inflating: data/cats_dogs/train/cats/cat.178.jpg  \n",
      "  inflating: data/cats_dogs/train/cats/cat.179.jpg  \n",
      "  inflating: data/cats_dogs/train/cats/cat.18.jpg  \n",
      "  inflating: data/cats_dogs/train/cats/cat.180.jpg  \n",
      "  inflating: data/cats_dogs/train/cats/cat.181.jpg  \n",
      "  inflating: data/cats_dogs/train/cats/cat.182.jpg  \n",
      "  inflating: data/cats_dogs/train/cats/cat.183.jpg  \n",
      "  inflating: data/cats_dogs/train/cats/cat.184.jpg  \n",
      "  inflating: data/cats_dogs/train/cats/cat.185.jpg  \n",
      "  inflating: data/cats_dogs/train/cats/cat.186.jpg  \n",
      "  inflating: data/cats_dogs/train/cats/cat.187.jpg  \n",
      "  inflating: data/cats_dogs/train/cats/cat.188.jpg  \n",
      "  inflating: data/cats_dogs/train/cats/cat.189.jpg  \n",
      "  inflating: data/cats_dogs/train/cats/cat.19.jpg  \n",
      "  inflating: data/cats_dogs/train/cats/cat.190.jpg  \n",
      "  inflating: data/cats_dogs/train/cats/cat.191.jpg  \n",
      "  inflating: data/cats_dogs/train/cats/cat.192.jpg  \n",
      "  inflating: data/cats_dogs/train/cats/cat.193.jpg  \n",
      "  inflating: data/cats_dogs/train/cats/cat.194.jpg  \n",
      "  inflating: data/cats_dogs/train/cats/cat.195.jpg  \n",
      "  inflating: data/cats_dogs/train/cats/cat.196.jpg  \n",
      "  inflating: data/cats_dogs/train/cats/cat.197.jpg  \n",
      "  inflating: data/cats_dogs/train/cats/cat.198.jpg  \n",
      "  inflating: data/cats_dogs/train/cats/cat.199.jpg  \n",
      "  inflating: data/cats_dogs/train/cats/cat.2.jpg  \n",
      "  inflating: data/cats_dogs/train/cats/cat.20.jpg  \n",
      "  inflating: data/cats_dogs/train/cats/cat.200.jpg  \n",
      "  inflating: data/cats_dogs/train/cats/cat.201.jpg  \n",
      "  inflating: data/cats_dogs/train/cats/cat.202.jpg  \n",
      "  inflating: data/cats_dogs/train/cats/cat.203.jpg  \n",
      "  inflating: data/cats_dogs/train/cats/cat.204.jpg  \n",
      "  inflating: data/cats_dogs/train/cats/cat.205.jpg  \n",
      "  inflating: data/cats_dogs/train/cats/cat.206.jpg  \n",
      "  inflating: data/cats_dogs/train/cats/cat.207.jpg  \n",
      "  inflating: data/cats_dogs/train/cats/cat.208.jpg  \n",
      "  inflating: data/cats_dogs/train/cats/cat.209.jpg  \n",
      "  inflating: data/cats_dogs/train/cats/cat.21.jpg  \n",
      "  inflating: data/cats_dogs/train/cats/cat.210.jpg  \n",
      "  inflating: data/cats_dogs/train/cats/cat.211.jpg  \n",
      "  inflating: data/cats_dogs/train/cats/cat.212.jpg  \n",
      "  inflating: data/cats_dogs/train/cats/cat.213.jpg  \n",
      "  inflating: data/cats_dogs/train/cats/cat.214.jpg  \n",
      "  inflating: data/cats_dogs/train/cats/cat.215.jpg  \n",
      "  inflating: data/cats_dogs/train/cats/cat.216.jpg  \n",
      "  inflating: data/cats_dogs/train/cats/cat.217.jpg  \n",
      "  inflating: data/cats_dogs/train/cats/cat.218.jpg  \n",
      "  inflating: data/cats_dogs/train/cats/cat.219.jpg  \n",
      "  inflating: data/cats_dogs/train/cats/cat.22.jpg  \n",
      "  inflating: data/cats_dogs/train/cats/cat.220.jpg  \n",
      "  inflating: data/cats_dogs/train/cats/cat.221.jpg  \n",
      "  inflating: data/cats_dogs/train/cats/cat.222.jpg  \n",
      "  inflating: data/cats_dogs/train/cats/cat.223.jpg  \n",
      "  inflating: data/cats_dogs/train/cats/cat.224.jpg  \n",
      "  inflating: data/cats_dogs/train/cats/cat.225.jpg  \n",
      "  inflating: data/cats_dogs/train/cats/cat.226.jpg  \n",
      "  inflating: data/cats_dogs/train/cats/cat.227.jpg  \n",
      "  inflating: data/cats_dogs/train/cats/cat.228.jpg  \n",
      "  inflating: data/cats_dogs/train/cats/cat.229.jpg  \n",
      "  inflating: data/cats_dogs/train/cats/cat.23.jpg  \n",
      "  inflating: data/cats_dogs/train/cats/cat.230.jpg  \n",
      "  inflating: data/cats_dogs/train/cats/cat.231.jpg  \n",
      "  inflating: data/cats_dogs/train/cats/cat.232.jpg  \n",
      "  inflating: data/cats_dogs/train/cats/cat.233.jpg  \n",
      "  inflating: data/cats_dogs/train/cats/cat.234.jpg  \n",
      "  inflating: data/cats_dogs/train/cats/cat.235.jpg  \n",
      "  inflating: data/cats_dogs/train/cats/cat.236.jpg  \n",
      "  inflating: data/cats_dogs/train/cats/cat.237.jpg  \n",
      "  inflating: data/cats_dogs/train/cats/cat.238.jpg  \n",
      "  inflating: data/cats_dogs/train/cats/cat.239.jpg  \n",
      "  inflating: data/cats_dogs/train/cats/cat.24.jpg  \n",
      "  inflating: data/cats_dogs/train/cats/cat.240.jpg  \n",
      "  inflating: data/cats_dogs/train/cats/cat.241.jpg  \n",
      "  inflating: data/cats_dogs/train/cats/cat.242.jpg  \n",
      "  inflating: data/cats_dogs/train/cats/cat.243.jpg  \n",
      "  inflating: data/cats_dogs/train/cats/cat.244.jpg  \n",
      "  inflating: data/cats_dogs/train/cats/cat.245.jpg  \n",
      "  inflating: data/cats_dogs/train/cats/cat.246.jpg  \n",
      "  inflating: data/cats_dogs/train/cats/cat.247.jpg  \n",
      "  inflating: data/cats_dogs/train/cats/cat.248.jpg  \n",
      "  inflating: data/cats_dogs/train/cats/cat.249.jpg  \n",
      "  inflating: data/cats_dogs/train/cats/cat.25.jpg  \n",
      "  inflating: data/cats_dogs/train/cats/cat.250.jpg  \n",
      "  inflating: data/cats_dogs/train/cats/cat.251.jpg  \n",
      "  inflating: data/cats_dogs/train/cats/cat.252.jpg  \n",
      "  inflating: data/cats_dogs/train/cats/cat.253.jpg  \n",
      "  inflating: data/cats_dogs/train/cats/cat.254.jpg  \n",
      "  inflating: data/cats_dogs/train/cats/cat.255.jpg  \n",
      "  inflating: data/cats_dogs/train/cats/cat.256.jpg  \n",
      "  inflating: data/cats_dogs/train/cats/cat.257.jpg  \n",
      "  inflating: data/cats_dogs/train/cats/cat.258.jpg  \n",
      "  inflating: data/cats_dogs/train/cats/cat.259.jpg  \n",
      "  inflating: data/cats_dogs/train/cats/cat.26.jpg  \n",
      "  inflating: data/cats_dogs/train/cats/cat.260.jpg  \n",
      "  inflating: data/cats_dogs/train/cats/cat.261.jpg  \n",
      "  inflating: data/cats_dogs/train/cats/cat.262.jpg  \n",
      "  inflating: data/cats_dogs/train/cats/cat.263.jpg  \n",
      "  inflating: data/cats_dogs/train/cats/cat.264.jpg  \n",
      "  inflating: data/cats_dogs/train/cats/cat.265.jpg  \n",
      "  inflating: data/cats_dogs/train/cats/cat.266.jpg  \n",
      "  inflating: data/cats_dogs/train/cats/cat.267.jpg  \n",
      "  inflating: data/cats_dogs/train/cats/cat.268.jpg  \n",
      "  inflating: data/cats_dogs/train/cats/cat.269.jpg  \n",
      "  inflating: data/cats_dogs/train/cats/cat.27.jpg  \n",
      "  inflating: data/cats_dogs/train/cats/cat.270.jpg  \n",
      "  inflating: data/cats_dogs/train/cats/cat.271.jpg  \n",
      "  inflating: data/cats_dogs/train/cats/cat.272.jpg  \n",
      "  inflating: data/cats_dogs/train/cats/cat.273.jpg  \n",
      "  inflating: data/cats_dogs/train/cats/cat.274.jpg  \n",
      "  inflating: data/cats_dogs/train/cats/cat.275.jpg  \n",
      "  inflating: data/cats_dogs/train/cats/cat.276.jpg  \n",
      "  inflating: data/cats_dogs/train/cats/cat.277.jpg  \n",
      "  inflating: data/cats_dogs/train/cats/cat.278.jpg  \n",
      "  inflating: data/cats_dogs/train/cats/cat.279.jpg  \n",
      "  inflating: data/cats_dogs/train/cats/cat.28.jpg  \n",
      "  inflating: data/cats_dogs/train/cats/cat.280.jpg  \n",
      "  inflating: data/cats_dogs/train/cats/cat.281.jpg  \n",
      "  inflating: data/cats_dogs/train/cats/cat.282.jpg  \n",
      "  inflating: data/cats_dogs/train/cats/cat.283.jpg  \n",
      "  inflating: data/cats_dogs/train/cats/cat.284.jpg  \n",
      "  inflating: data/cats_dogs/train/cats/cat.285.jpg  \n",
      "  inflating: data/cats_dogs/train/cats/cat.286.jpg  \n",
      "  inflating: data/cats_dogs/train/cats/cat.287.jpg  \n",
      "  inflating: data/cats_dogs/train/cats/cat.288.jpg  \n",
      "  inflating: data/cats_dogs/train/cats/cat.289.jpg  \n",
      "  inflating: data/cats_dogs/train/cats/cat.29.jpg  \n",
      "  inflating: data/cats_dogs/train/cats/cat.290.jpg  \n",
      "  inflating: data/cats_dogs/train/cats/cat.291.jpg  \n",
      "  inflating: data/cats_dogs/train/cats/cat.292.jpg  \n",
      "  inflating: data/cats_dogs/train/cats/cat.293.jpg  \n",
      "  inflating: data/cats_dogs/train/cats/cat.294.jpg  \n",
      "  inflating: data/cats_dogs/train/cats/cat.295.jpg  \n",
      "  inflating: data/cats_dogs/train/cats/cat.296.jpg  \n",
      "  inflating: data/cats_dogs/train/cats/cat.297.jpg  \n",
      "  inflating: data/cats_dogs/train/cats/cat.298.jpg  \n",
      "  inflating: data/cats_dogs/train/cats/cat.299.jpg  \n",
      "  inflating: data/cats_dogs/train/cats/cat.3.jpg  \n",
      "  inflating: data/cats_dogs/train/cats/cat.30.jpg  \n",
      "  inflating: data/cats_dogs/train/cats/cat.300.jpg  \n",
      "  inflating: data/cats_dogs/train/cats/cat.301.jpg  \n",
      "  inflating: data/cats_dogs/train/cats/cat.302.jpg  \n",
      "  inflating: data/cats_dogs/train/cats/cat.303.jpg  \n",
      "  inflating: data/cats_dogs/train/cats/cat.304.jpg  \n",
      "  inflating: data/cats_dogs/train/cats/cat.305.jpg  \n",
      "  inflating: data/cats_dogs/train/cats/cat.306.jpg  \n",
      "  inflating: data/cats_dogs/train/cats/cat.307.jpg  \n",
      "  inflating: data/cats_dogs/train/cats/cat.308.jpg  \n",
      "  inflating: data/cats_dogs/train/cats/cat.309.jpg  \n",
      "  inflating: data/cats_dogs/train/cats/cat.31.jpg  \n",
      "  inflating: data/cats_dogs/train/cats/cat.310.jpg  \n",
      "  inflating: data/cats_dogs/train/cats/cat.311.jpg  \n",
      "  inflating: data/cats_dogs/train/cats/cat.312.jpg  \n",
      "  inflating: data/cats_dogs/train/cats/cat.313.jpg  \n",
      "  inflating: data/cats_dogs/train/cats/cat.314.jpg  \n",
      "  inflating: data/cats_dogs/train/cats/cat.315.jpg  \n",
      "  inflating: data/cats_dogs/train/cats/cat.316.jpg  \n",
      "  inflating: data/cats_dogs/train/cats/cat.317.jpg  \n",
      "  inflating: data/cats_dogs/train/cats/cat.318.jpg  \n",
      "  inflating: data/cats_dogs/train/cats/cat.319.jpg  \n",
      "  inflating: data/cats_dogs/train/cats/cat.32.jpg  \n",
      "  inflating: data/cats_dogs/train/cats/cat.320.jpg  \n",
      "  inflating: data/cats_dogs/train/cats/cat.321.jpg  \n",
      "  inflating: data/cats_dogs/train/cats/cat.322.jpg  \n",
      "  inflating: data/cats_dogs/train/cats/cat.323.jpg  \n",
      "  inflating: data/cats_dogs/train/cats/cat.324.jpg  \n",
      "  inflating: data/cats_dogs/train/cats/cat.325.jpg  \n",
      "  inflating: data/cats_dogs/train/cats/cat.326.jpg  \n",
      "  inflating: data/cats_dogs/train/cats/cat.327.jpg  \n",
      "  inflating: data/cats_dogs/train/cats/cat.328.jpg  \n",
      "  inflating: data/cats_dogs/train/cats/cat.329.jpg  \n",
      "  inflating: data/cats_dogs/train/cats/cat.33.jpg  \n",
      "  inflating: data/cats_dogs/train/cats/cat.330.jpg  \n",
      "  inflating: data/cats_dogs/train/cats/cat.331.jpg  \n",
      "  inflating: data/cats_dogs/train/cats/cat.332.jpg  \n",
      "  inflating: data/cats_dogs/train/cats/cat.333.jpg  \n",
      "  inflating: data/cats_dogs/train/cats/cat.334.jpg  \n",
      "  inflating: data/cats_dogs/train/cats/cat.335.jpg  \n",
      "  inflating: data/cats_dogs/train/cats/cat.336.jpg  \n",
      "  inflating: data/cats_dogs/train/cats/cat.337.jpg  \n",
      "  inflating: data/cats_dogs/train/cats/cat.338.jpg  \n",
      "  inflating: data/cats_dogs/train/cats/cat.339.jpg  \n",
      "  inflating: data/cats_dogs/train/cats/cat.34.jpg  \n",
      "  inflating: data/cats_dogs/train/cats/cat.340.jpg  \n",
      "  inflating: data/cats_dogs/train/cats/cat.341.jpg  \n",
      "  inflating: data/cats_dogs/train/cats/cat.342.jpg  \n",
      "  inflating: data/cats_dogs/train/cats/cat.343.jpg  \n",
      "  inflating: data/cats_dogs/train/cats/cat.344.jpg  \n",
      "  inflating: data/cats_dogs/train/cats/cat.345.jpg  \n",
      "  inflating: data/cats_dogs/train/cats/cat.346.jpg  \n",
      "  inflating: data/cats_dogs/train/cats/cat.347.jpg  \n",
      "  inflating: data/cats_dogs/train/cats/cat.348.jpg  \n",
      "  inflating: data/cats_dogs/train/cats/cat.349.jpg  \n",
      "  inflating: data/cats_dogs/train/cats/cat.35.jpg  \n",
      "  inflating: data/cats_dogs/train/cats/cat.350.jpg  \n",
      "  inflating: data/cats_dogs/train/cats/cat.351.jpg  \n",
      "  inflating: data/cats_dogs/train/cats/cat.352.jpg  \n",
      "  inflating: data/cats_dogs/train/cats/cat.353.jpg  \n",
      "  inflating: data/cats_dogs/train/cats/cat.354.jpg  \n",
      "  inflating: data/cats_dogs/train/cats/cat.355.jpg  \n",
      "  inflating: data/cats_dogs/train/cats/cat.356.jpg  \n",
      "  inflating: data/cats_dogs/train/cats/cat.357.jpg  \n",
      "  inflating: data/cats_dogs/train/cats/cat.358.jpg  \n",
      "  inflating: data/cats_dogs/train/cats/cat.359.jpg  \n",
      "  inflating: data/cats_dogs/train/cats/cat.36.jpg  \n",
      "  inflating: data/cats_dogs/train/cats/cat.360.jpg  \n",
      "  inflating: data/cats_dogs/train/cats/cat.361.jpg  \n",
      "  inflating: data/cats_dogs/train/cats/cat.362.jpg  \n",
      "  inflating: data/cats_dogs/train/cats/cat.363.jpg  \n",
      "  inflating: data/cats_dogs/train/cats/cat.364.jpg  \n",
      "  inflating: data/cats_dogs/train/cats/cat.365.jpg  \n",
      "  inflating: data/cats_dogs/train/cats/cat.366.jpg  \n",
      "  inflating: data/cats_dogs/train/cats/cat.367.jpg  \n",
      "  inflating: data/cats_dogs/train/cats/cat.368.jpg  \n",
      "  inflating: data/cats_dogs/train/cats/cat.369.jpg  \n",
      "  inflating: data/cats_dogs/train/cats/cat.37.jpg  \n",
      "  inflating: data/cats_dogs/train/cats/cat.370.jpg  \n",
      "  inflating: data/cats_dogs/train/cats/cat.371.jpg  \n",
      "  inflating: data/cats_dogs/train/cats/cat.372.jpg  \n",
      "  inflating: data/cats_dogs/train/cats/cat.373.jpg  \n",
      "  inflating: data/cats_dogs/train/cats/cat.374.jpg  \n",
      "  inflating: data/cats_dogs/train/cats/cat.375.jpg  \n",
      "  inflating: data/cats_dogs/train/cats/cat.376.jpg  \n",
      "  inflating: data/cats_dogs/train/cats/cat.377.jpg  \n",
      "  inflating: data/cats_dogs/train/cats/cat.378.jpg  \n",
      "  inflating: data/cats_dogs/train/cats/cat.379.jpg  \n",
      "  inflating: data/cats_dogs/train/cats/cat.38.jpg  \n",
      "  inflating: data/cats_dogs/train/cats/cat.380.jpg  \n",
      "  inflating: data/cats_dogs/train/cats/cat.381.jpg  \n",
      "  inflating: data/cats_dogs/train/cats/cat.382.jpg  \n",
      "  inflating: data/cats_dogs/train/cats/cat.383.jpg  \n",
      "  inflating: data/cats_dogs/train/cats/cat.384.jpg  \n",
      "  inflating: data/cats_dogs/train/cats/cat.385.jpg  \n",
      "  inflating: data/cats_dogs/train/cats/cat.386.jpg  \n",
      "  inflating: data/cats_dogs/train/cats/cat.387.jpg  \n",
      "  inflating: data/cats_dogs/train/cats/cat.388.jpg  \n",
      "  inflating: data/cats_dogs/train/cats/cat.389.jpg  \n",
      "  inflating: data/cats_dogs/train/cats/cat.39.jpg  \n",
      "  inflating: data/cats_dogs/train/cats/cat.390.jpg  \n",
      "  inflating: data/cats_dogs/train/cats/cat.391.jpg  \n",
      "  inflating: data/cats_dogs/train/cats/cat.392.jpg  \n",
      "  inflating: data/cats_dogs/train/cats/cat.393.jpg  \n",
      "  inflating: data/cats_dogs/train/cats/cat.394.jpg  \n",
      "  inflating: data/cats_dogs/train/cats/cat.395.jpg  \n",
      "  inflating: data/cats_dogs/train/cats/cat.396.jpg  \n",
      "  inflating: data/cats_dogs/train/cats/cat.397.jpg  \n",
      "  inflating: data/cats_dogs/train/cats/cat.398.jpg  \n",
      "  inflating: data/cats_dogs/train/cats/cat.399.jpg  \n",
      "  inflating: data/cats_dogs/train/cats/cat.4.jpg  \n",
      "  inflating: data/cats_dogs/train/cats/cat.40.jpg  \n",
      "  inflating: data/cats_dogs/train/cats/cat.400.jpg  \n",
      "  inflating: data/cats_dogs/train/cats/cat.401.jpg  \n",
      "  inflating: data/cats_dogs/train/cats/cat.402.jpg  \n",
      "  inflating: data/cats_dogs/train/cats/cat.403.jpg  \n",
      "  inflating: data/cats_dogs/train/cats/cat.404.jpg  \n",
      "  inflating: data/cats_dogs/train/cats/cat.405.jpg  \n",
      "  inflating: data/cats_dogs/train/cats/cat.406.jpg  \n",
      "  inflating: data/cats_dogs/train/cats/cat.407.jpg  \n",
      "  inflating: data/cats_dogs/train/cats/cat.408.jpg  \n",
      "  inflating: data/cats_dogs/train/cats/cat.409.jpg  \n",
      "  inflating: data/cats_dogs/train/cats/cat.41.jpg  \n",
      "  inflating: data/cats_dogs/train/cats/cat.410.jpg  \n",
      "  inflating: data/cats_dogs/train/cats/cat.411.jpg  \n",
      "  inflating: data/cats_dogs/train/cats/cat.412.jpg  \n",
      "  inflating: data/cats_dogs/train/cats/cat.413.jpg  \n",
      "  inflating: data/cats_dogs/train/cats/cat.414.jpg  \n",
      "  inflating: data/cats_dogs/train/cats/cat.415.jpg  \n",
      "  inflating: data/cats_dogs/train/cats/cat.416.jpg  \n",
      "  inflating: data/cats_dogs/train/cats/cat.417.jpg  \n",
      "  inflating: data/cats_dogs/train/cats/cat.418.jpg  \n",
      "  inflating: data/cats_dogs/train/cats/cat.419.jpg  \n",
      "  inflating: data/cats_dogs/train/cats/cat.42.jpg  \n",
      "  inflating: data/cats_dogs/train/cats/cat.420.jpg  \n",
      "  inflating: data/cats_dogs/train/cats/cat.421.jpg  \n",
      "  inflating: data/cats_dogs/train/cats/cat.422.jpg  \n",
      "  inflating: data/cats_dogs/train/cats/cat.423.jpg  \n",
      "  inflating: data/cats_dogs/train/cats/cat.424.jpg  \n",
      "  inflating: data/cats_dogs/train/cats/cat.425.jpg  \n",
      "  inflating: data/cats_dogs/train/cats/cat.426.jpg  \n",
      "  inflating: data/cats_dogs/train/cats/cat.427.jpg  \n",
      "  inflating: data/cats_dogs/train/cats/cat.428.jpg  \n",
      "  inflating: data/cats_dogs/train/cats/cat.429.jpg  \n",
      "  inflating: data/cats_dogs/train/cats/cat.43.jpg  \n",
      "  inflating: data/cats_dogs/train/cats/cat.430.jpg  \n",
      "  inflating: data/cats_dogs/train/cats/cat.431.jpg  \n",
      "  inflating: data/cats_dogs/train/cats/cat.432.jpg  \n",
      "  inflating: data/cats_dogs/train/cats/cat.433.jpg  \n",
      "  inflating: data/cats_dogs/train/cats/cat.434.jpg  \n",
      "  inflating: data/cats_dogs/train/cats/cat.435.jpg  \n",
      "  inflating: data/cats_dogs/train/cats/cat.436.jpg  \n",
      "  inflating: data/cats_dogs/train/cats/cat.437.jpg  \n",
      "  inflating: data/cats_dogs/train/cats/cat.438.jpg  \n",
      "  inflating: data/cats_dogs/train/cats/cat.439.jpg  \n",
      "  inflating: data/cats_dogs/train/cats/cat.44.jpg  \n",
      "  inflating: data/cats_dogs/train/cats/cat.440.jpg  \n",
      "  inflating: data/cats_dogs/train/cats/cat.441.jpg  \n",
      "  inflating: data/cats_dogs/train/cats/cat.442.jpg  \n",
      "  inflating: data/cats_dogs/train/cats/cat.443.jpg  \n",
      "  inflating: data/cats_dogs/train/cats/cat.444.jpg  \n",
      "  inflating: data/cats_dogs/train/cats/cat.445.jpg  \n",
      "  inflating: data/cats_dogs/train/cats/cat.446.jpg  \n",
      "  inflating: data/cats_dogs/train/cats/cat.447.jpg  \n",
      "  inflating: data/cats_dogs/train/cats/cat.448.jpg  \n",
      "  inflating: data/cats_dogs/train/cats/cat.449.jpg  \n",
      "  inflating: data/cats_dogs/train/cats/cat.45.jpg  \n",
      "  inflating: data/cats_dogs/train/cats/cat.450.jpg  \n",
      "  inflating: data/cats_dogs/train/cats/cat.451.jpg  \n",
      "  inflating: data/cats_dogs/train/cats/cat.452.jpg  \n",
      "  inflating: data/cats_dogs/train/cats/cat.453.jpg  \n",
      "  inflating: data/cats_dogs/train/cats/cat.454.jpg  \n",
      "  inflating: data/cats_dogs/train/cats/cat.455.jpg  \n",
      "  inflating: data/cats_dogs/train/cats/cat.456.jpg  \n",
      "  inflating: data/cats_dogs/train/cats/cat.457.jpg  \n",
      "  inflating: data/cats_dogs/train/cats/cat.458.jpg  \n",
      "  inflating: data/cats_dogs/train/cats/cat.459.jpg  \n",
      "  inflating: data/cats_dogs/train/cats/cat.46.jpg  \n",
      "  inflating: data/cats_dogs/train/cats/cat.460.jpg  \n",
      "  inflating: data/cats_dogs/train/cats/cat.461.jpg  \n",
      "  inflating: data/cats_dogs/train/cats/cat.462.jpg  \n",
      "  inflating: data/cats_dogs/train/cats/cat.463.jpg  \n",
      "  inflating: data/cats_dogs/train/cats/cat.464.jpg  \n",
      "  inflating: data/cats_dogs/train/cats/cat.465.jpg  \n",
      "  inflating: data/cats_dogs/train/cats/cat.466.jpg  \n",
      "  inflating: data/cats_dogs/train/cats/cat.467.jpg  \n",
      "  inflating: data/cats_dogs/train/cats/cat.468.jpg  \n",
      "  inflating: data/cats_dogs/train/cats/cat.469.jpg  \n",
      "  inflating: data/cats_dogs/train/cats/cat.47.jpg  \n",
      "  inflating: data/cats_dogs/train/cats/cat.470.jpg  \n",
      "  inflating: data/cats_dogs/train/cats/cat.471.jpg  \n",
      "  inflating: data/cats_dogs/train/cats/cat.472.jpg  \n",
      "  inflating: data/cats_dogs/train/cats/cat.473.jpg  \n",
      "  inflating: data/cats_dogs/train/cats/cat.474.jpg  \n",
      "  inflating: data/cats_dogs/train/cats/cat.475.jpg  \n",
      "  inflating: data/cats_dogs/train/cats/cat.476.jpg  \n",
      "  inflating: data/cats_dogs/train/cats/cat.477.jpg  \n",
      "  inflating: data/cats_dogs/train/cats/cat.478.jpg  \n",
      "  inflating: data/cats_dogs/train/cats/cat.479.jpg  \n",
      "  inflating: data/cats_dogs/train/cats/cat.48.jpg  \n",
      "  inflating: data/cats_dogs/train/cats/cat.480.jpg  \n",
      "  inflating: data/cats_dogs/train/cats/cat.481.jpg  \n",
      "  inflating: data/cats_dogs/train/cats/cat.482.jpg  \n",
      "  inflating: data/cats_dogs/train/cats/cat.483.jpg  \n",
      "  inflating: data/cats_dogs/train/cats/cat.484.jpg  \n",
      "  inflating: data/cats_dogs/train/cats/cat.485.jpg  \n",
      "  inflating: data/cats_dogs/train/cats/cat.486.jpg  \n",
      "  inflating: data/cats_dogs/train/cats/cat.487.jpg  \n",
      "  inflating: data/cats_dogs/train/cats/cat.488.jpg  \n",
      "  inflating: data/cats_dogs/train/cats/cat.489.jpg  \n",
      "  inflating: data/cats_dogs/train/cats/cat.49.jpg  \n",
      "  inflating: data/cats_dogs/train/cats/cat.490.jpg  \n",
      "  inflating: data/cats_dogs/train/cats/cat.491.jpg  \n",
      "  inflating: data/cats_dogs/train/cats/cat.492.jpg  \n",
      "  inflating: data/cats_dogs/train/cats/cat.493.jpg  \n",
      "  inflating: data/cats_dogs/train/cats/cat.494.jpg  \n",
      "  inflating: data/cats_dogs/train/cats/cat.495.jpg  \n",
      "  inflating: data/cats_dogs/train/cats/cat.496.jpg  \n",
      "  inflating: data/cats_dogs/train/cats/cat.497.jpg  \n",
      "  inflating: data/cats_dogs/train/cats/cat.498.jpg  \n",
      "  inflating: data/cats_dogs/train/cats/cat.499.jpg  \n",
      "  inflating: data/cats_dogs/train/cats/cat.5.jpg  \n",
      "  inflating: data/cats_dogs/train/cats/cat.50.jpg  \n",
      "  inflating: data/cats_dogs/train/cats/cat.500.jpg  \n",
      "  inflating: data/cats_dogs/train/cats/cat.501.jpg  \n",
      "  inflating: data/cats_dogs/train/cats/cat.502.jpg  \n",
      "  inflating: data/cats_dogs/train/cats/cat.503.jpg  \n",
      "  inflating: data/cats_dogs/train/cats/cat.504.jpg  \n",
      "  inflating: data/cats_dogs/train/cats/cat.505.jpg  \n",
      "  inflating: data/cats_dogs/train/cats/cat.506.jpg  \n",
      "  inflating: data/cats_dogs/train/cats/cat.507.jpg  \n",
      "  inflating: data/cats_dogs/train/cats/cat.508.jpg  \n",
      "  inflating: data/cats_dogs/train/cats/cat.509.jpg  \n",
      "  inflating: data/cats_dogs/train/cats/cat.51.jpg  \n",
      "  inflating: data/cats_dogs/train/cats/cat.510.jpg  \n",
      "  inflating: data/cats_dogs/train/cats/cat.511.jpg  \n",
      "  inflating: data/cats_dogs/train/cats/cat.512.jpg  \n",
      "  inflating: data/cats_dogs/train/cats/cat.513.jpg  \n",
      "  inflating: data/cats_dogs/train/cats/cat.514.jpg  \n",
      "  inflating: data/cats_dogs/train/cats/cat.515.jpg  \n",
      "  inflating: data/cats_dogs/train/cats/cat.516.jpg  \n",
      "  inflating: data/cats_dogs/train/cats/cat.517.jpg  \n",
      "  inflating: data/cats_dogs/train/cats/cat.518.jpg  \n",
      "  inflating: data/cats_dogs/train/cats/cat.519.jpg  \n",
      "  inflating: data/cats_dogs/train/cats/cat.52.jpg  \n",
      "  inflating: data/cats_dogs/train/cats/cat.520.jpg  \n",
      "  inflating: data/cats_dogs/train/cats/cat.521.jpg  \n",
      "  inflating: data/cats_dogs/train/cats/cat.522.jpg  \n",
      "  inflating: data/cats_dogs/train/cats/cat.523.jpg  \n",
      "  inflating: data/cats_dogs/train/cats/cat.524.jpg  \n",
      "  inflating: data/cats_dogs/train/cats/cat.525.jpg  \n",
      "  inflating: data/cats_dogs/train/cats/cat.526.jpg  \n",
      "  inflating: data/cats_dogs/train/cats/cat.527.jpg  \n",
      "  inflating: data/cats_dogs/train/cats/cat.528.jpg  \n",
      "  inflating: data/cats_dogs/train/cats/cat.529.jpg  \n",
      "  inflating: data/cats_dogs/train/cats/cat.53.jpg  \n",
      "  inflating: data/cats_dogs/train/cats/cat.530.jpg  \n",
      "  inflating: data/cats_dogs/train/cats/cat.531.jpg  \n",
      "  inflating: data/cats_dogs/train/cats/cat.532.jpg  \n",
      "  inflating: data/cats_dogs/train/cats/cat.533.jpg  \n",
      "  inflating: data/cats_dogs/train/cats/cat.534.jpg  \n",
      "  inflating: data/cats_dogs/train/cats/cat.535.jpg  \n",
      "  inflating: data/cats_dogs/train/cats/cat.536.jpg  \n",
      "  inflating: data/cats_dogs/train/cats/cat.537.jpg  \n",
      "  inflating: data/cats_dogs/train/cats/cat.538.jpg  \n",
      "  inflating: data/cats_dogs/train/cats/cat.539.jpg  \n",
      "  inflating: data/cats_dogs/train/cats/cat.54.jpg  \n",
      "  inflating: data/cats_dogs/train/cats/cat.540.jpg  \n",
      "  inflating: data/cats_dogs/train/cats/cat.541.jpg  \n",
      "  inflating: data/cats_dogs/train/cats/cat.542.jpg  \n",
      "  inflating: data/cats_dogs/train/cats/cat.543.jpg  \n",
      "  inflating: data/cats_dogs/train/cats/cat.544.jpg  \n",
      "  inflating: data/cats_dogs/train/cats/cat.545.jpg  \n",
      "  inflating: data/cats_dogs/train/cats/cat.546.jpg  \n",
      "  inflating: data/cats_dogs/train/cats/cat.547.jpg  \n",
      "  inflating: data/cats_dogs/train/cats/cat.548.jpg  \n",
      "  inflating: data/cats_dogs/train/cats/cat.549.jpg  \n",
      "  inflating: data/cats_dogs/train/cats/cat.55.jpg  \n",
      "  inflating: data/cats_dogs/train/cats/cat.550.jpg  \n",
      "  inflating: data/cats_dogs/train/cats/cat.551.jpg  \n",
      "  inflating: data/cats_dogs/train/cats/cat.552.jpg  \n",
      "  inflating: data/cats_dogs/train/cats/cat.553.jpg  \n",
      "  inflating: data/cats_dogs/train/cats/cat.554.jpg  \n",
      "  inflating: data/cats_dogs/train/cats/cat.555.jpg  \n",
      "  inflating: data/cats_dogs/train/cats/cat.556.jpg  \n",
      "  inflating: data/cats_dogs/train/cats/cat.557.jpg  \n",
      "  inflating: data/cats_dogs/train/cats/cat.558.jpg  \n",
      "  inflating: data/cats_dogs/train/cats/cat.559.jpg  \n",
      "  inflating: data/cats_dogs/train/cats/cat.56.jpg  \n",
      "  inflating: data/cats_dogs/train/cats/cat.560.jpg  \n",
      "  inflating: data/cats_dogs/train/cats/cat.561.jpg  \n",
      "  inflating: data/cats_dogs/train/cats/cat.562.jpg  \n",
      "  inflating: data/cats_dogs/train/cats/cat.563.jpg  \n",
      "  inflating: data/cats_dogs/train/cats/cat.564.jpg  \n",
      "  inflating: data/cats_dogs/train/cats/cat.565.jpg  \n",
      "  inflating: data/cats_dogs/train/cats/cat.566.jpg  \n",
      "  inflating: data/cats_dogs/train/cats/cat.567.jpg  \n",
      "  inflating: data/cats_dogs/train/cats/cat.568.jpg  \n",
      "  inflating: data/cats_dogs/train/cats/cat.569.jpg  \n",
      "  inflating: data/cats_dogs/train/cats/cat.57.jpg  \n",
      "  inflating: data/cats_dogs/train/cats/cat.570.jpg  \n",
      "  inflating: data/cats_dogs/train/cats/cat.571.jpg  \n",
      "  inflating: data/cats_dogs/train/cats/cat.572.jpg  \n",
      "  inflating: data/cats_dogs/train/cats/cat.573.jpg  \n",
      "  inflating: data/cats_dogs/train/cats/cat.574.jpg  \n",
      "  inflating: data/cats_dogs/train/cats/cat.575.jpg  \n",
      "  inflating: data/cats_dogs/train/cats/cat.576.jpg  \n",
      "  inflating: data/cats_dogs/train/cats/cat.577.jpg  \n",
      "  inflating: data/cats_dogs/train/cats/cat.578.jpg  \n",
      "  inflating: data/cats_dogs/train/cats/cat.579.jpg  \n",
      "  inflating: data/cats_dogs/train/cats/cat.58.jpg  \n",
      "  inflating: data/cats_dogs/train/cats/cat.580.jpg  \n",
      "  inflating: data/cats_dogs/train/cats/cat.581.jpg  \n",
      "  inflating: data/cats_dogs/train/cats/cat.582.jpg  \n",
      "  inflating: data/cats_dogs/train/cats/cat.583.jpg  \n",
      "  inflating: data/cats_dogs/train/cats/cat.584.jpg  \n",
      "  inflating: data/cats_dogs/train/cats/cat.585.jpg  \n",
      "  inflating: data/cats_dogs/train/cats/cat.586.jpg  \n",
      "  inflating: data/cats_dogs/train/cats/cat.587.jpg  \n",
      "  inflating: data/cats_dogs/train/cats/cat.588.jpg  \n",
      "  inflating: data/cats_dogs/train/cats/cat.589.jpg  \n",
      "  inflating: data/cats_dogs/train/cats/cat.59.jpg  \n",
      "  inflating: data/cats_dogs/train/cats/cat.590.jpg  \n",
      "  inflating: data/cats_dogs/train/cats/cat.591.jpg  \n",
      "  inflating: data/cats_dogs/train/cats/cat.592.jpg  \n",
      "  inflating: data/cats_dogs/train/cats/cat.593.jpg  \n",
      "  inflating: data/cats_dogs/train/cats/cat.594.jpg  \n",
      "  inflating: data/cats_dogs/train/cats/cat.595.jpg  \n",
      "  inflating: data/cats_dogs/train/cats/cat.596.jpg  \n",
      "  inflating: data/cats_dogs/train/cats/cat.597.jpg  \n",
      "  inflating: data/cats_dogs/train/cats/cat.598.jpg  \n",
      "  inflating: data/cats_dogs/train/cats/cat.599.jpg  \n",
      "  inflating: data/cats_dogs/train/cats/cat.6.jpg  \n",
      "  inflating: data/cats_dogs/train/cats/cat.60.jpg  \n",
      "  inflating: data/cats_dogs/train/cats/cat.600.jpg  \n",
      "  inflating: data/cats_dogs/train/cats/cat.601.jpg  \n",
      "  inflating: data/cats_dogs/train/cats/cat.602.jpg  \n",
      "  inflating: data/cats_dogs/train/cats/cat.603.jpg  \n",
      "  inflating: data/cats_dogs/train/cats/cat.604.jpg  \n",
      "  inflating: data/cats_dogs/train/cats/cat.605.jpg  \n",
      "  inflating: data/cats_dogs/train/cats/cat.606.jpg  \n",
      "  inflating: data/cats_dogs/train/cats/cat.607.jpg  \n",
      "  inflating: data/cats_dogs/train/cats/cat.608.jpg  \n",
      "  inflating: data/cats_dogs/train/cats/cat.609.jpg  \n",
      "  inflating: data/cats_dogs/train/cats/cat.61.jpg  \n",
      "  inflating: data/cats_dogs/train/cats/cat.610.jpg  \n",
      "  inflating: data/cats_dogs/train/cats/cat.611.jpg  \n",
      "  inflating: data/cats_dogs/train/cats/cat.612.jpg  \n",
      "  inflating: data/cats_dogs/train/cats/cat.613.jpg  \n",
      "  inflating: data/cats_dogs/train/cats/cat.614.jpg  \n",
      "  inflating: data/cats_dogs/train/cats/cat.615.jpg  \n",
      "  inflating: data/cats_dogs/train/cats/cat.616.jpg  \n",
      "  inflating: data/cats_dogs/train/cats/cat.617.jpg  \n",
      "  inflating: data/cats_dogs/train/cats/cat.618.jpg  \n",
      "  inflating: data/cats_dogs/train/cats/cat.619.jpg  \n",
      "  inflating: data/cats_dogs/train/cats/cat.62.jpg  \n",
      "  inflating: data/cats_dogs/train/cats/cat.620.jpg  \n",
      "  inflating: data/cats_dogs/train/cats/cat.621.jpg  \n",
      "  inflating: data/cats_dogs/train/cats/cat.622.jpg  \n",
      "  inflating: data/cats_dogs/train/cats/cat.623.jpg  \n",
      "  inflating: data/cats_dogs/train/cats/cat.624.jpg  \n",
      "  inflating: data/cats_dogs/train/cats/cat.625.jpg  \n",
      "  inflating: data/cats_dogs/train/cats/cat.626.jpg  \n",
      "  inflating: data/cats_dogs/train/cats/cat.627.jpg  \n",
      "  inflating: data/cats_dogs/train/cats/cat.628.jpg  \n",
      "  inflating: data/cats_dogs/train/cats/cat.629.jpg  \n",
      "  inflating: data/cats_dogs/train/cats/cat.63.jpg  \n",
      "  inflating: data/cats_dogs/train/cats/cat.630.jpg  \n",
      "  inflating: data/cats_dogs/train/cats/cat.631.jpg  \n",
      "  inflating: data/cats_dogs/train/cats/cat.632.jpg  \n",
      "  inflating: data/cats_dogs/train/cats/cat.633.jpg  \n",
      "  inflating: data/cats_dogs/train/cats/cat.634.jpg  \n",
      "  inflating: data/cats_dogs/train/cats/cat.635.jpg  \n",
      "  inflating: data/cats_dogs/train/cats/cat.636.jpg  \n",
      "  inflating: data/cats_dogs/train/cats/cat.637.jpg  \n",
      "  inflating: data/cats_dogs/train/cats/cat.638.jpg  \n",
      "  inflating: data/cats_dogs/train/cats/cat.639.jpg  \n",
      "  inflating: data/cats_dogs/train/cats/cat.64.jpg  \n",
      "  inflating: data/cats_dogs/train/cats/cat.640.jpg  \n",
      "  inflating: data/cats_dogs/train/cats/cat.641.jpg  \n",
      "  inflating: data/cats_dogs/train/cats/cat.642.jpg  \n",
      "  inflating: data/cats_dogs/train/cats/cat.643.jpg  \n",
      "  inflating: data/cats_dogs/train/cats/cat.644.jpg  \n",
      "  inflating: data/cats_dogs/train/cats/cat.645.jpg  \n",
      "  inflating: data/cats_dogs/train/cats/cat.646.jpg  \n",
      "  inflating: data/cats_dogs/train/cats/cat.647.jpg  \n",
      "  inflating: data/cats_dogs/train/cats/cat.648.jpg  \n",
      "  inflating: data/cats_dogs/train/cats/cat.649.jpg  \n",
      "  inflating: data/cats_dogs/train/cats/cat.65.jpg  \n",
      "  inflating: data/cats_dogs/train/cats/cat.650.jpg  \n",
      "  inflating: data/cats_dogs/train/cats/cat.651.jpg  \n",
      "  inflating: data/cats_dogs/train/cats/cat.652.jpg  \n",
      "  inflating: data/cats_dogs/train/cats/cat.653.jpg  \n",
      "  inflating: data/cats_dogs/train/cats/cat.654.jpg  \n",
      "  inflating: data/cats_dogs/train/cats/cat.655.jpg  \n",
      "  inflating: data/cats_dogs/train/cats/cat.656.jpg  \n",
      "  inflating: data/cats_dogs/train/cats/cat.657.jpg  \n",
      "  inflating: data/cats_dogs/train/cats/cat.658.jpg  \n",
      "  inflating: data/cats_dogs/train/cats/cat.659.jpg  \n",
      "  inflating: data/cats_dogs/train/cats/cat.66.jpg  \n",
      "  inflating: data/cats_dogs/train/cats/cat.660.jpg  \n",
      "  inflating: data/cats_dogs/train/cats/cat.661.jpg  \n",
      "  inflating: data/cats_dogs/train/cats/cat.662.jpg  \n",
      "  inflating: data/cats_dogs/train/cats/cat.663.jpg  \n",
      "  inflating: data/cats_dogs/train/cats/cat.664.jpg  \n",
      "  inflating: data/cats_dogs/train/cats/cat.665.jpg  \n",
      "  inflating: data/cats_dogs/train/cats/cat.666.jpg  \n",
      "  inflating: data/cats_dogs/train/cats/cat.667.jpg  \n",
      "  inflating: data/cats_dogs/train/cats/cat.668.jpg  \n",
      "  inflating: data/cats_dogs/train/cats/cat.669.jpg  \n",
      "  inflating: data/cats_dogs/train/cats/cat.67.jpg  \n",
      "  inflating: data/cats_dogs/train/cats/cat.670.jpg  \n",
      "  inflating: data/cats_dogs/train/cats/cat.671.jpg  \n",
      "  inflating: data/cats_dogs/train/cats/cat.672.jpg  \n",
      "  inflating: data/cats_dogs/train/cats/cat.673.jpg  \n",
      "  inflating: data/cats_dogs/train/cats/cat.674.jpg  \n",
      "  inflating: data/cats_dogs/train/cats/cat.675.jpg  \n",
      "  inflating: data/cats_dogs/train/cats/cat.676.jpg  \n",
      "  inflating: data/cats_dogs/train/cats/cat.677.jpg  \n",
      "  inflating: data/cats_dogs/train/cats/cat.678.jpg  \n",
      "  inflating: data/cats_dogs/train/cats/cat.679.jpg  \n",
      "  inflating: data/cats_dogs/train/cats/cat.68.jpg  \n",
      "  inflating: data/cats_dogs/train/cats/cat.680.jpg  \n",
      "  inflating: data/cats_dogs/train/cats/cat.681.jpg  \n",
      "  inflating: data/cats_dogs/train/cats/cat.682.jpg  \n",
      "  inflating: data/cats_dogs/train/cats/cat.683.jpg  \n",
      "  inflating: data/cats_dogs/train/cats/cat.684.jpg  \n",
      "  inflating: data/cats_dogs/train/cats/cat.685.jpg  \n",
      "  inflating: data/cats_dogs/train/cats/cat.686.jpg  \n",
      "  inflating: data/cats_dogs/train/cats/cat.687.jpg  \n",
      "  inflating: data/cats_dogs/train/cats/cat.688.jpg  \n",
      "  inflating: data/cats_dogs/train/cats/cat.689.jpg  \n",
      "  inflating: data/cats_dogs/train/cats/cat.69.jpg  \n",
      "  inflating: data/cats_dogs/train/cats/cat.690.jpg  \n",
      "  inflating: data/cats_dogs/train/cats/cat.691.jpg  \n",
      "  inflating: data/cats_dogs/train/cats/cat.692.jpg  \n",
      "  inflating: data/cats_dogs/train/cats/cat.693.jpg  \n",
      "  inflating: data/cats_dogs/train/cats/cat.694.jpg  \n",
      "  inflating: data/cats_dogs/train/cats/cat.695.jpg  \n",
      "  inflating: data/cats_dogs/train/cats/cat.696.jpg  \n",
      "  inflating: data/cats_dogs/train/cats/cat.697.jpg  \n",
      "  inflating: data/cats_dogs/train/cats/cat.698.jpg  \n",
      "  inflating: data/cats_dogs/train/cats/cat.699.jpg  \n",
      "  inflating: data/cats_dogs/train/cats/cat.7.jpg  \n",
      "  inflating: data/cats_dogs/train/cats/cat.70.jpg  \n",
      "  inflating: data/cats_dogs/train/cats/cat.700.jpg  \n",
      "  inflating: data/cats_dogs/train/cats/cat.701.jpg  \n",
      "  inflating: data/cats_dogs/train/cats/cat.702.jpg  \n",
      "  inflating: data/cats_dogs/train/cats/cat.703.jpg  \n",
      "  inflating: data/cats_dogs/train/cats/cat.704.jpg  \n",
      "  inflating: data/cats_dogs/train/cats/cat.705.jpg  \n",
      "  inflating: data/cats_dogs/train/cats/cat.706.jpg  \n",
      "  inflating: data/cats_dogs/train/cats/cat.707.jpg  \n",
      "  inflating: data/cats_dogs/train/cats/cat.708.jpg  \n",
      "  inflating: data/cats_dogs/train/cats/cat.709.jpg  \n",
      "  inflating: data/cats_dogs/train/cats/cat.71.jpg  \n",
      "  inflating: data/cats_dogs/train/cats/cat.710.jpg  \n",
      "  inflating: data/cats_dogs/train/cats/cat.711.jpg  \n",
      "  inflating: data/cats_dogs/train/cats/cat.712.jpg  \n",
      "  inflating: data/cats_dogs/train/cats/cat.713.jpg  \n",
      "  inflating: data/cats_dogs/train/cats/cat.714.jpg  \n",
      "  inflating: data/cats_dogs/train/cats/cat.715.jpg  \n",
      "  inflating: data/cats_dogs/train/cats/cat.716.jpg  \n",
      "  inflating: data/cats_dogs/train/cats/cat.717.jpg  \n",
      "  inflating: data/cats_dogs/train/cats/cat.718.jpg  \n",
      "  inflating: data/cats_dogs/train/cats/cat.719.jpg  \n",
      "  inflating: data/cats_dogs/train/cats/cat.72.jpg  \n",
      "  inflating: data/cats_dogs/train/cats/cat.720.jpg  \n",
      "  inflating: data/cats_dogs/train/cats/cat.721.jpg  \n",
      "  inflating: data/cats_dogs/train/cats/cat.722.jpg  \n",
      "  inflating: data/cats_dogs/train/cats/cat.723.jpg  \n",
      "  inflating: data/cats_dogs/train/cats/cat.724.jpg  \n",
      "  inflating: data/cats_dogs/train/cats/cat.725.jpg  \n",
      "  inflating: data/cats_dogs/train/cats/cat.726.jpg  \n",
      "  inflating: data/cats_dogs/train/cats/cat.727.jpg  \n",
      "  inflating: data/cats_dogs/train/cats/cat.728.jpg  \n",
      "  inflating: data/cats_dogs/train/cats/cat.729.jpg  \n",
      "  inflating: data/cats_dogs/train/cats/cat.73.jpg  \n",
      "  inflating: data/cats_dogs/train/cats/cat.730.jpg  \n",
      "  inflating: data/cats_dogs/train/cats/cat.731.jpg  \n",
      "  inflating: data/cats_dogs/train/cats/cat.732.jpg  \n",
      "  inflating: data/cats_dogs/train/cats/cat.733.jpg  \n",
      "  inflating: data/cats_dogs/train/cats/cat.734.jpg  \n",
      "  inflating: data/cats_dogs/train/cats/cat.735.jpg  \n",
      "  inflating: data/cats_dogs/train/cats/cat.736.jpg  \n",
      "  inflating: data/cats_dogs/train/cats/cat.737.jpg  \n",
      "  inflating: data/cats_dogs/train/cats/cat.738.jpg  \n",
      "  inflating: data/cats_dogs/train/cats/cat.739.jpg  \n",
      "  inflating: data/cats_dogs/train/cats/cat.74.jpg  \n",
      "  inflating: data/cats_dogs/train/cats/cat.740.jpg  \n",
      "  inflating: data/cats_dogs/train/cats/cat.741.jpg  \n",
      "  inflating: data/cats_dogs/train/cats/cat.742.jpg  \n",
      "  inflating: data/cats_dogs/train/cats/cat.743.jpg  \n",
      "  inflating: data/cats_dogs/train/cats/cat.744.jpg  \n",
      "  inflating: data/cats_dogs/train/cats/cat.745.jpg  \n",
      "  inflating: data/cats_dogs/train/cats/cat.746.jpg  \n",
      "  inflating: data/cats_dogs/train/cats/cat.747.jpg  \n",
      "  inflating: data/cats_dogs/train/cats/cat.748.jpg  \n",
      "  inflating: data/cats_dogs/train/cats/cat.749.jpg  \n",
      "  inflating: data/cats_dogs/train/cats/cat.75.jpg  \n",
      "  inflating: data/cats_dogs/train/cats/cat.750.jpg  \n",
      "  inflating: data/cats_dogs/train/cats/cat.751.jpg  \n",
      "  inflating: data/cats_dogs/train/cats/cat.752.jpg  \n",
      "  inflating: data/cats_dogs/train/cats/cat.753.jpg  \n",
      "  inflating: data/cats_dogs/train/cats/cat.754.jpg  \n",
      "  inflating: data/cats_dogs/train/cats/cat.755.jpg  \n",
      "  inflating: data/cats_dogs/train/cats/cat.756.jpg  \n",
      "  inflating: data/cats_dogs/train/cats/cat.757.jpg  \n",
      "  inflating: data/cats_dogs/train/cats/cat.758.jpg  \n",
      "  inflating: data/cats_dogs/train/cats/cat.759.jpg  \n",
      "  inflating: data/cats_dogs/train/cats/cat.76.jpg  \n",
      "  inflating: data/cats_dogs/train/cats/cat.760.jpg  \n",
      "  inflating: data/cats_dogs/train/cats/cat.761.jpg  \n",
      "  inflating: data/cats_dogs/train/cats/cat.762.jpg  \n",
      "  inflating: data/cats_dogs/train/cats/cat.763.jpg  \n",
      "  inflating: data/cats_dogs/train/cats/cat.764.jpg  \n",
      "  inflating: data/cats_dogs/train/cats/cat.765.jpg  \n",
      "  inflating: data/cats_dogs/train/cats/cat.766.jpg  \n",
      "  inflating: data/cats_dogs/train/cats/cat.767.jpg  \n",
      "  inflating: data/cats_dogs/train/cats/cat.768.jpg  \n",
      "  inflating: data/cats_dogs/train/cats/cat.769.jpg  \n",
      "  inflating: data/cats_dogs/train/cats/cat.77.jpg  \n",
      "  inflating: data/cats_dogs/train/cats/cat.770.jpg  \n",
      "  inflating: data/cats_dogs/train/cats/cat.771.jpg  \n",
      "  inflating: data/cats_dogs/train/cats/cat.772.jpg  \n",
      "  inflating: data/cats_dogs/train/cats/cat.773.jpg  \n",
      "  inflating: data/cats_dogs/train/cats/cat.774.jpg  \n",
      "  inflating: data/cats_dogs/train/cats/cat.775.jpg  \n",
      "  inflating: data/cats_dogs/train/cats/cat.776.jpg  \n",
      "  inflating: data/cats_dogs/train/cats/cat.777.jpg  \n",
      "  inflating: data/cats_dogs/train/cats/cat.778.jpg  \n",
      "  inflating: data/cats_dogs/train/cats/cat.779.jpg  \n",
      "  inflating: data/cats_dogs/train/cats/cat.78.jpg  \n",
      "  inflating: data/cats_dogs/train/cats/cat.780.jpg  \n",
      "  inflating: data/cats_dogs/train/cats/cat.781.jpg  \n",
      "  inflating: data/cats_dogs/train/cats/cat.782.jpg  \n",
      "  inflating: data/cats_dogs/train/cats/cat.783.jpg  \n",
      "  inflating: data/cats_dogs/train/cats/cat.784.jpg  \n",
      "  inflating: data/cats_dogs/train/cats/cat.785.jpg  \n",
      "  inflating: data/cats_dogs/train/cats/cat.786.jpg  \n",
      "  inflating: data/cats_dogs/train/cats/cat.787.jpg  \n",
      "  inflating: data/cats_dogs/train/cats/cat.788.jpg  \n",
      "  inflating: data/cats_dogs/train/cats/cat.789.jpg  \n",
      "  inflating: data/cats_dogs/train/cats/cat.79.jpg  \n",
      "  inflating: data/cats_dogs/train/cats/cat.790.jpg  \n",
      "  inflating: data/cats_dogs/train/cats/cat.791.jpg  \n",
      "  inflating: data/cats_dogs/train/cats/cat.792.jpg  \n",
      "  inflating: data/cats_dogs/train/cats/cat.793.jpg  \n",
      "  inflating: data/cats_dogs/train/cats/cat.794.jpg  \n",
      "  inflating: data/cats_dogs/train/cats/cat.795.jpg  \n",
      "  inflating: data/cats_dogs/train/cats/cat.796.jpg  \n",
      "  inflating: data/cats_dogs/train/cats/cat.797.jpg  \n",
      "  inflating: data/cats_dogs/train/cats/cat.798.jpg  \n",
      "  inflating: data/cats_dogs/train/cats/cat.799.jpg  \n",
      "  inflating: data/cats_dogs/train/cats/cat.8.jpg  \n",
      "  inflating: data/cats_dogs/train/cats/cat.80.jpg  \n",
      "  inflating: data/cats_dogs/train/cats/cat.800.jpg  \n",
      "  inflating: data/cats_dogs/train/cats/cat.801.jpg  \n",
      "  inflating: data/cats_dogs/train/cats/cat.802.jpg  \n",
      "  inflating: data/cats_dogs/train/cats/cat.803.jpg  \n",
      "  inflating: data/cats_dogs/train/cats/cat.804.jpg  \n",
      "  inflating: data/cats_dogs/train/cats/cat.805.jpg  \n",
      "  inflating: data/cats_dogs/train/cats/cat.806.jpg  \n",
      "  inflating: data/cats_dogs/train/cats/cat.807.jpg  \n",
      "  inflating: data/cats_dogs/train/cats/cat.808.jpg  \n",
      "  inflating: data/cats_dogs/train/cats/cat.809.jpg  \n",
      "  inflating: data/cats_dogs/train/cats/cat.81.jpg  \n",
      "  inflating: data/cats_dogs/train/cats/cat.810.jpg  \n",
      "  inflating: data/cats_dogs/train/cats/cat.811.jpg  \n",
      "  inflating: data/cats_dogs/train/cats/cat.812.jpg  \n",
      "  inflating: data/cats_dogs/train/cats/cat.813.jpg  \n",
      "  inflating: data/cats_dogs/train/cats/cat.814.jpg  \n",
      "  inflating: data/cats_dogs/train/cats/cat.815.jpg  \n",
      "  inflating: data/cats_dogs/train/cats/cat.816.jpg  \n",
      "  inflating: data/cats_dogs/train/cats/cat.817.jpg  \n",
      "  inflating: data/cats_dogs/train/cats/cat.818.jpg  \n",
      "  inflating: data/cats_dogs/train/cats/cat.819.jpg  \n",
      "  inflating: data/cats_dogs/train/cats/cat.82.jpg  \n",
      "  inflating: data/cats_dogs/train/cats/cat.820.jpg  \n",
      "  inflating: data/cats_dogs/train/cats/cat.821.jpg  \n",
      "  inflating: data/cats_dogs/train/cats/cat.822.jpg  \n",
      "  inflating: data/cats_dogs/train/cats/cat.823.jpg  \n",
      "  inflating: data/cats_dogs/train/cats/cat.824.jpg  \n",
      "  inflating: data/cats_dogs/train/cats/cat.825.jpg  \n",
      "  inflating: data/cats_dogs/train/cats/cat.826.jpg  \n",
      "  inflating: data/cats_dogs/train/cats/cat.827.jpg  \n",
      "  inflating: data/cats_dogs/train/cats/cat.828.jpg  \n",
      "  inflating: data/cats_dogs/train/cats/cat.829.jpg  \n",
      "  inflating: data/cats_dogs/train/cats/cat.83.jpg  \n",
      "  inflating: data/cats_dogs/train/cats/cat.830.jpg  \n",
      "  inflating: data/cats_dogs/train/cats/cat.831.jpg  \n",
      "  inflating: data/cats_dogs/train/cats/cat.832.jpg  \n",
      "  inflating: data/cats_dogs/train/cats/cat.833.jpg  \n",
      "  inflating: data/cats_dogs/train/cats/cat.834.jpg  \n",
      "  inflating: data/cats_dogs/train/cats/cat.835.jpg  \n",
      "  inflating: data/cats_dogs/train/cats/cat.836.jpg  \n",
      "  inflating: data/cats_dogs/train/cats/cat.837.jpg  \n",
      "  inflating: data/cats_dogs/train/cats/cat.838.jpg  \n",
      "  inflating: data/cats_dogs/train/cats/cat.839.jpg  \n",
      "  inflating: data/cats_dogs/train/cats/cat.84.jpg  \n",
      "  inflating: data/cats_dogs/train/cats/cat.840.jpg  \n",
      "  inflating: data/cats_dogs/train/cats/cat.841.jpg  \n",
      "  inflating: data/cats_dogs/train/cats/cat.842.jpg  \n",
      "  inflating: data/cats_dogs/train/cats/cat.843.jpg  \n",
      "  inflating: data/cats_dogs/train/cats/cat.844.jpg  \n",
      "  inflating: data/cats_dogs/train/cats/cat.845.jpg  \n",
      "  inflating: data/cats_dogs/train/cats/cat.846.jpg  \n",
      "  inflating: data/cats_dogs/train/cats/cat.847.jpg  \n",
      "  inflating: data/cats_dogs/train/cats/cat.848.jpg  \n",
      "  inflating: data/cats_dogs/train/cats/cat.849.jpg  \n",
      "  inflating: data/cats_dogs/train/cats/cat.85.jpg  \n",
      "  inflating: data/cats_dogs/train/cats/cat.850.jpg  \n",
      "  inflating: data/cats_dogs/train/cats/cat.851.jpg  \n",
      "  inflating: data/cats_dogs/train/cats/cat.852.jpg  \n",
      "  inflating: data/cats_dogs/train/cats/cat.853.jpg  \n",
      "  inflating: data/cats_dogs/train/cats/cat.854.jpg  \n",
      "  inflating: data/cats_dogs/train/cats/cat.855.jpg  \n",
      "  inflating: data/cats_dogs/train/cats/cat.856.jpg  \n",
      "  inflating: data/cats_dogs/train/cats/cat.857.jpg  \n",
      "  inflating: data/cats_dogs/train/cats/cat.858.jpg  \n",
      "  inflating: data/cats_dogs/train/cats/cat.859.jpg  \n",
      "  inflating: data/cats_dogs/train/cats/cat.86.jpg  \n",
      "  inflating: data/cats_dogs/train/cats/cat.860.jpg  \n",
      "  inflating: data/cats_dogs/train/cats/cat.861.jpg  \n",
      "  inflating: data/cats_dogs/train/cats/cat.862.jpg  \n",
      "  inflating: data/cats_dogs/train/cats/cat.863.jpg  \n",
      "  inflating: data/cats_dogs/train/cats/cat.864.jpg  \n",
      "  inflating: data/cats_dogs/train/cats/cat.865.jpg  \n",
      "  inflating: data/cats_dogs/train/cats/cat.866.jpg  \n",
      "  inflating: data/cats_dogs/train/cats/cat.867.jpg  \n",
      "  inflating: data/cats_dogs/train/cats/cat.868.jpg  \n",
      "  inflating: data/cats_dogs/train/cats/cat.869.jpg  \n",
      "  inflating: data/cats_dogs/train/cats/cat.87.jpg  \n",
      "  inflating: data/cats_dogs/train/cats/cat.870.jpg  \n",
      "  inflating: data/cats_dogs/train/cats/cat.871.jpg  \n",
      "  inflating: data/cats_dogs/train/cats/cat.872.jpg  \n",
      "  inflating: data/cats_dogs/train/cats/cat.873.jpg  \n",
      "  inflating: data/cats_dogs/train/cats/cat.874.jpg  \n",
      "  inflating: data/cats_dogs/train/cats/cat.875.jpg  \n",
      "  inflating: data/cats_dogs/train/cats/cat.876.jpg  \n",
      "  inflating: data/cats_dogs/train/cats/cat.877.jpg  \n",
      "  inflating: data/cats_dogs/train/cats/cat.878.jpg  \n",
      "  inflating: data/cats_dogs/train/cats/cat.879.jpg  \n",
      "  inflating: data/cats_dogs/train/cats/cat.88.jpg  \n",
      "  inflating: data/cats_dogs/train/cats/cat.880.jpg  \n",
      "  inflating: data/cats_dogs/train/cats/cat.881.jpg  \n",
      "  inflating: data/cats_dogs/train/cats/cat.882.jpg  \n",
      "  inflating: data/cats_dogs/train/cats/cat.883.jpg  \n",
      "  inflating: data/cats_dogs/train/cats/cat.884.jpg  \n",
      "  inflating: data/cats_dogs/train/cats/cat.885.jpg  \n",
      "  inflating: data/cats_dogs/train/cats/cat.886.jpg  \n",
      "  inflating: data/cats_dogs/train/cats/cat.887.jpg  \n",
      "  inflating: data/cats_dogs/train/cats/cat.888.jpg  \n",
      "  inflating: data/cats_dogs/train/cats/cat.889.jpg  \n",
      "  inflating: data/cats_dogs/train/cats/cat.89.jpg  \n",
      "  inflating: data/cats_dogs/train/cats/cat.890.jpg  \n",
      "  inflating: data/cats_dogs/train/cats/cat.891.jpg  \n",
      "  inflating: data/cats_dogs/train/cats/cat.892.jpg  \n",
      "  inflating: data/cats_dogs/train/cats/cat.893.jpg  \n",
      "  inflating: data/cats_dogs/train/cats/cat.894.jpg  \n",
      "  inflating: data/cats_dogs/train/cats/cat.895.jpg  \n",
      "  inflating: data/cats_dogs/train/cats/cat.896.jpg  \n",
      "  inflating: data/cats_dogs/train/cats/cat.897.jpg  \n",
      "  inflating: data/cats_dogs/train/cats/cat.898.jpg  \n",
      "  inflating: data/cats_dogs/train/cats/cat.899.jpg  \n",
      "  inflating: data/cats_dogs/train/cats/cat.9.jpg  \n",
      "  inflating: data/cats_dogs/train/cats/cat.90.jpg  \n",
      "  inflating: data/cats_dogs/train/cats/cat.900.jpg  \n",
      "  inflating: data/cats_dogs/train/cats/cat.901.jpg  \n",
      "  inflating: data/cats_dogs/train/cats/cat.902.jpg  \n",
      "  inflating: data/cats_dogs/train/cats/cat.903.jpg  \n",
      "  inflating: data/cats_dogs/train/cats/cat.904.jpg  \n",
      "  inflating: data/cats_dogs/train/cats/cat.905.jpg  \n",
      "  inflating: data/cats_dogs/train/cats/cat.906.jpg  \n",
      "  inflating: data/cats_dogs/train/cats/cat.907.jpg  \n",
      "  inflating: data/cats_dogs/train/cats/cat.908.jpg  \n",
      "  inflating: data/cats_dogs/train/cats/cat.909.jpg  \n",
      "  inflating: data/cats_dogs/train/cats/cat.91.jpg  \n",
      "  inflating: data/cats_dogs/train/cats/cat.910.jpg  \n",
      "  inflating: data/cats_dogs/train/cats/cat.911.jpg  \n",
      "  inflating: data/cats_dogs/train/cats/cat.912.jpg  \n",
      "  inflating: data/cats_dogs/train/cats/cat.913.jpg  \n",
      "  inflating: data/cats_dogs/train/cats/cat.914.jpg  \n",
      "  inflating: data/cats_dogs/train/cats/cat.915.jpg  \n",
      "  inflating: data/cats_dogs/train/cats/cat.916.jpg  \n",
      "  inflating: data/cats_dogs/train/cats/cat.917.jpg  \n",
      "  inflating: data/cats_dogs/train/cats/cat.918.jpg  \n",
      "  inflating: data/cats_dogs/train/cats/cat.919.jpg  \n",
      "  inflating: data/cats_dogs/train/cats/cat.92.jpg  \n",
      "  inflating: data/cats_dogs/train/cats/cat.920.jpg  \n",
      "  inflating: data/cats_dogs/train/cats/cat.921.jpg  \n",
      "  inflating: data/cats_dogs/train/cats/cat.922.jpg  \n",
      "  inflating: data/cats_dogs/train/cats/cat.923.jpg  \n",
      "  inflating: data/cats_dogs/train/cats/cat.924.jpg  \n",
      "  inflating: data/cats_dogs/train/cats/cat.925.jpg  \n",
      "  inflating: data/cats_dogs/train/cats/cat.926.jpg  \n",
      "  inflating: data/cats_dogs/train/cats/cat.927.jpg  \n",
      "  inflating: data/cats_dogs/train/cats/cat.928.jpg  \n",
      "  inflating: data/cats_dogs/train/cats/cat.929.jpg  \n",
      "  inflating: data/cats_dogs/train/cats/cat.93.jpg  \n",
      "  inflating: data/cats_dogs/train/cats/cat.930.jpg  \n",
      "  inflating: data/cats_dogs/train/cats/cat.931.jpg  \n",
      "  inflating: data/cats_dogs/train/cats/cat.932.jpg  \n",
      "  inflating: data/cats_dogs/train/cats/cat.933.jpg  \n",
      "  inflating: data/cats_dogs/train/cats/cat.934.jpg  \n",
      "  inflating: data/cats_dogs/train/cats/cat.935.jpg  \n",
      "  inflating: data/cats_dogs/train/cats/cat.936.jpg  \n",
      "  inflating: data/cats_dogs/train/cats/cat.937.jpg  \n",
      "  inflating: data/cats_dogs/train/cats/cat.938.jpg  \n",
      "  inflating: data/cats_dogs/train/cats/cat.939.jpg  \n",
      "  inflating: data/cats_dogs/train/cats/cat.94.jpg  \n",
      "  inflating: data/cats_dogs/train/cats/cat.940.jpg  \n",
      "  inflating: data/cats_dogs/train/cats/cat.941.jpg  \n",
      "  inflating: data/cats_dogs/train/cats/cat.942.jpg  \n",
      "  inflating: data/cats_dogs/train/cats/cat.943.jpg  \n",
      "  inflating: data/cats_dogs/train/cats/cat.944.jpg  \n",
      "  inflating: data/cats_dogs/train/cats/cat.945.jpg  \n",
      "  inflating: data/cats_dogs/train/cats/cat.946.jpg  \n",
      "  inflating: data/cats_dogs/train/cats/cat.947.jpg  \n",
      "  inflating: data/cats_dogs/train/cats/cat.948.jpg  \n",
      "  inflating: data/cats_dogs/train/cats/cat.949.jpg  \n",
      "  inflating: data/cats_dogs/train/cats/cat.95.jpg  \n",
      "  inflating: data/cats_dogs/train/cats/cat.950.jpg  \n",
      "  inflating: data/cats_dogs/train/cats/cat.951.jpg  \n",
      "  inflating: data/cats_dogs/train/cats/cat.952.jpg  \n",
      "  inflating: data/cats_dogs/train/cats/cat.953.jpg  \n",
      "  inflating: data/cats_dogs/train/cats/cat.954.jpg  \n",
      "  inflating: data/cats_dogs/train/cats/cat.955.jpg  \n",
      "  inflating: data/cats_dogs/train/cats/cat.956.jpg  \n",
      "  inflating: data/cats_dogs/train/cats/cat.957.jpg  \n",
      "  inflating: data/cats_dogs/train/cats/cat.958.jpg  \n",
      "  inflating: data/cats_dogs/train/cats/cat.959.jpg  \n",
      "  inflating: data/cats_dogs/train/cats/cat.96.jpg  \n",
      "  inflating: data/cats_dogs/train/cats/cat.960.jpg  \n",
      "  inflating: data/cats_dogs/train/cats/cat.961.jpg  \n",
      "  inflating: data/cats_dogs/train/cats/cat.962.jpg  \n",
      "  inflating: data/cats_dogs/train/cats/cat.963.jpg  \n",
      "  inflating: data/cats_dogs/train/cats/cat.964.jpg  \n",
      "  inflating: data/cats_dogs/train/cats/cat.965.jpg  \n",
      "  inflating: data/cats_dogs/train/cats/cat.966.jpg  \n",
      "  inflating: data/cats_dogs/train/cats/cat.967.jpg  \n",
      "  inflating: data/cats_dogs/train/cats/cat.968.jpg  \n",
      "  inflating: data/cats_dogs/train/cats/cat.969.jpg  \n",
      "  inflating: data/cats_dogs/train/cats/cat.97.jpg  \n",
      "  inflating: data/cats_dogs/train/cats/cat.970.jpg  \n",
      "  inflating: data/cats_dogs/train/cats/cat.971.jpg  \n",
      "  inflating: data/cats_dogs/train/cats/cat.972.jpg  \n",
      "  inflating: data/cats_dogs/train/cats/cat.973.jpg  \n",
      "  inflating: data/cats_dogs/train/cats/cat.974.jpg  \n",
      "  inflating: data/cats_dogs/train/cats/cat.975.jpg  \n",
      "  inflating: data/cats_dogs/train/cats/cat.976.jpg  \n",
      "  inflating: data/cats_dogs/train/cats/cat.977.jpg  \n",
      "  inflating: data/cats_dogs/train/cats/cat.978.jpg  \n",
      "  inflating: data/cats_dogs/train/cats/cat.979.jpg  \n",
      "  inflating: data/cats_dogs/train/cats/cat.98.jpg  \n",
      "  inflating: data/cats_dogs/train/cats/cat.980.jpg  \n",
      "  inflating: data/cats_dogs/train/cats/cat.981.jpg  \n",
      "  inflating: data/cats_dogs/train/cats/cat.982.jpg  \n",
      "  inflating: data/cats_dogs/train/cats/cat.983.jpg  \n",
      "  inflating: data/cats_dogs/train/cats/cat.984.jpg  \n",
      "  inflating: data/cats_dogs/train/cats/cat.985.jpg  \n",
      "  inflating: data/cats_dogs/train/cats/cat.986.jpg  \n",
      "  inflating: data/cats_dogs/train/cats/cat.987.jpg  \n",
      "  inflating: data/cats_dogs/train/cats/cat.988.jpg  \n",
      "  inflating: data/cats_dogs/train/cats/cat.989.jpg  \n",
      "  inflating: data/cats_dogs/train/cats/cat.99.jpg  \n",
      "  inflating: data/cats_dogs/train/cats/cat.990.jpg  \n",
      "  inflating: data/cats_dogs/train/cats/cat.991.jpg  \n",
      "  inflating: data/cats_dogs/train/cats/cat.992.jpg  \n",
      "  inflating: data/cats_dogs/train/cats/cat.993.jpg  \n",
      "  inflating: data/cats_dogs/train/cats/cat.994.jpg  \n",
      "  inflating: data/cats_dogs/train/cats/cat.995.jpg  \n",
      "  inflating: data/cats_dogs/train/cats/cat.996.jpg  \n",
      "  inflating: data/cats_dogs/train/cats/cat.997.jpg  \n",
      "  inflating: data/cats_dogs/train/cats/cat.998.jpg  \n",
      "  inflating: data/cats_dogs/train/cats/cat.999.jpg  \n",
      "   creating: data/cats_dogs/train/dogs/\n",
      "   creating: data/cats_dogs/train/dogs/.ipynb_checkpoints/\n",
      "  inflating: data/cats_dogs/train/dogs/.ipynb_checkpoints/dog.1-checkpoint.jpg  \n",
      "  inflating: data/cats_dogs/train/dogs/dog.0.jpg  \n",
      "  inflating: data/cats_dogs/train/dogs/dog.1.jpg  \n",
      "  inflating: data/cats_dogs/train/dogs/dog.10.jpg  \n",
      "  inflating: data/cats_dogs/train/dogs/dog.100.jpg  \n",
      "  inflating: data/cats_dogs/train/dogs/dog.101.jpg  \n",
      "  inflating: data/cats_dogs/train/dogs/dog.102.jpg  \n",
      "  inflating: data/cats_dogs/train/dogs/dog.103.jpg  \n",
      "  inflating: data/cats_dogs/train/dogs/dog.104.jpg  \n",
      "  inflating: data/cats_dogs/train/dogs/dog.105.jpg  \n",
      "  inflating: data/cats_dogs/train/dogs/dog.106.jpg  \n",
      "  inflating: data/cats_dogs/train/dogs/dog.107.jpg  \n",
      "  inflating: data/cats_dogs/train/dogs/dog.108.jpg  \n",
      "  inflating: data/cats_dogs/train/dogs/dog.109.jpg  \n",
      "  inflating: data/cats_dogs/train/dogs/dog.11.jpg  \n",
      "  inflating: data/cats_dogs/train/dogs/dog.110.jpg  \n",
      "  inflating: data/cats_dogs/train/dogs/dog.111.jpg  \n",
      "  inflating: data/cats_dogs/train/dogs/dog.112.jpg  \n",
      "  inflating: data/cats_dogs/train/dogs/dog.113.jpg  \n",
      "  inflating: data/cats_dogs/train/dogs/dog.114.jpg  \n",
      "  inflating: data/cats_dogs/train/dogs/dog.115.jpg  \n",
      "  inflating: data/cats_dogs/train/dogs/dog.116.jpg  \n",
      "  inflating: data/cats_dogs/train/dogs/dog.117.jpg  \n",
      "  inflating: data/cats_dogs/train/dogs/dog.118.jpg  \n",
      "  inflating: data/cats_dogs/train/dogs/dog.119.jpg  \n",
      "  inflating: data/cats_dogs/train/dogs/dog.12.jpg  \n",
      "  inflating: data/cats_dogs/train/dogs/dog.120.jpg  \n",
      "  inflating: data/cats_dogs/train/dogs/dog.121.jpg  \n",
      "  inflating: data/cats_dogs/train/dogs/dog.122.jpg  \n",
      "  inflating: data/cats_dogs/train/dogs/dog.123.jpg  \n",
      "  inflating: data/cats_dogs/train/dogs/dog.124.jpg  \n",
      "  inflating: data/cats_dogs/train/dogs/dog.125.jpg  \n",
      "  inflating: data/cats_dogs/train/dogs/dog.126.jpg  \n",
      "  inflating: data/cats_dogs/train/dogs/dog.127.jpg  \n",
      "  inflating: data/cats_dogs/train/dogs/dog.128.jpg  \n",
      "  inflating: data/cats_dogs/train/dogs/dog.129.jpg  \n",
      "  inflating: data/cats_dogs/train/dogs/dog.13.jpg  \n",
      "  inflating: data/cats_dogs/train/dogs/dog.130.jpg  \n",
      "  inflating: data/cats_dogs/train/dogs/dog.131.jpg  \n",
      "  inflating: data/cats_dogs/train/dogs/dog.132.jpg  \n",
      "  inflating: data/cats_dogs/train/dogs/dog.133.jpg  \n",
      "  inflating: data/cats_dogs/train/dogs/dog.134.jpg  \n",
      "  inflating: data/cats_dogs/train/dogs/dog.135.jpg  \n",
      "  inflating: data/cats_dogs/train/dogs/dog.136.jpg  \n",
      "  inflating: data/cats_dogs/train/dogs/dog.137.jpg  \n",
      "  inflating: data/cats_dogs/train/dogs/dog.138.jpg  \n",
      "  inflating: data/cats_dogs/train/dogs/dog.139.jpg  \n",
      "  inflating: data/cats_dogs/train/dogs/dog.14.jpg  \n",
      "  inflating: data/cats_dogs/train/dogs/dog.140.jpg  \n",
      "  inflating: data/cats_dogs/train/dogs/dog.141.jpg  \n",
      "  inflating: data/cats_dogs/train/dogs/dog.142.jpg  \n",
      "  inflating: data/cats_dogs/train/dogs/dog.143.jpg  \n",
      "  inflating: data/cats_dogs/train/dogs/dog.144.jpg  \n",
      "  inflating: data/cats_dogs/train/dogs/dog.145.jpg  \n",
      "  inflating: data/cats_dogs/train/dogs/dog.146.jpg  \n",
      "  inflating: data/cats_dogs/train/dogs/dog.147.jpg  \n",
      "  inflating: data/cats_dogs/train/dogs/dog.148.jpg  \n",
      "  inflating: data/cats_dogs/train/dogs/dog.149.jpg  \n",
      "  inflating: data/cats_dogs/train/dogs/dog.15.jpg  \n",
      "  inflating: data/cats_dogs/train/dogs/dog.150.jpg  \n",
      "  inflating: data/cats_dogs/train/dogs/dog.151.jpg  \n",
      "  inflating: data/cats_dogs/train/dogs/dog.152.jpg  \n",
      "  inflating: data/cats_dogs/train/dogs/dog.153.jpg  \n",
      "  inflating: data/cats_dogs/train/dogs/dog.154.jpg  \n",
      "  inflating: data/cats_dogs/train/dogs/dog.155.jpg  \n",
      "  inflating: data/cats_dogs/train/dogs/dog.156.jpg  \n",
      "  inflating: data/cats_dogs/train/dogs/dog.157.jpg  \n",
      "  inflating: data/cats_dogs/train/dogs/dog.158.jpg  \n",
      "  inflating: data/cats_dogs/train/dogs/dog.159.jpg  \n",
      "  inflating: data/cats_dogs/train/dogs/dog.16.jpg  \n",
      "  inflating: data/cats_dogs/train/dogs/dog.160.jpg  \n",
      "  inflating: data/cats_dogs/train/dogs/dog.161.jpg  \n",
      "  inflating: data/cats_dogs/train/dogs/dog.162.jpg  \n",
      "  inflating: data/cats_dogs/train/dogs/dog.163.jpg  \n",
      "  inflating: data/cats_dogs/train/dogs/dog.164.jpg  \n",
      "  inflating: data/cats_dogs/train/dogs/dog.165.jpg  \n",
      "  inflating: data/cats_dogs/train/dogs/dog.166.jpg  \n",
      "  inflating: data/cats_dogs/train/dogs/dog.167.jpg  \n",
      "  inflating: data/cats_dogs/train/dogs/dog.168.jpg  \n",
      "  inflating: data/cats_dogs/train/dogs/dog.169.jpg  \n",
      "  inflating: data/cats_dogs/train/dogs/dog.17.jpg  \n",
      "  inflating: data/cats_dogs/train/dogs/dog.170.jpg  \n",
      "  inflating: data/cats_dogs/train/dogs/dog.171.jpg  \n",
      "  inflating: data/cats_dogs/train/dogs/dog.172.jpg  \n",
      "  inflating: data/cats_dogs/train/dogs/dog.173.jpg  \n",
      "  inflating: data/cats_dogs/train/dogs/dog.174.jpg  \n",
      "  inflating: data/cats_dogs/train/dogs/dog.175.jpg  \n",
      "  inflating: data/cats_dogs/train/dogs/dog.176.jpg  \n",
      "  inflating: data/cats_dogs/train/dogs/dog.177.jpg  \n",
      "  inflating: data/cats_dogs/train/dogs/dog.178.jpg  \n",
      "  inflating: data/cats_dogs/train/dogs/dog.179.jpg  \n",
      "  inflating: data/cats_dogs/train/dogs/dog.18.jpg  \n",
      "  inflating: data/cats_dogs/train/dogs/dog.180.jpg  \n",
      "  inflating: data/cats_dogs/train/dogs/dog.181.jpg  \n",
      "  inflating: data/cats_dogs/train/dogs/dog.182.jpg  \n",
      "  inflating: data/cats_dogs/train/dogs/dog.183.jpg  \n",
      "  inflating: data/cats_dogs/train/dogs/dog.184.jpg  \n",
      "  inflating: data/cats_dogs/train/dogs/dog.185.jpg  \n",
      "  inflating: data/cats_dogs/train/dogs/dog.186.jpg  \n",
      "  inflating: data/cats_dogs/train/dogs/dog.187.jpg  \n",
      "  inflating: data/cats_dogs/train/dogs/dog.188.jpg  \n",
      "  inflating: data/cats_dogs/train/dogs/dog.189.jpg  \n",
      "  inflating: data/cats_dogs/train/dogs/dog.19.jpg  \n",
      "  inflating: data/cats_dogs/train/dogs/dog.190.jpg  \n",
      "  inflating: data/cats_dogs/train/dogs/dog.191.jpg  \n",
      "  inflating: data/cats_dogs/train/dogs/dog.192.jpg  \n",
      "  inflating: data/cats_dogs/train/dogs/dog.193.jpg  \n",
      "  inflating: data/cats_dogs/train/dogs/dog.194.jpg  \n",
      "  inflating: data/cats_dogs/train/dogs/dog.195.jpg  \n",
      "  inflating: data/cats_dogs/train/dogs/dog.196.jpg  \n",
      "  inflating: data/cats_dogs/train/dogs/dog.197.jpg  \n",
      "  inflating: data/cats_dogs/train/dogs/dog.198.jpg  \n",
      "  inflating: data/cats_dogs/train/dogs/dog.199.jpg  \n",
      "  inflating: data/cats_dogs/train/dogs/dog.2.jpg  \n",
      "  inflating: data/cats_dogs/train/dogs/dog.20.jpg  \n",
      "  inflating: data/cats_dogs/train/dogs/dog.200.jpg  \n",
      "  inflating: data/cats_dogs/train/dogs/dog.201.jpg  \n",
      "  inflating: data/cats_dogs/train/dogs/dog.202.jpg  \n",
      "  inflating: data/cats_dogs/train/dogs/dog.203.jpg  \n",
      "  inflating: data/cats_dogs/train/dogs/dog.204.jpg  \n",
      "  inflating: data/cats_dogs/train/dogs/dog.205.jpg  \n",
      "  inflating: data/cats_dogs/train/dogs/dog.206.jpg  \n",
      "  inflating: data/cats_dogs/train/dogs/dog.207.jpg  \n",
      "  inflating: data/cats_dogs/train/dogs/dog.208.jpg  \n",
      "  inflating: data/cats_dogs/train/dogs/dog.209.jpg  \n",
      "  inflating: data/cats_dogs/train/dogs/dog.21.jpg  \n",
      "  inflating: data/cats_dogs/train/dogs/dog.210.jpg  \n",
      "  inflating: data/cats_dogs/train/dogs/dog.211.jpg  \n",
      "  inflating: data/cats_dogs/train/dogs/dog.212.jpg  \n",
      "  inflating: data/cats_dogs/train/dogs/dog.213.jpg  \n",
      "  inflating: data/cats_dogs/train/dogs/dog.214.jpg  \n",
      "  inflating: data/cats_dogs/train/dogs/dog.215.jpg  \n",
      "  inflating: data/cats_dogs/train/dogs/dog.216.jpg  \n",
      "  inflating: data/cats_dogs/train/dogs/dog.217.jpg  \n",
      "  inflating: data/cats_dogs/train/dogs/dog.218.jpg  \n",
      "  inflating: data/cats_dogs/train/dogs/dog.219.jpg  \n",
      "  inflating: data/cats_dogs/train/dogs/dog.22.jpg  \n",
      "  inflating: data/cats_dogs/train/dogs/dog.220.jpg  \n",
      "  inflating: data/cats_dogs/train/dogs/dog.221.jpg  \n",
      "  inflating: data/cats_dogs/train/dogs/dog.222.jpg  \n",
      "  inflating: data/cats_dogs/train/dogs/dog.223.jpg  \n",
      "  inflating: data/cats_dogs/train/dogs/dog.224.jpg  \n",
      "  inflating: data/cats_dogs/train/dogs/dog.225.jpg  \n",
      "  inflating: data/cats_dogs/train/dogs/dog.226.jpg  \n",
      "  inflating: data/cats_dogs/train/dogs/dog.227.jpg  \n",
      "  inflating: data/cats_dogs/train/dogs/dog.228.jpg  \n",
      "  inflating: data/cats_dogs/train/dogs/dog.229.jpg  \n",
      "  inflating: data/cats_dogs/train/dogs/dog.23.jpg  \n",
      "  inflating: data/cats_dogs/train/dogs/dog.230.jpg  \n",
      "  inflating: data/cats_dogs/train/dogs/dog.231.jpg  \n",
      "  inflating: data/cats_dogs/train/dogs/dog.232.jpg  \n",
      "  inflating: data/cats_dogs/train/dogs/dog.233.jpg  \n",
      "  inflating: data/cats_dogs/train/dogs/dog.234.jpg  \n",
      "  inflating: data/cats_dogs/train/dogs/dog.235.jpg  \n",
      "  inflating: data/cats_dogs/train/dogs/dog.236.jpg  \n",
      "  inflating: data/cats_dogs/train/dogs/dog.237.jpg  \n",
      "  inflating: data/cats_dogs/train/dogs/dog.238.jpg  \n",
      "  inflating: data/cats_dogs/train/dogs/dog.239.jpg  \n",
      "  inflating: data/cats_dogs/train/dogs/dog.24.jpg  \n",
      "  inflating: data/cats_dogs/train/dogs/dog.240.jpg  \n",
      "  inflating: data/cats_dogs/train/dogs/dog.241.jpg  \n",
      "  inflating: data/cats_dogs/train/dogs/dog.242.jpg  \n",
      "  inflating: data/cats_dogs/train/dogs/dog.243.jpg  \n",
      "  inflating: data/cats_dogs/train/dogs/dog.244.jpg  \n",
      "  inflating: data/cats_dogs/train/dogs/dog.245.jpg  \n",
      "  inflating: data/cats_dogs/train/dogs/dog.246.jpg  \n",
      "  inflating: data/cats_dogs/train/dogs/dog.247.jpg  \n",
      "  inflating: data/cats_dogs/train/dogs/dog.248.jpg  \n",
      "  inflating: data/cats_dogs/train/dogs/dog.249.jpg  \n",
      "  inflating: data/cats_dogs/train/dogs/dog.25.jpg  \n",
      "  inflating: data/cats_dogs/train/dogs/dog.250.jpg  \n",
      "  inflating: data/cats_dogs/train/dogs/dog.251.jpg  \n",
      "  inflating: data/cats_dogs/train/dogs/dog.252.jpg  \n",
      "  inflating: data/cats_dogs/train/dogs/dog.253.jpg  \n",
      "  inflating: data/cats_dogs/train/dogs/dog.254.jpg  \n",
      "  inflating: data/cats_dogs/train/dogs/dog.255.jpg  \n",
      "  inflating: data/cats_dogs/train/dogs/dog.256.jpg  \n",
      "  inflating: data/cats_dogs/train/dogs/dog.257.jpg  \n",
      "  inflating: data/cats_dogs/train/dogs/dog.258.jpg  \n",
      "  inflating: data/cats_dogs/train/dogs/dog.259.jpg  \n",
      "  inflating: data/cats_dogs/train/dogs/dog.26.jpg  \n",
      "  inflating: data/cats_dogs/train/dogs/dog.260.jpg  \n",
      "  inflating: data/cats_dogs/train/dogs/dog.261.jpg  \n",
      "  inflating: data/cats_dogs/train/dogs/dog.262.jpg  \n",
      "  inflating: data/cats_dogs/train/dogs/dog.263.jpg  \n",
      "  inflating: data/cats_dogs/train/dogs/dog.264.jpg  \n",
      "  inflating: data/cats_dogs/train/dogs/dog.265.jpg  \n",
      "  inflating: data/cats_dogs/train/dogs/dog.266.jpg  \n",
      "  inflating: data/cats_dogs/train/dogs/dog.267.jpg  \n",
      "  inflating: data/cats_dogs/train/dogs/dog.268.jpg  \n",
      "  inflating: data/cats_dogs/train/dogs/dog.269.jpg  \n",
      "  inflating: data/cats_dogs/train/dogs/dog.27.jpg  \n",
      "  inflating: data/cats_dogs/train/dogs/dog.270.jpg  \n",
      "  inflating: data/cats_dogs/train/dogs/dog.271.jpg  \n",
      "  inflating: data/cats_dogs/train/dogs/dog.272.jpg  \n",
      "  inflating: data/cats_dogs/train/dogs/dog.273.jpg  \n",
      "  inflating: data/cats_dogs/train/dogs/dog.274.jpg  \n",
      "  inflating: data/cats_dogs/train/dogs/dog.275.jpg  \n",
      "  inflating: data/cats_dogs/train/dogs/dog.276.jpg  \n",
      "  inflating: data/cats_dogs/train/dogs/dog.277.jpg  \n",
      "  inflating: data/cats_dogs/train/dogs/dog.278.jpg  \n",
      "  inflating: data/cats_dogs/train/dogs/dog.279.jpg  \n",
      "  inflating: data/cats_dogs/train/dogs/dog.28.jpg  \n",
      "  inflating: data/cats_dogs/train/dogs/dog.280.jpg  \n",
      "  inflating: data/cats_dogs/train/dogs/dog.281.jpg  \n",
      "  inflating: data/cats_dogs/train/dogs/dog.282.jpg  \n",
      "  inflating: data/cats_dogs/train/dogs/dog.283.jpg  \n",
      "  inflating: data/cats_dogs/train/dogs/dog.284.jpg  \n",
      "  inflating: data/cats_dogs/train/dogs/dog.285.jpg  \n",
      "  inflating: data/cats_dogs/train/dogs/dog.286.jpg  \n",
      "  inflating: data/cats_dogs/train/dogs/dog.287.jpg  \n",
      "  inflating: data/cats_dogs/train/dogs/dog.288.jpg  \n",
      "  inflating: data/cats_dogs/train/dogs/dog.289.jpg  \n",
      "  inflating: data/cats_dogs/train/dogs/dog.29.jpg  \n",
      "  inflating: data/cats_dogs/train/dogs/dog.290.jpg  \n",
      "  inflating: data/cats_dogs/train/dogs/dog.291.jpg  \n",
      "  inflating: data/cats_dogs/train/dogs/dog.292.jpg  \n",
      "  inflating: data/cats_dogs/train/dogs/dog.293.jpg  \n",
      "  inflating: data/cats_dogs/train/dogs/dog.294.jpg  \n",
      "  inflating: data/cats_dogs/train/dogs/dog.295.jpg  \n",
      "  inflating: data/cats_dogs/train/dogs/dog.296.jpg  \n",
      "  inflating: data/cats_dogs/train/dogs/dog.297.jpg  \n",
      "  inflating: data/cats_dogs/train/dogs/dog.298.jpg  \n",
      "  inflating: data/cats_dogs/train/dogs/dog.299.jpg  \n",
      "  inflating: data/cats_dogs/train/dogs/dog.3.jpg  \n",
      "  inflating: data/cats_dogs/train/dogs/dog.30.jpg  \n",
      "  inflating: data/cats_dogs/train/dogs/dog.300.jpg  \n",
      "  inflating: data/cats_dogs/train/dogs/dog.301.jpg  \n",
      "  inflating: data/cats_dogs/train/dogs/dog.302.jpg  \n",
      "  inflating: data/cats_dogs/train/dogs/dog.303.jpg  \n",
      "  inflating: data/cats_dogs/train/dogs/dog.304.jpg  \n",
      "  inflating: data/cats_dogs/train/dogs/dog.305.jpg  \n",
      "  inflating: data/cats_dogs/train/dogs/dog.306.jpg  \n",
      "  inflating: data/cats_dogs/train/dogs/dog.307.jpg  \n",
      "  inflating: data/cats_dogs/train/dogs/dog.308.jpg  \n",
      "  inflating: data/cats_dogs/train/dogs/dog.309.jpg  \n",
      "  inflating: data/cats_dogs/train/dogs/dog.31.jpg  \n",
      "  inflating: data/cats_dogs/train/dogs/dog.310.jpg  \n",
      "  inflating: data/cats_dogs/train/dogs/dog.311.jpg  \n",
      "  inflating: data/cats_dogs/train/dogs/dog.312.jpg  \n",
      "  inflating: data/cats_dogs/train/dogs/dog.313.jpg  \n",
      "  inflating: data/cats_dogs/train/dogs/dog.314.jpg  \n",
      "  inflating: data/cats_dogs/train/dogs/dog.315.jpg  \n",
      "  inflating: data/cats_dogs/train/dogs/dog.316.jpg  \n",
      "  inflating: data/cats_dogs/train/dogs/dog.317.jpg  \n",
      "  inflating: data/cats_dogs/train/dogs/dog.318.jpg  \n",
      "  inflating: data/cats_dogs/train/dogs/dog.319.jpg  \n",
      "  inflating: data/cats_dogs/train/dogs/dog.32.jpg  \n",
      "  inflating: data/cats_dogs/train/dogs/dog.320.jpg  \n",
      "  inflating: data/cats_dogs/train/dogs/dog.321.jpg  \n",
      "  inflating: data/cats_dogs/train/dogs/dog.322.jpg  \n",
      "  inflating: data/cats_dogs/train/dogs/dog.323.jpg  \n",
      "  inflating: data/cats_dogs/train/dogs/dog.324.jpg  \n",
      "  inflating: data/cats_dogs/train/dogs/dog.325.jpg  \n",
      "  inflating: data/cats_dogs/train/dogs/dog.326.jpg  \n",
      "  inflating: data/cats_dogs/train/dogs/dog.327.jpg  \n",
      "  inflating: data/cats_dogs/train/dogs/dog.328.jpg  \n",
      "  inflating: data/cats_dogs/train/dogs/dog.329.jpg  \n",
      "  inflating: data/cats_dogs/train/dogs/dog.33.jpg  \n",
      "  inflating: data/cats_dogs/train/dogs/dog.330.jpg  \n",
      "  inflating: data/cats_dogs/train/dogs/dog.331.jpg  \n",
      "  inflating: data/cats_dogs/train/dogs/dog.332.jpg  \n",
      "  inflating: data/cats_dogs/train/dogs/dog.333.jpg  \n",
      "  inflating: data/cats_dogs/train/dogs/dog.334.jpg  \n",
      "  inflating: data/cats_dogs/train/dogs/dog.335.jpg  \n",
      "  inflating: data/cats_dogs/train/dogs/dog.336.jpg  \n",
      "  inflating: data/cats_dogs/train/dogs/dog.337.jpg  \n",
      "  inflating: data/cats_dogs/train/dogs/dog.338.jpg  \n",
      "  inflating: data/cats_dogs/train/dogs/dog.339.jpg  \n",
      "  inflating: data/cats_dogs/train/dogs/dog.34.jpg  \n",
      "  inflating: data/cats_dogs/train/dogs/dog.340.jpg  \n",
      "  inflating: data/cats_dogs/train/dogs/dog.341.jpg  \n",
      "  inflating: data/cats_dogs/train/dogs/dog.342.jpg  \n",
      "  inflating: data/cats_dogs/train/dogs/dog.343.jpg  \n",
      "  inflating: data/cats_dogs/train/dogs/dog.344.jpg  \n",
      "  inflating: data/cats_dogs/train/dogs/dog.345.jpg  \n",
      "  inflating: data/cats_dogs/train/dogs/dog.346.jpg  \n",
      "  inflating: data/cats_dogs/train/dogs/dog.347.jpg  \n",
      "  inflating: data/cats_dogs/train/dogs/dog.348.jpg  \n",
      "  inflating: data/cats_dogs/train/dogs/dog.349.jpg  \n",
      "  inflating: data/cats_dogs/train/dogs/dog.35.jpg  \n",
      "  inflating: data/cats_dogs/train/dogs/dog.350.jpg  \n",
      "  inflating: data/cats_dogs/train/dogs/dog.351.jpg  \n",
      "  inflating: data/cats_dogs/train/dogs/dog.352.jpg  \n",
      "  inflating: data/cats_dogs/train/dogs/dog.353.jpg  \n",
      "  inflating: data/cats_dogs/train/dogs/dog.354.jpg  \n",
      "  inflating: data/cats_dogs/train/dogs/dog.355.jpg  \n",
      "  inflating: data/cats_dogs/train/dogs/dog.356.jpg  \n",
      "  inflating: data/cats_dogs/train/dogs/dog.357.jpg  \n",
      "  inflating: data/cats_dogs/train/dogs/dog.358.jpg  \n",
      "  inflating: data/cats_dogs/train/dogs/dog.359.jpg  \n",
      "  inflating: data/cats_dogs/train/dogs/dog.36.jpg  \n",
      "  inflating: data/cats_dogs/train/dogs/dog.360.jpg  \n",
      "  inflating: data/cats_dogs/train/dogs/dog.361.jpg  \n",
      "  inflating: data/cats_dogs/train/dogs/dog.362.jpg  \n",
      "  inflating: data/cats_dogs/train/dogs/dog.363.jpg  \n",
      "  inflating: data/cats_dogs/train/dogs/dog.364.jpg  \n",
      "  inflating: data/cats_dogs/train/dogs/dog.365.jpg  \n",
      "  inflating: data/cats_dogs/train/dogs/dog.366.jpg  \n",
      "  inflating: data/cats_dogs/train/dogs/dog.367.jpg  \n",
      "  inflating: data/cats_dogs/train/dogs/dog.368.jpg  \n",
      "  inflating: data/cats_dogs/train/dogs/dog.369.jpg  \n",
      "  inflating: data/cats_dogs/train/dogs/dog.37.jpg  \n",
      "  inflating: data/cats_dogs/train/dogs/dog.370.jpg  \n",
      "  inflating: data/cats_dogs/train/dogs/dog.371.jpg  \n",
      "  inflating: data/cats_dogs/train/dogs/dog.372.jpg  \n",
      "  inflating: data/cats_dogs/train/dogs/dog.373.jpg  \n",
      "  inflating: data/cats_dogs/train/dogs/dog.374.jpg  \n",
      "  inflating: data/cats_dogs/train/dogs/dog.375.jpg  \n",
      "  inflating: data/cats_dogs/train/dogs/dog.376.jpg  \n",
      "  inflating: data/cats_dogs/train/dogs/dog.377.jpg  \n",
      "  inflating: data/cats_dogs/train/dogs/dog.378.jpg  \n",
      "  inflating: data/cats_dogs/train/dogs/dog.379.jpg  \n",
      "  inflating: data/cats_dogs/train/dogs/dog.38.jpg  \n",
      "  inflating: data/cats_dogs/train/dogs/dog.380.jpg  \n",
      "  inflating: data/cats_dogs/train/dogs/dog.381.jpg  \n",
      "  inflating: data/cats_dogs/train/dogs/dog.382.jpg  \n",
      "  inflating: data/cats_dogs/train/dogs/dog.383.jpg  \n",
      "  inflating: data/cats_dogs/train/dogs/dog.384.jpg  \n",
      "  inflating: data/cats_dogs/train/dogs/dog.385.jpg  \n",
      "  inflating: data/cats_dogs/train/dogs/dog.386.jpg  \n",
      "  inflating: data/cats_dogs/train/dogs/dog.387.jpg  \n",
      "  inflating: data/cats_dogs/train/dogs/dog.388.jpg  \n",
      "  inflating: data/cats_dogs/train/dogs/dog.389.jpg  \n",
      "  inflating: data/cats_dogs/train/dogs/dog.39.jpg  \n",
      "  inflating: data/cats_dogs/train/dogs/dog.390.jpg  \n",
      "  inflating: data/cats_dogs/train/dogs/dog.391.jpg  \n",
      "  inflating: data/cats_dogs/train/dogs/dog.392.jpg  \n",
      "  inflating: data/cats_dogs/train/dogs/dog.393.jpg  \n",
      "  inflating: data/cats_dogs/train/dogs/dog.394.jpg  \n",
      "  inflating: data/cats_dogs/train/dogs/dog.395.jpg  \n",
      "  inflating: data/cats_dogs/train/dogs/dog.396.jpg  \n",
      "  inflating: data/cats_dogs/train/dogs/dog.397.jpg  \n",
      "  inflating: data/cats_dogs/train/dogs/dog.398.jpg  \n",
      "  inflating: data/cats_dogs/train/dogs/dog.399.jpg  \n",
      "  inflating: data/cats_dogs/train/dogs/dog.4.jpg  \n",
      "  inflating: data/cats_dogs/train/dogs/dog.40.jpg  \n",
      "  inflating: data/cats_dogs/train/dogs/dog.400.jpg  \n",
      "  inflating: data/cats_dogs/train/dogs/dog.401.jpg  \n",
      "  inflating: data/cats_dogs/train/dogs/dog.402.jpg  \n",
      "  inflating: data/cats_dogs/train/dogs/dog.403.jpg  \n",
      "  inflating: data/cats_dogs/train/dogs/dog.404.jpg  \n",
      "  inflating: data/cats_dogs/train/dogs/dog.405.jpg  \n",
      "  inflating: data/cats_dogs/train/dogs/dog.406.jpg  \n",
      "  inflating: data/cats_dogs/train/dogs/dog.407.jpg  \n",
      "  inflating: data/cats_dogs/train/dogs/dog.408.jpg  \n",
      "  inflating: data/cats_dogs/train/dogs/dog.409.jpg  \n",
      "  inflating: data/cats_dogs/train/dogs/dog.41.jpg  \n",
      "  inflating: data/cats_dogs/train/dogs/dog.410.jpg  \n",
      "  inflating: data/cats_dogs/train/dogs/dog.411.jpg  \n",
      "  inflating: data/cats_dogs/train/dogs/dog.412.jpg  \n",
      "  inflating: data/cats_dogs/train/dogs/dog.413.jpg  \n",
      "  inflating: data/cats_dogs/train/dogs/dog.414.jpg  \n",
      "  inflating: data/cats_dogs/train/dogs/dog.415.jpg  \n",
      "  inflating: data/cats_dogs/train/dogs/dog.416.jpg  \n",
      "  inflating: data/cats_dogs/train/dogs/dog.417.jpg  \n",
      "  inflating: data/cats_dogs/train/dogs/dog.418.jpg  \n",
      "  inflating: data/cats_dogs/train/dogs/dog.419.jpg  \n",
      "  inflating: data/cats_dogs/train/dogs/dog.42.jpg  \n",
      "  inflating: data/cats_dogs/train/dogs/dog.420.jpg  \n",
      "  inflating: data/cats_dogs/train/dogs/dog.421.jpg  \n",
      "  inflating: data/cats_dogs/train/dogs/dog.422.jpg  \n",
      "  inflating: data/cats_dogs/train/dogs/dog.423.jpg  \n",
      "  inflating: data/cats_dogs/train/dogs/dog.424.jpg  \n",
      "  inflating: data/cats_dogs/train/dogs/dog.425.jpg  \n",
      "  inflating: data/cats_dogs/train/dogs/dog.426.jpg  \n",
      "  inflating: data/cats_dogs/train/dogs/dog.427.jpg  \n",
      "  inflating: data/cats_dogs/train/dogs/dog.428.jpg  \n",
      "  inflating: data/cats_dogs/train/dogs/dog.429.jpg  \n",
      "  inflating: data/cats_dogs/train/dogs/dog.43.jpg  \n",
      "  inflating: data/cats_dogs/train/dogs/dog.430.jpg  \n",
      "  inflating: data/cats_dogs/train/dogs/dog.431.jpg  \n",
      "  inflating: data/cats_dogs/train/dogs/dog.432.jpg  \n",
      "  inflating: data/cats_dogs/train/dogs/dog.433.jpg  \n",
      "  inflating: data/cats_dogs/train/dogs/dog.434.jpg  \n",
      "  inflating: data/cats_dogs/train/dogs/dog.435.jpg  \n",
      "  inflating: data/cats_dogs/train/dogs/dog.436.jpg  \n",
      "  inflating: data/cats_dogs/train/dogs/dog.437.jpg  \n",
      "  inflating: data/cats_dogs/train/dogs/dog.438.jpg  \n",
      "  inflating: data/cats_dogs/train/dogs/dog.439.jpg  \n",
      "  inflating: data/cats_dogs/train/dogs/dog.44.jpg  \n",
      "  inflating: data/cats_dogs/train/dogs/dog.440.jpg  \n",
      "  inflating: data/cats_dogs/train/dogs/dog.441.jpg  \n",
      "  inflating: data/cats_dogs/train/dogs/dog.442.jpg  \n",
      "  inflating: data/cats_dogs/train/dogs/dog.443.jpg  \n",
      "  inflating: data/cats_dogs/train/dogs/dog.444.jpg  \n",
      "  inflating: data/cats_dogs/train/dogs/dog.445.jpg  \n",
      "  inflating: data/cats_dogs/train/dogs/dog.446.jpg  \n",
      "  inflating: data/cats_dogs/train/dogs/dog.447.jpg  \n",
      "  inflating: data/cats_dogs/train/dogs/dog.448.jpg  \n",
      "  inflating: data/cats_dogs/train/dogs/dog.449.jpg  \n",
      "  inflating: data/cats_dogs/train/dogs/dog.45.jpg  \n",
      "  inflating: data/cats_dogs/train/dogs/dog.450.jpg  \n",
      "  inflating: data/cats_dogs/train/dogs/dog.451.jpg  \n",
      "  inflating: data/cats_dogs/train/dogs/dog.452.jpg  \n",
      "  inflating: data/cats_dogs/train/dogs/dog.453.jpg  \n",
      "  inflating: data/cats_dogs/train/dogs/dog.454.jpg  \n",
      "  inflating: data/cats_dogs/train/dogs/dog.455.jpg  \n",
      "  inflating: data/cats_dogs/train/dogs/dog.456.jpg  \n",
      "  inflating: data/cats_dogs/train/dogs/dog.457.jpg  \n",
      "  inflating: data/cats_dogs/train/dogs/dog.458.jpg  \n",
      "  inflating: data/cats_dogs/train/dogs/dog.459.jpg  \n",
      "  inflating: data/cats_dogs/train/dogs/dog.46.jpg  \n",
      "  inflating: data/cats_dogs/train/dogs/dog.460.jpg  \n",
      "  inflating: data/cats_dogs/train/dogs/dog.461.jpg  \n",
      "  inflating: data/cats_dogs/train/dogs/dog.462.jpg  \n",
      "  inflating: data/cats_dogs/train/dogs/dog.463.jpg  \n",
      "  inflating: data/cats_dogs/train/dogs/dog.464.jpg  \n",
      "  inflating: data/cats_dogs/train/dogs/dog.465.jpg  \n",
      "  inflating: data/cats_dogs/train/dogs/dog.466.jpg  \n",
      "  inflating: data/cats_dogs/train/dogs/dog.467.jpg  \n",
      "  inflating: data/cats_dogs/train/dogs/dog.468.jpg  \n",
      "  inflating: data/cats_dogs/train/dogs/dog.469.jpg  \n",
      "  inflating: data/cats_dogs/train/dogs/dog.47.jpg  \n",
      "  inflating: data/cats_dogs/train/dogs/dog.470.jpg  \n",
      "  inflating: data/cats_dogs/train/dogs/dog.471.jpg  \n",
      "  inflating: data/cats_dogs/train/dogs/dog.472.jpg  \n",
      "  inflating: data/cats_dogs/train/dogs/dog.473.jpg  \n",
      "  inflating: data/cats_dogs/train/dogs/dog.474.jpg  \n",
      "  inflating: data/cats_dogs/train/dogs/dog.475.jpg  \n",
      "  inflating: data/cats_dogs/train/dogs/dog.476.jpg  \n",
      "  inflating: data/cats_dogs/train/dogs/dog.477.jpg  \n",
      "  inflating: data/cats_dogs/train/dogs/dog.478.jpg  \n",
      "  inflating: data/cats_dogs/train/dogs/dog.479.jpg  \n",
      "  inflating: data/cats_dogs/train/dogs/dog.48.jpg  \n",
      "  inflating: data/cats_dogs/train/dogs/dog.480.jpg  \n",
      "  inflating: data/cats_dogs/train/dogs/dog.481.jpg  \n",
      "  inflating: data/cats_dogs/train/dogs/dog.482.jpg  \n",
      "  inflating: data/cats_dogs/train/dogs/dog.483.jpg  \n",
      "  inflating: data/cats_dogs/train/dogs/dog.484.jpg  \n",
      "  inflating: data/cats_dogs/train/dogs/dog.485.jpg  \n",
      "  inflating: data/cats_dogs/train/dogs/dog.486.jpg  \n",
      "  inflating: data/cats_dogs/train/dogs/dog.487.jpg  \n",
      "  inflating: data/cats_dogs/train/dogs/dog.488.jpg  \n",
      "  inflating: data/cats_dogs/train/dogs/dog.489.jpg  \n",
      "  inflating: data/cats_dogs/train/dogs/dog.49.jpg  \n",
      "  inflating: data/cats_dogs/train/dogs/dog.490.jpg  \n",
      "  inflating: data/cats_dogs/train/dogs/dog.491.jpg  \n",
      "  inflating: data/cats_dogs/train/dogs/dog.492.jpg  \n",
      "  inflating: data/cats_dogs/train/dogs/dog.493.jpg  \n",
      "  inflating: data/cats_dogs/train/dogs/dog.494.jpg  \n",
      "  inflating: data/cats_dogs/train/dogs/dog.495.jpg  \n",
      "  inflating: data/cats_dogs/train/dogs/dog.496.jpg  \n",
      "  inflating: data/cats_dogs/train/dogs/dog.497.jpg  \n",
      "  inflating: data/cats_dogs/train/dogs/dog.498.jpg  \n",
      "  inflating: data/cats_dogs/train/dogs/dog.499.jpg  \n",
      "  inflating: data/cats_dogs/train/dogs/dog.5.jpg  \n",
      "  inflating: data/cats_dogs/train/dogs/dog.50.jpg  \n",
      "  inflating: data/cats_dogs/train/dogs/dog.500.jpg  \n",
      "  inflating: data/cats_dogs/train/dogs/dog.501.jpg  \n",
      "  inflating: data/cats_dogs/train/dogs/dog.502.jpg  \n",
      "  inflating: data/cats_dogs/train/dogs/dog.503.jpg  \n",
      "  inflating: data/cats_dogs/train/dogs/dog.504.jpg  \n",
      "  inflating: data/cats_dogs/train/dogs/dog.505.jpg  \n",
      "  inflating: data/cats_dogs/train/dogs/dog.506.jpg  \n",
      "  inflating: data/cats_dogs/train/dogs/dog.507.jpg  \n",
      "  inflating: data/cats_dogs/train/dogs/dog.508.jpg  \n",
      "  inflating: data/cats_dogs/train/dogs/dog.509.jpg  \n",
      "  inflating: data/cats_dogs/train/dogs/dog.51.jpg  \n",
      "  inflating: data/cats_dogs/train/dogs/dog.510.jpg  \n",
      "  inflating: data/cats_dogs/train/dogs/dog.511.jpg  \n",
      "  inflating: data/cats_dogs/train/dogs/dog.512.jpg  \n",
      "  inflating: data/cats_dogs/train/dogs/dog.513.jpg  \n",
      "  inflating: data/cats_dogs/train/dogs/dog.514.jpg  \n",
      "  inflating: data/cats_dogs/train/dogs/dog.515.jpg  \n",
      "  inflating: data/cats_dogs/train/dogs/dog.516.jpg  \n",
      "  inflating: data/cats_dogs/train/dogs/dog.517.jpg  \n",
      "  inflating: data/cats_dogs/train/dogs/dog.518.jpg  \n",
      "  inflating: data/cats_dogs/train/dogs/dog.519.jpg  \n",
      "  inflating: data/cats_dogs/train/dogs/dog.52.jpg  \n",
      "  inflating: data/cats_dogs/train/dogs/dog.520.jpg  \n",
      "  inflating: data/cats_dogs/train/dogs/dog.521.jpg  \n",
      "  inflating: data/cats_dogs/train/dogs/dog.522.jpg  \n",
      "  inflating: data/cats_dogs/train/dogs/dog.523.jpg  \n",
      "  inflating: data/cats_dogs/train/dogs/dog.524.jpg  \n",
      "  inflating: data/cats_dogs/train/dogs/dog.525.jpg  \n",
      "  inflating: data/cats_dogs/train/dogs/dog.526.jpg  \n",
      "  inflating: data/cats_dogs/train/dogs/dog.527.jpg  \n",
      "  inflating: data/cats_dogs/train/dogs/dog.528.jpg  \n",
      "  inflating: data/cats_dogs/train/dogs/dog.529.jpg  \n",
      "  inflating: data/cats_dogs/train/dogs/dog.53.jpg  \n",
      "  inflating: data/cats_dogs/train/dogs/dog.530.jpg  \n",
      "  inflating: data/cats_dogs/train/dogs/dog.531.jpg  \n",
      "  inflating: data/cats_dogs/train/dogs/dog.532.jpg  \n",
      "  inflating: data/cats_dogs/train/dogs/dog.533.jpg  \n",
      "  inflating: data/cats_dogs/train/dogs/dog.534.jpg  \n",
      "  inflating: data/cats_dogs/train/dogs/dog.535.jpg  \n",
      "  inflating: data/cats_dogs/train/dogs/dog.536.jpg  \n",
      "  inflating: data/cats_dogs/train/dogs/dog.537.jpg  \n",
      "  inflating: data/cats_dogs/train/dogs/dog.538.jpg  \n",
      "  inflating: data/cats_dogs/train/dogs/dog.539.jpg  \n",
      "  inflating: data/cats_dogs/train/dogs/dog.54.jpg  \n",
      "  inflating: data/cats_dogs/train/dogs/dog.540.jpg  \n",
      "  inflating: data/cats_dogs/train/dogs/dog.541.jpg  \n",
      "  inflating: data/cats_dogs/train/dogs/dog.542.jpg  \n",
      "  inflating: data/cats_dogs/train/dogs/dog.543.jpg  \n",
      "  inflating: data/cats_dogs/train/dogs/dog.544.jpg  \n",
      "  inflating: data/cats_dogs/train/dogs/dog.545.jpg  \n",
      "  inflating: data/cats_dogs/train/dogs/dog.546.jpg  \n",
      "  inflating: data/cats_dogs/train/dogs/dog.547.jpg  \n",
      "  inflating: data/cats_dogs/train/dogs/dog.548.jpg  \n",
      "  inflating: data/cats_dogs/train/dogs/dog.549.jpg  \n",
      "  inflating: data/cats_dogs/train/dogs/dog.55.jpg  \n",
      "  inflating: data/cats_dogs/train/dogs/dog.550.jpg  \n",
      "  inflating: data/cats_dogs/train/dogs/dog.551.jpg  \n",
      "  inflating: data/cats_dogs/train/dogs/dog.552.jpg  \n",
      "  inflating: data/cats_dogs/train/dogs/dog.553.jpg  \n",
      "  inflating: data/cats_dogs/train/dogs/dog.554.jpg  \n",
      "  inflating: data/cats_dogs/train/dogs/dog.555.jpg  \n",
      "  inflating: data/cats_dogs/train/dogs/dog.556.jpg  \n",
      "  inflating: data/cats_dogs/train/dogs/dog.557.jpg  \n",
      "  inflating: data/cats_dogs/train/dogs/dog.558.jpg  \n",
      "  inflating: data/cats_dogs/train/dogs/dog.559.jpg  \n",
      "  inflating: data/cats_dogs/train/dogs/dog.56.jpg  \n",
      "  inflating: data/cats_dogs/train/dogs/dog.560.jpg  \n",
      "  inflating: data/cats_dogs/train/dogs/dog.561.jpg  \n",
      "  inflating: data/cats_dogs/train/dogs/dog.562.jpg  \n",
      "  inflating: data/cats_dogs/train/dogs/dog.563.jpg  \n",
      "  inflating: data/cats_dogs/train/dogs/dog.564.jpg  \n",
      "  inflating: data/cats_dogs/train/dogs/dog.565.jpg  \n",
      "  inflating: data/cats_dogs/train/dogs/dog.566.jpg  \n",
      "  inflating: data/cats_dogs/train/dogs/dog.567.jpg  \n",
      "  inflating: data/cats_dogs/train/dogs/dog.568.jpg  \n",
      "  inflating: data/cats_dogs/train/dogs/dog.569.jpg  \n",
      "  inflating: data/cats_dogs/train/dogs/dog.57.jpg  \n",
      "  inflating: data/cats_dogs/train/dogs/dog.570.jpg  \n",
      "  inflating: data/cats_dogs/train/dogs/dog.571.jpg  \n",
      "  inflating: data/cats_dogs/train/dogs/dog.572.jpg  \n",
      "  inflating: data/cats_dogs/train/dogs/dog.573.jpg  \n",
      "  inflating: data/cats_dogs/train/dogs/dog.574.jpg  \n",
      "  inflating: data/cats_dogs/train/dogs/dog.575.jpg  \n",
      "  inflating: data/cats_dogs/train/dogs/dog.576.jpg  \n",
      "  inflating: data/cats_dogs/train/dogs/dog.577.jpg  \n",
      "  inflating: data/cats_dogs/train/dogs/dog.578.jpg  \n",
      "  inflating: data/cats_dogs/train/dogs/dog.579.jpg  \n",
      "  inflating: data/cats_dogs/train/dogs/dog.58.jpg  \n",
      "  inflating: data/cats_dogs/train/dogs/dog.580.jpg  \n",
      "  inflating: data/cats_dogs/train/dogs/dog.581.jpg  \n",
      "  inflating: data/cats_dogs/train/dogs/dog.582.jpg  \n",
      "  inflating: data/cats_dogs/train/dogs/dog.583.jpg  \n",
      "  inflating: data/cats_dogs/train/dogs/dog.584.jpg  \n",
      "  inflating: data/cats_dogs/train/dogs/dog.585.jpg  \n",
      "  inflating: data/cats_dogs/train/dogs/dog.586.jpg  \n",
      "  inflating: data/cats_dogs/train/dogs/dog.587.jpg  \n",
      "  inflating: data/cats_dogs/train/dogs/dog.588.jpg  \n",
      "  inflating: data/cats_dogs/train/dogs/dog.589.jpg  \n",
      "  inflating: data/cats_dogs/train/dogs/dog.59.jpg  \n",
      "  inflating: data/cats_dogs/train/dogs/dog.590.jpg  \n",
      "  inflating: data/cats_dogs/train/dogs/dog.591.jpg  \n",
      "  inflating: data/cats_dogs/train/dogs/dog.592.jpg  \n",
      "  inflating: data/cats_dogs/train/dogs/dog.593.jpg  \n",
      "  inflating: data/cats_dogs/train/dogs/dog.594.jpg  \n",
      "  inflating: data/cats_dogs/train/dogs/dog.595.jpg  \n",
      "  inflating: data/cats_dogs/train/dogs/dog.596.jpg  \n",
      "  inflating: data/cats_dogs/train/dogs/dog.597.jpg  \n",
      "  inflating: data/cats_dogs/train/dogs/dog.598.jpg  \n",
      "  inflating: data/cats_dogs/train/dogs/dog.599.jpg  \n",
      "  inflating: data/cats_dogs/train/dogs/dog.6.jpg  \n",
      "  inflating: data/cats_dogs/train/dogs/dog.60.jpg  \n",
      "  inflating: data/cats_dogs/train/dogs/dog.600.jpg  \n",
      "  inflating: data/cats_dogs/train/dogs/dog.601.jpg  \n",
      "  inflating: data/cats_dogs/train/dogs/dog.602.jpg  \n",
      "  inflating: data/cats_dogs/train/dogs/dog.603.jpg  \n",
      "  inflating: data/cats_dogs/train/dogs/dog.604.jpg  \n",
      "  inflating: data/cats_dogs/train/dogs/dog.605.jpg  \n",
      "  inflating: data/cats_dogs/train/dogs/dog.606.jpg  \n",
      "  inflating: data/cats_dogs/train/dogs/dog.607.jpg  \n",
      "  inflating: data/cats_dogs/train/dogs/dog.608.jpg  \n",
      "  inflating: data/cats_dogs/train/dogs/dog.609.jpg  \n",
      "  inflating: data/cats_dogs/train/dogs/dog.61.jpg  \n",
      "  inflating: data/cats_dogs/train/dogs/dog.610.jpg  \n",
      "  inflating: data/cats_dogs/train/dogs/dog.611.jpg  \n",
      "  inflating: data/cats_dogs/train/dogs/dog.612.jpg  \n",
      "  inflating: data/cats_dogs/train/dogs/dog.613.jpg  \n",
      "  inflating: data/cats_dogs/train/dogs/dog.614.jpg  \n",
      "  inflating: data/cats_dogs/train/dogs/dog.615.jpg  \n",
      "  inflating: data/cats_dogs/train/dogs/dog.616.jpg  \n",
      "  inflating: data/cats_dogs/train/dogs/dog.617.jpg  \n",
      "  inflating: data/cats_dogs/train/dogs/dog.618.jpg  \n",
      "  inflating: data/cats_dogs/train/dogs/dog.619.jpg  \n",
      "  inflating: data/cats_dogs/train/dogs/dog.62.jpg  \n",
      "  inflating: data/cats_dogs/train/dogs/dog.620.jpg  \n",
      "  inflating: data/cats_dogs/train/dogs/dog.621.jpg  \n",
      "  inflating: data/cats_dogs/train/dogs/dog.622.jpg  \n",
      "  inflating: data/cats_dogs/train/dogs/dog.623.jpg  \n",
      "  inflating: data/cats_dogs/train/dogs/dog.624.jpg  \n",
      "  inflating: data/cats_dogs/train/dogs/dog.625.jpg  \n",
      "  inflating: data/cats_dogs/train/dogs/dog.626.jpg  \n",
      "  inflating: data/cats_dogs/train/dogs/dog.627.jpg  \n",
      "  inflating: data/cats_dogs/train/dogs/dog.628.jpg  \n",
      "  inflating: data/cats_dogs/train/dogs/dog.629.jpg  \n",
      "  inflating: data/cats_dogs/train/dogs/dog.63.jpg  \n",
      "  inflating: data/cats_dogs/train/dogs/dog.630.jpg  \n",
      "  inflating: data/cats_dogs/train/dogs/dog.631.jpg  \n",
      "  inflating: data/cats_dogs/train/dogs/dog.632.jpg  \n",
      "  inflating: data/cats_dogs/train/dogs/dog.633.jpg  \n",
      "  inflating: data/cats_dogs/train/dogs/dog.634.jpg  \n",
      "  inflating: data/cats_dogs/train/dogs/dog.635.jpg  \n",
      "  inflating: data/cats_dogs/train/dogs/dog.636.jpg  \n",
      "  inflating: data/cats_dogs/train/dogs/dog.637.jpg  \n",
      "  inflating: data/cats_dogs/train/dogs/dog.638.jpg  \n",
      "  inflating: data/cats_dogs/train/dogs/dog.639.jpg  \n",
      "  inflating: data/cats_dogs/train/dogs/dog.64.jpg  \n",
      "  inflating: data/cats_dogs/train/dogs/dog.640.jpg  \n",
      "  inflating: data/cats_dogs/train/dogs/dog.641.jpg  \n",
      "  inflating: data/cats_dogs/train/dogs/dog.642.jpg  \n",
      "  inflating: data/cats_dogs/train/dogs/dog.643.jpg  \n",
      "  inflating: data/cats_dogs/train/dogs/dog.644.jpg  \n",
      "  inflating: data/cats_dogs/train/dogs/dog.645.jpg  \n",
      "  inflating: data/cats_dogs/train/dogs/dog.646.jpg  \n",
      "  inflating: data/cats_dogs/train/dogs/dog.647.jpg  \n",
      "  inflating: data/cats_dogs/train/dogs/dog.648.jpg  \n",
      "  inflating: data/cats_dogs/train/dogs/dog.649.jpg  \n",
      "  inflating: data/cats_dogs/train/dogs/dog.65.jpg  \n",
      "  inflating: data/cats_dogs/train/dogs/dog.650.jpg  \n",
      "  inflating: data/cats_dogs/train/dogs/dog.651.jpg  \n",
      "  inflating: data/cats_dogs/train/dogs/dog.652.jpg  \n",
      "  inflating: data/cats_dogs/train/dogs/dog.653.jpg  \n",
      "  inflating: data/cats_dogs/train/dogs/dog.654.jpg  \n",
      "  inflating: data/cats_dogs/train/dogs/dog.655.jpg  \n",
      "  inflating: data/cats_dogs/train/dogs/dog.656.jpg  \n",
      "  inflating: data/cats_dogs/train/dogs/dog.657.jpg  \n",
      "  inflating: data/cats_dogs/train/dogs/dog.658.jpg  \n",
      "  inflating: data/cats_dogs/train/dogs/dog.659.jpg  \n",
      "  inflating: data/cats_dogs/train/dogs/dog.66.jpg  \n",
      "  inflating: data/cats_dogs/train/dogs/dog.660.jpg  \n",
      "  inflating: data/cats_dogs/train/dogs/dog.661.jpg  \n",
      "  inflating: data/cats_dogs/train/dogs/dog.662.jpg  \n",
      "  inflating: data/cats_dogs/train/dogs/dog.663.jpg  \n",
      "  inflating: data/cats_dogs/train/dogs/dog.664.jpg  \n",
      "  inflating: data/cats_dogs/train/dogs/dog.665.jpg  \n",
      "  inflating: data/cats_dogs/train/dogs/dog.666.jpg  \n",
      "  inflating: data/cats_dogs/train/dogs/dog.667.jpg  \n",
      "  inflating: data/cats_dogs/train/dogs/dog.668.jpg  \n",
      "  inflating: data/cats_dogs/train/dogs/dog.669.jpg  \n",
      "  inflating: data/cats_dogs/train/dogs/dog.67.jpg  \n",
      "  inflating: data/cats_dogs/train/dogs/dog.670.jpg  \n",
      "  inflating: data/cats_dogs/train/dogs/dog.671.jpg  \n",
      "  inflating: data/cats_dogs/train/dogs/dog.672.jpg  \n",
      "  inflating: data/cats_dogs/train/dogs/dog.673.jpg  \n",
      "  inflating: data/cats_dogs/train/dogs/dog.674.jpg  \n",
      "  inflating: data/cats_dogs/train/dogs/dog.675.jpg  \n",
      "  inflating: data/cats_dogs/train/dogs/dog.676.jpg  \n",
      "  inflating: data/cats_dogs/train/dogs/dog.677.jpg  \n",
      "  inflating: data/cats_dogs/train/dogs/dog.678.jpg  \n",
      "  inflating: data/cats_dogs/train/dogs/dog.679.jpg  \n",
      "  inflating: data/cats_dogs/train/dogs/dog.68.jpg  \n",
      "  inflating: data/cats_dogs/train/dogs/dog.680.jpg  \n",
      "  inflating: data/cats_dogs/train/dogs/dog.681.jpg  \n",
      "  inflating: data/cats_dogs/train/dogs/dog.682.jpg  \n",
      "  inflating: data/cats_dogs/train/dogs/dog.683.jpg  \n",
      "  inflating: data/cats_dogs/train/dogs/dog.684.jpg  \n",
      "  inflating: data/cats_dogs/train/dogs/dog.685.jpg  \n",
      "  inflating: data/cats_dogs/train/dogs/dog.686.jpg  \n",
      "  inflating: data/cats_dogs/train/dogs/dog.687.jpg  \n",
      "  inflating: data/cats_dogs/train/dogs/dog.688.jpg  \n",
      "  inflating: data/cats_dogs/train/dogs/dog.689.jpg  \n",
      "  inflating: data/cats_dogs/train/dogs/dog.69.jpg  \n",
      "  inflating: data/cats_dogs/train/dogs/dog.690.jpg  \n",
      "  inflating: data/cats_dogs/train/dogs/dog.691.jpg  \n",
      "  inflating: data/cats_dogs/train/dogs/dog.692.jpg  \n",
      "  inflating: data/cats_dogs/train/dogs/dog.693.jpg  \n",
      "  inflating: data/cats_dogs/train/dogs/dog.694.jpg  \n",
      "  inflating: data/cats_dogs/train/dogs/dog.695.jpg  \n",
      "  inflating: data/cats_dogs/train/dogs/dog.696.jpg  \n",
      "  inflating: data/cats_dogs/train/dogs/dog.697.jpg  \n",
      "  inflating: data/cats_dogs/train/dogs/dog.698.jpg  \n",
      "  inflating: data/cats_dogs/train/dogs/dog.699.jpg  \n",
      "  inflating: data/cats_dogs/train/dogs/dog.7.jpg  \n",
      "  inflating: data/cats_dogs/train/dogs/dog.70.jpg  \n",
      "  inflating: data/cats_dogs/train/dogs/dog.700.jpg  \n",
      "  inflating: data/cats_dogs/train/dogs/dog.701.jpg  \n",
      "  inflating: data/cats_dogs/train/dogs/dog.702.jpg  \n",
      "  inflating: data/cats_dogs/train/dogs/dog.703.jpg  \n",
      "  inflating: data/cats_dogs/train/dogs/dog.704.jpg  \n",
      "  inflating: data/cats_dogs/train/dogs/dog.705.jpg  \n",
      "  inflating: data/cats_dogs/train/dogs/dog.706.jpg  \n",
      "  inflating: data/cats_dogs/train/dogs/dog.707.jpg  \n",
      "  inflating: data/cats_dogs/train/dogs/dog.708.jpg  \n",
      "  inflating: data/cats_dogs/train/dogs/dog.709.jpg  \n",
      "  inflating: data/cats_dogs/train/dogs/dog.71.jpg  \n",
      "  inflating: data/cats_dogs/train/dogs/dog.710.jpg  \n",
      "  inflating: data/cats_dogs/train/dogs/dog.711.jpg  \n",
      "  inflating: data/cats_dogs/train/dogs/dog.712.jpg  \n",
      "  inflating: data/cats_dogs/train/dogs/dog.713.jpg  \n",
      "  inflating: data/cats_dogs/train/dogs/dog.714.jpg  \n",
      "  inflating: data/cats_dogs/train/dogs/dog.715.jpg  \n",
      "  inflating: data/cats_dogs/train/dogs/dog.716.jpg  \n",
      "  inflating: data/cats_dogs/train/dogs/dog.717.jpg  \n",
      "  inflating: data/cats_dogs/train/dogs/dog.718.jpg  \n",
      "  inflating: data/cats_dogs/train/dogs/dog.719.jpg  \n",
      "  inflating: data/cats_dogs/train/dogs/dog.72.jpg  \n",
      "  inflating: data/cats_dogs/train/dogs/dog.720.jpg  \n",
      "  inflating: data/cats_dogs/train/dogs/dog.721.jpg  \n",
      "  inflating: data/cats_dogs/train/dogs/dog.722.jpg  \n",
      "  inflating: data/cats_dogs/train/dogs/dog.723.jpg  \n",
      "  inflating: data/cats_dogs/train/dogs/dog.724.jpg  \n",
      "  inflating: data/cats_dogs/train/dogs/dog.725.jpg  \n",
      "  inflating: data/cats_dogs/train/dogs/dog.726.jpg  \n",
      "  inflating: data/cats_dogs/train/dogs/dog.727.jpg  \n",
      "  inflating: data/cats_dogs/train/dogs/dog.728.jpg  \n",
      "  inflating: data/cats_dogs/train/dogs/dog.729.jpg  \n",
      "  inflating: data/cats_dogs/train/dogs/dog.73.jpg  \n",
      "  inflating: data/cats_dogs/train/dogs/dog.730.jpg  \n",
      "  inflating: data/cats_dogs/train/dogs/dog.731.jpg  \n",
      "  inflating: data/cats_dogs/train/dogs/dog.732.jpg  \n",
      "  inflating: data/cats_dogs/train/dogs/dog.733.jpg  \n",
      "  inflating: data/cats_dogs/train/dogs/dog.734.jpg  \n",
      "  inflating: data/cats_dogs/train/dogs/dog.735.jpg  \n",
      "  inflating: data/cats_dogs/train/dogs/dog.736.jpg  \n",
      "  inflating: data/cats_dogs/train/dogs/dog.737.jpg  \n",
      "  inflating: data/cats_dogs/train/dogs/dog.738.jpg  \n",
      "  inflating: data/cats_dogs/train/dogs/dog.739.jpg  \n",
      "  inflating: data/cats_dogs/train/dogs/dog.74.jpg  \n",
      "  inflating: data/cats_dogs/train/dogs/dog.740.jpg  \n",
      "  inflating: data/cats_dogs/train/dogs/dog.741.jpg  \n",
      "  inflating: data/cats_dogs/train/dogs/dog.742.jpg  \n",
      "  inflating: data/cats_dogs/train/dogs/dog.743.jpg  \n",
      "  inflating: data/cats_dogs/train/dogs/dog.744.jpg  \n",
      "  inflating: data/cats_dogs/train/dogs/dog.745.jpg  \n",
      "  inflating: data/cats_dogs/train/dogs/dog.746.jpg  \n",
      "  inflating: data/cats_dogs/train/dogs/dog.747.jpg  \n",
      "  inflating: data/cats_dogs/train/dogs/dog.748.jpg  \n",
      "  inflating: data/cats_dogs/train/dogs/dog.749.jpg  \n",
      "  inflating: data/cats_dogs/train/dogs/dog.75.jpg  \n",
      "  inflating: data/cats_dogs/train/dogs/dog.750.jpg  \n",
      "  inflating: data/cats_dogs/train/dogs/dog.751.jpg  \n",
      "  inflating: data/cats_dogs/train/dogs/dog.752.jpg  \n",
      "  inflating: data/cats_dogs/train/dogs/dog.753.jpg  \n",
      "  inflating: data/cats_dogs/train/dogs/dog.754.jpg  \n",
      "  inflating: data/cats_dogs/train/dogs/dog.755.jpg  \n",
      "  inflating: data/cats_dogs/train/dogs/dog.756.jpg  \n",
      "  inflating: data/cats_dogs/train/dogs/dog.757.jpg  \n",
      "  inflating: data/cats_dogs/train/dogs/dog.758.jpg  \n",
      "  inflating: data/cats_dogs/train/dogs/dog.759.jpg  \n",
      "  inflating: data/cats_dogs/train/dogs/dog.76.jpg  \n",
      "  inflating: data/cats_dogs/train/dogs/dog.760.jpg  \n",
      "  inflating: data/cats_dogs/train/dogs/dog.761.jpg  \n",
      "  inflating: data/cats_dogs/train/dogs/dog.762.jpg  \n",
      "  inflating: data/cats_dogs/train/dogs/dog.763.jpg  \n",
      "  inflating: data/cats_dogs/train/dogs/dog.764.jpg  \n",
      "  inflating: data/cats_dogs/train/dogs/dog.765.jpg  \n",
      "  inflating: data/cats_dogs/train/dogs/dog.766.jpg  \n",
      "  inflating: data/cats_dogs/train/dogs/dog.767.jpg  \n",
      "  inflating: data/cats_dogs/train/dogs/dog.768.jpg  \n",
      "  inflating: data/cats_dogs/train/dogs/dog.769.jpg  \n",
      "  inflating: data/cats_dogs/train/dogs/dog.77.jpg  \n",
      "  inflating: data/cats_dogs/train/dogs/dog.770.jpg  \n",
      "  inflating: data/cats_dogs/train/dogs/dog.771.jpg  \n",
      "  inflating: data/cats_dogs/train/dogs/dog.772.jpg  \n",
      "  inflating: data/cats_dogs/train/dogs/dog.773.jpg  \n",
      "  inflating: data/cats_dogs/train/dogs/dog.774.jpg  \n",
      "  inflating: data/cats_dogs/train/dogs/dog.775.jpg  \n",
      "  inflating: data/cats_dogs/train/dogs/dog.776.jpg  \n",
      "  inflating: data/cats_dogs/train/dogs/dog.777.jpg  \n",
      "  inflating: data/cats_dogs/train/dogs/dog.778.jpg  \n",
      "  inflating: data/cats_dogs/train/dogs/dog.779.jpg  \n",
      "  inflating: data/cats_dogs/train/dogs/dog.78.jpg  \n",
      "  inflating: data/cats_dogs/train/dogs/dog.780.jpg  \n",
      "  inflating: data/cats_dogs/train/dogs/dog.781.jpg  \n",
      "  inflating: data/cats_dogs/train/dogs/dog.782.jpg  \n",
      "  inflating: data/cats_dogs/train/dogs/dog.783.jpg  \n",
      "  inflating: data/cats_dogs/train/dogs/dog.784.jpg  \n",
      "  inflating: data/cats_dogs/train/dogs/dog.785.jpg  \n",
      "  inflating: data/cats_dogs/train/dogs/dog.786.jpg  \n",
      "  inflating: data/cats_dogs/train/dogs/dog.787.jpg  \n",
      "  inflating: data/cats_dogs/train/dogs/dog.788.jpg  \n",
      "  inflating: data/cats_dogs/train/dogs/dog.789.jpg  \n",
      "  inflating: data/cats_dogs/train/dogs/dog.79.jpg  \n",
      "  inflating: data/cats_dogs/train/dogs/dog.790.jpg  \n",
      "  inflating: data/cats_dogs/train/dogs/dog.791.jpg  \n",
      "  inflating: data/cats_dogs/train/dogs/dog.792.jpg  \n",
      "  inflating: data/cats_dogs/train/dogs/dog.793.jpg  \n",
      "  inflating: data/cats_dogs/train/dogs/dog.794.jpg  \n",
      "  inflating: data/cats_dogs/train/dogs/dog.795.jpg  \n",
      "  inflating: data/cats_dogs/train/dogs/dog.796.jpg  \n",
      "  inflating: data/cats_dogs/train/dogs/dog.797.jpg  \n",
      "  inflating: data/cats_dogs/train/dogs/dog.798.jpg  \n",
      "  inflating: data/cats_dogs/train/dogs/dog.799.jpg  \n",
      "  inflating: data/cats_dogs/train/dogs/dog.8.jpg  \n",
      "  inflating: data/cats_dogs/train/dogs/dog.80.jpg  \n",
      "  inflating: data/cats_dogs/train/dogs/dog.800.jpg  \n",
      "  inflating: data/cats_dogs/train/dogs/dog.801.jpg  \n",
      "  inflating: data/cats_dogs/train/dogs/dog.802.jpg  \n",
      "  inflating: data/cats_dogs/train/dogs/dog.803.jpg  \n",
      "  inflating: data/cats_dogs/train/dogs/dog.804.jpg  \n",
      "  inflating: data/cats_dogs/train/dogs/dog.805.jpg  \n",
      "  inflating: data/cats_dogs/train/dogs/dog.806.jpg  \n",
      "  inflating: data/cats_dogs/train/dogs/dog.807.jpg  \n",
      "  inflating: data/cats_dogs/train/dogs/dog.808.jpg  \n",
      "  inflating: data/cats_dogs/train/dogs/dog.809.jpg  \n",
      "  inflating: data/cats_dogs/train/dogs/dog.81.jpg  \n",
      "  inflating: data/cats_dogs/train/dogs/dog.810.jpg  \n",
      "  inflating: data/cats_dogs/train/dogs/dog.811.jpg  \n",
      "  inflating: data/cats_dogs/train/dogs/dog.812.jpg  \n",
      "  inflating: data/cats_dogs/train/dogs/dog.813.jpg  \n",
      "  inflating: data/cats_dogs/train/dogs/dog.814.jpg  \n",
      "  inflating: data/cats_dogs/train/dogs/dog.815.jpg  \n",
      "  inflating: data/cats_dogs/train/dogs/dog.816.jpg  \n",
      "  inflating: data/cats_dogs/train/dogs/dog.817.jpg  \n",
      "  inflating: data/cats_dogs/train/dogs/dog.818.jpg  \n",
      "  inflating: data/cats_dogs/train/dogs/dog.819.jpg  \n",
      "  inflating: data/cats_dogs/train/dogs/dog.82.jpg  \n",
      "  inflating: data/cats_dogs/train/dogs/dog.820.jpg  \n",
      "  inflating: data/cats_dogs/train/dogs/dog.821.jpg  \n",
      "  inflating: data/cats_dogs/train/dogs/dog.822.jpg  \n",
      "  inflating: data/cats_dogs/train/dogs/dog.823.jpg  \n",
      "  inflating: data/cats_dogs/train/dogs/dog.824.jpg  \n",
      "  inflating: data/cats_dogs/train/dogs/dog.825.jpg  \n",
      "  inflating: data/cats_dogs/train/dogs/dog.826.jpg  \n",
      "  inflating: data/cats_dogs/train/dogs/dog.827.jpg  \n",
      "  inflating: data/cats_dogs/train/dogs/dog.828.jpg  \n",
      "  inflating: data/cats_dogs/train/dogs/dog.829.jpg  \n",
      "  inflating: data/cats_dogs/train/dogs/dog.83.jpg  \n",
      "  inflating: data/cats_dogs/train/dogs/dog.830.jpg  \n",
      "  inflating: data/cats_dogs/train/dogs/dog.831.jpg  \n",
      "  inflating: data/cats_dogs/train/dogs/dog.832.jpg  \n",
      "  inflating: data/cats_dogs/train/dogs/dog.833.jpg  \n",
      "  inflating: data/cats_dogs/train/dogs/dog.834.jpg  \n",
      "  inflating: data/cats_dogs/train/dogs/dog.835.jpg  \n",
      "  inflating: data/cats_dogs/train/dogs/dog.836.jpg  \n",
      "  inflating: data/cats_dogs/train/dogs/dog.837.jpg  \n",
      "  inflating: data/cats_dogs/train/dogs/dog.838.jpg  \n",
      "  inflating: data/cats_dogs/train/dogs/dog.839.jpg  \n",
      "  inflating: data/cats_dogs/train/dogs/dog.84.jpg  \n",
      "  inflating: data/cats_dogs/train/dogs/dog.840.jpg  \n",
      "  inflating: data/cats_dogs/train/dogs/dog.841.jpg  \n",
      "  inflating: data/cats_dogs/train/dogs/dog.842.jpg  \n",
      "  inflating: data/cats_dogs/train/dogs/dog.843.jpg  \n",
      "  inflating: data/cats_dogs/train/dogs/dog.844.jpg  \n",
      "  inflating: data/cats_dogs/train/dogs/dog.845.jpg  \n",
      "  inflating: data/cats_dogs/train/dogs/dog.846.jpg  \n",
      "  inflating: data/cats_dogs/train/dogs/dog.847.jpg  \n",
      "  inflating: data/cats_dogs/train/dogs/dog.848.jpg  \n",
      "  inflating: data/cats_dogs/train/dogs/dog.849.jpg  \n",
      "  inflating: data/cats_dogs/train/dogs/dog.85.jpg  \n",
      "  inflating: data/cats_dogs/train/dogs/dog.850.jpg  \n",
      "  inflating: data/cats_dogs/train/dogs/dog.851.jpg  \n",
      "  inflating: data/cats_dogs/train/dogs/dog.852.jpg  \n",
      "  inflating: data/cats_dogs/train/dogs/dog.853.jpg  \n",
      "  inflating: data/cats_dogs/train/dogs/dog.854.jpg  \n",
      "  inflating: data/cats_dogs/train/dogs/dog.855.jpg  \n",
      "  inflating: data/cats_dogs/train/dogs/dog.856.jpg  \n",
      "  inflating: data/cats_dogs/train/dogs/dog.857.jpg  \n",
      "  inflating: data/cats_dogs/train/dogs/dog.858.jpg  \n",
      "  inflating: data/cats_dogs/train/dogs/dog.859.jpg  \n",
      "  inflating: data/cats_dogs/train/dogs/dog.86.jpg  \n",
      "  inflating: data/cats_dogs/train/dogs/dog.860.jpg  \n",
      "  inflating: data/cats_dogs/train/dogs/dog.861.jpg  \n",
      "  inflating: data/cats_dogs/train/dogs/dog.862.jpg  \n",
      "  inflating: data/cats_dogs/train/dogs/dog.863.jpg  \n",
      "  inflating: data/cats_dogs/train/dogs/dog.864.jpg  \n",
      "  inflating: data/cats_dogs/train/dogs/dog.865.jpg  \n",
      "  inflating: data/cats_dogs/train/dogs/dog.866.jpg  \n",
      "  inflating: data/cats_dogs/train/dogs/dog.867.jpg  \n",
      "  inflating: data/cats_dogs/train/dogs/dog.868.jpg  \n",
      "  inflating: data/cats_dogs/train/dogs/dog.869.jpg  \n",
      "  inflating: data/cats_dogs/train/dogs/dog.87.jpg  \n",
      "  inflating: data/cats_dogs/train/dogs/dog.870.jpg  \n",
      "  inflating: data/cats_dogs/train/dogs/dog.871.jpg  \n",
      "  inflating: data/cats_dogs/train/dogs/dog.872.jpg  \n",
      "  inflating: data/cats_dogs/train/dogs/dog.873.jpg  \n",
      "  inflating: data/cats_dogs/train/dogs/dog.874.jpg  \n",
      "  inflating: data/cats_dogs/train/dogs/dog.875.jpg  \n",
      "  inflating: data/cats_dogs/train/dogs/dog.876.jpg  \n",
      "  inflating: data/cats_dogs/train/dogs/dog.877.jpg  \n",
      "  inflating: data/cats_dogs/train/dogs/dog.878.jpg  \n",
      "  inflating: data/cats_dogs/train/dogs/dog.879.jpg  \n",
      "  inflating: data/cats_dogs/train/dogs/dog.88.jpg  \n",
      "  inflating: data/cats_dogs/train/dogs/dog.880.jpg  \n",
      "  inflating: data/cats_dogs/train/dogs/dog.881.jpg  \n",
      "  inflating: data/cats_dogs/train/dogs/dog.882.jpg  \n",
      "  inflating: data/cats_dogs/train/dogs/dog.883.jpg  \n",
      "  inflating: data/cats_dogs/train/dogs/dog.884.jpg  \n",
      "  inflating: data/cats_dogs/train/dogs/dog.885.jpg  \n",
      "  inflating: data/cats_dogs/train/dogs/dog.886.jpg  \n",
      "  inflating: data/cats_dogs/train/dogs/dog.887.jpg  \n",
      "  inflating: data/cats_dogs/train/dogs/dog.888.jpg  \n",
      "  inflating: data/cats_dogs/train/dogs/dog.889.jpg  \n",
      "  inflating: data/cats_dogs/train/dogs/dog.89.jpg  \n",
      "  inflating: data/cats_dogs/train/dogs/dog.890.jpg  \n",
      "  inflating: data/cats_dogs/train/dogs/dog.891.jpg  \n",
      "  inflating: data/cats_dogs/train/dogs/dog.892.jpg  \n",
      "  inflating: data/cats_dogs/train/dogs/dog.893.jpg  \n",
      "  inflating: data/cats_dogs/train/dogs/dog.894.jpg  \n",
      "  inflating: data/cats_dogs/train/dogs/dog.895.jpg  \n",
      "  inflating: data/cats_dogs/train/dogs/dog.896.jpg  \n",
      "  inflating: data/cats_dogs/train/dogs/dog.897.jpg  \n",
      "  inflating: data/cats_dogs/train/dogs/dog.898.jpg  \n",
      "  inflating: data/cats_dogs/train/dogs/dog.899.jpg  \n",
      "  inflating: data/cats_dogs/train/dogs/dog.9.jpg  \n",
      "  inflating: data/cats_dogs/train/dogs/dog.90.jpg  \n",
      "  inflating: data/cats_dogs/train/dogs/dog.900.jpg  \n",
      "  inflating: data/cats_dogs/train/dogs/dog.901.jpg  \n",
      "  inflating: data/cats_dogs/train/dogs/dog.902.jpg  \n",
      "  inflating: data/cats_dogs/train/dogs/dog.903.jpg  \n",
      "  inflating: data/cats_dogs/train/dogs/dog.904.jpg  \n",
      "  inflating: data/cats_dogs/train/dogs/dog.905.jpg  \n",
      "  inflating: data/cats_dogs/train/dogs/dog.906.jpg  \n",
      "  inflating: data/cats_dogs/train/dogs/dog.907.jpg  \n",
      "  inflating: data/cats_dogs/train/dogs/dog.908.jpg  \n",
      "  inflating: data/cats_dogs/train/dogs/dog.909.jpg  \n",
      "  inflating: data/cats_dogs/train/dogs/dog.91.jpg  \n",
      "  inflating: data/cats_dogs/train/dogs/dog.910.jpg  \n",
      "  inflating: data/cats_dogs/train/dogs/dog.911.jpg  \n",
      "  inflating: data/cats_dogs/train/dogs/dog.912.jpg  \n",
      "  inflating: data/cats_dogs/train/dogs/dog.913.jpg  \n",
      "  inflating: data/cats_dogs/train/dogs/dog.914.jpg  \n",
      "  inflating: data/cats_dogs/train/dogs/dog.915.jpg  \n",
      "  inflating: data/cats_dogs/train/dogs/dog.916.jpg  \n",
      "  inflating: data/cats_dogs/train/dogs/dog.917.jpg  \n",
      "  inflating: data/cats_dogs/train/dogs/dog.918.jpg  \n",
      "  inflating: data/cats_dogs/train/dogs/dog.919.jpg  \n",
      "  inflating: data/cats_dogs/train/dogs/dog.92.jpg  \n",
      "  inflating: data/cats_dogs/train/dogs/dog.920.jpg  \n",
      "  inflating: data/cats_dogs/train/dogs/dog.921.jpg  \n",
      "  inflating: data/cats_dogs/train/dogs/dog.922.jpg  \n",
      "  inflating: data/cats_dogs/train/dogs/dog.923.jpg  \n",
      "  inflating: data/cats_dogs/train/dogs/dog.924.jpg  \n",
      "  inflating: data/cats_dogs/train/dogs/dog.925.jpg  \n",
      "  inflating: data/cats_dogs/train/dogs/dog.926.jpg  \n",
      "  inflating: data/cats_dogs/train/dogs/dog.927.jpg  \n",
      "  inflating: data/cats_dogs/train/dogs/dog.928.jpg  \n",
      "  inflating: data/cats_dogs/train/dogs/dog.929.jpg  \n",
      "  inflating: data/cats_dogs/train/dogs/dog.93.jpg  \n",
      "  inflating: data/cats_dogs/train/dogs/dog.930.jpg  \n",
      "  inflating: data/cats_dogs/train/dogs/dog.931.jpg  \n",
      "  inflating: data/cats_dogs/train/dogs/dog.932.jpg  \n",
      "  inflating: data/cats_dogs/train/dogs/dog.933.jpg  \n",
      "  inflating: data/cats_dogs/train/dogs/dog.934.jpg  \n",
      "  inflating: data/cats_dogs/train/dogs/dog.935.jpg  \n",
      "  inflating: data/cats_dogs/train/dogs/dog.936.jpg  \n",
      "  inflating: data/cats_dogs/train/dogs/dog.937.jpg  \n",
      "  inflating: data/cats_dogs/train/dogs/dog.938.jpg  \n",
      "  inflating: data/cats_dogs/train/dogs/dog.939.jpg  \n",
      "  inflating: data/cats_dogs/train/dogs/dog.94.jpg  \n",
      "  inflating: data/cats_dogs/train/dogs/dog.940.jpg  \n",
      "  inflating: data/cats_dogs/train/dogs/dog.941.jpg  \n",
      "  inflating: data/cats_dogs/train/dogs/dog.942.jpg  \n",
      "  inflating: data/cats_dogs/train/dogs/dog.943.jpg  \n",
      "  inflating: data/cats_dogs/train/dogs/dog.944.jpg  \n",
      "  inflating: data/cats_dogs/train/dogs/dog.945.jpg  \n",
      "  inflating: data/cats_dogs/train/dogs/dog.946.jpg  \n",
      "  inflating: data/cats_dogs/train/dogs/dog.947.jpg  \n",
      "  inflating: data/cats_dogs/train/dogs/dog.948.jpg  \n",
      "  inflating: data/cats_dogs/train/dogs/dog.949.jpg  \n",
      "  inflating: data/cats_dogs/train/dogs/dog.95.jpg  \n",
      "  inflating: data/cats_dogs/train/dogs/dog.950.jpg  \n",
      "  inflating: data/cats_dogs/train/dogs/dog.951.jpg  \n",
      "  inflating: data/cats_dogs/train/dogs/dog.952.jpg  \n",
      "  inflating: data/cats_dogs/train/dogs/dog.953.jpg  \n",
      "  inflating: data/cats_dogs/train/dogs/dog.954.jpg  \n",
      "  inflating: data/cats_dogs/train/dogs/dog.955.jpg  \n",
      "  inflating: data/cats_dogs/train/dogs/dog.956.jpg  \n",
      "  inflating: data/cats_dogs/train/dogs/dog.957.jpg  \n",
      "  inflating: data/cats_dogs/train/dogs/dog.958.jpg  \n",
      "  inflating: data/cats_dogs/train/dogs/dog.959.jpg  \n",
      "  inflating: data/cats_dogs/train/dogs/dog.96.jpg  \n",
      "  inflating: data/cats_dogs/train/dogs/dog.960.jpg  \n",
      "  inflating: data/cats_dogs/train/dogs/dog.961.jpg  \n",
      "  inflating: data/cats_dogs/train/dogs/dog.962.jpg  \n",
      "  inflating: data/cats_dogs/train/dogs/dog.963.jpg  \n",
      "  inflating: data/cats_dogs/train/dogs/dog.964.jpg  \n",
      "  inflating: data/cats_dogs/train/dogs/dog.965.jpg  \n",
      "  inflating: data/cats_dogs/train/dogs/dog.966.jpg  \n",
      "  inflating: data/cats_dogs/train/dogs/dog.967.jpg  \n",
      "  inflating: data/cats_dogs/train/dogs/dog.968.jpg  \n",
      "  inflating: data/cats_dogs/train/dogs/dog.969.jpg  \n",
      "  inflating: data/cats_dogs/train/dogs/dog.97.jpg  \n",
      "  inflating: data/cats_dogs/train/dogs/dog.970.jpg  \n",
      "  inflating: data/cats_dogs/train/dogs/dog.971.jpg  \n",
      "  inflating: data/cats_dogs/train/dogs/dog.972.jpg  \n",
      "  inflating: data/cats_dogs/train/dogs/dog.973.jpg  \n",
      "  inflating: data/cats_dogs/train/dogs/dog.974.jpg  \n",
      "  inflating: data/cats_dogs/train/dogs/dog.975.jpg  \n",
      "  inflating: data/cats_dogs/train/dogs/dog.976.jpg  \n",
      "  inflating: data/cats_dogs/train/dogs/dog.977.jpg  \n",
      "  inflating: data/cats_dogs/train/dogs/dog.978.jpg  \n",
      "  inflating: data/cats_dogs/train/dogs/dog.979.jpg  \n",
      "  inflating: data/cats_dogs/train/dogs/dog.98.jpg  \n",
      "  inflating: data/cats_dogs/train/dogs/dog.980.jpg  \n",
      "  inflating: data/cats_dogs/train/dogs/dog.981.jpg  \n",
      "  inflating: data/cats_dogs/train/dogs/dog.982.jpg  \n",
      "  inflating: data/cats_dogs/train/dogs/dog.983.jpg  \n",
      "  inflating: data/cats_dogs/train/dogs/dog.984.jpg  \n",
      "  inflating: data/cats_dogs/train/dogs/dog.985.jpg  \n",
      "  inflating: data/cats_dogs/train/dogs/dog.986.jpg  \n",
      "  inflating: data/cats_dogs/train/dogs/dog.987.jpg  \n",
      "  inflating: data/cats_dogs/train/dogs/dog.988.jpg  \n",
      "  inflating: data/cats_dogs/train/dogs/dog.989.jpg  \n",
      "  inflating: data/cats_dogs/train/dogs/dog.99.jpg  \n",
      "  inflating: data/cats_dogs/train/dogs/dog.990.jpg  \n",
      "  inflating: data/cats_dogs/train/dogs/dog.991.jpg  \n",
      "  inflating: data/cats_dogs/train/dogs/dog.992.jpg  \n",
      "  inflating: data/cats_dogs/train/dogs/dog.993.jpg  \n",
      "  inflating: data/cats_dogs/train/dogs/dog.994.jpg  \n",
      "  inflating: data/cats_dogs/train/dogs/dog.995.jpg  \n",
      "  inflating: data/cats_dogs/train/dogs/dog.996.jpg  \n",
      "  inflating: data/cats_dogs/train/dogs/dog.997.jpg  \n",
      "  inflating: data/cats_dogs/train/dogs/dog.998.jpg  \n",
      "  inflating: data/cats_dogs/train/dogs/dog.999.jpg  \n",
      "   creating: data/cats_dogs/validation/\n",
      "  inflating: data/cats_dogs/validation.csv  \n",
      "   creating: data/cats_dogs/validation/cats/\n",
      "  inflating: data/cats_dogs/validation/cats/cat.1000.jpg  \n",
      "  inflating: data/cats_dogs/validation/cats/cat.1001.jpg  \n",
      "  inflating: data/cats_dogs/validation/cats/cat.1002.jpg  \n",
      "  inflating: data/cats_dogs/validation/cats/cat.1003.jpg  \n",
      "  inflating: data/cats_dogs/validation/cats/cat.1004.jpg  \n",
      "  inflating: data/cats_dogs/validation/cats/cat.1005.jpg  \n",
      "  inflating: data/cats_dogs/validation/cats/cat.1006.jpg  \n",
      "  inflating: data/cats_dogs/validation/cats/cat.1007.jpg  \n",
      "  inflating: data/cats_dogs/validation/cats/cat.1008.jpg  \n",
      "  inflating: data/cats_dogs/validation/cats/cat.1009.jpg  \n",
      "  inflating: data/cats_dogs/validation/cats/cat.1010.jpg  \n",
      "  inflating: data/cats_dogs/validation/cats/cat.1011.jpg  \n",
      "  inflating: data/cats_dogs/validation/cats/cat.1012.jpg  \n",
      "  inflating: data/cats_dogs/validation/cats/cat.1013.jpg  \n",
      "  inflating: data/cats_dogs/validation/cats/cat.1014.jpg  \n",
      "  inflating: data/cats_dogs/validation/cats/cat.1015.jpg  \n",
      "  inflating: data/cats_dogs/validation/cats/cat.1016.jpg  \n",
      "  inflating: data/cats_dogs/validation/cats/cat.1017.jpg  \n",
      "  inflating: data/cats_dogs/validation/cats/cat.1018.jpg  \n",
      "  inflating: data/cats_dogs/validation/cats/cat.1019.jpg  \n",
      "  inflating: data/cats_dogs/validation/cats/cat.1020.jpg  \n",
      "  inflating: data/cats_dogs/validation/cats/cat.1021.jpg  \n",
      "  inflating: data/cats_dogs/validation/cats/cat.1022.jpg  \n",
      "  inflating: data/cats_dogs/validation/cats/cat.1023.jpg  \n",
      "  inflating: data/cats_dogs/validation/cats/cat.1024.jpg  \n",
      "  inflating: data/cats_dogs/validation/cats/cat.1025.jpg  \n",
      "  inflating: data/cats_dogs/validation/cats/cat.1026.jpg  \n",
      "  inflating: data/cats_dogs/validation/cats/cat.1027.jpg  \n",
      "  inflating: data/cats_dogs/validation/cats/cat.1028.jpg  \n",
      "  inflating: data/cats_dogs/validation/cats/cat.1029.jpg  \n",
      "  inflating: data/cats_dogs/validation/cats/cat.1030.jpg  \n",
      "  inflating: data/cats_dogs/validation/cats/cat.1031.jpg  \n",
      "  inflating: data/cats_dogs/validation/cats/cat.1032.jpg  \n",
      "  inflating: data/cats_dogs/validation/cats/cat.1033.jpg  \n",
      "  inflating: data/cats_dogs/validation/cats/cat.1034.jpg  \n",
      "  inflating: data/cats_dogs/validation/cats/cat.1035.jpg  \n",
      "  inflating: data/cats_dogs/validation/cats/cat.1036.jpg  \n",
      "  inflating: data/cats_dogs/validation/cats/cat.1037.jpg  \n",
      "  inflating: data/cats_dogs/validation/cats/cat.1038.jpg  \n",
      "  inflating: data/cats_dogs/validation/cats/cat.1039.jpg  \n",
      "  inflating: data/cats_dogs/validation/cats/cat.1040.jpg  \n",
      "  inflating: data/cats_dogs/validation/cats/cat.1041.jpg  \n",
      "  inflating: data/cats_dogs/validation/cats/cat.1042.jpg  \n",
      "  inflating: data/cats_dogs/validation/cats/cat.1043.jpg  \n",
      "  inflating: data/cats_dogs/validation/cats/cat.1044.jpg  \n",
      "  inflating: data/cats_dogs/validation/cats/cat.1045.jpg  \n",
      "  inflating: data/cats_dogs/validation/cats/cat.1046.jpg  \n",
      "  inflating: data/cats_dogs/validation/cats/cat.1047.jpg  \n",
      "  inflating: data/cats_dogs/validation/cats/cat.1048.jpg  \n",
      "  inflating: data/cats_dogs/validation/cats/cat.1049.jpg  \n",
      "  inflating: data/cats_dogs/validation/cats/cat.1050.jpg  \n",
      "  inflating: data/cats_dogs/validation/cats/cat.1051.jpg  \n",
      "  inflating: data/cats_dogs/validation/cats/cat.1052.jpg  \n",
      "  inflating: data/cats_dogs/validation/cats/cat.1053.jpg  \n",
      "  inflating: data/cats_dogs/validation/cats/cat.1054.jpg  \n",
      "  inflating: data/cats_dogs/validation/cats/cat.1055.jpg  \n",
      "  inflating: data/cats_dogs/validation/cats/cat.1056.jpg  \n",
      "  inflating: data/cats_dogs/validation/cats/cat.1057.jpg  \n",
      "  inflating: data/cats_dogs/validation/cats/cat.1058.jpg  \n",
      "  inflating: data/cats_dogs/validation/cats/cat.1059.jpg  \n",
      "  inflating: data/cats_dogs/validation/cats/cat.1060.jpg  \n",
      "  inflating: data/cats_dogs/validation/cats/cat.1061.jpg  \n",
      "  inflating: data/cats_dogs/validation/cats/cat.1062.jpg  \n",
      "  inflating: data/cats_dogs/validation/cats/cat.1063.jpg  \n",
      "  inflating: data/cats_dogs/validation/cats/cat.1064.jpg  \n",
      "  inflating: data/cats_dogs/validation/cats/cat.1065.jpg  \n",
      "  inflating: data/cats_dogs/validation/cats/cat.1066.jpg  \n",
      "  inflating: data/cats_dogs/validation/cats/cat.1067.jpg  \n",
      "  inflating: data/cats_dogs/validation/cats/cat.1068.jpg  \n",
      "  inflating: data/cats_dogs/validation/cats/cat.1069.jpg  \n",
      "  inflating: data/cats_dogs/validation/cats/cat.1070.jpg  \n",
      "  inflating: data/cats_dogs/validation/cats/cat.1071.jpg  \n",
      "  inflating: data/cats_dogs/validation/cats/cat.1072.jpg  \n",
      "  inflating: data/cats_dogs/validation/cats/cat.1073.jpg  \n",
      "  inflating: data/cats_dogs/validation/cats/cat.1074.jpg  \n",
      "  inflating: data/cats_dogs/validation/cats/cat.1075.jpg  \n",
      "  inflating: data/cats_dogs/validation/cats/cat.1076.jpg  \n",
      "  inflating: data/cats_dogs/validation/cats/cat.1077.jpg  \n",
      "  inflating: data/cats_dogs/validation/cats/cat.1078.jpg  \n",
      "  inflating: data/cats_dogs/validation/cats/cat.1079.jpg  \n",
      "  inflating: data/cats_dogs/validation/cats/cat.1080.jpg  \n",
      "  inflating: data/cats_dogs/validation/cats/cat.1081.jpg  \n",
      "  inflating: data/cats_dogs/validation/cats/cat.1082.jpg  \n",
      "  inflating: data/cats_dogs/validation/cats/cat.1083.jpg  \n",
      "  inflating: data/cats_dogs/validation/cats/cat.1084.jpg  \n",
      "  inflating: data/cats_dogs/validation/cats/cat.1085.jpg  \n",
      "  inflating: data/cats_dogs/validation/cats/cat.1086.jpg  \n",
      "  inflating: data/cats_dogs/validation/cats/cat.1087.jpg  \n",
      "  inflating: data/cats_dogs/validation/cats/cat.1088.jpg  \n",
      "  inflating: data/cats_dogs/validation/cats/cat.1089.jpg  \n",
      "  inflating: data/cats_dogs/validation/cats/cat.1090.jpg  \n",
      "  inflating: data/cats_dogs/validation/cats/cat.1091.jpg  \n",
      "  inflating: data/cats_dogs/validation/cats/cat.1092.jpg  \n",
      "  inflating: data/cats_dogs/validation/cats/cat.1093.jpg  \n",
      "  inflating: data/cats_dogs/validation/cats/cat.1094.jpg  \n",
      "  inflating: data/cats_dogs/validation/cats/cat.1095.jpg  \n",
      "  inflating: data/cats_dogs/validation/cats/cat.1096.jpg  \n",
      "  inflating: data/cats_dogs/validation/cats/cat.1097.jpg  \n",
      "  inflating: data/cats_dogs/validation/cats/cat.1098.jpg  \n",
      "  inflating: data/cats_dogs/validation/cats/cat.1099.jpg  \n",
      "   creating: data/cats_dogs/validation/dogs/\n",
      "  inflating: data/cats_dogs/validation/dogs/dog.1000.jpg  \n",
      "  inflating: data/cats_dogs/validation/dogs/dog.1001.jpg  \n",
      "  inflating: data/cats_dogs/validation/dogs/dog.1002.jpg  \n",
      "  inflating: data/cats_dogs/validation/dogs/dog.1003.jpg  \n",
      "  inflating: data/cats_dogs/validation/dogs/dog.1004.jpg  \n",
      "  inflating: data/cats_dogs/validation/dogs/dog.1005.jpg  \n",
      "  inflating: data/cats_dogs/validation/dogs/dog.1006.jpg  \n",
      "  inflating: data/cats_dogs/validation/dogs/dog.1007.jpg  \n",
      "  inflating: data/cats_dogs/validation/dogs/dog.1008.jpg  \n",
      "  inflating: data/cats_dogs/validation/dogs/dog.1009.jpg  \n",
      "  inflating: data/cats_dogs/validation/dogs/dog.1010.jpg  \n",
      "  inflating: data/cats_dogs/validation/dogs/dog.1011.jpg  \n",
      "  inflating: data/cats_dogs/validation/dogs/dog.1012.jpg  \n",
      "  inflating: data/cats_dogs/validation/dogs/dog.1013.jpg  \n",
      "  inflating: data/cats_dogs/validation/dogs/dog.1014.jpg  \n",
      "  inflating: data/cats_dogs/validation/dogs/dog.1015.jpg  \n",
      "  inflating: data/cats_dogs/validation/dogs/dog.1016.jpg  \n",
      "  inflating: data/cats_dogs/validation/dogs/dog.1017.jpg  \n",
      "  inflating: data/cats_dogs/validation/dogs/dog.1018.jpg  \n",
      "  inflating: data/cats_dogs/validation/dogs/dog.1019.jpg  \n",
      "  inflating: data/cats_dogs/validation/dogs/dog.1020.jpg  \n",
      "  inflating: data/cats_dogs/validation/dogs/dog.1021.jpg  \n",
      "  inflating: data/cats_dogs/validation/dogs/dog.1022.jpg  \n",
      "  inflating: data/cats_dogs/validation/dogs/dog.1023.jpg  \n",
      "  inflating: data/cats_dogs/validation/dogs/dog.1024.jpg  \n",
      "  inflating: data/cats_dogs/validation/dogs/dog.1025.jpg  \n",
      "  inflating: data/cats_dogs/validation/dogs/dog.1026.jpg  \n",
      "  inflating: data/cats_dogs/validation/dogs/dog.1027.jpg  \n",
      "  inflating: data/cats_dogs/validation/dogs/dog.1028.jpg  \n",
      "  inflating: data/cats_dogs/validation/dogs/dog.1029.jpg  \n",
      "  inflating: data/cats_dogs/validation/dogs/dog.1030.jpg  \n",
      "  inflating: data/cats_dogs/validation/dogs/dog.1031.jpg  \n",
      "  inflating: data/cats_dogs/validation/dogs/dog.1032.jpg  \n",
      "  inflating: data/cats_dogs/validation/dogs/dog.1033.jpg  \n",
      "  inflating: data/cats_dogs/validation/dogs/dog.1034.jpg  \n",
      "  inflating: data/cats_dogs/validation/dogs/dog.1035.jpg  \n",
      "  inflating: data/cats_dogs/validation/dogs/dog.1036.jpg  \n",
      "  inflating: data/cats_dogs/validation/dogs/dog.1037.jpg  \n",
      "  inflating: data/cats_dogs/validation/dogs/dog.1038.jpg  \n",
      "  inflating: data/cats_dogs/validation/dogs/dog.1039.jpg  \n",
      "  inflating: data/cats_dogs/validation/dogs/dog.1040.jpg  \n",
      "  inflating: data/cats_dogs/validation/dogs/dog.1041.jpg  \n",
      "  inflating: data/cats_dogs/validation/dogs/dog.1042.jpg  \n",
      "  inflating: data/cats_dogs/validation/dogs/dog.1043.jpg  \n",
      "  inflating: data/cats_dogs/validation/dogs/dog.1044.jpg  \n",
      "  inflating: data/cats_dogs/validation/dogs/dog.1045.jpg  \n",
      "  inflating: data/cats_dogs/validation/dogs/dog.1046.jpg  \n",
      "  inflating: data/cats_dogs/validation/dogs/dog.1047.jpg  \n",
      "  inflating: data/cats_dogs/validation/dogs/dog.1048.jpg  \n",
      "  inflating: data/cats_dogs/validation/dogs/dog.1049.jpg  \n",
      "  inflating: data/cats_dogs/validation/dogs/dog.1050.jpg  \n",
      "  inflating: data/cats_dogs/validation/dogs/dog.1051.jpg  \n",
      "  inflating: data/cats_dogs/validation/dogs/dog.1052.jpg  \n",
      "  inflating: data/cats_dogs/validation/dogs/dog.1053.jpg  \n",
      "  inflating: data/cats_dogs/validation/dogs/dog.1054.jpg  \n",
      "  inflating: data/cats_dogs/validation/dogs/dog.1055.jpg  \n",
      "  inflating: data/cats_dogs/validation/dogs/dog.1056.jpg  \n",
      "  inflating: data/cats_dogs/validation/dogs/dog.1057.jpg  \n",
      "  inflating: data/cats_dogs/validation/dogs/dog.1058.jpg  \n",
      "  inflating: data/cats_dogs/validation/dogs/dog.1059.jpg  \n",
      "  inflating: data/cats_dogs/validation/dogs/dog.1060.jpg  \n",
      "  inflating: data/cats_dogs/validation/dogs/dog.1061.jpg  \n",
      "  inflating: data/cats_dogs/validation/dogs/dog.1062.jpg  \n",
      "  inflating: data/cats_dogs/validation/dogs/dog.1063.jpg  \n",
      "  inflating: data/cats_dogs/validation/dogs/dog.1064.jpg  \n",
      "  inflating: data/cats_dogs/validation/dogs/dog.1065.jpg  \n",
      "  inflating: data/cats_dogs/validation/dogs/dog.1066.jpg  \n",
      "  inflating: data/cats_dogs/validation/dogs/dog.1067.jpg  \n",
      "  inflating: data/cats_dogs/validation/dogs/dog.1068.jpg  \n",
      "  inflating: data/cats_dogs/validation/dogs/dog.1069.jpg  \n",
      "  inflating: data/cats_dogs/validation/dogs/dog.1070.jpg  \n",
      "  inflating: data/cats_dogs/validation/dogs/dog.1071.jpg  \n",
      "  inflating: data/cats_dogs/validation/dogs/dog.1072.jpg  \n",
      "  inflating: data/cats_dogs/validation/dogs/dog.1073.jpg  \n",
      "  inflating: data/cats_dogs/validation/dogs/dog.1074.jpg  \n",
      "  inflating: data/cats_dogs/validation/dogs/dog.1075.jpg  \n",
      "  inflating: data/cats_dogs/validation/dogs/dog.1076.jpg  \n",
      "  inflating: data/cats_dogs/validation/dogs/dog.1077.jpg  \n",
      "  inflating: data/cats_dogs/validation/dogs/dog.1078.jpg  \n",
      "  inflating: data/cats_dogs/validation/dogs/dog.1079.jpg  \n",
      "  inflating: data/cats_dogs/validation/dogs/dog.1080.jpg  \n",
      "  inflating: data/cats_dogs/validation/dogs/dog.1081.jpg  \n",
      "  inflating: data/cats_dogs/validation/dogs/dog.1082.jpg  \n",
      "  inflating: data/cats_dogs/validation/dogs/dog.1083.jpg  \n",
      "  inflating: data/cats_dogs/validation/dogs/dog.1084.jpg  \n",
      "  inflating: data/cats_dogs/validation/dogs/dog.1085.jpg  \n",
      "  inflating: data/cats_dogs/validation/dogs/dog.1086.jpg  \n",
      "  inflating: data/cats_dogs/validation/dogs/dog.1087.jpg  \n",
      "  inflating: data/cats_dogs/validation/dogs/dog.1088.jpg  \n",
      "  inflating: data/cats_dogs/validation/dogs/dog.1089.jpg  \n",
      "  inflating: data/cats_dogs/validation/dogs/dog.1090.jpg  \n",
      "  inflating: data/cats_dogs/validation/dogs/dog.1091.jpg  \n",
      "  inflating: data/cats_dogs/validation/dogs/dog.1092.jpg  \n",
      "  inflating: data/cats_dogs/validation/dogs/dog.1093.jpg  \n",
      "  inflating: data/cats_dogs/validation/dogs/dog.1094.jpg  \n",
      "  inflating: data/cats_dogs/validation/dogs/dog.1095.jpg  \n",
      "  inflating: data/cats_dogs/validation/dogs/dog.1096.jpg  \n",
      "  inflating: data/cats_dogs/validation/dogs/dog.1097.jpg  \n",
      "  inflating: data/cats_dogs/validation/dogs/dog.1098.jpg  \n",
      "  inflating: data/cats_dogs/validation/dogs/dog.1099.jpg  \n",
      "  inflating: data/concrete.csv       \n",
      "  inflating: data/data_fs.csv        \n",
      "  inflating: data/glass.csv          \n",
      "  inflating: data/tic-tac-toe.csv    \n"
     ]
    }
   ],
   "source": [
    "!unzip data.zip"
   ]
  },
  {
   "cell_type": "code",
   "execution_count": 0,
   "metadata": {
    "colab": {},
    "colab_type": "code",
    "id": "CPSL0NnBJd6R"
   },
   "outputs": [],
   "source": [
    "!mkdir models/"
   ]
  },
  {
   "cell_type": "code",
   "execution_count": 0,
   "metadata": {
    "colab": {},
    "colab_type": "code",
    "id": "wnjRl1oDJkZH"
   },
   "outputs": [],
   "source": [
    "!mkdir models/sgd0001"
   ]
  },
  {
   "cell_type": "code",
   "execution_count": 0,
   "metadata": {
    "colab": {},
    "colab_type": "code",
    "id": "5CAnvj2fAdT_"
   },
   "outputs": [],
   "source": [
    "from torch.utils.data import DataLoader, Dataset\n",
    "import torch.nn.functional as F\n",
    "import PIL.Image as Image\n",
    "from torch import nn\n",
    "import numpy as np\n",
    "import torch.optim as optim\n",
    "import matplotlib.pyplot as plt\n",
    "import pandas as pd\n",
    "import torch\n",
    "from torchvision import transforms, utils"
   ]
  },
  {
   "cell_type": "markdown",
   "metadata": {
    "colab_type": "text",
    "id": "OWtO31aHAdUC"
   },
   "source": [
    "Make sure you are using the right device."
   ]
  },
  {
   "cell_type": "code",
   "execution_count": 12,
   "metadata": {
    "colab": {
     "base_uri": "https://localhost:8080/",
     "height": 35
    },
    "colab_type": "code",
    "executionInfo": {
     "elapsed": 523,
     "status": "ok",
     "timestamp": 1551190356441,
     "user": {
      "displayName": "Дмитрий Денисенко",
      "photoUrl": "",
      "userId": "17721498818503924232"
     },
     "user_tz": -180
    },
    "id": "kAtGS18iAdUD",
    "outputId": "9276cf2e-8cff-4203-9de5-a5cfb6b0a0e7"
   },
   "outputs": [
    {
     "name": "stdout",
     "output_type": "stream",
     "text": [
      "cuda:0\n"
     ]
    }
   ],
   "source": [
    "device = torch.device(\"cuda:0\" if torch.cuda.is_available() else \"cpu\")\n",
    "print(device)"
   ]
  },
  {
   "cell_type": "code",
   "execution_count": 13,
   "metadata": {
    "colab": {
     "base_uri": "https://localhost:8080/",
     "height": 35
    },
    "colab_type": "code",
    "executionInfo": {
     "elapsed": 2045,
     "status": "ok",
     "timestamp": 1551190360983,
     "user": {
      "displayName": "Дмитрий Денисенко",
      "photoUrl": "",
      "userId": "17721498818503924232"
     },
     "user_tz": -180
    },
    "id": "veqLwh0JA9e3",
    "outputId": "7ecad015-7fce-43b8-8ce4-fc066a4d454b"
   },
   "outputs": [
    {
     "name": "stdout",
     "output_type": "stream",
     "text": [
      "data  data.zip\tmodels\tsample_data\n"
     ]
    }
   ],
   "source": [
    "!ls"
   ]
  },
  {
   "cell_type": "markdown",
   "metadata": {
    "colab_type": "text",
    "id": "6SRs-EShAdUK"
   },
   "source": [
    "First take a look at the data."
   ]
  },
  {
   "cell_type": "code",
   "execution_count": 14,
   "metadata": {
    "colab": {
     "base_uri": "https://localhost:8080/",
     "height": 204
    },
    "colab_type": "code",
    "executionInfo": {
     "elapsed": 533,
     "status": "ok",
     "timestamp": 1551190367617,
     "user": {
      "displayName": "Дмитрий Денисенко",
      "photoUrl": "",
      "userId": "17721498818503924232"
     },
     "user_tz": -180
    },
    "id": "lromTsjWAdUL",
    "outputId": "e0758e33-974f-4906-aefa-c5f5883425b5"
   },
   "outputs": [
    {
     "data": {
      "text/html": [
       "<div>\n",
       "<style scoped>\n",
       "    .dataframe tbody tr th:only-of-type {\n",
       "        vertical-align: middle;\n",
       "    }\n",
       "\n",
       "    .dataframe tbody tr th {\n",
       "        vertical-align: top;\n",
       "    }\n",
       "\n",
       "    .dataframe thead th {\n",
       "        text-align: right;\n",
       "    }\n",
       "</style>\n",
       "<table border=\"1\" class=\"dataframe\">\n",
       "  <thead>\n",
       "    <tr style=\"text-align: right;\">\n",
       "      <th></th>\n",
       "      <th>path</th>\n",
       "      <th>y</th>\n",
       "    </tr>\n",
       "  </thead>\n",
       "  <tbody>\n",
       "    <tr>\n",
       "      <th>0</th>\n",
       "      <td>cats_dogs/train/dogs/dog.342.jpg</td>\n",
       "      <td>1</td>\n",
       "    </tr>\n",
       "    <tr>\n",
       "      <th>1</th>\n",
       "      <td>cats_dogs/train/cats/cat.661.jpg</td>\n",
       "      <td>0</td>\n",
       "    </tr>\n",
       "    <tr>\n",
       "      <th>2</th>\n",
       "      <td>cats_dogs/train/cats/cat.516.jpg</td>\n",
       "      <td>0</td>\n",
       "    </tr>\n",
       "    <tr>\n",
       "      <th>3</th>\n",
       "      <td>cats_dogs/train/dogs/dog.938.jpg</td>\n",
       "      <td>1</td>\n",
       "    </tr>\n",
       "    <tr>\n",
       "      <th>4</th>\n",
       "      <td>cats_dogs/train/cats/cat.224.jpg</td>\n",
       "      <td>0</td>\n",
       "    </tr>\n",
       "  </tbody>\n",
       "</table>\n",
       "</div>"
      ],
      "text/plain": [
       "                               path  y\n",
       "0  cats_dogs/train/dogs/dog.342.jpg  1\n",
       "1  cats_dogs/train/cats/cat.661.jpg  0\n",
       "2  cats_dogs/train/cats/cat.516.jpg  0\n",
       "3  cats_dogs/train/dogs/dog.938.jpg  1\n",
       "4  cats_dogs/train/cats/cat.224.jpg  0"
      ]
     },
     "execution_count": 14,
     "metadata": {
      "tags": []
     },
     "output_type": "execute_result"
    }
   ],
   "source": [
    "dt = pd.read_csv(r'data/cats_dogs/train.csv')\n",
    "dt.head()"
   ]
  },
  {
   "cell_type": "markdown",
   "metadata": {
    "colab_type": "text",
    "id": "DSlD3oB7AdUO"
   },
   "source": [
    "Implement your [`Dataset`](https://pytorch.org/docs/stable/data.html#torch.utils.data.Dataset) class."
   ]
  },
  {
   "cell_type": "code",
   "execution_count": 0,
   "metadata": {
    "colab": {},
    "colab_type": "code",
    "id": "_E3E1x7YAdUP"
   },
   "outputs": [],
   "source": [
    "#Change class name \n",
    "import os\n",
    "class CatsDogs(Dataset):\n",
    "    \"\"\" Some documantation\"\"\"\n",
    "\n",
    "    def __init__(self, csv_file, root_dir, transform=None):\n",
    "        \"\"\"\n",
    "        Args:\n",
    "        \"\"\"\n",
    "        ### BEGIN Solution\n",
    "        self.dt = pd.read_csv(csv_file)\n",
    "        self.root_dir = root_dir\n",
    "        self.transform = transform\n",
    "        ### END Solution\n",
    "    \n",
    "\n",
    "    def __getitem__(self, idx):\n",
    "        ### BEGIN Solution\n",
    "        # ... don't forget to augment your data for training, using the `transform` parameter of the constructor\n",
    "        img = Image.open(os.path.join(self.root_dir, self.dt['path'].iloc[idx]))\n",
    "        if self.transform:\n",
    "            img  = self.transform(img)\n",
    "        \n",
    "        tt = transforms.ToTensor()\n",
    "        img = tt(img)\n",
    "        y = self.dt['y'].iloc[idx]\n",
    "        ### END Solution\n",
    "        return img, torch.tensor(y)\n",
    "    \n",
    "    \n",
    "    def __len__(self):\n",
    "        ### BEGIN Solution\n",
    "        return len(self.dt)\n",
    "        ### END Solution"
   ]
  },
  {
   "cell_type": "markdown",
   "metadata": {
    "colab_type": "text",
    "id": "1wnhe3ENAdUS"
   },
   "source": [
    "Define the augmentation tranform and instantiate training and validation subsets of your `Dataset` and the correpsonding [`DataLoaders`](https://pytorch.org/docs/stable/data.html#torch.utils.data.DataLoader)."
   ]
  },
  {
   "cell_type": "code",
   "execution_count": 0,
   "metadata": {
    "colab": {},
    "colab_type": "code",
    "id": "kfk0N_AxAdUT"
   },
   "outputs": [],
   "source": [
    "data_transform = transforms.Compose([\n",
    "    ### BEGIN Solution\n",
    "    transforms.RandomChoice(\n",
    "        [\n",
    "            transforms.RandomHorizontalFlip(),\n",
    "            transforms.RandomVerticalFlip(),\n",
    "            transforms.Compose([\n",
    "                transforms.RandomRotation(degrees=(-20,20)),\n",
    "                transforms.RandomHorizontalFlip(),\n",
    "            ]),\n",
    "            transforms.Compose([\n",
    "                transforms.RandomRotation(degrees=(-20,20)),\n",
    "                transforms.RandomVerticalFlip(),\n",
    "            ]),\n",
    "            transforms.RandomRotation(degrees=(-20,20))\n",
    "        ]\n",
    "    ),\n",
    "    transforms.RandomCrop((300,300), pad_if_needed=True)\n",
    "    ### END Solution\n",
    "    ])\n",
    "\n",
    "### BEGIN Solution\n",
    "dataset_train = CatsDogs('data/cats_dogs/train.csv', 'data/', transform=data_transform)\n",
    "dataset_val = CatsDogs('data/cats_dogs/validation.csv', 'data/', transform=transforms.CenterCrop((300,300)))\n",
    "train_loader = DataLoader(dataset_train, batch_size=100, shuffle=True)\n",
    "val_loader = DataLoader(dataset_val, batch_size=100)\n",
    "### END Solution"
   ]
  },
  {
   "cell_type": "markdown",
   "metadata": {
    "colab_type": "text",
    "id": "59aWEoI4AdUV"
   },
   "source": [
    "Make sure that dataloader works as expected by observing one sample from it."
   ]
  },
  {
   "cell_type": "code",
   "execution_count": 26,
   "metadata": {
    "colab": {
     "base_uri": "https://localhost:8080/",
     "height": 782
    },
    "colab_type": "code",
    "executionInfo": {
     "elapsed": 1980,
     "status": "ok",
     "timestamp": 1551190600466,
     "user": {
      "displayName": "Дмитрий Денисенко",
      "photoUrl": "",
      "userId": "17721498818503924232"
     },
     "user_tz": -180
    },
    "id": "xeX1iwfxAdUY",
    "outputId": "ca0493e1-2763-4272-8cd3-ea250fa4fe2c"
   },
   "outputs": [
    {
     "name": "stdout",
     "output_type": "stream",
     "text": [
      "tensor([[[0., 0., 0.,  ..., 0., 0., 0.],\n",
      "         [0., 0., 0.,  ..., 0., 0., 0.],\n",
      "         [0., 0., 0.,  ..., 0., 0., 0.],\n",
      "         ...,\n",
      "         [0., 0., 0.,  ..., 0., 0., 0.],\n",
      "         [0., 0., 0.,  ..., 0., 0., 0.],\n",
      "         [0., 0., 0.,  ..., 0., 0., 0.]],\n",
      "\n",
      "        [[0., 0., 0.,  ..., 0., 0., 0.],\n",
      "         [0., 0., 0.,  ..., 0., 0., 0.],\n",
      "         [0., 0., 0.,  ..., 0., 0., 0.],\n",
      "         ...,\n",
      "         [0., 0., 0.,  ..., 0., 0., 0.],\n",
      "         [0., 0., 0.,  ..., 0., 0., 0.],\n",
      "         [0., 0., 0.,  ..., 0., 0., 0.]],\n",
      "\n",
      "        [[0., 0., 0.,  ..., 0., 0., 0.],\n",
      "         [0., 0., 0.,  ..., 0., 0., 0.],\n",
      "         [0., 0., 0.,  ..., 0., 0., 0.],\n",
      "         ...,\n",
      "         [0., 0., 0.,  ..., 0., 0., 0.],\n",
      "         [0., 0., 0.,  ..., 0., 0., 0.],\n",
      "         [0., 0., 0.,  ..., 0., 0., 0.]]])\n",
      "tensor(1)\n"
     ]
    },
    {
     "data": {
      "image/png": "[encoded data removed]",
      "text/plain": [
       "<Figure size 576x396 with 1 Axes>"
      ]
     },
     "metadata": {
      "tags": []
     },
     "output_type": "display_data"
    }
   ],
   "source": [
    "for X,y in train_loader:\n",
    "    print(X[0])\n",
    "    print(y[0])\n",
    "    plt.imshow(np.array(X[0,0,:,:]))\n",
    "    break"
   ]
  },
  {
   "cell_type": "markdown",
   "metadata": {
    "colab_type": "text",
    "id": "FCRUV51FAdUa"
   },
   "source": [
    "Implement your model below. You can use any layers that you want, but in general the structure of your model should be\n",
    "1. convolutional feature extractor, followed by\n",
    "2. fully-connected classifier."
   ]
  },
  {
   "cell_type": "code",
   "execution_count": 0,
   "metadata": {
    "colab": {},
    "colab_type": "code",
    "id": "3REVP7u9AdUb"
   },
   "outputs": [],
   "source": [
    "class LeNet(nn.Module):\n",
    "    def __init__(self):\n",
    "        super().__init__()\n",
    "        ### BEGIN Solution\n",
    "        self.conv1 = nn.Conv2d(3, 6, (5,5), padding=2)\n",
    "        self.conv2 = nn.Conv2d(6, 16, (5,5))\n",
    "        self.fc1   = nn.Linear(16*73*73, 120)\n",
    "        self.fc2   = nn.Linear(120, 84)\n",
    "        self.fc3   = nn.Linear(84, 2)\n",
    "        ### END Solution\n",
    "    def forward(self, x):\n",
    "        ### BEGIN Solution\n",
    "        x = F.max_pool2d(F.relu(self.conv1(x)), (2,2))\n",
    "        x = F.max_pool2d(F.relu(self.conv2(x)), (2,2))\n",
    "        x = x.view(-1, 16*73*73)\n",
    "        x = F.relu(self.fc1(x))\n",
    "        x = F.relu(self.fc2(x))\n",
    "        x = self.fc3(x)\n",
    "        return x\n",
    "        ### END Solution \n",
    "    "
   ]
  },
  {
   "cell_type": "markdown",
   "metadata": {
    "colab_type": "text",
    "id": "LOpDuTarAdUd"
   },
   "source": [
    "Send your model to GPU, if you have it."
   ]
  },
  {
   "cell_type": "code",
   "execution_count": 0,
   "metadata": {
    "colab": {},
    "colab_type": "code",
    "id": "F33Okc8jAdUd"
   },
   "outputs": [],
   "source": [
    "model = LeNet().to(device)"
   ]
  },
  {
   "cell_type": "markdown",
   "metadata": {
    "colab_type": "text",
    "id": "_ytFqXlBAdUo"
   },
   "source": [
    "Implement your loss function below, or use the predefined loss, suitable for this task."
   ]
  },
  {
   "cell_type": "code",
   "execution_count": 0,
   "metadata": {
    "colab": {},
    "colab_type": "code",
    "id": "Vo3ha4EaAdUq"
   },
   "outputs": [],
   "source": [
    "### BEGIN Solution\n",
    "criterion = nn.CrossEntropyLoss()\n",
    "### END Solution"
   ]
  },
  {
   "cell_type": "markdown",
   "metadata": {
    "colab_type": "text",
    "id": "Uow8WddCAdUv"
   },
   "source": [
    "Try two different [optimizers](http://ruder.io/optimizing-gradient-descent/index.html) and choose one. For the optimizer of your choice, try two different sets of parameters (e.g learning rate). Explain both of your choices and back them with the learning performance of the network (see the rest of the task).\n",
    "\n",
    "In this parts of the task you may try more than two options, but, please, leave in your solution only the results for two different optimizers and two different sets of parameters."
   ]
  },
  {
   "cell_type": "code",
   "execution_count": 0,
   "metadata": {
    "colab": {},
    "colab_type": "code",
    "id": "QWREHOKuAdUv"
   },
   "outputs": [],
   "source": [
    "### BEGIN Solution\n",
    "optimizer = optim.SGD(model.parameters(), lr=0.001, momentum=0.9)\n",
    "#optimizer = optim.Adam(model.parameters(), lr=0.001, betas=(0.9, 0.999), eps=1e-08)\n",
    "### END Solution"
   ]
  },
  {
   "cell_type": "markdown",
   "metadata": {
    "colab_type": "text",
    "id": "37YTsneFAdUw"
   },
   "source": [
    "You may finally train you model. Don't forget to:\n",
    "1. monitor its training and validation performance *during training*, i.e plot the loss functions and prediction accuracy for train and validation sets, to make sure that your model doesn't learn complete nonsense; **do not** include tons of learning curves in your homework solution; (in real-life, you may find [`tensorboardX`](https://github.com/lanpa/tensorboardX) extremely useful for this task);\n",
    "2. visualize its training and validation performance *after training*, to demonstrate that you have accomplished the task;\n",
    "3. save the state of your model during the training, to use the best one at the end; you may find useful this [tutorial on saving and loading models](https://pytorch.org/tutorials/beginner/saving_loading_models.html);\n",
    "4. send the input and target data to the same device as your model.\n",
    "\n",
    "Your model should be able to show *at least 75% validation accuracy*.\n",
    "\n",
    "You may also find useful the following parts of documentation: [`Module.train`](https://pytorch.org/docs/stable/nn.html#torch.nn.Module.train), [`Module.eval`](https://pytorch.org/docs/stable/nn.html#torch.nn.Module.eval), [`Module.state_dict`](https://pytorch.org/docs/stable/nn.html#torch.nn.Module.state_dict), [`Module.load_state_dict`](https://pytorch.org/docs/stable/nn.html#torch.nn.Module.load_state_dict)."
   ]
  },
  {
   "cell_type": "code",
   "execution_count": 22,
   "metadata": {
    "colab": {
     "base_uri": "https://localhost:8080/",
     "height": 845
    },
    "colab_type": "code",
    "executionInfo": {
     "elapsed": 6730,
     "status": "ok",
     "timestamp": 1551190400782,
     "user": {
      "displayName": "Дмитрий Денисенко",
      "photoUrl": "",
      "userId": "17721498818503924232"
     },
     "user_tz": -180
    },
    "id": "NndGHrPEAdUx",
    "outputId": "421d66f8-4f4f-4eb8-90c6-df18cb92ef41"
   },
   "outputs": [
    {
     "name": "stdout",
     "output_type": "stream",
     "text": [
      "Collecting livelossplot\n",
      "  Downloading https://files.pythonhosted.org/packages/5d/ea/1d563c861ab2b195033387d1095c4ed40fcd5275014246641af175bd573f/livelossplot-0.3.0.tar.gz\n",
      "Requirement already satisfied: matplotlib in /usr/local/lib/python3.6/dist-packages (from livelossplot) (3.0.2)\n",
      "Requirement already satisfied: notebook in /usr/local/lib/python3.6/dist-packages (from livelossplot) (5.2.2)\n",
      "Requirement already satisfied: cycler>=0.10 in /usr/local/lib/python3.6/dist-packages (from matplotlib->livelossplot) (0.10.0)\n",
      "Requirement already satisfied: kiwisolver>=1.0.1 in /usr/local/lib/python3.6/dist-packages (from matplotlib->livelossplot) (1.0.1)\n",
      "Requirement already satisfied: pyparsing!=2.0.4,!=2.1.2,!=2.1.6,>=2.0.1 in /usr/local/lib/python3.6/dist-packages (from matplotlib->livelossplot) (2.3.1)\n",
      "Requirement already satisfied: numpy>=1.10.0 in /usr/local/lib/python3.6/dist-packages (from matplotlib->livelossplot) (1.14.6)\n",
      "Requirement already satisfied: python-dateutil>=2.1 in /usr/local/lib/python3.6/dist-packages (from matplotlib->livelossplot) (2.5.3)\n",
      "Requirement already satisfied: ipython-genutils in /usr/local/lib/python3.6/dist-packages (from notebook->livelossplot) (0.2.0)\n",
      "Requirement already satisfied: traitlets>=4.2.1 in /usr/local/lib/python3.6/dist-packages (from notebook->livelossplot) (4.3.2)\n",
      "Requirement already satisfied: jinja2 in /usr/local/lib/python3.6/dist-packages (from notebook->livelossplot) (2.10)\n",
      "Requirement already satisfied: jupyter-client in /usr/local/lib/python3.6/dist-packages (from notebook->livelossplot) (5.2.4)\n",
      "Requirement already satisfied: nbconvert in /usr/local/lib/python3.6/dist-packages (from notebook->livelossplot) (5.4.1)\n",
      "Requirement already satisfied: nbformat in /usr/local/lib/python3.6/dist-packages (from notebook->livelossplot) (4.4.0)\n",
      "Requirement already satisfied: terminado>=0.3.3; sys_platform != \"win32\" in /usr/local/lib/python3.6/dist-packages (from notebook->livelossplot) (0.8.1)\n",
      "Requirement already satisfied: jupyter-core in /usr/local/lib/python3.6/dist-packages (from notebook->livelossplot) (4.4.0)\n",
      "Requirement already satisfied: ipykernel in /usr/local/lib/python3.6/dist-packages (from notebook->livelossplot) (4.6.1)\n",
      "Requirement already satisfied: tornado>=4 in /usr/local/lib/python3.6/dist-packages (from notebook->livelossplot) (4.5.3)\n",
      "Requirement already satisfied: six in /usr/local/lib/python3.6/dist-packages (from cycler>=0.10->matplotlib->livelossplot) (1.11.0)\n",
      "Requirement already satisfied: setuptools in /usr/local/lib/python3.6/dist-packages (from kiwisolver>=1.0.1->matplotlib->livelossplot) (40.8.0)\n",
      "Requirement already satisfied: decorator in /usr/local/lib/python3.6/dist-packages (from traitlets>=4.2.1->notebook->livelossplot) (4.3.2)\n",
      "Requirement already satisfied: MarkupSafe>=0.23 in /usr/local/lib/python3.6/dist-packages (from jinja2->notebook->livelossplot) (1.1.0)\n",
      "Requirement already satisfied: pyzmq>=13 in /usr/local/lib/python3.6/dist-packages (from jupyter-client->notebook->livelossplot) (17.0.0)\n",
      "Requirement already satisfied: entrypoints>=0.2.2 in /usr/local/lib/python3.6/dist-packages (from nbconvert->notebook->livelossplot) (0.3)\n",
      "Requirement already satisfied: pygments in /usr/local/lib/python3.6/dist-packages (from nbconvert->notebook->livelossplot) (2.1.3)\n",
      "Requirement already satisfied: testpath in /usr/local/lib/python3.6/dist-packages (from nbconvert->notebook->livelossplot) (0.4.2)\n",
      "Requirement already satisfied: mistune>=0.8.1 in /usr/local/lib/python3.6/dist-packages (from nbconvert->notebook->livelossplot) (0.8.4)\n",
      "Requirement already satisfied: bleach in /usr/local/lib/python3.6/dist-packages (from nbconvert->notebook->livelossplot) (3.1.0)\n",
      "Requirement already satisfied: defusedxml in /usr/local/lib/python3.6/dist-packages (from nbconvert->notebook->livelossplot) (0.5.0)\n",
      "Requirement already satisfied: pandocfilters>=1.4.1 in /usr/local/lib/python3.6/dist-packages (from nbconvert->notebook->livelossplot) (1.4.2)\n",
      "Requirement already satisfied: jsonschema!=2.5.0,>=2.4 in /usr/local/lib/python3.6/dist-packages (from nbformat->notebook->livelossplot) (2.6.0)\n",
      "Requirement already satisfied: ptyprocess; os_name != \"nt\" in /usr/local/lib/python3.6/dist-packages (from terminado>=0.3.3; sys_platform != \"win32\"->notebook->livelossplot) (0.6.0)\n",
      "Requirement already satisfied: ipython>=4.0.0 in /usr/local/lib/python3.6/dist-packages (from ipykernel->notebook->livelossplot) (5.5.0)\n",
      "Requirement already satisfied: webencodings in /usr/local/lib/python3.6/dist-packages (from bleach->nbconvert->notebook->livelossplot) (0.5.1)\n",
      "Requirement already satisfied: pexpect; sys_platform != \"win32\" in /usr/local/lib/python3.6/dist-packages (from ipython>=4.0.0->ipykernel->notebook->livelossplot) (4.6.0)\n",
      "Requirement already satisfied: pickleshare in /usr/local/lib/python3.6/dist-packages (from ipython>=4.0.0->ipykernel->notebook->livelossplot) (0.7.5)\n",
      "Requirement already satisfied: prompt-toolkit<2.0.0,>=1.0.4 in /usr/local/lib/python3.6/dist-packages (from ipython>=4.0.0->ipykernel->notebook->livelossplot) (1.0.15)\n",
      "Requirement already satisfied: simplegeneric>0.8 in /usr/local/lib/python3.6/dist-packages (from ipython>=4.0.0->ipykernel->notebook->livelossplot) (0.8.1)\n",
      "Requirement already satisfied: wcwidth in /usr/local/lib/python3.6/dist-packages (from prompt-toolkit<2.0.0,>=1.0.4->ipython>=4.0.0->ipykernel->notebook->livelossplot) (0.1.7)\n",
      "Building wheels for collected packages: livelossplot\n",
      "  Building wheel for livelossplot (setup.py) ... \u001b[?25ldone\n",
      "\u001b[?25h  Stored in directory: /root/.cache/pip/wheels/bf/66/07/e3129f723b6b36ee4affde650ad6843fceaf5c2fa5dc29b986\n",
      "Successfully built livelossplot\n",
      "Installing collected packages: livelossplot\n",
      "Successfully installed livelossplot-0.3.0\n"
     ]
    }
   ],
   "source": [
    "!pip install livelossplot"
   ]
  },
  {
   "cell_type": "code",
   "execution_count": 31,
   "metadata": {
    "colab": {
     "base_uri": "https://localhost:8080/",
     "height": 484
    },
    "colab_type": "code",
    "executionInfo": {
     "elapsed": 525,
     "status": "ok",
     "timestamp": 1551205092191,
     "user": {
      "displayName": "Дмитрий Денисенко",
      "photoUrl": "",
      "userId": "17721498818503924232"
     },
     "user_tz": -180
    },
    "id": "kLHvSDeeAdU1",
    "outputId": "4eeaeda6-f533-4ee7-d984-bf4d40992822"
   },
   "outputs": [
    {
     "data": {
      "image/png": "[encoded data removed]",
      "text/plain": [
       "<Figure size 864x576 with 2 Axes>"
      ]
     },
     "metadata": {
      "tags": []
     },
     "output_type": "display_data"
    },
    {
     "name": "stdout",
     "output_type": "stream",
     "text": [
      "cross entropy loss:\n",
      "training   (min:    0.156, max:    0.695, cur:    0.177)\n",
      "validation (min:    0.579, max:    0.887, cur:    0.780)\n",
      "\n",
      "accuracy:\n",
      "training   (min:    0.500, max:    0.938, cur:    0.932)\n",
      "validation (min:    0.470, max:    0.820, cur:    0.795)\n",
      "CPU times: user 3h 50min 39s, sys: 15min 59s, total: 4h 6min 39s\n",
      "Wall time: 4h 1min 14s\n"
     ]
    }
   ],
   "source": [
    "%%time\n",
    "### BEGIN Solution\n",
    "from livelossplot import PlotLosses\n",
    "\n",
    "dataloaders = {\n",
    "    \"train\": train_loader,\n",
    "    \"validation\": val_loader\n",
    "}\n",
    "\n",
    "def train_model(model, criterion, optimizer, num_epochs=10, path_to_save_models='models/sgd0001/'):\n",
    "    liveloss = PlotLosses()\n",
    "    model = model.to(device)\n",
    "    \n",
    "    for epoch in range(num_epochs):\n",
    "        logs = {}\n",
    "        for phase in ['train', 'validation']:\n",
    "            if phase == 'train':\n",
    "                model.train()\n",
    "            else:\n",
    "                model.eval()\n",
    "\n",
    "            running_loss = 0.0\n",
    "            running_corrects = 0\n",
    "\n",
    "            for inputs, labels in dataloaders[phase]:\n",
    "                inputs = inputs.to(device)\n",
    "                labels = labels.to(device)\n",
    "\n",
    "                outputs = model(inputs)\n",
    "                loss = criterion(outputs, labels)\n",
    "\n",
    "                if phase == 'train':\n",
    "                    optimizer.zero_grad()\n",
    "                    loss.backward()\n",
    "                    optimizer.step()\n",
    "\n",
    "                _, preds = torch.max(outputs, 1)\n",
    "                running_loss += loss.detach() * inputs.size(0)\n",
    "                running_corrects += torch.sum(preds == labels.data)\n",
    "\n",
    "            epoch_loss = running_loss / len(dataloaders[phase].dataset)\n",
    "            epoch_acc = running_corrects.float() / len(dataloaders[phase].dataset)\n",
    "            \n",
    "            prefix = ''\n",
    "            if phase == 'validation':\n",
    "                prefix = 'val_'\n",
    "\n",
    "            logs[prefix + 'cross entropy loss'] = epoch_loss.item()\n",
    "            logs[prefix + 'accuracy'] = epoch_acc.item()\n",
    "        \n",
    "        liveloss.update(logs)\n",
    "        liveloss.draw()\n",
    "        \n",
    "        if epoch % 10 == 9:\n",
    "            torch.save(model.state_dict(), os.path.join(path_to_save_models, 'epoch_{}.mdl'.format(epoch)))\n",
    "        \n",
    "### END Solution\n",
    "\n",
    "train_model(model, criterion, optimizer, num_epochs=1000)"
   ]
  },
  {
   "cell_type": "code",
   "execution_count": 33,
   "metadata": {
    "colab": {
     "base_uri": "https://localhost:8080/",
     "height": 377
    },
    "colab_type": "code",
    "executionInfo": {
     "elapsed": 2264,
     "status": "ok",
     "timestamp": 1551205311111,
     "user": {
      "displayName": "Дмитрий Денисенко",
      "photoUrl": "",
      "userId": "17721498818503924232"
     },
     "user_tz": -180
    },
    "id": "Plt2_T2yCmDQ",
    "outputId": "0760983b-3e70-47b2-8006-63d69bf4dcda"
   },
   "outputs": [
    {
     "name": "stdout",
     "output_type": "stream",
     "text": [
      "epoch_109.mdl  epoch_299.mdl  epoch_479.mdl  epoch_659.mdl  epoch_839.mdl\n",
      "epoch_119.mdl  epoch_29.mdl   epoch_489.mdl  epoch_669.mdl  epoch_849.mdl\n",
      "epoch_129.mdl  epoch_309.mdl  epoch_499.mdl  epoch_679.mdl  epoch_859.mdl\n",
      "epoch_139.mdl  epoch_319.mdl  epoch_49.mdl   epoch_689.mdl  epoch_869.mdl\n",
      "epoch_149.mdl  epoch_329.mdl  epoch_509.mdl  epoch_699.mdl  epoch_879.mdl\n",
      "epoch_159.mdl  epoch_339.mdl  epoch_519.mdl  epoch_69.mdl   epoch_889.mdl\n",
      "epoch_169.mdl  epoch_349.mdl  epoch_529.mdl  epoch_709.mdl  epoch_899.mdl\n",
      "epoch_179.mdl  epoch_359.mdl  epoch_539.mdl  epoch_719.mdl  epoch_89.mdl\n",
      "epoch_189.mdl  epoch_369.mdl  epoch_549.mdl  epoch_729.mdl  epoch_909.mdl\n",
      "epoch_199.mdl  epoch_379.mdl  epoch_559.mdl  epoch_739.mdl  epoch_919.mdl\n",
      "epoch_19.mdl   epoch_389.mdl  epoch_569.mdl  epoch_749.mdl  epoch_929.mdl\n",
      "epoch_209.mdl  epoch_399.mdl  epoch_579.mdl  epoch_759.mdl  epoch_939.mdl\n",
      "epoch_219.mdl  epoch_39.mdl   epoch_589.mdl  epoch_769.mdl  epoch_949.mdl\n",
      "epoch_229.mdl  epoch_409.mdl  epoch_599.mdl  epoch_779.mdl  epoch_959.mdl\n",
      "epoch_239.mdl  epoch_419.mdl  epoch_59.mdl   epoch_789.mdl  epoch_969.mdl\n",
      "epoch_249.mdl  epoch_429.mdl  epoch_609.mdl  epoch_799.mdl  epoch_979.mdl\n",
      "epoch_259.mdl  epoch_439.mdl  epoch_619.mdl  epoch_79.mdl   epoch_989.mdl\n",
      "epoch_269.mdl  epoch_449.mdl  epoch_629.mdl  epoch_809.mdl  epoch_999.mdl\n",
      "epoch_279.mdl  epoch_459.mdl  epoch_639.mdl  epoch_819.mdl  epoch_99.mdl\n",
      "epoch_289.mdl  epoch_469.mdl  epoch_649.mdl  epoch_829.mdl  epoch_9.mdl\n"
     ]
    }
   ],
   "source": [
    "!ls models/sgd0001"
   ]
  },
  {
   "cell_type": "code",
   "execution_count": 0,
   "metadata": {
    "colab": {},
    "colab_type": "code",
    "id": "ncKyKR0YCwcr"
   },
   "outputs": [],
   "source": [
    "from google.colab import files\n",
    "files.download('models/sgd0001/epoch_999.mdl') "
   ]
  },
  {
   "cell_type": "code",
   "execution_count": 36,
   "metadata": {
    "colab": {
     "base_uri": "https://localhost:8080/",
     "height": 143
    },
    "colab_type": "code",
    "executionInfo": {
     "elapsed": 640,
     "status": "ok",
     "timestamp": 1551205580794,
     "user": {
      "displayName": "Дмитрий Денисенко",
      "photoUrl": "",
      "userId": "17721498818503924232"
     },
     "user_tz": -180
    },
    "id": "pIgJvdHmAdU9",
    "outputId": "1c78674c-6f5b-4047-fea1-c56016d03e2c"
   },
   "outputs": [
    {
     "data": {
      "text/plain": [
       "LeNet(\n",
       "  (conv1): Conv2d(3, 6, kernel_size=(5, 5), stride=(1, 1), padding=(2, 2))\n",
       "  (conv2): Conv2d(6, 16, kernel_size=(5, 5), stride=(1, 1))\n",
       "  (fc1): Linear(in_features=85264, out_features=120, bias=True)\n",
       "  (fc2): Linear(in_features=120, out_features=84, bias=True)\n",
       "  (fc3): Linear(in_features=84, out_features=2, bias=True)\n",
       ")"
      ]
     },
     "execution_count": 36,
     "metadata": {
      "tags": []
     },
     "output_type": "execute_result"
    }
   ],
   "source": [
    "# model loading\n",
    "model = LeNet().to(device)\n",
    "model.load_state_dict(torch.load('models/sgd0001/epoch_999.mdl'))\n",
    "model.eval()"
   ]
  },
  {
   "cell_type": "code",
   "execution_count": 37,
   "metadata": {
    "colab": {
     "base_uri": "https://localhost:8080/",
     "height": 53
    },
    "colab_type": "code",
    "executionInfo": {
     "elapsed": 13966,
     "status": "ok",
     "timestamp": 1551205766359,
     "user": {
      "displayName": "Дмитрий Денисенко",
      "photoUrl": "",
      "userId": "17721498818503924232"
     },
     "user_tz": -180
    },
    "id": "TuuxAYW4DtGb",
    "outputId": "7914808f-fa5c-4968-f9b8-30936595c556"
   },
   "outputs": [
    {
     "name": "stdout",
     "output_type": "stream",
     "text": [
      "train accuracy: 0.9200000166893005\n",
      "validation accuracy: 0.7949999570846558\n"
     ]
    }
   ],
   "source": [
    "for phase in ['train', 'validation']:\n",
    "  if phase == 'train':\n",
    "      model.train()\n",
    "  else:\n",
    "      model.eval()\n",
    "\n",
    "  running_corrects = 0\n",
    "\n",
    "  for inputs, labels in dataloaders[phase]:\n",
    "      inputs = inputs.to(device)\n",
    "      labels = labels.to(device)\n",
    "\n",
    "      outputs = model(inputs)\n",
    "      loss = criterion(outputs, labels)\n",
    "\n",
    "      _, preds = torch.max(outputs, 1)\n",
    "      running_corrects += torch.sum(preds == labels.data)\n",
    "\n",
    "  epoch_acc = running_corrects.float() / len(dataloaders[phase].dataset)\n",
    "  \n",
    "  print(\"{phase} accuracy: {accuracy}\".format(phase=phase, accuracy=epoch_acc))\n",
    "\n",
    "        "
   ]
  },
  {
   "cell_type": "code",
   "execution_count": 0,
   "metadata": {
    "colab": {},
    "colab_type": "code",
    "id": "992TeNtVAdU3",
    "outputId": "19995750-4b78-4dca-dce2-4e95ed50c91f"
   },
   "outputs": [
    {
     "data": {
      "image/png": "[encoded data removed]",
      "text/plain": [
       "<Figure size 864x576 with 2 Axes>"
      ]
     },
     "metadata": {
      "needs_background": "light",
      "tags": []
     },
     "output_type": "display_data"
    },
    {
     "name": "stdout",
     "output_type": "stream",
     "text": [
      "accuracy:\n",
      "training   (min:    0.468, max:    0.765, cur:    0.755)\n",
      "validation (min:    0.460, max:    0.745, cur:    0.665)\n",
      "\n",
      "cross entropy loss:\n",
      "training   (min:    0.468, max:    0.695, cur:    0.481)\n",
      "validation (min:    0.648, max:    0.728, cur:    0.685)\n"
     ]
    }
   ],
   "source": [
    "# This is a try with bigger learning rate on cpu (bs 40)\n",
    "optimizer = optim.SGD(model.parameters(), lr=0.01, momentum=0.9)\n",
    "train_model(model, criterion, optimizer, num_epochs=80, path_to_save_models='models/sgdlr001/')"
   ]
  },
  {
   "cell_type": "markdown",
   "metadata": {
    "colab_type": "text",
    "id": "ZxLDj-NhFEcr"
   },
   "source": [
    "I didn't emphasized any significant foundings connected with optimizers for such task.\n",
    "But I accomplished to solve task with gpu (colaboratory) and bigger batch size. \n",
    "\n",
    "Also I have pretty strange learning curves for validation, it looks more like overfitting, but at the same time accuracy continued to grow. It may happen because of strong augmentation on the train data. I think that without augmentation I would reach such result faster, but the model quality in the end would be worse."
   ]
  },
  {
   "cell_type": "markdown",
   "metadata": {
    "colab_type": "text",
    "id": "1WjC5LmQAdU-"
   },
   "source": [
    "### Task 9 (1 pt.): Bad activation function\n",
    "Using your conclusions from the <span style=\"color:red;\">Task 6</span>, choose the worst activation function and replace all activations in your model from the previous <span style=\"color:red;\">Task 8</span> with this one. Demonstrate the training and validation performance of this version of the model."
   ]
  },
  {
   "cell_type": "code",
   "execution_count": 0,
   "metadata": {
    "colab": {},
    "colab_type": "code",
    "id": "-tlVSnjdAdVA",
    "outputId": "1b5bd5d8-8522-4750-eca6-4d21c7ec92bb"
   },
   "outputs": [
    {
     "data": {
      "image/png": "[encoded data removed]",
      "text/plain": [
       "<Figure size 864x576 with 2 Axes>"
      ]
     },
     "metadata": {
      "needs_background": "light",
      "tags": []
     },
     "output_type": "display_data"
    },
    {
     "name": "stdout",
     "output_type": "stream",
     "text": [
      "accuracy:\n",
      "training   (min:    0.472, max:    0.511, cur:    0.492)\n",
      "validation (min:    0.475, max:    0.500, cur:    0.500)\n",
      "\n",
      "cross entropy loss:\n",
      "training   (min:    0.693, max:    0.696, cur:    0.693)\n",
      "validation (min:    0.693, max:    0.694, cur:    0.693)\n",
      "CPU times: user 3h 24min 23s, sys: 27min 53s, total: 3h 52min 17s\n",
      "Wall time: 1h 59min 30s\n"
     ]
    }
   ],
   "source": [
    "%%time\n",
    "class LeNetOfASmoker(nn.Module):\n",
    "    def __init__(self):\n",
    "        super().__init__()\n",
    "        ### BEGIN Solution\n",
    "        self.conv1 = nn.Conv2d(3, 6, (5,5), padding=2)\n",
    "        self.conv2 = nn.Conv2d(6, 16, (5,5))\n",
    "        self.fc1   = nn.Linear(16*73*73, 120)\n",
    "        self.fc2   = nn.Linear(120, 84)\n",
    "        self.fc3   = nn.Linear(84, 2)\n",
    "        ### END Solution\n",
    "    def forward(self, x):\n",
    "        ### BEGIN Solution\n",
    "        x = F.max_pool2d(F.sigmoid(self.conv1(x)), (2,2))\n",
    "        x = F.max_pool2d(F.sigmoid(self.conv2(x)), (2,2))\n",
    "        x = x.view(-1, 16*73*73)\n",
    "        x = F.relu(self.fc1(x))\n",
    "        x = F.relu(self.fc2(x))\n",
    "        x = self.fc3(x)\n",
    "        return x\n",
    "        ### END Solution \n",
    "        \n",
    "model = LeNetOfASmoker().to(device)\n",
    "criterion = nn.CrossEntropyLoss()\n",
    "optimizer = optim.SGD(model.parameters(), lr=0.001, momentum=0.9)\n",
    "train_model(model, criterion, optimizer, num_epochs=100, path_to_save_models='models/sigmoid/')"
   ]
  },
  {
   "cell_type": "markdown",
   "metadata": {
    "colab_type": "text",
    "id": "fljq0B3oAdVF"
   },
   "source": [
    "### As we can see we can't train this model so easy as we did earlier..."
   ]
  },
  {
   "cell_type": "code",
   "execution_count": 0,
   "metadata": {
    "colab": {},
    "colab_type": "code",
    "id": "45_99ziQAdVF"
   },
   "outputs": [],
   "source": []
  }
 ],
 "metadata": {
  "accelerator": "GPU",
  "colab": {
   "collapsed_sections": [
    "23UQ3DbPAdQ3",
    "jgwl_V-hAdRT",
    "_U_fOL2aAdRo",
    "n2I2flY8AdRo",
    "mDlLf2c1AdSD",
    "O5TrBtG_AdSE",
    "KBwa7eoHAdSj",
    "JycGT8heAdTc",
    "JVbRcXVfAdTk"
   ],
   "name": "ML2019HW02-part2-ddenisenko.ipynb",
   "provenance": [],
   "version": "0.3.2"
  },
  "kernelspec": {
   "display_name": "Python 3",
   "language": "python",
   "name": "python3"
  },
  "language_info": {
   "codemirror_mode": {
    "name": "ipython",
    "version": 3
   },
   "file_extension": ".py",
   "mimetype": "text/x-python",
   "name": "python",
   "nbconvert_exporter": "python",
   "pygments_lexer": "ipython3",
   "version": "3.5.2"
  }
 },
 "nbformat": 4,
 "nbformat_minor": 1
}
